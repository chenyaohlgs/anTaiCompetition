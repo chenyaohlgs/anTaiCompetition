{
 "cells": [
  {
   "cell_type": "markdown",
   "metadata": {},
   "source": [
    "# 尝试建立模型提取特征"
   ]
  },
  {
   "cell_type": "markdown",
   "metadata": {},
   "source": [
    "## 读取数据"
   ]
  },
  {
   "cell_type": "code",
   "execution_count": 121,
   "metadata": {},
   "outputs": [],
   "source": [
    "import numpy as np\n",
    "import pandas as pd\n",
    "import pickle\n",
    "import os"
   ]
  },
  {
   "cell_type": "code",
   "execution_count": 2,
   "metadata": {},
   "outputs": [],
   "source": [
    "TRAIN_PATH = 'model_data/train_data.pkl'\n",
    "TEST_PATH = 'model_data/test_data.pkl'"
   ]
  },
  {
   "cell_type": "code",
   "execution_count": 3,
   "metadata": {},
   "outputs": [],
   "source": [
    "with open(TRAIN_PATH,'rb') as f:\n",
    "    model_train_df = pickle.load(f)\n",
    "with open(TEST_PATH,'rb') as f:\n",
    "    model_test_df = pickle.load(f)"
   ]
  },
  {
   "cell_type": "code",
   "execution_count": 4,
   "metadata": {},
   "outputs": [
    {
     "data": {
      "text/html": [
       "<div>\n",
       "<style scoped>\n",
       "    .dataframe tbody tr th:only-of-type {\n",
       "        vertical-align: middle;\n",
       "    }\n",
       "\n",
       "    .dataframe tbody tr th {\n",
       "        vertical-align: top;\n",
       "    }\n",
       "\n",
       "    .dataframe thead th {\n",
       "        text-align: right;\n",
       "    }\n",
       "</style>\n",
       "<table border=\"1\" class=\"dataframe\">\n",
       "  <thead>\n",
       "    <tr style=\"text-align: right;\">\n",
       "      <th></th>\n",
       "      <th>buyer_admin_id</th>\n",
       "      <th>item_id</th>\n",
       "      <th>num_shop</th>\n",
       "      <th>num_item</th>\n",
       "      <th>pop_unpop_rate</th>\n",
       "      <th>item_price_sum</th>\n",
       "      <th>item_price_max</th>\n",
       "      <th>item_price_min</th>\n",
       "      <th>item_price_mean</th>\n",
       "      <th>item_price_median</th>\n",
       "      <th>num_item_cate</th>\n",
       "      <th>num_store_cate</th>\n",
       "      <th>shoptime_1</th>\n",
       "      <th>shoptime_2</th>\n",
       "      <th>shoptime_3</th>\n",
       "      <th>num_sell</th>\n",
       "      <th>cate_id</th>\n",
       "      <th>store_id</th>\n",
       "      <th>item_price</th>\n",
       "      <th>label</th>\n",
       "    </tr>\n",
       "  </thead>\n",
       "  <tbody>\n",
       "    <tr>\n",
       "      <th>0</th>\n",
       "      <td>8362078</td>\n",
       "      <td>1</td>\n",
       "      <td>12</td>\n",
       "      <td>10</td>\n",
       "      <td>0.000000</td>\n",
       "      <td>16655</td>\n",
       "      <td>8742</td>\n",
       "      <td>38</td>\n",
       "      <td>1387.916667</td>\n",
       "      <td>147.5</td>\n",
       "      <td>7</td>\n",
       "      <td>10</td>\n",
       "      <td>4.0</td>\n",
       "      <td>6.0</td>\n",
       "      <td>2.0</td>\n",
       "      <td>1</td>\n",
       "      <td>2324</td>\n",
       "      <td>10013</td>\n",
       "      <td>4501</td>\n",
       "      <td>1</td>\n",
       "    </tr>\n",
       "    <tr>\n",
       "      <th>1</th>\n",
       "      <td>8362078</td>\n",
       "      <td>3346056</td>\n",
       "      <td>12</td>\n",
       "      <td>10</td>\n",
       "      <td>0.000000</td>\n",
       "      <td>16655</td>\n",
       "      <td>8742</td>\n",
       "      <td>38</td>\n",
       "      <td>1387.916667</td>\n",
       "      <td>147.5</td>\n",
       "      <td>7</td>\n",
       "      <td>10</td>\n",
       "      <td>4.0</td>\n",
       "      <td>6.0</td>\n",
       "      <td>2.0</td>\n",
       "      <td>28</td>\n",
       "      <td>1243</td>\n",
       "      <td>3185</td>\n",
       "      <td>168</td>\n",
       "      <td>1</td>\n",
       "    </tr>\n",
       "    <tr>\n",
       "      <th>2</th>\n",
       "      <td>2436524</td>\n",
       "      <td>3346056</td>\n",
       "      <td>21</td>\n",
       "      <td>21</td>\n",
       "      <td>0.238095</td>\n",
       "      <td>19744</td>\n",
       "      <td>9200</td>\n",
       "      <td>46</td>\n",
       "      <td>940.190476</td>\n",
       "      <td>497.0</td>\n",
       "      <td>9</td>\n",
       "      <td>17</td>\n",
       "      <td>0.0</td>\n",
       "      <td>20.0</td>\n",
       "      <td>1.0</td>\n",
       "      <td>28</td>\n",
       "      <td>1243</td>\n",
       "      <td>3185</td>\n",
       "      <td>168</td>\n",
       "      <td>1</td>\n",
       "    </tr>\n",
       "    <tr>\n",
       "      <th>3</th>\n",
       "      <td>2792675</td>\n",
       "      <td>3346056</td>\n",
       "      <td>25</td>\n",
       "      <td>25</td>\n",
       "      <td>0.120000</td>\n",
       "      <td>48236</td>\n",
       "      <td>19339</td>\n",
       "      <td>47</td>\n",
       "      <td>1929.440000</td>\n",
       "      <td>200.0</td>\n",
       "      <td>15</td>\n",
       "      <td>19</td>\n",
       "      <td>5.0</td>\n",
       "      <td>16.0</td>\n",
       "      <td>4.0</td>\n",
       "      <td>28</td>\n",
       "      <td>1243</td>\n",
       "      <td>3185</td>\n",
       "      <td>168</td>\n",
       "      <td>1</td>\n",
       "    </tr>\n",
       "  </tbody>\n",
       "</table>\n",
       "</div>"
      ],
      "text/plain": [
       "   buyer_admin_id  item_id  num_shop  num_item  pop_unpop_rate  \\\n",
       "0         8362078        1        12        10        0.000000   \n",
       "1         8362078  3346056        12        10        0.000000   \n",
       "2         2436524  3346056        21        21        0.238095   \n",
       "3         2792675  3346056        25        25        0.120000   \n",
       "\n",
       "   item_price_sum  item_price_max  item_price_min  item_price_mean  \\\n",
       "0           16655            8742              38      1387.916667   \n",
       "1           16655            8742              38      1387.916667   \n",
       "2           19744            9200              46       940.190476   \n",
       "3           48236           19339              47      1929.440000   \n",
       "\n",
       "   item_price_median  num_item_cate  num_store_cate  shoptime_1  shoptime_2  \\\n",
       "0              147.5              7              10         4.0         6.0   \n",
       "1              147.5              7              10         4.0         6.0   \n",
       "2              497.0              9              17         0.0        20.0   \n",
       "3              200.0             15              19         5.0        16.0   \n",
       "\n",
       "   shoptime_3  num_sell  cate_id  store_id  item_price  label  \n",
       "0         2.0         1     2324     10013        4501      1  \n",
       "1         2.0        28     1243      3185         168      1  \n",
       "2         1.0        28     1243      3185         168      1  \n",
       "3         4.0        28     1243      3185         168      1  "
      ]
     },
     "execution_count": 4,
     "metadata": {},
     "output_type": "execute_result"
    }
   ],
   "source": [
    "model_train_df[:4]"
   ]
  },
  {
   "cell_type": "code",
   "execution_count": 139,
   "metadata": {},
   "outputs": [
    {
     "data": {
      "text/html": [
       "<div>\n",
       "<style scoped>\n",
       "    .dataframe tbody tr th:only-of-type {\n",
       "        vertical-align: middle;\n",
       "    }\n",
       "\n",
       "    .dataframe tbody tr th {\n",
       "        vertical-align: top;\n",
       "    }\n",
       "\n",
       "    .dataframe thead th {\n",
       "        text-align: right;\n",
       "    }\n",
       "</style>\n",
       "<table border=\"1\" class=\"dataframe\">\n",
       "  <thead>\n",
       "    <tr style=\"text-align: right;\">\n",
       "      <th></th>\n",
       "      <th>buyer_admin_id</th>\n",
       "      <th>num_shop</th>\n",
       "      <th>num_item</th>\n",
       "      <th>pop_unpop_rate</th>\n",
       "      <th>item_price_sum</th>\n",
       "      <th>item_price_max</th>\n",
       "      <th>item_price_min</th>\n",
       "      <th>item_price_mean</th>\n",
       "      <th>item_price_median</th>\n",
       "      <th>num_item_cate</th>\n",
       "      <th>num_store_cate</th>\n",
       "      <th>shoptime_1</th>\n",
       "      <th>shoptime_2</th>\n",
       "      <th>shoptime_3</th>\n",
       "      <th>item_id</th>\n",
       "      <th>num_sell</th>\n",
       "      <th>cate_id</th>\n",
       "      <th>store_id</th>\n",
       "      <th>item_price</th>\n",
       "      <th>label</th>\n",
       "    </tr>\n",
       "  </thead>\n",
       "  <tbody>\n",
       "    <tr>\n",
       "      <th>0</th>\n",
       "      <td>1061132</td>\n",
       "      <td>0.011552</td>\n",
       "      <td>0.068493</td>\n",
       "      <td>0.058824</td>\n",
       "      <td>0.001182</td>\n",
       "      <td>0.051224</td>\n",
       "      <td>0.003088</td>\n",
       "      <td>0.029665</td>\n",
       "      <td>0.021775</td>\n",
       "      <td>0.075</td>\n",
       "      <td>0.103175</td>\n",
       "      <td>0.004464</td>\n",
       "      <td>0.016484</td>\n",
       "      <td>0.029762</td>\n",
       "      <td>189045</td>\n",
       "      <td>1</td>\n",
       "      <td>1506</td>\n",
       "      <td>11599</td>\n",
       "      <td>237</td>\n",
       "      <td>1</td>\n",
       "    </tr>\n",
       "    <tr>\n",
       "      <th>1</th>\n",
       "      <td>2129504</td>\n",
       "      <td>0.004332</td>\n",
       "      <td>0.009132</td>\n",
       "      <td>0.000000</td>\n",
       "      <td>0.000287</td>\n",
       "      <td>0.012819</td>\n",
       "      <td>0.028032</td>\n",
       "      <td>0.017860</td>\n",
       "      <td>0.015737</td>\n",
       "      <td>0.000</td>\n",
       "      <td>0.007937</td>\n",
       "      <td>0.010417</td>\n",
       "      <td>0.000000</td>\n",
       "      <td>0.000000</td>\n",
       "      <td>189045</td>\n",
       "      <td>1</td>\n",
       "      <td>1506</td>\n",
       "      <td>11599</td>\n",
       "      <td>237</td>\n",
       "      <td>1</td>\n",
       "    </tr>\n",
       "    <tr>\n",
       "      <th>2</th>\n",
       "      <td>2129504</td>\n",
       "      <td>0.004332</td>\n",
       "      <td>0.009132</td>\n",
       "      <td>0.000000</td>\n",
       "      <td>0.000287</td>\n",
       "      <td>0.012819</td>\n",
       "      <td>0.028032</td>\n",
       "      <td>0.017860</td>\n",
       "      <td>0.015737</td>\n",
       "      <td>0.000</td>\n",
       "      <td>0.007937</td>\n",
       "      <td>0.010417</td>\n",
       "      <td>0.000000</td>\n",
       "      <td>0.000000</td>\n",
       "      <td>189045</td>\n",
       "      <td>1</td>\n",
       "      <td>1506</td>\n",
       "      <td>11599</td>\n",
       "      <td>237</td>\n",
       "      <td>1</td>\n",
       "    </tr>\n",
       "  </tbody>\n",
       "</table>\n",
       "</div>"
      ],
      "text/plain": [
       "   buyer_admin_id  num_shop  num_item  pop_unpop_rate  item_price_sum  \\\n",
       "0         1061132  0.011552  0.068493        0.058824        0.001182   \n",
       "1         2129504  0.004332  0.009132        0.000000        0.000287   \n",
       "2         2129504  0.004332  0.009132        0.000000        0.000287   \n",
       "\n",
       "   item_price_max  item_price_min  item_price_mean  item_price_median  \\\n",
       "0        0.051224        0.003088         0.029665           0.021775   \n",
       "1        0.012819        0.028032         0.017860           0.015737   \n",
       "2        0.012819        0.028032         0.017860           0.015737   \n",
       "\n",
       "   num_item_cate  num_store_cate  shoptime_1  shoptime_2  shoptime_3  item_id  \\\n",
       "0          0.075        0.103175    0.004464    0.016484    0.029762   189045   \n",
       "1          0.000        0.007937    0.010417    0.000000    0.000000   189045   \n",
       "2          0.000        0.007937    0.010417    0.000000    0.000000   189045   \n",
       "\n",
       "   num_sell  cate_id  store_id  item_price  label  \n",
       "0         1     1506     11599         237      1  \n",
       "1         1     1506     11599         237      1  \n",
       "2         1     1506     11599         237      1  "
      ]
     },
     "execution_count": 139,
     "metadata": {},
     "output_type": "execute_result"
    }
   ],
   "source": [
    "model_test_df[:3]"
   ]
  },
  {
   "cell_type": "code",
   "execution_count": null,
   "metadata": {},
   "outputs": [],
   "source": []
  },
  {
   "cell_type": "code",
   "execution_count": 138,
   "metadata": {},
   "outputs": [
    {
     "data": {
      "text/plain": [
       "(12843064, 20)"
      ]
     },
     "execution_count": 138,
     "metadata": {},
     "output_type": "execute_result"
    }
   ],
   "source": [
    "model_train_df.shape"
   ]
  },
  {
   "cell_type": "markdown",
   "metadata": {},
   "source": [
    "## 创建Dataset"
   ]
  },
  {
   "cell_type": "code",
   "execution_count": 107,
   "metadata": {},
   "outputs": [],
   "source": [
    "import torch\n",
    "from torch.utils.data import Dataset, DataLoader\n",
    "import torch.nn as nn\n",
    "from torch.autograd import Variable\n",
    "import torch.nn.functional as F"
   ]
  },
  {
   "cell_type": "code",
   "execution_count": 74,
   "metadata": {},
   "outputs": [],
   "source": [
    "def data_norm(data_df):\n",
    "    # 先整理列名方便后面检索，然后进行数据的归一化\n",
    "    data_df = data_df[['buyer_admin_id',\n",
    "                       'num_shop',  #购买次数，\n",
    "                       'num_item',  #购买商品件数，\n",
    "                       'pop_unpop_rate',  #热销商品与非热销商品件数的比重，\n",
    "                       'item_price_sum',  # 商品总价格\n",
    "                       'item_price_max',  #商品最大价格\n",
    "                       'item_price_min',  #商品最小价格\n",
    "                       'item_price_mean',  #商品价格均值\n",
    "                       'item_price_median', #商品价格中值\n",
    "                       'num_item_cate',  #商品类别数\n",
    "                       'num_store_cate', #商店类别数\n",
    "                       'shoptime_1',  #在0-8时间段购买商品数所占比重\n",
    "                       'shoptime_2', #在8-16时间段...\n",
    "                       'shoptime_3',  #在16-24时间段..\n",
    "                       'item_id',\n",
    "                       'num_sell',\n",
    "                       'cate_id',\n",
    "                       'store_id',\n",
    "                       'item_price',\n",
    "                       'label'\n",
    "                        ]]\n",
    "    data_df.iloc[:,1:14] = data_df.iloc[:,1:14].apply(lambda x : (x-np.min(x))/(np.max(x)-np.min(x))) # 数据相关归一化\n",
    "    return data_df"
   ]
  },
  {
   "cell_type": "code",
   "execution_count": 150,
   "metadata": {},
   "outputs": [],
   "source": [
    "test = np.array([1,2,3])"
   ]
  },
  {
   "cell_type": "code",
   "execution_count": 160,
   "metadata": {},
   "outputs": [
    {
     "data": {
      "text/plain": [
       "array([1., 2., 3.], dtype=float32)"
      ]
     },
     "execution_count": 160,
     "metadata": {},
     "output_type": "execute_result"
    }
   ],
   "source": [
    "test.astype(np.float32)"
   ]
  },
  {
   "cell_type": "code",
   "execution_count": 175,
   "metadata": {},
   "outputs": [],
   "source": [
    "class AntaiDataset(Dataset):\n",
    "    def __init__(self,data_df):\n",
    "        self.data_df = data_df\n",
    "        \n",
    "    def __len__(self):\n",
    "        return self.data_df.shape[0]\n",
    "    \n",
    "    def __getitem__(self, index):\n",
    "        data_series = self.data_df.iloc[index]\n",
    "        label = data_series['label']\n",
    "        admin_features = data_series.iloc[:14].values\n",
    "        item_features = data_series.iloc[14:-1].values\n",
    "        return admin_features.astype(np.float32), item_features.astype(np.float32), np.array(label)"
   ]
  },
  {
   "cell_type": "code",
   "execution_count": 62,
   "metadata": {},
   "outputs": [],
   "source": [
    "model_train_df  = data_norm(model_train_df)"
   ]
  },
  {
   "cell_type": "code",
   "execution_count": 75,
   "metadata": {},
   "outputs": [],
   "source": [
    "model_test_df = data_norm(model_test_df)"
   ]
  },
  {
   "cell_type": "code",
   "execution_count": 65,
   "metadata": {},
   "outputs": [
    {
     "data": {
      "text/html": [
       "<div>\n",
       "<style scoped>\n",
       "    .dataframe tbody tr th:only-of-type {\n",
       "        vertical-align: middle;\n",
       "    }\n",
       "\n",
       "    .dataframe tbody tr th {\n",
       "        vertical-align: top;\n",
       "    }\n",
       "\n",
       "    .dataframe thead th {\n",
       "        text-align: right;\n",
       "    }\n",
       "</style>\n",
       "<table border=\"1\" class=\"dataframe\">\n",
       "  <thead>\n",
       "    <tr style=\"text-align: right;\">\n",
       "      <th></th>\n",
       "      <th>buyer_admin_id</th>\n",
       "      <th>num_shop</th>\n",
       "      <th>num_item</th>\n",
       "      <th>pop_unpop_rate</th>\n",
       "      <th>item_price_sum</th>\n",
       "      <th>item_price_max</th>\n",
       "      <th>item_price_min</th>\n",
       "      <th>item_price_mean</th>\n",
       "      <th>item_price_median</th>\n",
       "      <th>num_item_cate</th>\n",
       "      <th>num_store_cate</th>\n",
       "      <th>shoptime_1</th>\n",
       "      <th>shoptime_2</th>\n",
       "      <th>shoptime_3</th>\n",
       "      <th>item_id</th>\n",
       "      <th>num_sell</th>\n",
       "      <th>cate_id</th>\n",
       "      <th>store_id</th>\n",
       "      <th>item_price</th>\n",
       "      <th>label</th>\n",
       "    </tr>\n",
       "  </thead>\n",
       "  <tbody>\n",
       "    <tr>\n",
       "      <th>0</th>\n",
       "      <td>8362078</td>\n",
       "      <td>0.000257</td>\n",
       "      <td>0.005498</td>\n",
       "      <td>0.0</td>\n",
       "      <td>0.000649</td>\n",
       "      <td>0.432074</td>\n",
       "      <td>0.001842</td>\n",
       "      <td>0.068651</td>\n",
       "      <td>0.007251</td>\n",
       "      <td>0.012658</td>\n",
       "      <td>0.007311</td>\n",
       "      <td>0.000116</td>\n",
       "      <td>0.002007</td>\n",
       "      <td>0.000116</td>\n",
       "      <td>1</td>\n",
       "      <td>1</td>\n",
       "      <td>2324</td>\n",
       "      <td>10013</td>\n",
       "      <td>4501</td>\n",
       "      <td>1</td>\n",
       "    </tr>\n",
       "    <tr>\n",
       "      <th>1</th>\n",
       "      <td>8362078</td>\n",
       "      <td>0.000257</td>\n",
       "      <td>0.005498</td>\n",
       "      <td>0.0</td>\n",
       "      <td>0.000649</td>\n",
       "      <td>0.432074</td>\n",
       "      <td>0.001842</td>\n",
       "      <td>0.068651</td>\n",
       "      <td>0.007251</td>\n",
       "      <td>0.012658</td>\n",
       "      <td>0.007311</td>\n",
       "      <td>0.000116</td>\n",
       "      <td>0.002007</td>\n",
       "      <td>0.000116</td>\n",
       "      <td>3346056</td>\n",
       "      <td>28</td>\n",
       "      <td>1243</td>\n",
       "      <td>3185</td>\n",
       "      <td>168</td>\n",
       "      <td>1</td>\n",
       "    </tr>\n",
       "  </tbody>\n",
       "</table>\n",
       "</div>"
      ],
      "text/plain": [
       "   buyer_admin_id  num_shop  num_item  pop_unpop_rate  item_price_sum  \\\n",
       "0         8362078  0.000257  0.005498             0.0        0.000649   \n",
       "1         8362078  0.000257  0.005498             0.0        0.000649   \n",
       "\n",
       "   item_price_max  item_price_min  item_price_mean  item_price_median  \\\n",
       "0        0.432074        0.001842         0.068651           0.007251   \n",
       "1        0.432074        0.001842         0.068651           0.007251   \n",
       "\n",
       "   num_item_cate  num_store_cate  shoptime_1  shoptime_2  shoptime_3  item_id  \\\n",
       "0       0.012658        0.007311    0.000116    0.002007    0.000116        1   \n",
       "1       0.012658        0.007311    0.000116    0.002007    0.000116  3346056   \n",
       "\n",
       "   num_sell  cate_id  store_id  item_price  label  \n",
       "0         1     2324     10013        4501      1  \n",
       "1        28     1243      3185         168      1  "
      ]
     },
     "execution_count": 65,
     "metadata": {},
     "output_type": "execute_result"
    }
   ],
   "source": [
    "model_train_df[:2]"
   ]
  },
  {
   "cell_type": "code",
   "execution_count": 153,
   "metadata": {},
   "outputs": [],
   "source": []
  },
  {
   "cell_type": "code",
   "execution_count": 68,
   "metadata": {},
   "outputs": [
    {
     "data": {
      "text/plain": [
       "array([8.36207800e+06, 2.57309942e-04, 5.49786194e-03, 0.00000000e+00,\n",
       "       6.48785394e-04, 4.32074352e-01, 1.84162063e-03, 6.86509435e-02,\n",
       "       7.25068052e-03, 1.26582278e-02, 7.31112916e-03, 1.15938668e-04,\n",
       "       2.00736032e-03, 1.15540150e-04])"
      ]
     },
     "execution_count": 68,
     "metadata": {},
     "output_type": "execute_result"
    }
   ],
   "source": [
    "anti_trian_dataset[0][0]  # 用户特征信息"
   ]
  },
  {
   "cell_type": "code",
   "execution_count": 94,
   "metadata": {},
   "outputs": [
    {
     "data": {
      "text/plain": [
       "8362078.0"
      ]
     },
     "execution_count": 94,
     "metadata": {},
     "output_type": "execute_result"
    }
   ],
   "source": [
    "anti_trian_dataset[0][0][0]"
   ]
  },
  {
   "cell_type": "code",
   "execution_count": 71,
   "metadata": {},
   "outputs": [
    {
     "data": {
      "text/plain": [
       "(14,)"
      ]
     },
     "execution_count": 71,
     "metadata": {},
     "output_type": "execute_result"
    }
   ],
   "source": [
    "anti_trian_dataset[0][0].shape  # 用户特征数"
   ]
  },
  {
   "cell_type": "code",
   "execution_count": 69,
   "metadata": {},
   "outputs": [
    {
     "data": {
      "text/plain": [
       "array([1.0000e+00, 1.0000e+00, 2.3240e+03, 1.0013e+04, 4.5010e+03])"
      ]
     },
     "execution_count": 69,
     "metadata": {},
     "output_type": "execute_result"
    }
   ],
   "source": [
    "anti_trian_dataset[0][1] #商品特征信息"
   ]
  },
  {
   "cell_type": "code",
   "execution_count": 72,
   "metadata": {},
   "outputs": [
    {
     "data": {
      "text/plain": [
       "(5,)"
      ]
     },
     "execution_count": 72,
     "metadata": {},
     "output_type": "execute_result"
    }
   ],
   "source": [
    "anti_trian_dataset[0][1].shape #商品特征数"
   ]
  },
  {
   "cell_type": "code",
   "execution_count": 70,
   "metadata": {},
   "outputs": [
    {
     "data": {
      "text/plain": [
       "array(1.)"
      ]
     },
     "execution_count": 70,
     "metadata": {},
     "output_type": "execute_result"
    }
   ],
   "source": [
    "anti_trian_dataset[0][2]  # 标签"
   ]
  },
  {
   "cell_type": "code",
   "execution_count": null,
   "metadata": {},
   "outputs": [],
   "source": []
  },
  {
   "cell_type": "code",
   "execution_count": 76,
   "metadata": {},
   "outputs": [
    {
     "data": {
      "text/html": [
       "<div>\n",
       "<style scoped>\n",
       "    .dataframe tbody tr th:only-of-type {\n",
       "        vertical-align: middle;\n",
       "    }\n",
       "\n",
       "    .dataframe tbody tr th {\n",
       "        vertical-align: top;\n",
       "    }\n",
       "\n",
       "    .dataframe thead th {\n",
       "        text-align: right;\n",
       "    }\n",
       "</style>\n",
       "<table border=\"1\" class=\"dataframe\">\n",
       "  <thead>\n",
       "    <tr style=\"text-align: right;\">\n",
       "      <th></th>\n",
       "      <th>buyer_admin_id</th>\n",
       "      <th>num_shop</th>\n",
       "      <th>num_item</th>\n",
       "      <th>pop_unpop_rate</th>\n",
       "      <th>item_price_sum</th>\n",
       "      <th>item_price_max</th>\n",
       "      <th>item_price_min</th>\n",
       "      <th>item_price_mean</th>\n",
       "      <th>item_price_median</th>\n",
       "      <th>num_item_cate</th>\n",
       "      <th>num_store_cate</th>\n",
       "      <th>shoptime_1</th>\n",
       "      <th>shoptime_2</th>\n",
       "      <th>shoptime_3</th>\n",
       "      <th>item_id</th>\n",
       "      <th>num_sell</th>\n",
       "      <th>cate_id</th>\n",
       "      <th>store_id</th>\n",
       "      <th>item_price</th>\n",
       "      <th>label</th>\n",
       "    </tr>\n",
       "  </thead>\n",
       "  <tbody>\n",
       "    <tr>\n",
       "      <th>0</th>\n",
       "      <td>1061132</td>\n",
       "      <td>0.011552</td>\n",
       "      <td>0.068493</td>\n",
       "      <td>0.058824</td>\n",
       "      <td>0.001182</td>\n",
       "      <td>0.051224</td>\n",
       "      <td>0.003088</td>\n",
       "      <td>0.029665</td>\n",
       "      <td>0.021775</td>\n",
       "      <td>0.075</td>\n",
       "      <td>0.103175</td>\n",
       "      <td>0.004464</td>\n",
       "      <td>0.016484</td>\n",
       "      <td>0.029762</td>\n",
       "      <td>189045</td>\n",
       "      <td>1</td>\n",
       "      <td>1506</td>\n",
       "      <td>11599</td>\n",
       "      <td>237</td>\n",
       "      <td>1</td>\n",
       "    </tr>\n",
       "    <tr>\n",
       "      <th>1</th>\n",
       "      <td>2129504</td>\n",
       "      <td>0.004332</td>\n",
       "      <td>0.009132</td>\n",
       "      <td>0.000000</td>\n",
       "      <td>0.000287</td>\n",
       "      <td>0.012819</td>\n",
       "      <td>0.028032</td>\n",
       "      <td>0.017860</td>\n",
       "      <td>0.015737</td>\n",
       "      <td>0.000</td>\n",
       "      <td>0.007937</td>\n",
       "      <td>0.010417</td>\n",
       "      <td>0.000000</td>\n",
       "      <td>0.000000</td>\n",
       "      <td>189045</td>\n",
       "      <td>1</td>\n",
       "      <td>1506</td>\n",
       "      <td>11599</td>\n",
       "      <td>237</td>\n",
       "      <td>1</td>\n",
       "    </tr>\n",
       "    <tr>\n",
       "      <th>2</th>\n",
       "      <td>2129504</td>\n",
       "      <td>0.004332</td>\n",
       "      <td>0.009132</td>\n",
       "      <td>0.000000</td>\n",
       "      <td>0.000287</td>\n",
       "      <td>0.012819</td>\n",
       "      <td>0.028032</td>\n",
       "      <td>0.017860</td>\n",
       "      <td>0.015737</td>\n",
       "      <td>0.000</td>\n",
       "      <td>0.007937</td>\n",
       "      <td>0.010417</td>\n",
       "      <td>0.000000</td>\n",
       "      <td>0.000000</td>\n",
       "      <td>189045</td>\n",
       "      <td>1</td>\n",
       "      <td>1506</td>\n",
       "      <td>11599</td>\n",
       "      <td>237</td>\n",
       "      <td>1</td>\n",
       "    </tr>\n",
       "  </tbody>\n",
       "</table>\n",
       "</div>"
      ],
      "text/plain": [
       "   buyer_admin_id  num_shop  num_item  pop_unpop_rate  item_price_sum  \\\n",
       "0         1061132  0.011552  0.068493        0.058824        0.001182   \n",
       "1         2129504  0.004332  0.009132        0.000000        0.000287   \n",
       "2         2129504  0.004332  0.009132        0.000000        0.000287   \n",
       "\n",
       "   item_price_max  item_price_min  item_price_mean  item_price_median  \\\n",
       "0        0.051224        0.003088         0.029665           0.021775   \n",
       "1        0.012819        0.028032         0.017860           0.015737   \n",
       "2        0.012819        0.028032         0.017860           0.015737   \n",
       "\n",
       "   num_item_cate  num_store_cate  shoptime_1  shoptime_2  shoptime_3  item_id  \\\n",
       "0          0.075        0.103175    0.004464    0.016484    0.029762   189045   \n",
       "1          0.000        0.007937    0.010417    0.000000    0.000000   189045   \n",
       "2          0.000        0.007937    0.010417    0.000000    0.000000   189045   \n",
       "\n",
       "   num_sell  cate_id  store_id  item_price  label  \n",
       "0         1     1506     11599         237      1  \n",
       "1         1     1506     11599         237      1  \n",
       "2         1     1506     11599         237      1  "
      ]
     },
     "execution_count": 76,
     "metadata": {},
     "output_type": "execute_result"
    }
   ],
   "source": [
    "model_test_df[:3]"
   ]
  },
  {
   "cell_type": "markdown",
   "metadata": {},
   "source": [
    "## 构建模型"
   ]
  },
  {
   "cell_type": "markdown",
   "metadata": {},
   "source": [
    "模型参数"
   ]
  },
  {
   "cell_type": "code",
   "execution_count": 144,
   "metadata": {},
   "outputs": [],
   "source": [
    "# 用户ID数\n",
    "admin_id_max = model_train_df['buyer_admin_id'].max()\n",
    "# admin_id_max =1000\n",
    "# 商品ID数\n",
    "item_id_max =  model_train_df['item_id'].max()\n",
    "# item_id_max = 1000\n",
    "# 商品卖出数\n",
    "item_sellnum_max =  model_train_df['num_sell'].max()\n",
    "# item_sellnum_max = 1000\n",
    "# 商品种类数目\n",
    "cate_id_max  = model_train_df['cate_id'].max()\n",
    "# cate_id_max = 400\n",
    "# 商店种类数\n",
    "store_id_max = model_train_df['store_id'].max()\n",
    "# store_id_max = 400\n",
    "#商品价格\n",
    "item_price_max = model_train_df['item_price'].max()\n",
    "# item_price_max = 100\n",
    "# embedding 维度\n",
    "embed_dim = 64\n",
    "# fc 大小\n",
    "fc1_dim = 128\n",
    "fc2_dim = 256\n",
    "\n",
    "#admin features\n",
    "admin_feature_dim = 13"
   ]
  },
  {
   "cell_type": "markdown",
   "metadata": {},
   "source": [
    "模型初始化"
   ]
  },
  {
   "cell_type": "code",
   "execution_count": 112,
   "metadata": {},
   "outputs": [],
   "source": [
    "import ipdb"
   ]
  },
  {
   "cell_type": "code",
   "execution_count": 182,
   "metadata": {},
   "outputs": [],
   "source": [
    "class AntaiRSModel(nn.Module):\n",
    "    def __init__(self):\n",
    "        super(AntaiRSModel,self).__init__()\n",
    "        torch.manual_seed(1) # 随机初始化embedding举证\n",
    "        self.admin_id_embeds = nn.Embedding(admin_id_max, embed_dim) # 64\n",
    "        self.item_id_embeds = nn.Embedding(item_id_max, embed_dim)\n",
    "        self.item_sellnum_embeds = nn.Embedding(item_sellnum_max, embed_dim)\n",
    "        self.cate_id_embeds = nn.Embedding(cate_id_max, embed_dim//2)\n",
    "        self.store_id_embeds = nn.Embedding(store_id_max, embed_dim//2)\n",
    "        self.item_price_embeds = nn.Embedding(item_price_max, embed_dim)\n",
    "        # 用户dense 初始化\n",
    "        self.uid_fc = nn.Linear(embed_dim, fc1_dim)\n",
    "        self.admin_fc1 = nn.Linear(admin_feature_dim,fc1_dim)\n",
    "        self.admin_fc2 = nn.Linear(fc1_dim*2,fc2_dim)\n",
    "        # 商品dense 初始化\n",
    "        self.itemid_fc = nn.Linear(embed_dim, fc1_dim)\n",
    "        self.sellnum_fc = nn.Linear(embed_dim, fc1_dim)\n",
    "        self.cateid_fc = nn.Linear(embed_dim//2, fc1_dim//2)\n",
    "        self.storeid_fc = nn.Linear(embed_dim//2, fc1_dim//2)\n",
    "        self.itemprice = nn.Linear(embed_dim, fc1_dim)\n",
    "        self.item_fc = nn.Linear(fc1_dim*4, fc2_dim)\n",
    "        \n",
    "    def forward(self,admin, item): # bs x 14, bs x5\n",
    "        # 用户信息embedding\n",
    "#         admin = admin.float()\n",
    "#         item = item.float()\n",
    "#         ipdb.set_trace()\n",
    "        uid_embed_layer = self.admin_id_embeds(admin[:,0].long()) # bs x 1x embed_dim => bs x 64\n",
    "        # 用户dense\n",
    "        uid_dense = self.uid_fc(uid_embed_layer) # bs  x128\n",
    "        admin_dense = self.admin_fc1(admin[:,1:])  # bs x 128\n",
    "        # 用户concat + dense\n",
    "        admin_concat = torch.cat((uid_dense, admin_dense),dim=1) # bsx 256\n",
    "        admin_concat_out = self.admin_fc2(admin_concat)  # bsx 256\n",
    "        # 商品信息embedding\n",
    "        itemid_embed_layer = self.item_id_embeds(item[:,0].long())  # bsx64\n",
    "        sellnum_embed_layer = self.item_sellnum_embeds(item[:,1].long()) # bs x64\n",
    "        cateid_embed_layer = self.cate_id_embeds(item[:,2].long()) # bs x32\n",
    "        storeid_embed_layer = self.store_id_embeds(item[:,3].long()) # bs x32\n",
    "        itemprice_embed_layer = self.item_price_embeds(item[:,4].long())\n",
    "        # 商品dense\n",
    "        itemid_dense = self.itemid_fc(itemid_embed_layer) # bsx128\n",
    "        sellnum_dense = self.sellnum_fc(sellnum_embed_layer) # bsx  128\n",
    "        cateid_dense = self.cateid_fc(cateid_embed_layer) # bs x64\n",
    "        storeid_dense = self.storeid_fc(storeid_embed_layer)  # bs x 64\n",
    "        itemprice_dense = self.itemprice(itemprice_embed_layer)  # bs  x128\n",
    "        # 商品concat + dense\n",
    "        item_concat = torch.cat((itemid_dense,sellnum_dense,cateid_dense,storeid_dense, itemprice_dense),dim=1)  # bs x 128*4\n",
    "        item_concat_out = self.item_fc(item_concat)  # bs x 256\n",
    "        out = torch.sigmoid(torch.sum(admin_concat_out*item_concat_out,1))    # bs x 1    \n",
    "        return out"
   ]
  },
  {
   "cell_type": "code",
   "execution_count": 183,
   "metadata": {},
   "outputs": [],
   "source": [
    "model = AntaiRSModel()"
   ]
  },
  {
   "cell_type": "code",
   "execution_count": 184,
   "metadata": {},
   "outputs": [],
   "source": [
    "anti_trian_dataset = AntaiDataset(model_train_df)\n",
    "data_loader = DataLoader(anti_trian_dataset,batch_size=32, num_workers=1)"
   ]
  },
  {
   "cell_type": "code",
   "execution_count": 148,
   "metadata": {},
   "outputs": [],
   "source": [
    "os.environ['CUDA_VISIBLE_DEVICES'] = '0'\n",
    "device = torch.device('cpu')"
   ]
  },
  {
   "cell_type": "code",
   "execution_count": 185,
   "metadata": {},
   "outputs": [
    {
     "name": "stdout",
     "output_type": "stream",
     "text": [
      "> \u001b[0;32m<ipython-input-185-82bb04663f65>\u001b[0m(5)\u001b[0;36m<module>\u001b[0;34m()\u001b[0m\n",
      "\u001b[0;32m      4 \u001b[0;31m    \u001b[0mipdb\u001b[0m\u001b[0;34m.\u001b[0m\u001b[0mset_trace\u001b[0m\u001b[0;34m(\u001b[0m\u001b[0;34m)\u001b[0m\u001b[0;34m\u001b[0m\u001b[0;34m\u001b[0m\u001b[0m\n",
      "\u001b[0m\u001b[0;32m----> 5 \u001b[0;31m    \u001b[0madmin\u001b[0m \u001b[0;34m=\u001b[0m \u001b[0mbatch_input\u001b[0m\u001b[0;34m[\u001b[0m\u001b[0;36m0\u001b[0m\u001b[0;34m]\u001b[0m\u001b[0;34m.\u001b[0m\u001b[0mto\u001b[0m\u001b[0;34m(\u001b[0m\u001b[0mdevice\u001b[0m\u001b[0;34m)\u001b[0m\u001b[0;34m\u001b[0m\u001b[0;34m\u001b[0m\u001b[0m\n",
      "\u001b[0m\u001b[0;32m      6 \u001b[0;31m    \u001b[0mitem\u001b[0m \u001b[0;34m=\u001b[0m \u001b[0mbatch_input\u001b[0m\u001b[0;34m[\u001b[0m\u001b[0;36m1\u001b[0m\u001b[0;34m]\u001b[0m\u001b[0;34m.\u001b[0m\u001b[0mto\u001b[0m\u001b[0;34m(\u001b[0m\u001b[0mdevice\u001b[0m\u001b[0;34m)\u001b[0m\u001b[0;34m\u001b[0m\u001b[0;34m\u001b[0m\u001b[0m\n",
      "\u001b[0m\n",
      "ipdb> n\n",
      "> \u001b[0;32m<ipython-input-185-82bb04663f65>\u001b[0m(6)\u001b[0;36m<module>\u001b[0;34m()\u001b[0m\n",
      "\u001b[0;32m      5 \u001b[0;31m    \u001b[0madmin\u001b[0m \u001b[0;34m=\u001b[0m \u001b[0mbatch_input\u001b[0m\u001b[0;34m[\u001b[0m\u001b[0;36m0\u001b[0m\u001b[0;34m]\u001b[0m\u001b[0;34m.\u001b[0m\u001b[0mto\u001b[0m\u001b[0;34m(\u001b[0m\u001b[0mdevice\u001b[0m\u001b[0;34m)\u001b[0m\u001b[0;34m\u001b[0m\u001b[0;34m\u001b[0m\u001b[0m\n",
      "\u001b[0m\u001b[0;32m----> 6 \u001b[0;31m    \u001b[0mitem\u001b[0m \u001b[0;34m=\u001b[0m \u001b[0mbatch_input\u001b[0m\u001b[0;34m[\u001b[0m\u001b[0;36m1\u001b[0m\u001b[0;34m]\u001b[0m\u001b[0;34m.\u001b[0m\u001b[0mto\u001b[0m\u001b[0;34m(\u001b[0m\u001b[0mdevice\u001b[0m\u001b[0;34m)\u001b[0m\u001b[0;34m\u001b[0m\u001b[0;34m\u001b[0m\u001b[0m\n",
      "\u001b[0m\u001b[0;32m      7 \u001b[0;31m    \u001b[0mmodel\u001b[0m\u001b[0;34m(\u001b[0m\u001b[0madmin\u001b[0m\u001b[0;34m,\u001b[0m \u001b[0mitem\u001b[0m\u001b[0;34m)\u001b[0m\u001b[0;34m\u001b[0m\u001b[0;34m\u001b[0m\u001b[0m\n",
      "\u001b[0m\n",
      "ipdb> n\n",
      "> \u001b[0;32m<ipython-input-185-82bb04663f65>\u001b[0m(7)\u001b[0;36m<module>\u001b[0;34m()\u001b[0m\n",
      "\u001b[0;32m      5 \u001b[0;31m    \u001b[0madmin\u001b[0m \u001b[0;34m=\u001b[0m \u001b[0mbatch_input\u001b[0m\u001b[0;34m[\u001b[0m\u001b[0;36m0\u001b[0m\u001b[0;34m]\u001b[0m\u001b[0;34m.\u001b[0m\u001b[0mto\u001b[0m\u001b[0;34m(\u001b[0m\u001b[0mdevice\u001b[0m\u001b[0;34m)\u001b[0m\u001b[0;34m\u001b[0m\u001b[0;34m\u001b[0m\u001b[0m\n",
      "\u001b[0m\u001b[0;32m      6 \u001b[0;31m    \u001b[0mitem\u001b[0m \u001b[0;34m=\u001b[0m \u001b[0mbatch_input\u001b[0m\u001b[0;34m[\u001b[0m\u001b[0;36m1\u001b[0m\u001b[0;34m]\u001b[0m\u001b[0;34m.\u001b[0m\u001b[0mto\u001b[0m\u001b[0;34m(\u001b[0m\u001b[0mdevice\u001b[0m\u001b[0;34m)\u001b[0m\u001b[0;34m\u001b[0m\u001b[0;34m\u001b[0m\u001b[0m\n",
      "\u001b[0m\u001b[0;32m----> 7 \u001b[0;31m    \u001b[0mmodel\u001b[0m\u001b[0;34m(\u001b[0m\u001b[0madmin\u001b[0m\u001b[0;34m,\u001b[0m \u001b[0mitem\u001b[0m\u001b[0;34m)\u001b[0m\u001b[0;34m\u001b[0m\u001b[0;34m\u001b[0m\u001b[0m\n",
      "\u001b[0m\n",
      "ipdb> n\n",
      "> \u001b[0;32m<ipython-input-182-9f6b4f06e0ba>\u001b[0m(28)\u001b[0;36mforward\u001b[0;34m()\u001b[0m\n",
      "\u001b[0;32m     27 \u001b[0;31m        \u001b[0mipdb\u001b[0m\u001b[0;34m.\u001b[0m\u001b[0mset_trace\u001b[0m\u001b[0;34m(\u001b[0m\u001b[0;34m)\u001b[0m\u001b[0;34m\u001b[0m\u001b[0;34m\u001b[0m\u001b[0m\n",
      "\u001b[0m\u001b[0;32m---> 28 \u001b[0;31m        \u001b[0muid_embed_layer\u001b[0m \u001b[0;34m=\u001b[0m \u001b[0mself\u001b[0m\u001b[0;34m.\u001b[0m\u001b[0madmin_id_embeds\u001b[0m\u001b[0;34m(\u001b[0m\u001b[0madmin\u001b[0m\u001b[0;34m[\u001b[0m\u001b[0;34m:\u001b[0m\u001b[0;34m,\u001b[0m\u001b[0;36m0\u001b[0m\u001b[0;34m]\u001b[0m\u001b[0;34m.\u001b[0m\u001b[0mlong\u001b[0m\u001b[0;34m(\u001b[0m\u001b[0;34m)\u001b[0m\u001b[0;34m)\u001b[0m \u001b[0;31m# bs x 1x embed_dim => bs x 64\u001b[0m\u001b[0;34m\u001b[0m\u001b[0;34m\u001b[0m\u001b[0m\n",
      "\u001b[0m\u001b[0;32m     29 \u001b[0;31m        \u001b[0;31m# 用户dense\u001b[0m\u001b[0;34m\u001b[0m\u001b[0;34m\u001b[0m\u001b[0;34m\u001b[0m\u001b[0m\n",
      "\u001b[0m\n",
      "ipdb> n\n",
      "> \u001b[0;32m<ipython-input-182-9f6b4f06e0ba>\u001b[0m(30)\u001b[0;36mforward\u001b[0;34m()\u001b[0m\n",
      "\u001b[0;32m     29 \u001b[0;31m        \u001b[0;31m# 用户dense\u001b[0m\u001b[0;34m\u001b[0m\u001b[0;34m\u001b[0m\u001b[0;34m\u001b[0m\u001b[0m\n",
      "\u001b[0m\u001b[0;32m---> 30 \u001b[0;31m        \u001b[0muid_dense\u001b[0m \u001b[0;34m=\u001b[0m \u001b[0mself\u001b[0m\u001b[0;34m.\u001b[0m\u001b[0muid_fc\u001b[0m\u001b[0;34m(\u001b[0m\u001b[0muid_embed_layer\u001b[0m\u001b[0;34m)\u001b[0m \u001b[0;31m# bs  x128\u001b[0m\u001b[0;34m\u001b[0m\u001b[0;34m\u001b[0m\u001b[0m\n",
      "\u001b[0m\u001b[0;32m     31 \u001b[0;31m        \u001b[0madmin_dense\u001b[0m \u001b[0;34m=\u001b[0m \u001b[0mself\u001b[0m\u001b[0;34m.\u001b[0m\u001b[0madmin_fc1\u001b[0m\u001b[0;34m(\u001b[0m\u001b[0madmin\u001b[0m\u001b[0;34m[\u001b[0m\u001b[0;34m:\u001b[0m\u001b[0;34m,\u001b[0m\u001b[0;36m1\u001b[0m\u001b[0;34m:\u001b[0m\u001b[0;34m]\u001b[0m\u001b[0;34m)\u001b[0m  \u001b[0;31m# bs x 128\u001b[0m\u001b[0;34m\u001b[0m\u001b[0;34m\u001b[0m\u001b[0m\n",
      "\u001b[0m\n",
      "ipdb> n\n",
      "> \u001b[0;32m<ipython-input-182-9f6b4f06e0ba>\u001b[0m(31)\u001b[0;36mforward\u001b[0;34m()\u001b[0m\n",
      "\u001b[0;32m     30 \u001b[0;31m        \u001b[0muid_dense\u001b[0m \u001b[0;34m=\u001b[0m \u001b[0mself\u001b[0m\u001b[0;34m.\u001b[0m\u001b[0muid_fc\u001b[0m\u001b[0;34m(\u001b[0m\u001b[0muid_embed_layer\u001b[0m\u001b[0;34m)\u001b[0m \u001b[0;31m# bs  x128\u001b[0m\u001b[0;34m\u001b[0m\u001b[0;34m\u001b[0m\u001b[0m\n",
      "\u001b[0m\u001b[0;32m---> 31 \u001b[0;31m        \u001b[0madmin_dense\u001b[0m \u001b[0;34m=\u001b[0m \u001b[0mself\u001b[0m\u001b[0;34m.\u001b[0m\u001b[0madmin_fc1\u001b[0m\u001b[0;34m(\u001b[0m\u001b[0madmin\u001b[0m\u001b[0;34m[\u001b[0m\u001b[0;34m:\u001b[0m\u001b[0;34m,\u001b[0m\u001b[0;36m1\u001b[0m\u001b[0;34m:\u001b[0m\u001b[0;34m]\u001b[0m\u001b[0;34m)\u001b[0m  \u001b[0;31m# bs x 128\u001b[0m\u001b[0;34m\u001b[0m\u001b[0;34m\u001b[0m\u001b[0m\n",
      "\u001b[0m\u001b[0;32m     32 \u001b[0;31m        \u001b[0;31m# 用户concat + dense\u001b[0m\u001b[0;34m\u001b[0m\u001b[0;34m\u001b[0m\u001b[0;34m\u001b[0m\u001b[0m\n",
      "\u001b[0m\n",
      "ipdb> \n",
      "> \u001b[0;32m<ipython-input-182-9f6b4f06e0ba>\u001b[0m(33)\u001b[0;36mforward\u001b[0;34m()\u001b[0m\n",
      "\u001b[0;32m     32 \u001b[0;31m        \u001b[0;31m# 用户concat + dense\u001b[0m\u001b[0;34m\u001b[0m\u001b[0;34m\u001b[0m\u001b[0;34m\u001b[0m\u001b[0m\n",
      "\u001b[0m\u001b[0;32m---> 33 \u001b[0;31m        \u001b[0madmin_concat\u001b[0m \u001b[0;34m=\u001b[0m \u001b[0mtorch\u001b[0m\u001b[0;34m.\u001b[0m\u001b[0mcat\u001b[0m\u001b[0;34m(\u001b[0m\u001b[0;34m(\u001b[0m\u001b[0muid_dense\u001b[0m\u001b[0;34m,\u001b[0m \u001b[0madmin_dense\u001b[0m\u001b[0;34m)\u001b[0m\u001b[0;34m,\u001b[0m\u001b[0mdim\u001b[0m\u001b[0;34m=\u001b[0m\u001b[0;36m1\u001b[0m\u001b[0;34m)\u001b[0m \u001b[0;31m# bsx 256\u001b[0m\u001b[0;34m\u001b[0m\u001b[0;34m\u001b[0m\u001b[0m\n",
      "\u001b[0m\u001b[0;32m     34 \u001b[0;31m        \u001b[0madmin_concat_out\u001b[0m \u001b[0;34m=\u001b[0m \u001b[0mself\u001b[0m\u001b[0;34m.\u001b[0m\u001b[0madmin_fc2\u001b[0m\u001b[0;34m(\u001b[0m\u001b[0madmin_concat\u001b[0m\u001b[0;34m)\u001b[0m  \u001b[0;31m# bsx 256\u001b[0m\u001b[0;34m\u001b[0m\u001b[0;34m\u001b[0m\u001b[0m\n",
      "\u001b[0m\n",
      "ipdb> n\n",
      "> \u001b[0;32m<ipython-input-182-9f6b4f06e0ba>\u001b[0m(34)\u001b[0;36mforward\u001b[0;34m()\u001b[0m\n",
      "\u001b[0;32m     33 \u001b[0;31m        \u001b[0madmin_concat\u001b[0m \u001b[0;34m=\u001b[0m \u001b[0mtorch\u001b[0m\u001b[0;34m.\u001b[0m\u001b[0mcat\u001b[0m\u001b[0;34m(\u001b[0m\u001b[0;34m(\u001b[0m\u001b[0muid_dense\u001b[0m\u001b[0;34m,\u001b[0m \u001b[0madmin_dense\u001b[0m\u001b[0;34m)\u001b[0m\u001b[0;34m,\u001b[0m\u001b[0mdim\u001b[0m\u001b[0;34m=\u001b[0m\u001b[0;36m1\u001b[0m\u001b[0;34m)\u001b[0m \u001b[0;31m# bsx 256\u001b[0m\u001b[0;34m\u001b[0m\u001b[0;34m\u001b[0m\u001b[0m\n",
      "\u001b[0m\u001b[0;32m---> 34 \u001b[0;31m        \u001b[0madmin_concat_out\u001b[0m \u001b[0;34m=\u001b[0m \u001b[0mself\u001b[0m\u001b[0;34m.\u001b[0m\u001b[0madmin_fc2\u001b[0m\u001b[0;34m(\u001b[0m\u001b[0madmin_concat\u001b[0m\u001b[0;34m)\u001b[0m  \u001b[0;31m# bsx 256\u001b[0m\u001b[0;34m\u001b[0m\u001b[0;34m\u001b[0m\u001b[0m\n",
      "\u001b[0m\u001b[0;32m     35 \u001b[0;31m        \u001b[0;31m# 商品信息embedding\u001b[0m\u001b[0;34m\u001b[0m\u001b[0;34m\u001b[0m\u001b[0;34m\u001b[0m\u001b[0m\n",
      "\u001b[0m\n",
      "ipdb> \n",
      "> \u001b[0;32m<ipython-input-182-9f6b4f06e0ba>\u001b[0m(36)\u001b[0;36mforward\u001b[0;34m()\u001b[0m\n",
      "\u001b[0;32m     35 \u001b[0;31m        \u001b[0;31m# 商品信息embedding\u001b[0m\u001b[0;34m\u001b[0m\u001b[0;34m\u001b[0m\u001b[0;34m\u001b[0m\u001b[0m\n",
      "\u001b[0m\u001b[0;32m---> 36 \u001b[0;31m        \u001b[0mitemid_embed_layer\u001b[0m \u001b[0;34m=\u001b[0m \u001b[0mself\u001b[0m\u001b[0;34m.\u001b[0m\u001b[0mitem_id_embeds\u001b[0m\u001b[0;34m(\u001b[0m\u001b[0mitem\u001b[0m\u001b[0;34m[\u001b[0m\u001b[0;34m:\u001b[0m\u001b[0;34m,\u001b[0m\u001b[0;36m0\u001b[0m\u001b[0;34m]\u001b[0m\u001b[0;34m.\u001b[0m\u001b[0mlong\u001b[0m\u001b[0;34m(\u001b[0m\u001b[0;34m)\u001b[0m\u001b[0;34m)\u001b[0m  \u001b[0;31m# bsx64\u001b[0m\u001b[0;34m\u001b[0m\u001b[0;34m\u001b[0m\u001b[0m\n",
      "\u001b[0m\u001b[0;32m     37 \u001b[0;31m        \u001b[0msellnum_embed_layer\u001b[0m \u001b[0;34m=\u001b[0m \u001b[0mself\u001b[0m\u001b[0;34m.\u001b[0m\u001b[0mitem_sellnum_embeds\u001b[0m\u001b[0;34m(\u001b[0m\u001b[0mitem\u001b[0m\u001b[0;34m[\u001b[0m\u001b[0;34m:\u001b[0m\u001b[0;34m,\u001b[0m\u001b[0;36m1\u001b[0m\u001b[0;34m]\u001b[0m\u001b[0;34m.\u001b[0m\u001b[0mlong\u001b[0m\u001b[0;34m(\u001b[0m\u001b[0;34m)\u001b[0m\u001b[0;34m)\u001b[0m \u001b[0;31m# bs x64\u001b[0m\u001b[0;34m\u001b[0m\u001b[0;34m\u001b[0m\u001b[0m\n",
      "\u001b[0m\n",
      "ipdb> n\n",
      "> \u001b[0;32m<ipython-input-182-9f6b4f06e0ba>\u001b[0m(37)\u001b[0;36mforward\u001b[0;34m()\u001b[0m\n",
      "\u001b[0;32m     36 \u001b[0;31m        \u001b[0mitemid_embed_layer\u001b[0m \u001b[0;34m=\u001b[0m \u001b[0mself\u001b[0m\u001b[0;34m.\u001b[0m\u001b[0mitem_id_embeds\u001b[0m\u001b[0;34m(\u001b[0m\u001b[0mitem\u001b[0m\u001b[0;34m[\u001b[0m\u001b[0;34m:\u001b[0m\u001b[0;34m,\u001b[0m\u001b[0;36m0\u001b[0m\u001b[0;34m]\u001b[0m\u001b[0;34m.\u001b[0m\u001b[0mlong\u001b[0m\u001b[0;34m(\u001b[0m\u001b[0;34m)\u001b[0m\u001b[0;34m)\u001b[0m  \u001b[0;31m# bsx64\u001b[0m\u001b[0;34m\u001b[0m\u001b[0;34m\u001b[0m\u001b[0m\n",
      "\u001b[0m\u001b[0;32m---> 37 \u001b[0;31m        \u001b[0msellnum_embed_layer\u001b[0m \u001b[0;34m=\u001b[0m \u001b[0mself\u001b[0m\u001b[0;34m.\u001b[0m\u001b[0mitem_sellnum_embeds\u001b[0m\u001b[0;34m(\u001b[0m\u001b[0mitem\u001b[0m\u001b[0;34m[\u001b[0m\u001b[0;34m:\u001b[0m\u001b[0;34m,\u001b[0m\u001b[0;36m1\u001b[0m\u001b[0;34m]\u001b[0m\u001b[0;34m.\u001b[0m\u001b[0mlong\u001b[0m\u001b[0;34m(\u001b[0m\u001b[0;34m)\u001b[0m\u001b[0;34m)\u001b[0m \u001b[0;31m# bs x64\u001b[0m\u001b[0;34m\u001b[0m\u001b[0;34m\u001b[0m\u001b[0m\n",
      "\u001b[0m\u001b[0;32m     38 \u001b[0;31m        \u001b[0mcateid_embed_layer\u001b[0m \u001b[0;34m=\u001b[0m \u001b[0mself\u001b[0m\u001b[0;34m.\u001b[0m\u001b[0mcate_id_embeds\u001b[0m\u001b[0;34m(\u001b[0m\u001b[0mitem\u001b[0m\u001b[0;34m[\u001b[0m\u001b[0;34m:\u001b[0m\u001b[0;34m,\u001b[0m\u001b[0;36m2\u001b[0m\u001b[0;34m]\u001b[0m\u001b[0;34m.\u001b[0m\u001b[0mlong\u001b[0m\u001b[0;34m(\u001b[0m\u001b[0;34m)\u001b[0m\u001b[0;34m)\u001b[0m \u001b[0;31m# bs x32\u001b[0m\u001b[0;34m\u001b[0m\u001b[0;34m\u001b[0m\u001b[0m\n",
      "\u001b[0m\n",
      "ipdb> n\n",
      "> \u001b[0;32m<ipython-input-182-9f6b4f06e0ba>\u001b[0m(38)\u001b[0;36mforward\u001b[0;34m()\u001b[0m\n",
      "\u001b[0;32m     37 \u001b[0;31m        \u001b[0msellnum_embed_layer\u001b[0m \u001b[0;34m=\u001b[0m \u001b[0mself\u001b[0m\u001b[0;34m.\u001b[0m\u001b[0mitem_sellnum_embeds\u001b[0m\u001b[0;34m(\u001b[0m\u001b[0mitem\u001b[0m\u001b[0;34m[\u001b[0m\u001b[0;34m:\u001b[0m\u001b[0;34m,\u001b[0m\u001b[0;36m1\u001b[0m\u001b[0;34m]\u001b[0m\u001b[0;34m.\u001b[0m\u001b[0mlong\u001b[0m\u001b[0;34m(\u001b[0m\u001b[0;34m)\u001b[0m\u001b[0;34m)\u001b[0m \u001b[0;31m# bs x64\u001b[0m\u001b[0;34m\u001b[0m\u001b[0;34m\u001b[0m\u001b[0m\n",
      "\u001b[0m\u001b[0;32m---> 38 \u001b[0;31m        \u001b[0mcateid_embed_layer\u001b[0m \u001b[0;34m=\u001b[0m \u001b[0mself\u001b[0m\u001b[0;34m.\u001b[0m\u001b[0mcate_id_embeds\u001b[0m\u001b[0;34m(\u001b[0m\u001b[0mitem\u001b[0m\u001b[0;34m[\u001b[0m\u001b[0;34m:\u001b[0m\u001b[0;34m,\u001b[0m\u001b[0;36m2\u001b[0m\u001b[0;34m]\u001b[0m\u001b[0;34m.\u001b[0m\u001b[0mlong\u001b[0m\u001b[0;34m(\u001b[0m\u001b[0;34m)\u001b[0m\u001b[0;34m)\u001b[0m \u001b[0;31m# bs x32\u001b[0m\u001b[0;34m\u001b[0m\u001b[0;34m\u001b[0m\u001b[0m\n",
      "\u001b[0m\u001b[0;32m     39 \u001b[0;31m        \u001b[0mstoreid_embed_layer\u001b[0m \u001b[0;34m=\u001b[0m \u001b[0mself\u001b[0m\u001b[0;34m.\u001b[0m\u001b[0mstore_id_embeds\u001b[0m\u001b[0;34m(\u001b[0m\u001b[0mitem\u001b[0m\u001b[0;34m[\u001b[0m\u001b[0;34m:\u001b[0m\u001b[0;34m,\u001b[0m\u001b[0;36m3\u001b[0m\u001b[0;34m]\u001b[0m\u001b[0;34m.\u001b[0m\u001b[0mlong\u001b[0m\u001b[0;34m(\u001b[0m\u001b[0;34m)\u001b[0m\u001b[0;34m)\u001b[0m \u001b[0;31m# bs x32\u001b[0m\u001b[0;34m\u001b[0m\u001b[0;34m\u001b[0m\u001b[0m\n",
      "\u001b[0m\n",
      "ipdb> n\n",
      "> \u001b[0;32m<ipython-input-182-9f6b4f06e0ba>\u001b[0m(39)\u001b[0;36mforward\u001b[0;34m()\u001b[0m\n",
      "\u001b[0;32m     38 \u001b[0;31m        \u001b[0mcateid_embed_layer\u001b[0m \u001b[0;34m=\u001b[0m \u001b[0mself\u001b[0m\u001b[0;34m.\u001b[0m\u001b[0mcate_id_embeds\u001b[0m\u001b[0;34m(\u001b[0m\u001b[0mitem\u001b[0m\u001b[0;34m[\u001b[0m\u001b[0;34m:\u001b[0m\u001b[0;34m,\u001b[0m\u001b[0;36m2\u001b[0m\u001b[0;34m]\u001b[0m\u001b[0;34m.\u001b[0m\u001b[0mlong\u001b[0m\u001b[0;34m(\u001b[0m\u001b[0;34m)\u001b[0m\u001b[0;34m)\u001b[0m \u001b[0;31m# bs x32\u001b[0m\u001b[0;34m\u001b[0m\u001b[0;34m\u001b[0m\u001b[0m\n",
      "\u001b[0m\u001b[0;32m---> 39 \u001b[0;31m        \u001b[0mstoreid_embed_layer\u001b[0m \u001b[0;34m=\u001b[0m \u001b[0mself\u001b[0m\u001b[0;34m.\u001b[0m\u001b[0mstore_id_embeds\u001b[0m\u001b[0;34m(\u001b[0m\u001b[0mitem\u001b[0m\u001b[0;34m[\u001b[0m\u001b[0;34m:\u001b[0m\u001b[0;34m,\u001b[0m\u001b[0;36m3\u001b[0m\u001b[0;34m]\u001b[0m\u001b[0;34m.\u001b[0m\u001b[0mlong\u001b[0m\u001b[0;34m(\u001b[0m\u001b[0;34m)\u001b[0m\u001b[0;34m)\u001b[0m \u001b[0;31m# bs x32\u001b[0m\u001b[0;34m\u001b[0m\u001b[0;34m\u001b[0m\u001b[0m\n",
      "\u001b[0m\u001b[0;32m     40 \u001b[0;31m        \u001b[0mitemprice_embed_layer\u001b[0m \u001b[0;34m=\u001b[0m \u001b[0mself\u001b[0m\u001b[0;34m.\u001b[0m\u001b[0mitem_price_embeds\u001b[0m\u001b[0;34m(\u001b[0m\u001b[0mitem\u001b[0m\u001b[0;34m[\u001b[0m\u001b[0;34m:\u001b[0m\u001b[0;34m,\u001b[0m\u001b[0;36m4\u001b[0m\u001b[0;34m]\u001b[0m\u001b[0;34m.\u001b[0m\u001b[0mlong\u001b[0m\u001b[0;34m(\u001b[0m\u001b[0;34m)\u001b[0m\u001b[0;34m)\u001b[0m\u001b[0;34m\u001b[0m\u001b[0;34m\u001b[0m\u001b[0m\n",
      "\u001b[0m\n"
     ]
    },
    {
     "name": "stdout",
     "output_type": "stream",
     "text": [
      "ipdb> n\n",
      "> \u001b[0;32m<ipython-input-182-9f6b4f06e0ba>\u001b[0m(40)\u001b[0;36mforward\u001b[0;34m()\u001b[0m\n",
      "\u001b[0;32m     39 \u001b[0;31m        \u001b[0mstoreid_embed_layer\u001b[0m \u001b[0;34m=\u001b[0m \u001b[0mself\u001b[0m\u001b[0;34m.\u001b[0m\u001b[0mstore_id_embeds\u001b[0m\u001b[0;34m(\u001b[0m\u001b[0mitem\u001b[0m\u001b[0;34m[\u001b[0m\u001b[0;34m:\u001b[0m\u001b[0;34m,\u001b[0m\u001b[0;36m3\u001b[0m\u001b[0;34m]\u001b[0m\u001b[0;34m.\u001b[0m\u001b[0mlong\u001b[0m\u001b[0;34m(\u001b[0m\u001b[0;34m)\u001b[0m\u001b[0;34m)\u001b[0m \u001b[0;31m# bs x32\u001b[0m\u001b[0;34m\u001b[0m\u001b[0;34m\u001b[0m\u001b[0m\n",
      "\u001b[0m\u001b[0;32m---> 40 \u001b[0;31m        \u001b[0mitemprice_embed_layer\u001b[0m \u001b[0;34m=\u001b[0m \u001b[0mself\u001b[0m\u001b[0;34m.\u001b[0m\u001b[0mitem_price_embeds\u001b[0m\u001b[0;34m(\u001b[0m\u001b[0mitem\u001b[0m\u001b[0;34m[\u001b[0m\u001b[0;34m:\u001b[0m\u001b[0;34m,\u001b[0m\u001b[0;36m4\u001b[0m\u001b[0;34m]\u001b[0m\u001b[0;34m.\u001b[0m\u001b[0mlong\u001b[0m\u001b[0;34m(\u001b[0m\u001b[0;34m)\u001b[0m\u001b[0;34m)\u001b[0m\u001b[0;34m\u001b[0m\u001b[0;34m\u001b[0m\u001b[0m\n",
      "\u001b[0m\u001b[0;32m     41 \u001b[0;31m        \u001b[0;31m# 商品dense\u001b[0m\u001b[0;34m\u001b[0m\u001b[0;34m\u001b[0m\u001b[0;34m\u001b[0m\u001b[0m\n",
      "\u001b[0m\n",
      "ipdb> n\n",
      "> \u001b[0;32m<ipython-input-182-9f6b4f06e0ba>\u001b[0m(42)\u001b[0;36mforward\u001b[0;34m()\u001b[0m\n",
      "\u001b[0;32m     41 \u001b[0;31m        \u001b[0;31m# 商品dense\u001b[0m\u001b[0;34m\u001b[0m\u001b[0;34m\u001b[0m\u001b[0;34m\u001b[0m\u001b[0m\n",
      "\u001b[0m\u001b[0;32m---> 42 \u001b[0;31m        \u001b[0mitemid_dense\u001b[0m \u001b[0;34m=\u001b[0m \u001b[0mself\u001b[0m\u001b[0;34m.\u001b[0m\u001b[0mitemid_fc\u001b[0m\u001b[0;34m(\u001b[0m\u001b[0mitemid_embed_layer\u001b[0m\u001b[0;34m)\u001b[0m \u001b[0;31m# bsx128\u001b[0m\u001b[0;34m\u001b[0m\u001b[0;34m\u001b[0m\u001b[0m\n",
      "\u001b[0m\u001b[0;32m     43 \u001b[0;31m        \u001b[0msellnum_dense\u001b[0m \u001b[0;34m=\u001b[0m \u001b[0mself\u001b[0m\u001b[0;34m.\u001b[0m\u001b[0msellnum_fc\u001b[0m\u001b[0;34m(\u001b[0m\u001b[0msellnum_embed_layer\u001b[0m\u001b[0;34m)\u001b[0m \u001b[0;31m# bsx  128\u001b[0m\u001b[0;34m\u001b[0m\u001b[0;34m\u001b[0m\u001b[0m\n",
      "\u001b[0m\n",
      "ipdb> n\n",
      "> \u001b[0;32m<ipython-input-182-9f6b4f06e0ba>\u001b[0m(43)\u001b[0;36mforward\u001b[0;34m()\u001b[0m\n",
      "\u001b[0;32m     42 \u001b[0;31m        \u001b[0mitemid_dense\u001b[0m \u001b[0;34m=\u001b[0m \u001b[0mself\u001b[0m\u001b[0;34m.\u001b[0m\u001b[0mitemid_fc\u001b[0m\u001b[0;34m(\u001b[0m\u001b[0mitemid_embed_layer\u001b[0m\u001b[0;34m)\u001b[0m \u001b[0;31m# bsx128\u001b[0m\u001b[0;34m\u001b[0m\u001b[0;34m\u001b[0m\u001b[0m\n",
      "\u001b[0m\u001b[0;32m---> 43 \u001b[0;31m        \u001b[0msellnum_dense\u001b[0m \u001b[0;34m=\u001b[0m \u001b[0mself\u001b[0m\u001b[0;34m.\u001b[0m\u001b[0msellnum_fc\u001b[0m\u001b[0;34m(\u001b[0m\u001b[0msellnum_embed_layer\u001b[0m\u001b[0;34m)\u001b[0m \u001b[0;31m# bsx  128\u001b[0m\u001b[0;34m\u001b[0m\u001b[0;34m\u001b[0m\u001b[0m\n",
      "\u001b[0m\u001b[0;32m     44 \u001b[0;31m        \u001b[0mcateid_dense\u001b[0m \u001b[0;34m=\u001b[0m \u001b[0mself\u001b[0m\u001b[0;34m.\u001b[0m\u001b[0mcateid_fc\u001b[0m\u001b[0;34m(\u001b[0m\u001b[0mcateid_embed_layer\u001b[0m\u001b[0;34m)\u001b[0m \u001b[0;31m# bs x64\u001b[0m\u001b[0;34m\u001b[0m\u001b[0;34m\u001b[0m\u001b[0m\n",
      "\u001b[0m\n",
      "ipdb> n\n",
      "> \u001b[0;32m<ipython-input-182-9f6b4f06e0ba>\u001b[0m(44)\u001b[0;36mforward\u001b[0;34m()\u001b[0m\n",
      "\u001b[0;32m     43 \u001b[0;31m        \u001b[0msellnum_dense\u001b[0m \u001b[0;34m=\u001b[0m \u001b[0mself\u001b[0m\u001b[0;34m.\u001b[0m\u001b[0msellnum_fc\u001b[0m\u001b[0;34m(\u001b[0m\u001b[0msellnum_embed_layer\u001b[0m\u001b[0;34m)\u001b[0m \u001b[0;31m# bsx  128\u001b[0m\u001b[0;34m\u001b[0m\u001b[0;34m\u001b[0m\u001b[0m\n",
      "\u001b[0m\u001b[0;32m---> 44 \u001b[0;31m        \u001b[0mcateid_dense\u001b[0m \u001b[0;34m=\u001b[0m \u001b[0mself\u001b[0m\u001b[0;34m.\u001b[0m\u001b[0mcateid_fc\u001b[0m\u001b[0;34m(\u001b[0m\u001b[0mcateid_embed_layer\u001b[0m\u001b[0;34m)\u001b[0m \u001b[0;31m# bs x64\u001b[0m\u001b[0;34m\u001b[0m\u001b[0;34m\u001b[0m\u001b[0m\n",
      "\u001b[0m\u001b[0;32m     45 \u001b[0;31m        \u001b[0mstoreid_dense\u001b[0m \u001b[0;34m=\u001b[0m \u001b[0mself\u001b[0m\u001b[0;34m.\u001b[0m\u001b[0mstoreid_fc\u001b[0m\u001b[0;34m(\u001b[0m\u001b[0mstoreid_embed_layer\u001b[0m\u001b[0;34m)\u001b[0m  \u001b[0;31m# bs x 64\u001b[0m\u001b[0;34m\u001b[0m\u001b[0;34m\u001b[0m\u001b[0m\n",
      "\u001b[0m\n",
      "ipdb> n\n",
      "> \u001b[0;32m<ipython-input-182-9f6b4f06e0ba>\u001b[0m(45)\u001b[0;36mforward\u001b[0;34m()\u001b[0m\n",
      "\u001b[0;32m     44 \u001b[0;31m        \u001b[0mcateid_dense\u001b[0m \u001b[0;34m=\u001b[0m \u001b[0mself\u001b[0m\u001b[0;34m.\u001b[0m\u001b[0mcateid_fc\u001b[0m\u001b[0;34m(\u001b[0m\u001b[0mcateid_embed_layer\u001b[0m\u001b[0;34m)\u001b[0m \u001b[0;31m# bs x64\u001b[0m\u001b[0;34m\u001b[0m\u001b[0;34m\u001b[0m\u001b[0m\n",
      "\u001b[0m\u001b[0;32m---> 45 \u001b[0;31m        \u001b[0mstoreid_dense\u001b[0m \u001b[0;34m=\u001b[0m \u001b[0mself\u001b[0m\u001b[0;34m.\u001b[0m\u001b[0mstoreid_fc\u001b[0m\u001b[0;34m(\u001b[0m\u001b[0mstoreid_embed_layer\u001b[0m\u001b[0;34m)\u001b[0m  \u001b[0;31m# bs x 64\u001b[0m\u001b[0;34m\u001b[0m\u001b[0;34m\u001b[0m\u001b[0m\n",
      "\u001b[0m\u001b[0;32m     46 \u001b[0;31m        \u001b[0mitemprice_dense\u001b[0m \u001b[0;34m=\u001b[0m \u001b[0mself\u001b[0m\u001b[0;34m.\u001b[0m\u001b[0mitemprice\u001b[0m\u001b[0;34m(\u001b[0m\u001b[0mitemprice_embed_layer\u001b[0m\u001b[0;34m)\u001b[0m  \u001b[0;31m# bs  x128\u001b[0m\u001b[0;34m\u001b[0m\u001b[0;34m\u001b[0m\u001b[0m\n",
      "\u001b[0m\n",
      "ipdb> n\n",
      "> \u001b[0;32m<ipython-input-182-9f6b4f06e0ba>\u001b[0m(46)\u001b[0;36mforward\u001b[0;34m()\u001b[0m\n",
      "\u001b[0;32m     45 \u001b[0;31m        \u001b[0mstoreid_dense\u001b[0m \u001b[0;34m=\u001b[0m \u001b[0mself\u001b[0m\u001b[0;34m.\u001b[0m\u001b[0mstoreid_fc\u001b[0m\u001b[0;34m(\u001b[0m\u001b[0mstoreid_embed_layer\u001b[0m\u001b[0;34m)\u001b[0m  \u001b[0;31m# bs x 64\u001b[0m\u001b[0;34m\u001b[0m\u001b[0;34m\u001b[0m\u001b[0m\n",
      "\u001b[0m\u001b[0;32m---> 46 \u001b[0;31m        \u001b[0mitemprice_dense\u001b[0m \u001b[0;34m=\u001b[0m \u001b[0mself\u001b[0m\u001b[0;34m.\u001b[0m\u001b[0mitemprice\u001b[0m\u001b[0;34m(\u001b[0m\u001b[0mitemprice_embed_layer\u001b[0m\u001b[0;34m)\u001b[0m  \u001b[0;31m# bs  x128\u001b[0m\u001b[0;34m\u001b[0m\u001b[0;34m\u001b[0m\u001b[0m\n",
      "\u001b[0m\u001b[0;32m     47 \u001b[0;31m        \u001b[0;31m# 商品concat + dense\u001b[0m\u001b[0;34m\u001b[0m\u001b[0;34m\u001b[0m\u001b[0;34m\u001b[0m\u001b[0m\n",
      "\u001b[0m\n",
      "ipdb> n\n",
      "> \u001b[0;32m<ipython-input-182-9f6b4f06e0ba>\u001b[0m(48)\u001b[0;36mforward\u001b[0;34m()\u001b[0m\n",
      "\u001b[0;32m     47 \u001b[0;31m        \u001b[0;31m# 商品concat + dense\u001b[0m\u001b[0;34m\u001b[0m\u001b[0;34m\u001b[0m\u001b[0;34m\u001b[0m\u001b[0m\n",
      "\u001b[0m\u001b[0;32m---> 48 \u001b[0;31m        \u001b[0mitem_concat\u001b[0m \u001b[0;34m=\u001b[0m \u001b[0mtorch\u001b[0m\u001b[0;34m.\u001b[0m\u001b[0mcat\u001b[0m\u001b[0;34m(\u001b[0m\u001b[0;34m(\u001b[0m\u001b[0mitemid_dense\u001b[0m\u001b[0;34m,\u001b[0m\u001b[0msellnum_dense\u001b[0m\u001b[0;34m,\u001b[0m\u001b[0mcateid_dense\u001b[0m\u001b[0;34m,\u001b[0m\u001b[0mstoreid_dense\u001b[0m\u001b[0;34m,\u001b[0m \u001b[0mitemprice_dense\u001b[0m\u001b[0;34m)\u001b[0m\u001b[0;34m,\u001b[0m\u001b[0mdim\u001b[0m\u001b[0;34m=\u001b[0m\u001b[0;36m1\u001b[0m\u001b[0;34m)\u001b[0m  \u001b[0;31m# bs x 128*4\u001b[0m\u001b[0;34m\u001b[0m\u001b[0;34m\u001b[0m\u001b[0m\n",
      "\u001b[0m\u001b[0;32m     49 \u001b[0;31m        \u001b[0mitem_concat_out\u001b[0m \u001b[0;34m=\u001b[0m \u001b[0mself\u001b[0m\u001b[0;34m.\u001b[0m\u001b[0mitem_fc\u001b[0m\u001b[0;34m(\u001b[0m\u001b[0mitem_concat\u001b[0m\u001b[0;34m)\u001b[0m  \u001b[0;31m# bs x 256\u001b[0m\u001b[0;34m\u001b[0m\u001b[0;34m\u001b[0m\u001b[0m\n",
      "\u001b[0m\n",
      "ipdb> n\n",
      "> \u001b[0;32m<ipython-input-182-9f6b4f06e0ba>\u001b[0m(49)\u001b[0;36mforward\u001b[0;34m()\u001b[0m\n",
      "\u001b[0;32m     48 \u001b[0;31m        \u001b[0mitem_concat\u001b[0m \u001b[0;34m=\u001b[0m \u001b[0mtorch\u001b[0m\u001b[0;34m.\u001b[0m\u001b[0mcat\u001b[0m\u001b[0;34m(\u001b[0m\u001b[0;34m(\u001b[0m\u001b[0mitemid_dense\u001b[0m\u001b[0;34m,\u001b[0m\u001b[0msellnum_dense\u001b[0m\u001b[0;34m,\u001b[0m\u001b[0mcateid_dense\u001b[0m\u001b[0;34m,\u001b[0m\u001b[0mstoreid_dense\u001b[0m\u001b[0;34m,\u001b[0m \u001b[0mitemprice_dense\u001b[0m\u001b[0;34m)\u001b[0m\u001b[0;34m,\u001b[0m\u001b[0mdim\u001b[0m\u001b[0;34m=\u001b[0m\u001b[0;36m1\u001b[0m\u001b[0;34m)\u001b[0m  \u001b[0;31m# bs x 128*4\u001b[0m\u001b[0;34m\u001b[0m\u001b[0;34m\u001b[0m\u001b[0m\n",
      "\u001b[0m\u001b[0;32m---> 49 \u001b[0;31m        \u001b[0mitem_concat_out\u001b[0m \u001b[0;34m=\u001b[0m \u001b[0mself\u001b[0m\u001b[0;34m.\u001b[0m\u001b[0mitem_fc\u001b[0m\u001b[0;34m(\u001b[0m\u001b[0mitem_concat\u001b[0m\u001b[0;34m)\u001b[0m  \u001b[0;31m# bs x 256\u001b[0m\u001b[0;34m\u001b[0m\u001b[0;34m\u001b[0m\u001b[0m\n",
      "\u001b[0m\u001b[0;32m     50 \u001b[0;31m        \u001b[0mout\u001b[0m \u001b[0;34m=\u001b[0m \u001b[0mF\u001b[0m\u001b[0;34m.\u001b[0m\u001b[0msigmoid\u001b[0m\u001b[0;34m(\u001b[0m\u001b[0mtorch\u001b[0m\u001b[0;34m.\u001b[0m\u001b[0msum\u001b[0m\u001b[0;34m(\u001b[0m\u001b[0madmin_concat_out\u001b[0m\u001b[0;34m*\u001b[0m\u001b[0mitem_concat_out\u001b[0m\u001b[0;34m,\u001b[0m\u001b[0;36m1\u001b[0m\u001b[0;34m)\u001b[0m\u001b[0;34m)\u001b[0m    \u001b[0;31m# bs x 1\u001b[0m\u001b[0;34m\u001b[0m\u001b[0;34m\u001b[0m\u001b[0m\n",
      "\u001b[0m\n",
      "ipdb> item_concat.shape\n",
      "torch.Size([32, 512])\n",
      "ipdb> n\n",
      "> \u001b[0;32m<ipython-input-182-9f6b4f06e0ba>\u001b[0m(50)\u001b[0;36mforward\u001b[0;34m()\u001b[0m\n",
      "\u001b[0;32m     49 \u001b[0;31m        \u001b[0mitem_concat_out\u001b[0m \u001b[0;34m=\u001b[0m \u001b[0mself\u001b[0m\u001b[0;34m.\u001b[0m\u001b[0mitem_fc\u001b[0m\u001b[0;34m(\u001b[0m\u001b[0mitem_concat\u001b[0m\u001b[0;34m)\u001b[0m  \u001b[0;31m# bs x 256\u001b[0m\u001b[0;34m\u001b[0m\u001b[0;34m\u001b[0m\u001b[0m\n",
      "\u001b[0m\u001b[0;32m---> 50 \u001b[0;31m        \u001b[0mout\u001b[0m \u001b[0;34m=\u001b[0m \u001b[0mF\u001b[0m\u001b[0;34m.\u001b[0m\u001b[0msigmoid\u001b[0m\u001b[0;34m(\u001b[0m\u001b[0mtorch\u001b[0m\u001b[0;34m.\u001b[0m\u001b[0msum\u001b[0m\u001b[0;34m(\u001b[0m\u001b[0madmin_concat_out\u001b[0m\u001b[0;34m*\u001b[0m\u001b[0mitem_concat_out\u001b[0m\u001b[0;34m,\u001b[0m\u001b[0;36m1\u001b[0m\u001b[0;34m)\u001b[0m\u001b[0;34m)\u001b[0m    \u001b[0;31m# bs x 1\u001b[0m\u001b[0;34m\u001b[0m\u001b[0;34m\u001b[0m\u001b[0m\n",
      "\u001b[0m\u001b[0;32m     51 \u001b[0;31m        \u001b[0;32mreturn\u001b[0m \u001b[0mout\u001b[0m\u001b[0;34m\u001b[0m\u001b[0;34m\u001b[0m\u001b[0m\n",
      "\u001b[0m\n",
      "ipdb> item_concat_out .shape\n",
      "torch.Size([32, 256])\n",
      "ipdb> test = admin_concat_out*item_concat_out\n",
      "ipdb> test.shape\n",
      "torch.Size([32, 256])\n",
      "ipdb> tmp = torch.sum(admin_concat_out*item_concat_out,1)\n",
      "ipdb> tmp.shape\n",
      "torch.Size([32])\n",
      "ipdb> tmp[:3]\n",
      "tensor([-0.2051, -3.5656,  0.2275], grad_fn=<SliceBackward>)\n",
      "ipdb> n\n"
     ]
    },
    {
     "name": "stderr",
     "output_type": "stream",
     "text": [
      "/home/ai/anaconda3/lib/python3.7/site-packages/torch/nn/functional.py:1386: UserWarning: nn.functional.sigmoid is deprecated. Use torch.sigmoid instead.\n",
      "  warnings.warn(\"nn.functional.sigmoid is deprecated. Use torch.sigmoid instead.\")\n"
     ]
    },
    {
     "name": "stdout",
     "output_type": "stream",
     "text": [
      "> \u001b[0;32m<ipython-input-182-9f6b4f06e0ba>\u001b[0m(51)\u001b[0;36mforward\u001b[0;34m()\u001b[0m\n",
      "\u001b[0;32m     49 \u001b[0;31m        \u001b[0mitem_concat_out\u001b[0m \u001b[0;34m=\u001b[0m \u001b[0mself\u001b[0m\u001b[0;34m.\u001b[0m\u001b[0mitem_fc\u001b[0m\u001b[0;34m(\u001b[0m\u001b[0mitem_concat\u001b[0m\u001b[0;34m)\u001b[0m  \u001b[0;31m# bs x 256\u001b[0m\u001b[0;34m\u001b[0m\u001b[0;34m\u001b[0m\u001b[0m\n",
      "\u001b[0m\u001b[0;32m     50 \u001b[0;31m        \u001b[0mout\u001b[0m \u001b[0;34m=\u001b[0m \u001b[0mF\u001b[0m\u001b[0;34m.\u001b[0m\u001b[0msigmoid\u001b[0m\u001b[0;34m(\u001b[0m\u001b[0mtorch\u001b[0m\u001b[0;34m.\u001b[0m\u001b[0msum\u001b[0m\u001b[0;34m(\u001b[0m\u001b[0madmin_concat_out\u001b[0m\u001b[0;34m*\u001b[0m\u001b[0mitem_concat_out\u001b[0m\u001b[0;34m,\u001b[0m\u001b[0;36m1\u001b[0m\u001b[0;34m)\u001b[0m\u001b[0;34m)\u001b[0m    \u001b[0;31m# bs x 1\u001b[0m\u001b[0;34m\u001b[0m\u001b[0;34m\u001b[0m\u001b[0m\n",
      "\u001b[0m\u001b[0;32m---> 51 \u001b[0;31m        \u001b[0;32mreturn\u001b[0m \u001b[0mout\u001b[0m\u001b[0;34m\u001b[0m\u001b[0;34m\u001b[0m\u001b[0m\n",
      "\u001b[0m\n",
      "ipdb> out.shape\n",
      "torch.Size([32])\n",
      "ipdb> out[:4]\n",
      "tensor([0.4489, 0.0275, 0.5566, 0.2115], grad_fn=<SliceBackward>)\n",
      "ipdb> tmp2 = torch.sigmoid(torch.sum(admin_concat_out*item_concat_out,1))\n",
      "ipdb> tmp2[:4]\n",
      "tensor([0.4489, 0.0275, 0.5566, 0.2115], grad_fn=<SliceBackward>)\n",
      "ipdb> q\n"
     ]
    },
    {
     "ename": "BdbQuit",
     "evalue": "",
     "output_type": "error",
     "traceback": [
      "\u001b[0;31m---------------------------------------------------------------------------\u001b[0m",
      "\u001b[0;31mBdbQuit\u001b[0m                                   Traceback (most recent call last)",
      "\u001b[0;32m<ipython-input-185-82bb04663f65>\u001b[0m in \u001b[0;36m<module>\u001b[0;34m\u001b[0m\n\u001b[1;32m      5\u001b[0m     \u001b[0madmin\u001b[0m \u001b[0;34m=\u001b[0m \u001b[0mbatch_input\u001b[0m\u001b[0;34m[\u001b[0m\u001b[0;36m0\u001b[0m\u001b[0;34m]\u001b[0m\u001b[0;34m.\u001b[0m\u001b[0mto\u001b[0m\u001b[0;34m(\u001b[0m\u001b[0mdevice\u001b[0m\u001b[0;34m)\u001b[0m\u001b[0;34m\u001b[0m\u001b[0;34m\u001b[0m\u001b[0m\n\u001b[1;32m      6\u001b[0m     \u001b[0mitem\u001b[0m \u001b[0;34m=\u001b[0m \u001b[0mbatch_input\u001b[0m\u001b[0;34m[\u001b[0m\u001b[0;36m1\u001b[0m\u001b[0;34m]\u001b[0m\u001b[0;34m.\u001b[0m\u001b[0mto\u001b[0m\u001b[0;34m(\u001b[0m\u001b[0mdevice\u001b[0m\u001b[0;34m)\u001b[0m\u001b[0;34m\u001b[0m\u001b[0;34m\u001b[0m\u001b[0m\n\u001b[0;32m----> 7\u001b[0;31m     \u001b[0mmodel\u001b[0m\u001b[0;34m(\u001b[0m\u001b[0madmin\u001b[0m\u001b[0;34m,\u001b[0m \u001b[0mitem\u001b[0m\u001b[0;34m)\u001b[0m\u001b[0;34m\u001b[0m\u001b[0;34m\u001b[0m\u001b[0m\n\u001b[0m",
      "\u001b[0;32m/home/ai/anaconda3/lib/python3.7/site-packages/torch/nn/modules/module.py\u001b[0m in \u001b[0;36m__call__\u001b[0;34m(self, *input, **kwargs)\u001b[0m\n\u001b[1;32m    491\u001b[0m             \u001b[0mresult\u001b[0m \u001b[0;34m=\u001b[0m \u001b[0mself\u001b[0m\u001b[0;34m.\u001b[0m\u001b[0m_slow_forward\u001b[0m\u001b[0;34m(\u001b[0m\u001b[0;34m*\u001b[0m\u001b[0minput\u001b[0m\u001b[0;34m,\u001b[0m \u001b[0;34m**\u001b[0m\u001b[0mkwargs\u001b[0m\u001b[0;34m)\u001b[0m\u001b[0;34m\u001b[0m\u001b[0;34m\u001b[0m\u001b[0m\n\u001b[1;32m    492\u001b[0m         \u001b[0;32melse\u001b[0m\u001b[0;34m:\u001b[0m\u001b[0;34m\u001b[0m\u001b[0;34m\u001b[0m\u001b[0m\n\u001b[0;32m--> 493\u001b[0;31m             \u001b[0mresult\u001b[0m \u001b[0;34m=\u001b[0m \u001b[0mself\u001b[0m\u001b[0;34m.\u001b[0m\u001b[0mforward\u001b[0m\u001b[0;34m(\u001b[0m\u001b[0;34m*\u001b[0m\u001b[0minput\u001b[0m\u001b[0;34m,\u001b[0m \u001b[0;34m**\u001b[0m\u001b[0mkwargs\u001b[0m\u001b[0;34m)\u001b[0m\u001b[0;34m\u001b[0m\u001b[0;34m\u001b[0m\u001b[0m\n\u001b[0m\u001b[1;32m    494\u001b[0m         \u001b[0;32mfor\u001b[0m \u001b[0mhook\u001b[0m \u001b[0;32min\u001b[0m \u001b[0mself\u001b[0m\u001b[0;34m.\u001b[0m\u001b[0m_forward_hooks\u001b[0m\u001b[0;34m.\u001b[0m\u001b[0mvalues\u001b[0m\u001b[0;34m(\u001b[0m\u001b[0;34m)\u001b[0m\u001b[0;34m:\u001b[0m\u001b[0;34m\u001b[0m\u001b[0;34m\u001b[0m\u001b[0m\n\u001b[1;32m    495\u001b[0m             \u001b[0mhook_result\u001b[0m \u001b[0;34m=\u001b[0m \u001b[0mhook\u001b[0m\u001b[0;34m(\u001b[0m\u001b[0mself\u001b[0m\u001b[0;34m,\u001b[0m \u001b[0minput\u001b[0m\u001b[0;34m,\u001b[0m \u001b[0mresult\u001b[0m\u001b[0;34m)\u001b[0m\u001b[0;34m\u001b[0m\u001b[0;34m\u001b[0m\u001b[0m\n",
      "\u001b[0;32m<ipython-input-182-9f6b4f06e0ba>\u001b[0m in \u001b[0;36mforward\u001b[0;34m(self, admin, item)\u001b[0m\n\u001b[1;32m     49\u001b[0m         \u001b[0mitem_concat_out\u001b[0m \u001b[0;34m=\u001b[0m \u001b[0mself\u001b[0m\u001b[0;34m.\u001b[0m\u001b[0mitem_fc\u001b[0m\u001b[0;34m(\u001b[0m\u001b[0mitem_concat\u001b[0m\u001b[0;34m)\u001b[0m  \u001b[0;31m# bs x 256\u001b[0m\u001b[0;34m\u001b[0m\u001b[0;34m\u001b[0m\u001b[0m\n\u001b[1;32m     50\u001b[0m         \u001b[0mout\u001b[0m \u001b[0;34m=\u001b[0m \u001b[0mF\u001b[0m\u001b[0;34m.\u001b[0m\u001b[0msigmoid\u001b[0m\u001b[0;34m(\u001b[0m\u001b[0mtorch\u001b[0m\u001b[0;34m.\u001b[0m\u001b[0msum\u001b[0m\u001b[0;34m(\u001b[0m\u001b[0madmin_concat_out\u001b[0m\u001b[0;34m*\u001b[0m\u001b[0mitem_concat_out\u001b[0m\u001b[0;34m,\u001b[0m\u001b[0;36m1\u001b[0m\u001b[0;34m)\u001b[0m\u001b[0;34m)\u001b[0m    \u001b[0;31m# bs x 1\u001b[0m\u001b[0;34m\u001b[0m\u001b[0;34m\u001b[0m\u001b[0m\n\u001b[0;32m---> 51\u001b[0;31m         \u001b[0;32mreturn\u001b[0m \u001b[0mout\u001b[0m\u001b[0;34m\u001b[0m\u001b[0;34m\u001b[0m\u001b[0m\n\u001b[0m",
      "\u001b[0;32m<ipython-input-182-9f6b4f06e0ba>\u001b[0m in \u001b[0;36mforward\u001b[0;34m(self, admin, item)\u001b[0m\n\u001b[1;32m     49\u001b[0m         \u001b[0mitem_concat_out\u001b[0m \u001b[0;34m=\u001b[0m \u001b[0mself\u001b[0m\u001b[0;34m.\u001b[0m\u001b[0mitem_fc\u001b[0m\u001b[0;34m(\u001b[0m\u001b[0mitem_concat\u001b[0m\u001b[0;34m)\u001b[0m  \u001b[0;31m# bs x 256\u001b[0m\u001b[0;34m\u001b[0m\u001b[0;34m\u001b[0m\u001b[0m\n\u001b[1;32m     50\u001b[0m         \u001b[0mout\u001b[0m \u001b[0;34m=\u001b[0m \u001b[0mF\u001b[0m\u001b[0;34m.\u001b[0m\u001b[0msigmoid\u001b[0m\u001b[0;34m(\u001b[0m\u001b[0mtorch\u001b[0m\u001b[0;34m.\u001b[0m\u001b[0msum\u001b[0m\u001b[0;34m(\u001b[0m\u001b[0madmin_concat_out\u001b[0m\u001b[0;34m*\u001b[0m\u001b[0mitem_concat_out\u001b[0m\u001b[0;34m,\u001b[0m\u001b[0;36m1\u001b[0m\u001b[0;34m)\u001b[0m\u001b[0;34m)\u001b[0m    \u001b[0;31m# bs x 1\u001b[0m\u001b[0;34m\u001b[0m\u001b[0;34m\u001b[0m\u001b[0m\n\u001b[0;32m---> 51\u001b[0;31m         \u001b[0;32mreturn\u001b[0m \u001b[0mout\u001b[0m\u001b[0;34m\u001b[0m\u001b[0;34m\u001b[0m\u001b[0m\n\u001b[0m",
      "\u001b[0;32m/home/ai/anaconda3/lib/python3.7/bdb.py\u001b[0m in \u001b[0;36mtrace_dispatch\u001b[0;34m(self, frame, event, arg)\u001b[0m\n\u001b[1;32m     86\u001b[0m             \u001b[0;32mreturn\u001b[0m \u001b[0;31m# None\u001b[0m\u001b[0;34m\u001b[0m\u001b[0;34m\u001b[0m\u001b[0m\n\u001b[1;32m     87\u001b[0m         \u001b[0;32mif\u001b[0m \u001b[0mevent\u001b[0m \u001b[0;34m==\u001b[0m \u001b[0;34m'line'\u001b[0m\u001b[0;34m:\u001b[0m\u001b[0;34m\u001b[0m\u001b[0;34m\u001b[0m\u001b[0m\n\u001b[0;32m---> 88\u001b[0;31m             \u001b[0;32mreturn\u001b[0m \u001b[0mself\u001b[0m\u001b[0;34m.\u001b[0m\u001b[0mdispatch_line\u001b[0m\u001b[0;34m(\u001b[0m\u001b[0mframe\u001b[0m\u001b[0;34m)\u001b[0m\u001b[0;34m\u001b[0m\u001b[0;34m\u001b[0m\u001b[0m\n\u001b[0m\u001b[1;32m     89\u001b[0m         \u001b[0;32mif\u001b[0m \u001b[0mevent\u001b[0m \u001b[0;34m==\u001b[0m \u001b[0;34m'call'\u001b[0m\u001b[0;34m:\u001b[0m\u001b[0;34m\u001b[0m\u001b[0;34m\u001b[0m\u001b[0m\n\u001b[1;32m     90\u001b[0m             \u001b[0;32mreturn\u001b[0m \u001b[0mself\u001b[0m\u001b[0;34m.\u001b[0m\u001b[0mdispatch_call\u001b[0m\u001b[0;34m(\u001b[0m\u001b[0mframe\u001b[0m\u001b[0;34m,\u001b[0m \u001b[0marg\u001b[0m\u001b[0;34m)\u001b[0m\u001b[0;34m\u001b[0m\u001b[0;34m\u001b[0m\u001b[0m\n",
      "\u001b[0;32m/home/ai/anaconda3/lib/python3.7/bdb.py\u001b[0m in \u001b[0;36mdispatch_line\u001b[0;34m(self, frame)\u001b[0m\n\u001b[1;32m    111\u001b[0m         \u001b[0;32mif\u001b[0m \u001b[0mself\u001b[0m\u001b[0;34m.\u001b[0m\u001b[0mstop_here\u001b[0m\u001b[0;34m(\u001b[0m\u001b[0mframe\u001b[0m\u001b[0;34m)\u001b[0m \u001b[0;32mor\u001b[0m \u001b[0mself\u001b[0m\u001b[0;34m.\u001b[0m\u001b[0mbreak_here\u001b[0m\u001b[0;34m(\u001b[0m\u001b[0mframe\u001b[0m\u001b[0;34m)\u001b[0m\u001b[0;34m:\u001b[0m\u001b[0;34m\u001b[0m\u001b[0;34m\u001b[0m\u001b[0m\n\u001b[1;32m    112\u001b[0m             \u001b[0mself\u001b[0m\u001b[0;34m.\u001b[0m\u001b[0muser_line\u001b[0m\u001b[0;34m(\u001b[0m\u001b[0mframe\u001b[0m\u001b[0;34m)\u001b[0m\u001b[0;34m\u001b[0m\u001b[0;34m\u001b[0m\u001b[0m\n\u001b[0;32m--> 113\u001b[0;31m             \u001b[0;32mif\u001b[0m \u001b[0mself\u001b[0m\u001b[0;34m.\u001b[0m\u001b[0mquitting\u001b[0m\u001b[0;34m:\u001b[0m \u001b[0;32mraise\u001b[0m \u001b[0mBdbQuit\u001b[0m\u001b[0;34m\u001b[0m\u001b[0;34m\u001b[0m\u001b[0m\n\u001b[0m\u001b[1;32m    114\u001b[0m         \u001b[0;32mreturn\u001b[0m \u001b[0mself\u001b[0m\u001b[0;34m.\u001b[0m\u001b[0mtrace_dispatch\u001b[0m\u001b[0;34m\u001b[0m\u001b[0;34m\u001b[0m\u001b[0m\n\u001b[1;32m    115\u001b[0m \u001b[0;34m\u001b[0m\u001b[0m\n",
      "\u001b[0;31mBdbQuit\u001b[0m: "
     ]
    }
   ],
   "source": [
    "model.to(device)\n",
    "model.eval()\n",
    "for i, batch_input in enumerate(data_loader):\n",
    "    ipdb.set_trace()\n",
    "    admin = batch_input[0].to(device)\n",
    "    item = batch_input[1].to(device)\n",
    "    model(admin, item)"
   ]
  },
  {
   "cell_type": "code",
   "execution_count": null,
   "metadata": {},
   "outputs": [],
   "source": []
  }
 ],
 "metadata": {
  "kernelspec": {
   "display_name": "Python 3",
   "language": "python",
   "name": "python3"
  },
  "language_info": {
   "codemirror_mode": {
    "name": "ipython",
    "version": 3
   },
   "file_extension": ".py",
   "mimetype": "text/x-python",
   "name": "python",
   "nbconvert_exporter": "python",
   "pygments_lexer": "ipython3",
   "version": "3.7.3"
  }
 },
 "nbformat": 4,
 "nbformat_minor": 2
}
