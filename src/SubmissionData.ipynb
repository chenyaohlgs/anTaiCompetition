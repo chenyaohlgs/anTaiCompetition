{
 "cells": [
  {
   "cell_type": "markdown",
   "metadata": {},
   "source": [
    "# 对得到的候选数据集Admin_id和Item_id进行清洗并提取特征信息以放入模型中进行推理"
   ]
  },
  {
   "cell_type": "markdown",
   "metadata": {},
   "source": [
    "## 1. 读取🐟佬提交数据生成特征，之后使用网络进行重新排序"
   ]
  },
  {
   "cell_type": "markdown",
   "metadata": {},
   "source": [
    "使用测试集生成item特征信息，主要体现在num_sell上面"
   ]
  },
  {
   "cell_type": "code",
   "execution_count": 3,
   "metadata": {},
   "outputs": [],
   "source": [
    "import pandas as pd\n",
    "import numpy as np\n",
    "import pickle\n",
    "import os"
   ]
  },
  {
   "cell_type": "code",
   "execution_count": null,
   "metadata": {},
   "outputs": [],
   "source": []
  },
  {
   "cell_type": "code",
   "execution_count": 156,
   "metadata": {},
   "outputs": [],
   "source": [
    "yulao_sub = pd.read_csv('../submission.csv',header=None)"
   ]
  },
  {
   "cell_type": "code",
   "execution_count": 158,
   "metadata": {},
   "outputs": [
    {
     "data": {
      "text/plain": [
       "(11398, 31)"
      ]
     },
     "execution_count": 158,
     "metadata": {},
     "output_type": "execute_result"
    }
   ],
   "source": [
    "yulao_sub.shape"
   ]
  },
  {
   "cell_type": "code",
   "execution_count": 340,
   "metadata": {},
   "outputs": [],
   "source": [
    "# 将🐟佬的提交信息提取出来并构成dataframe格式，将用户信息扩充到30个维度\n",
    "item_id_name = yulao_sub.iloc[:,1:].values.flatten()\n",
    "admin_id_name = np.repeat(yulao_sub[0].values,30)\n",
    "yulao_sub_feature = pd.DataFrame(columns=['buyer_admin_id','item_id'])\n",
    "yulao_sub_feature['buyer_admin_id'] = admin_id_name \n",
    "yulao_sub_feature['item_id'] = item_id_name"
   ]
  },
  {
   "cell_type": "code",
   "execution_count": 341,
   "metadata": {},
   "outputs": [
    {
     "data": {
      "text/html": [
       "<div>\n",
       "<style scoped>\n",
       "    .dataframe tbody tr th:only-of-type {\n",
       "        vertical-align: middle;\n",
       "    }\n",
       "\n",
       "    .dataframe tbody tr th {\n",
       "        vertical-align: top;\n",
       "    }\n",
       "\n",
       "    .dataframe thead th {\n",
       "        text-align: right;\n",
       "    }\n",
       "</style>\n",
       "<table border=\"1\" class=\"dataframe\">\n",
       "  <thead>\n",
       "    <tr style=\"text-align: right;\">\n",
       "      <th></th>\n",
       "      <th>buyer_admin_id</th>\n",
       "      <th>item_id</th>\n",
       "    </tr>\n",
       "  </thead>\n",
       "  <tbody>\n",
       "    <tr>\n",
       "      <th>0</th>\n",
       "      <td>152</td>\n",
       "      <td>8410857</td>\n",
       "    </tr>\n",
       "    <tr>\n",
       "      <th>1</th>\n",
       "      <td>152</td>\n",
       "      <td>7937154</td>\n",
       "    </tr>\n",
       "  </tbody>\n",
       "</table>\n",
       "</div>"
      ],
      "text/plain": [
       "   buyer_admin_id  item_id\n",
       "0             152  8410857\n",
       "1             152  7937154"
      ]
     },
     "execution_count": 341,
     "metadata": {},
     "output_type": "execute_result"
    }
   ],
   "source": [
    "yulao_sub_feature[:2]"
   ]
  },
  {
   "cell_type": "markdown",
   "metadata": {},
   "source": [
    "### Merge客户信息\n",
    "\n",
    "处理鱼佬admin_id 和item_id数据"
   ]
  },
  {
   "cell_type": "markdown",
   "metadata": {},
   "source": [
    "+ 首先查看客户信息，客户信息可能存在缺失情况"
   ]
  },
  {
   "cell_type": "markdown",
   "metadata": {},
   "source": [
    "使用测试集中的数据作为商品特征"
   ]
  },
  {
   "cell_type": "code",
   "execution_count": 342,
   "metadata": {},
   "outputs": [],
   "source": [
    "# 之前生成的测试集上用户的特征信息，根据用户在测试集上的购买记录生成得到，已经去除了用户购买商品不在商品表中的数据\n",
    "with open('features/test_admin_features.pkl','rb') as f:\n",
    "    test_admin_features = pickle.load(f)  "
   ]
  },
  {
   "cell_type": "code",
   "execution_count": 343,
   "metadata": {},
   "outputs": [
    {
     "name": "stdout",
     "output_type": "stream",
     "text": [
      "缺失用户id为： [ 262400  495938  713555 1913825 2101357]\n"
     ]
    }
   ],
   "source": [
    "# 合并信息\n",
    "yulao_sub_feature = pd.merge(yulao_sub_feature, test_admin_features, on='buyer_admin_id',how='outer')\n",
    "# 缺失用户ID信息\n",
    "print('缺失用户id为： %s'%yulao_sub_feature[yulao_sub_feature.isna().values==True]['buyer_admin_id'].unique())"
   ]
  },
  {
   "cell_type": "code",
   "execution_count": 354,
   "metadata": {},
   "outputs": [
    {
     "data": {
      "text/plain": [
       "(341940, 15)"
      ]
     },
     "execution_count": 354,
     "metadata": {},
     "output_type": "execute_result"
    }
   ],
   "source": [
    "yulao_sub_feature.shape"
   ]
  },
  {
   "cell_type": "code",
   "execution_count": 347,
   "metadata": {},
   "outputs": [
    {
     "data": {
      "text/html": [
       "<div>\n",
       "<style scoped>\n",
       "    .dataframe tbody tr th:only-of-type {\n",
       "        vertical-align: middle;\n",
       "    }\n",
       "\n",
       "    .dataframe tbody tr th {\n",
       "        vertical-align: top;\n",
       "    }\n",
       "\n",
       "    .dataframe thead th {\n",
       "        text-align: right;\n",
       "    }\n",
       "</style>\n",
       "<table border=\"1\" class=\"dataframe\">\n",
       "  <thead>\n",
       "    <tr style=\"text-align: right;\">\n",
       "      <th></th>\n",
       "      <th>buyer_admin_id</th>\n",
       "      <th>item_id</th>\n",
       "      <th>num_shop</th>\n",
       "      <th>num_item</th>\n",
       "      <th>pop_unpop_rate</th>\n",
       "      <th>item_price_sum</th>\n",
       "      <th>item_price_max</th>\n",
       "      <th>item_price_min</th>\n",
       "      <th>item_price_mean</th>\n",
       "      <th>item_price_median</th>\n",
       "      <th>num_item_cate</th>\n",
       "      <th>num_store_cate</th>\n",
       "      <th>shoptime_1</th>\n",
       "      <th>shoptime_2</th>\n",
       "      <th>shoptime_3</th>\n",
       "    </tr>\n",
       "  </thead>\n",
       "  <tbody>\n",
       "    <tr>\n",
       "      <th>0</th>\n",
       "      <td>152</td>\n",
       "      <td>8410857</td>\n",
       "      <td>7.0</td>\n",
       "      <td>7.0</td>\n",
       "      <td>0.0</td>\n",
       "      <td>14538.0</td>\n",
       "      <td>7479.0</td>\n",
       "      <td>200.0</td>\n",
       "      <td>2076.857143</td>\n",
       "      <td>1279.0</td>\n",
       "      <td>4.0</td>\n",
       "      <td>7.0</td>\n",
       "      <td>7.0</td>\n",
       "      <td>0.0</td>\n",
       "      <td>0.0</td>\n",
       "    </tr>\n",
       "    <tr>\n",
       "      <th>1</th>\n",
       "      <td>152</td>\n",
       "      <td>7937154</td>\n",
       "      <td>7.0</td>\n",
       "      <td>7.0</td>\n",
       "      <td>0.0</td>\n",
       "      <td>14538.0</td>\n",
       "      <td>7479.0</td>\n",
       "      <td>200.0</td>\n",
       "      <td>2076.857143</td>\n",
       "      <td>1279.0</td>\n",
       "      <td>4.0</td>\n",
       "      <td>7.0</td>\n",
       "      <td>7.0</td>\n",
       "      <td>0.0</td>\n",
       "      <td>0.0</td>\n",
       "    </tr>\n",
       "    <tr>\n",
       "      <th>2</th>\n",
       "      <td>152</td>\n",
       "      <td>8472223</td>\n",
       "      <td>7.0</td>\n",
       "      <td>7.0</td>\n",
       "      <td>0.0</td>\n",
       "      <td>14538.0</td>\n",
       "      <td>7479.0</td>\n",
       "      <td>200.0</td>\n",
       "      <td>2076.857143</td>\n",
       "      <td>1279.0</td>\n",
       "      <td>4.0</td>\n",
       "      <td>7.0</td>\n",
       "      <td>7.0</td>\n",
       "      <td>0.0</td>\n",
       "      <td>0.0</td>\n",
       "    </tr>\n",
       "    <tr>\n",
       "      <th>3</th>\n",
       "      <td>152</td>\n",
       "      <td>4016066</td>\n",
       "      <td>7.0</td>\n",
       "      <td>7.0</td>\n",
       "      <td>0.0</td>\n",
       "      <td>14538.0</td>\n",
       "      <td>7479.0</td>\n",
       "      <td>200.0</td>\n",
       "      <td>2076.857143</td>\n",
       "      <td>1279.0</td>\n",
       "      <td>4.0</td>\n",
       "      <td>7.0</td>\n",
       "      <td>7.0</td>\n",
       "      <td>0.0</td>\n",
       "      <td>0.0</td>\n",
       "    </tr>\n",
       "  </tbody>\n",
       "</table>\n",
       "</div>"
      ],
      "text/plain": [
       "   buyer_admin_id  item_id  num_shop  num_item  pop_unpop_rate  \\\n",
       "0             152  8410857       7.0       7.0             0.0   \n",
       "1             152  7937154       7.0       7.0             0.0   \n",
       "2             152  8472223       7.0       7.0             0.0   \n",
       "3             152  4016066       7.0       7.0             0.0   \n",
       "\n",
       "   item_price_sum  item_price_max  item_price_min  item_price_mean  \\\n",
       "0         14538.0          7479.0           200.0      2076.857143   \n",
       "1         14538.0          7479.0           200.0      2076.857143   \n",
       "2         14538.0          7479.0           200.0      2076.857143   \n",
       "3         14538.0          7479.0           200.0      2076.857143   \n",
       "\n",
       "   item_price_median  num_item_cate  num_store_cate  shoptime_1  shoptime_2  \\\n",
       "0             1279.0            4.0             7.0         7.0         0.0   \n",
       "1             1279.0            4.0             7.0         7.0         0.0   \n",
       "2             1279.0            4.0             7.0         7.0         0.0   \n",
       "3             1279.0            4.0             7.0         7.0         0.0   \n",
       "\n",
       "   shoptime_3  \n",
       "0         0.0  \n",
       "1         0.0  \n",
       "2         0.0  \n",
       "3         0.0  "
      ]
     },
     "execution_count": 347,
     "metadata": {},
     "output_type": "execute_result"
    }
   ],
   "source": [
    "yulao_sub_feature[:4]  # 合并用户信息之后的数据"
   ]
  },
  {
   "cell_type": "code",
   "execution_count": 349,
   "metadata": {},
   "outputs": [
    {
     "data": {
      "text/plain": [
       "buyer_admin_id         0\n",
       "item_id                0\n",
       "num_shop             150\n",
       "num_item             150\n",
       "pop_unpop_rate       150\n",
       "item_price_sum       150\n",
       "item_price_max       150\n",
       "item_price_min       150\n",
       "item_price_mean      150\n",
       "item_price_median    150\n",
       "num_item_cate        150\n",
       "num_store_cate       150\n",
       "shoptime_1           150\n",
       "shoptime_2           150\n",
       "shoptime_3           150\n",
       "dtype: int64"
      ]
     },
     "execution_count": 349,
     "metadata": {},
     "output_type": "execute_result"
    }
   ],
   "source": [
    "# 统计缺失值情况\n",
    "yulao_sub_feature.isna().sum()"
   ]
  },
  {
   "cell_type": "markdown",
   "metadata": {},
   "source": [
    " 读取原始test的csv文件，查看缺失用户的购买记录"
   ]
  },
  {
   "cell_type": "code",
   "execution_count": 344,
   "metadata": {},
   "outputs": [],
   "source": [
    "test_df_src = pd.read_csv('../csv/Antai_AE_round1_test_20190626.csv') "
   ]
  },
  {
   "cell_type": "code",
   "execution_count": 345,
   "metadata": {},
   "outputs": [
    {
     "data": {
      "text/html": [
       "<div>\n",
       "<style scoped>\n",
       "    .dataframe tbody tr th:only-of-type {\n",
       "        vertical-align: middle;\n",
       "    }\n",
       "\n",
       "    .dataframe tbody tr th {\n",
       "        vertical-align: top;\n",
       "    }\n",
       "\n",
       "    .dataframe thead th {\n",
       "        text-align: right;\n",
       "    }\n",
       "</style>\n",
       "<table border=\"1\" class=\"dataframe\">\n",
       "  <thead>\n",
       "    <tr style=\"text-align: right;\">\n",
       "      <th></th>\n",
       "      <th>buyer_country_id</th>\n",
       "      <th>buyer_admin_id</th>\n",
       "      <th>item_id</th>\n",
       "      <th>create_order_time</th>\n",
       "      <th>irank</th>\n",
       "    </tr>\n",
       "  </thead>\n",
       "  <tbody>\n",
       "    <tr>\n",
       "      <th>88847</th>\n",
       "      <td>yy</td>\n",
       "      <td>262400</td>\n",
       "      <td>10045561</td>\n",
       "      <td>2018-08-21 12:36:04</td>\n",
       "      <td>5</td>\n",
       "    </tr>\n",
       "    <tr>\n",
       "      <th>88848</th>\n",
       "      <td>yy</td>\n",
       "      <td>262400</td>\n",
       "      <td>10045561</td>\n",
       "      <td>2018-08-21 12:36:04</td>\n",
       "      <td>3</td>\n",
       "    </tr>\n",
       "    <tr>\n",
       "      <th>88849</th>\n",
       "      <td>yy</td>\n",
       "      <td>262400</td>\n",
       "      <td>10045561</td>\n",
       "      <td>2018-08-21 12:36:04</td>\n",
       "      <td>6</td>\n",
       "    </tr>\n",
       "    <tr>\n",
       "      <th>88850</th>\n",
       "      <td>yy</td>\n",
       "      <td>262400</td>\n",
       "      <td>10045561</td>\n",
       "      <td>2018-08-21 12:36:04</td>\n",
       "      <td>8</td>\n",
       "    </tr>\n",
       "    <tr>\n",
       "      <th>88851</th>\n",
       "      <td>yy</td>\n",
       "      <td>262400</td>\n",
       "      <td>10045561</td>\n",
       "      <td>2018-08-21 12:36:04</td>\n",
       "      <td>13</td>\n",
       "    </tr>\n",
       "    <tr>\n",
       "      <th>88852</th>\n",
       "      <td>yy</td>\n",
       "      <td>262400</td>\n",
       "      <td>10045561</td>\n",
       "      <td>2018-08-21 12:36:04</td>\n",
       "      <td>9</td>\n",
       "    </tr>\n",
       "    <tr>\n",
       "      <th>88853</th>\n",
       "      <td>yy</td>\n",
       "      <td>262400</td>\n",
       "      <td>10045561</td>\n",
       "      <td>2018-08-21 12:36:04</td>\n",
       "      <td>4</td>\n",
       "    </tr>\n",
       "    <tr>\n",
       "      <th>88854</th>\n",
       "      <td>yy</td>\n",
       "      <td>262400</td>\n",
       "      <td>10045561</td>\n",
       "      <td>2018-08-21 12:36:04</td>\n",
       "      <td>2</td>\n",
       "    </tr>\n",
       "    <tr>\n",
       "      <th>88855</th>\n",
       "      <td>yy</td>\n",
       "      <td>262400</td>\n",
       "      <td>10045561</td>\n",
       "      <td>2018-08-21 12:36:04</td>\n",
       "      <td>11</td>\n",
       "    </tr>\n",
       "    <tr>\n",
       "      <th>88856</th>\n",
       "      <td>yy</td>\n",
       "      <td>262400</td>\n",
       "      <td>10045561</td>\n",
       "      <td>2018-08-21 12:36:04</td>\n",
       "      <td>12</td>\n",
       "    </tr>\n",
       "    <tr>\n",
       "      <th>88857</th>\n",
       "      <td>yy</td>\n",
       "      <td>262400</td>\n",
       "      <td>10045561</td>\n",
       "      <td>2018-08-21 12:36:04</td>\n",
       "      <td>7</td>\n",
       "    </tr>\n",
       "    <tr>\n",
       "      <th>88858</th>\n",
       "      <td>yy</td>\n",
       "      <td>262400</td>\n",
       "      <td>10045561</td>\n",
       "      <td>2018-08-21 12:36:04</td>\n",
       "      <td>10</td>\n",
       "    </tr>\n",
       "  </tbody>\n",
       "</table>\n",
       "</div>"
      ],
      "text/plain": [
       "      buyer_country_id  buyer_admin_id   item_id    create_order_time  irank\n",
       "88847               yy          262400  10045561  2018-08-21 12:36:04      5\n",
       "88848               yy          262400  10045561  2018-08-21 12:36:04      3\n",
       "88849               yy          262400  10045561  2018-08-21 12:36:04      6\n",
       "88850               yy          262400  10045561  2018-08-21 12:36:04      8\n",
       "88851               yy          262400  10045561  2018-08-21 12:36:04     13\n",
       "88852               yy          262400  10045561  2018-08-21 12:36:04      9\n",
       "88853               yy          262400  10045561  2018-08-21 12:36:04      4\n",
       "88854               yy          262400  10045561  2018-08-21 12:36:04      2\n",
       "88855               yy          262400  10045561  2018-08-21 12:36:04     11\n",
       "88856               yy          262400  10045561  2018-08-21 12:36:04     12\n",
       "88857               yy          262400  10045561  2018-08-21 12:36:04      7\n",
       "88858               yy          262400  10045561  2018-08-21 12:36:04     10"
      ]
     },
     "execution_count": 345,
     "metadata": {},
     "output_type": "execute_result"
    }
   ],
   "source": [
    "test_df_src[test_df_src['buyer_admin_id'] == 262400]"
   ]
  },
  {
   "cell_type": "code",
   "execution_count": 346,
   "metadata": {},
   "outputs": [
    {
     "data": {
      "text/html": [
       "<div>\n",
       "<style scoped>\n",
       "    .dataframe tbody tr th:only-of-type {\n",
       "        vertical-align: middle;\n",
       "    }\n",
       "\n",
       "    .dataframe tbody tr th {\n",
       "        vertical-align: top;\n",
       "    }\n",
       "\n",
       "    .dataframe thead th {\n",
       "        text-align: right;\n",
       "    }\n",
       "</style>\n",
       "<table border=\"1\" class=\"dataframe\">\n",
       "  <thead>\n",
       "    <tr style=\"text-align: right;\">\n",
       "      <th></th>\n",
       "      <th>item_id</th>\n",
       "      <th>cate_id</th>\n",
       "      <th>store_id</th>\n",
       "      <th>item_price</th>\n",
       "    </tr>\n",
       "  </thead>\n",
       "  <tbody>\n",
       "  </tbody>\n",
       "</table>\n",
       "</div>"
      ],
      "text/plain": [
       "Empty DataFrame\n",
       "Columns: [item_id, cate_id, store_id, item_price]\n",
       "Index: []"
      ]
     },
     "execution_count": 346,
     "metadata": {},
     "output_type": "execute_result"
    }
   ],
   "source": [
    "item_df[item_df['item_id'] ==10045561]"
   ]
  },
  {
   "cell_type": "markdown",
   "metadata": {},
   "source": [
    "+ 小结：\n",
    "\n",
    "有五个顾客id为[262400,  495938,  713555, 1913825, 2101357]他们从头至尾只买了一件商品，且该商品没有出现在商品表中，所以可以直接推断这5个客户之后还是只买该商品"
   ]
  },
  {
   "cell_type": "markdown",
   "metadata": {},
   "source": [
    "这5个用户不用放入模型进行训练，所以直接删除缺失的admin_id信息"
   ]
  },
  {
   "cell_type": "code",
   "execution_count": 355,
   "metadata": {},
   "outputs": [],
   "source": [
    "yulao_sub_feature.dropna(axis=0, how='any', inplace=True)  # 删除缺失值所在的行"
   ]
  },
  {
   "cell_type": "code",
   "execution_count": 358,
   "metadata": {},
   "outputs": [
    {
     "data": {
      "text/plain": [
       "buyer_admin_id       0\n",
       "item_id              0\n",
       "num_shop             0\n",
       "num_item             0\n",
       "pop_unpop_rate       0\n",
       "item_price_sum       0\n",
       "item_price_max       0\n",
       "item_price_min       0\n",
       "item_price_mean      0\n",
       "item_price_median    0\n",
       "num_item_cate        0\n",
       "num_store_cate       0\n",
       "shoptime_1           0\n",
       "shoptime_2           0\n",
       "shoptime_3           0\n",
       "dtype: int64"
      ]
     },
     "execution_count": 358,
     "metadata": {},
     "output_type": "execute_result"
    }
   ],
   "source": [
    "yulao_sub_feature.isna().sum()"
   ]
  },
  {
   "cell_type": "markdown",
   "metadata": {},
   "source": [
    "### Merge商品信息"
   ]
  },
  {
   "cell_type": "code",
   "execution_count": 351,
   "metadata": {},
   "outputs": [],
   "source": [
    "# item 可能同时存在训练集和测试集中，所以同时读取两个数据集中item特征信息进行统计\n",
    "with open('features/test_item_features.pkl','rb') as f:\n",
    "    test_item_features = pickle.load(f)"
   ]
  },
  {
   "cell_type": "code",
   "execution_count": 265,
   "metadata": {},
   "outputs": [
    {
     "data": {
      "text/html": [
       "<div>\n",
       "<style scoped>\n",
       "    .dataframe tbody tr th:only-of-type {\n",
       "        vertical-align: middle;\n",
       "    }\n",
       "\n",
       "    .dataframe tbody tr th {\n",
       "        vertical-align: top;\n",
       "    }\n",
       "\n",
       "    .dataframe thead th {\n",
       "        text-align: right;\n",
       "    }\n",
       "</style>\n",
       "<table border=\"1\" class=\"dataframe\">\n",
       "  <thead>\n",
       "    <tr style=\"text-align: right;\">\n",
       "      <th></th>\n",
       "      <th>item_id</th>\n",
       "      <th>num_sell</th>\n",
       "      <th>cate_id</th>\n",
       "      <th>store_id</th>\n",
       "      <th>item_price</th>\n",
       "    </tr>\n",
       "  </thead>\n",
       "  <tbody>\n",
       "    <tr>\n",
       "      <th>0</th>\n",
       "      <td>189045</td>\n",
       "      <td>1</td>\n",
       "      <td>1506</td>\n",
       "      <td>11599</td>\n",
       "      <td>237</td>\n",
       "    </tr>\n",
       "    <tr>\n",
       "      <th>1</th>\n",
       "      <td>10713670</td>\n",
       "      <td>1</td>\n",
       "      <td>1911</td>\n",
       "      <td>39939</td>\n",
       "      <td>101</td>\n",
       "    </tr>\n",
       "    <tr>\n",
       "      <th>2</th>\n",
       "      <td>10546322</td>\n",
       "      <td>1</td>\n",
       "      <td>1553</td>\n",
       "      <td>65849</td>\n",
       "      <td>40</td>\n",
       "    </tr>\n",
       "  </tbody>\n",
       "</table>\n",
       "</div>"
      ],
      "text/plain": [
       "    item_id  num_sell  cate_id  store_id  item_price\n",
       "0    189045         1     1506     11599         237\n",
       "1  10713670         1     1911     39939         101\n",
       "2  10546322         1     1553     65849          40"
      ]
     },
     "execution_count": 265,
     "metadata": {},
     "output_type": "execute_result"
    }
   ],
   "source": [
    "test_item_features[:3]"
   ]
  },
  {
   "cell_type": "code",
   "execution_count": 359,
   "metadata": {},
   "outputs": [
    {
     "data": {
      "text/plain": [
       "buyer_admin_id         0\n",
       "item_id                0\n",
       "num_shop               0\n",
       "num_item               0\n",
       "pop_unpop_rate         0\n",
       "item_price_sum         0\n",
       "item_price_max         0\n",
       "item_price_min         0\n",
       "item_price_mean        0\n",
       "item_price_median      0\n",
       "num_item_cate          0\n",
       "num_store_cate         0\n",
       "shoptime_1             0\n",
       "shoptime_2             0\n",
       "shoptime_3             0\n",
       "num_sell             412\n",
       "cate_id              412\n",
       "store_id             412\n",
       "item_price           412\n",
       "dtype: int64"
      ]
     },
     "execution_count": 359,
     "metadata": {},
     "output_type": "execute_result"
    }
   ],
   "source": [
    "yulao_sub_feature_testitem = pd.merge(yulao_sub_feature,test_item_features,on='item_id',how='left') # merge训练集中商品信息\n",
    "yulao_sub_feature_testitem.isna().sum() # 统计缺失值"
   ]
  },
  {
   "cell_type": "code",
   "execution_count": 362,
   "metadata": {},
   "outputs": [],
   "source": [
    "missing_item  = yulao_sub_feature_testitem[yulao_sub_feature_testitem.isna().values==True]['item_id'].unique()"
   ]
  },
  {
   "cell_type": "code",
   "execution_count": 369,
   "metadata": {},
   "outputs": [
    {
     "name": "stdout",
     "output_type": "stream",
     "text": [
      "缺失商品的个数有： 298\n"
     ]
    }
   ],
   "source": [
    "print('缺失商品的个数有： %s'%missing_item.shape[0])"
   ]
  },
  {
   "cell_type": "code",
   "execution_count": 367,
   "metadata": {},
   "outputs": [
    {
     "data": {
      "text/plain": [
       "set()"
      ]
     },
     "execution_count": 367,
     "metadata": {},
     "output_type": "execute_result"
    }
   ],
   "source": [
    "set(item_df['item_id'].to_list()).intersection(set(missing_item))  # 所以缺失的这些商品信息就是在商品属性表中缺失的商品信息"
   ]
  },
  {
   "cell_type": "markdown",
   "metadata": {},
   "source": [
    "如果直接将这些缺失删除是否会影响admin的个数？"
   ]
  },
  {
   "cell_type": "code",
   "execution_count": 394,
   "metadata": {},
   "outputs": [],
   "source": [
    "yulao_sub_feature_testitem_drop = yulao_sub_feature_testitem.dropna(axis=0,how='any')"
   ]
  },
  {
   "cell_type": "markdown",
   "metadata": {},
   "source": [
    "查看缺失用户情况"
   ]
  },
  {
   "cell_type": "code",
   "execution_count": 377,
   "metadata": {},
   "outputs": [
    {
     "data": {
      "text/plain": [
       "set()"
      ]
     },
     "execution_count": 377,
     "metadata": {},
     "output_type": "execute_result"
    }
   ],
   "source": [
    "set(yulao_sub_feature_testitem_drop['buyer_admin_id'].unique()).difference(set(yulao_sub_feature_testitem['buyer_admin_id'].unique()))"
   ]
  },
  {
   "cell_type": "markdown",
   "metadata": {},
   "source": [
    "所以用户没有减少，只是减少了一些item，所以这里就将其进行删除，该商品不放入模型进行训练，在进行提交的时候这些商品就保持原来所在的位置"
   ]
  },
  {
   "cell_type": "code",
   "execution_count": 395,
   "metadata": {},
   "outputs": [
    {
     "data": {
      "text/html": [
       "<div>\n",
       "<style scoped>\n",
       "    .dataframe tbody tr th:only-of-type {\n",
       "        vertical-align: middle;\n",
       "    }\n",
       "\n",
       "    .dataframe tbody tr th {\n",
       "        vertical-align: top;\n",
       "    }\n",
       "\n",
       "    .dataframe thead th {\n",
       "        text-align: right;\n",
       "    }\n",
       "</style>\n",
       "<table border=\"1\" class=\"dataframe\">\n",
       "  <thead>\n",
       "    <tr style=\"text-align: right;\">\n",
       "      <th></th>\n",
       "      <th>buyer_admin_id</th>\n",
       "      <th>item_id</th>\n",
       "      <th>num_shop</th>\n",
       "      <th>num_item</th>\n",
       "      <th>pop_unpop_rate</th>\n",
       "      <th>item_price_sum</th>\n",
       "      <th>item_price_max</th>\n",
       "      <th>item_price_min</th>\n",
       "      <th>item_price_mean</th>\n",
       "      <th>item_price_median</th>\n",
       "      <th>num_item_cate</th>\n",
       "      <th>num_store_cate</th>\n",
       "      <th>shoptime_1</th>\n",
       "      <th>shoptime_2</th>\n",
       "      <th>shoptime_3</th>\n",
       "      <th>num_sell</th>\n",
       "      <th>cate_id</th>\n",
       "      <th>store_id</th>\n",
       "      <th>item_price</th>\n",
       "    </tr>\n",
       "  </thead>\n",
       "  <tbody>\n",
       "    <tr>\n",
       "      <th>0</th>\n",
       "      <td>152</td>\n",
       "      <td>8410857</td>\n",
       "      <td>7.0</td>\n",
       "      <td>7.0</td>\n",
       "      <td>0.0</td>\n",
       "      <td>14538.0</td>\n",
       "      <td>7479.0</td>\n",
       "      <td>200.0</td>\n",
       "      <td>2076.857143</td>\n",
       "      <td>1279.0</td>\n",
       "      <td>4.0</td>\n",
       "      <td>7.0</td>\n",
       "      <td>7.0</td>\n",
       "      <td>0.0</td>\n",
       "      <td>0.0</td>\n",
       "      <td>1.0</td>\n",
       "      <td>2686.0</td>\n",
       "      <td>6213.0</td>\n",
       "      <td>800.0</td>\n",
       "    </tr>\n",
       "    <tr>\n",
       "      <th>1</th>\n",
       "      <td>152</td>\n",
       "      <td>7937154</td>\n",
       "      <td>7.0</td>\n",
       "      <td>7.0</td>\n",
       "      <td>0.0</td>\n",
       "      <td>14538.0</td>\n",
       "      <td>7479.0</td>\n",
       "      <td>200.0</td>\n",
       "      <td>2076.857143</td>\n",
       "      <td>1279.0</td>\n",
       "      <td>4.0</td>\n",
       "      <td>7.0</td>\n",
       "      <td>7.0</td>\n",
       "      <td>0.0</td>\n",
       "      <td>0.0</td>\n",
       "      <td>1.0</td>\n",
       "      <td>2686.0</td>\n",
       "      <td>40393.0</td>\n",
       "      <td>1301.0</td>\n",
       "    </tr>\n",
       "    <tr>\n",
       "      <th>2</th>\n",
       "      <td>152</td>\n",
       "      <td>8472223</td>\n",
       "      <td>7.0</td>\n",
       "      <td>7.0</td>\n",
       "      <td>0.0</td>\n",
       "      <td>14538.0</td>\n",
       "      <td>7479.0</td>\n",
       "      <td>200.0</td>\n",
       "      <td>2076.857143</td>\n",
       "      <td>1279.0</td>\n",
       "      <td>4.0</td>\n",
       "      <td>7.0</td>\n",
       "      <td>7.0</td>\n",
       "      <td>0.0</td>\n",
       "      <td>0.0</td>\n",
       "      <td>1.0</td>\n",
       "      <td>2686.0</td>\n",
       "      <td>79168.0</td>\n",
       "      <td>1234.0</td>\n",
       "    </tr>\n",
       "    <tr>\n",
       "      <th>3</th>\n",
       "      <td>152</td>\n",
       "      <td>4016066</td>\n",
       "      <td>7.0</td>\n",
       "      <td>7.0</td>\n",
       "      <td>0.0</td>\n",
       "      <td>14538.0</td>\n",
       "      <td>7479.0</td>\n",
       "      <td>200.0</td>\n",
       "      <td>2076.857143</td>\n",
       "      <td>1279.0</td>\n",
       "      <td>4.0</td>\n",
       "      <td>7.0</td>\n",
       "      <td>7.0</td>\n",
       "      <td>0.0</td>\n",
       "      <td>0.0</td>\n",
       "      <td>1.0</td>\n",
       "      <td>3834.0</td>\n",
       "      <td>54345.0</td>\n",
       "      <td>2245.0</td>\n",
       "    </tr>\n",
       "  </tbody>\n",
       "</table>\n",
       "</div>"
      ],
      "text/plain": [
       "   buyer_admin_id  item_id  num_shop  num_item  pop_unpop_rate  \\\n",
       "0             152  8410857       7.0       7.0             0.0   \n",
       "1             152  7937154       7.0       7.0             0.0   \n",
       "2             152  8472223       7.0       7.0             0.0   \n",
       "3             152  4016066       7.0       7.0             0.0   \n",
       "\n",
       "   item_price_sum  item_price_max  item_price_min  item_price_mean  \\\n",
       "0         14538.0          7479.0           200.0      2076.857143   \n",
       "1         14538.0          7479.0           200.0      2076.857143   \n",
       "2         14538.0          7479.0           200.0      2076.857143   \n",
       "3         14538.0          7479.0           200.0      2076.857143   \n",
       "\n",
       "   item_price_median  num_item_cate  num_store_cate  shoptime_1  shoptime_2  \\\n",
       "0             1279.0            4.0             7.0         7.0         0.0   \n",
       "1             1279.0            4.0             7.0         7.0         0.0   \n",
       "2             1279.0            4.0             7.0         7.0         0.0   \n",
       "3             1279.0            4.0             7.0         7.0         0.0   \n",
       "\n",
       "   shoptime_3  num_sell  cate_id  store_id  item_price  \n",
       "0         0.0       1.0   2686.0    6213.0       800.0  \n",
       "1         0.0       1.0   2686.0   40393.0      1301.0  \n",
       "2         0.0       1.0   2686.0   79168.0      1234.0  \n",
       "3         0.0       1.0   3834.0   54345.0      2245.0  "
      ]
     },
     "execution_count": 395,
     "metadata": {},
     "output_type": "execute_result"
    }
   ],
   "source": [
    "yulao_sub_feature_testitem_drop[:4]"
   ]
  },
  {
   "cell_type": "code",
   "execution_count": 396,
   "metadata": {},
   "outputs": [
    {
     "data": {
      "text/plain": [
       "(11393,)"
      ]
     },
     "execution_count": 396,
     "metadata": {},
     "output_type": "execute_result"
    }
   ],
   "source": [
    "yulao_sub_feature_testitem_drop['buyer_admin_id'].unique().shape"
   ]
  },
  {
   "cell_type": "markdown",
   "metadata": {},
   "source": [
    "修改item数据类型并生成sub pickle文件"
   ]
  },
  {
   "cell_type": "code",
   "execution_count": 397,
   "metadata": {},
   "outputs": [
    {
     "name": "stderr",
     "output_type": "stream",
     "text": [
      "/home/ai/anaconda3/lib/python3.7/site-packages/ipykernel_launcher.py:1: SettingWithCopyWarning: \n",
      "A value is trying to be set on a copy of a slice from a DataFrame.\n",
      "Try using .loc[row_indexer,col_indexer] = value instead\n",
      "\n",
      "See the caveats in the documentation: http://pandas.pydata.org/pandas-docs/stable/indexing.html#indexing-view-versus-copy\n",
      "  \"\"\"Entry point for launching an IPython kernel.\n",
      "/home/ai/anaconda3/lib/python3.7/site-packages/ipykernel_launcher.py:2: SettingWithCopyWarning: \n",
      "A value is trying to be set on a copy of a slice from a DataFrame.\n",
      "Try using .loc[row_indexer,col_indexer] = value instead\n",
      "\n",
      "See the caveats in the documentation: http://pandas.pydata.org/pandas-docs/stable/indexing.html#indexing-view-versus-copy\n",
      "  \n",
      "/home/ai/anaconda3/lib/python3.7/site-packages/ipykernel_launcher.py:3: SettingWithCopyWarning: \n",
      "A value is trying to be set on a copy of a slice from a DataFrame.\n",
      "Try using .loc[row_indexer,col_indexer] = value instead\n",
      "\n",
      "See the caveats in the documentation: http://pandas.pydata.org/pandas-docs/stable/indexing.html#indexing-view-versus-copy\n",
      "  This is separate from the ipykernel package so we can avoid doing imports until\n",
      "/home/ai/anaconda3/lib/python3.7/site-packages/ipykernel_launcher.py:4: SettingWithCopyWarning: \n",
      "A value is trying to be set on a copy of a slice from a DataFrame.\n",
      "Try using .loc[row_indexer,col_indexer] = value instead\n",
      "\n",
      "See the caveats in the documentation: http://pandas.pydata.org/pandas-docs/stable/indexing.html#indexing-view-versus-copy\n",
      "  after removing the cwd from sys.path.\n"
     ]
    }
   ],
   "source": [
    "yulao_sub_feature_testitem_drop['item_price'] = yulao_sub_feature_testitem_drop['item_price'].astype(np.int32)\n",
    "yulao_sub_feature_testitem_drop['num_sell'] = yulao_sub_feature_testitem_drop['num_sell'].astype(np.int32)\n",
    "yulao_sub_feature_testitem_drop['cate_id'] = yulao_sub_feature_testitem_drop['cate_id'].astype(np.int32)\n",
    "yulao_sub_feature_testitem_drop['store_id'] = yulao_sub_feature_testitem_drop['store_id'].astype(np.int32)"
   ]
  },
  {
   "cell_type": "code",
   "execution_count": 398,
   "metadata": {},
   "outputs": [
    {
     "data": {
      "text/html": [
       "<div>\n",
       "<style scoped>\n",
       "    .dataframe tbody tr th:only-of-type {\n",
       "        vertical-align: middle;\n",
       "    }\n",
       "\n",
       "    .dataframe tbody tr th {\n",
       "        vertical-align: top;\n",
       "    }\n",
       "\n",
       "    .dataframe thead th {\n",
       "        text-align: right;\n",
       "    }\n",
       "</style>\n",
       "<table border=\"1\" class=\"dataframe\">\n",
       "  <thead>\n",
       "    <tr style=\"text-align: right;\">\n",
       "      <th></th>\n",
       "      <th>buyer_admin_id</th>\n",
       "      <th>item_id</th>\n",
       "      <th>num_shop</th>\n",
       "      <th>num_item</th>\n",
       "      <th>pop_unpop_rate</th>\n",
       "      <th>item_price_sum</th>\n",
       "      <th>item_price_max</th>\n",
       "      <th>item_price_min</th>\n",
       "      <th>item_price_mean</th>\n",
       "      <th>item_price_median</th>\n",
       "      <th>num_item_cate</th>\n",
       "      <th>num_store_cate</th>\n",
       "      <th>shoptime_1</th>\n",
       "      <th>shoptime_2</th>\n",
       "      <th>shoptime_3</th>\n",
       "      <th>num_sell</th>\n",
       "      <th>cate_id</th>\n",
       "      <th>store_id</th>\n",
       "      <th>item_price</th>\n",
       "    </tr>\n",
       "  </thead>\n",
       "  <tbody>\n",
       "    <tr>\n",
       "      <th>0</th>\n",
       "      <td>152</td>\n",
       "      <td>8410857</td>\n",
       "      <td>7.0</td>\n",
       "      <td>7.0</td>\n",
       "      <td>0.0</td>\n",
       "      <td>14538.0</td>\n",
       "      <td>7479.0</td>\n",
       "      <td>200.0</td>\n",
       "      <td>2076.857143</td>\n",
       "      <td>1279.0</td>\n",
       "      <td>4.0</td>\n",
       "      <td>7.0</td>\n",
       "      <td>7.0</td>\n",
       "      <td>0.0</td>\n",
       "      <td>0.0</td>\n",
       "      <td>1</td>\n",
       "      <td>2686</td>\n",
       "      <td>6213</td>\n",
       "      <td>800</td>\n",
       "    </tr>\n",
       "    <tr>\n",
       "      <th>1</th>\n",
       "      <td>152</td>\n",
       "      <td>7937154</td>\n",
       "      <td>7.0</td>\n",
       "      <td>7.0</td>\n",
       "      <td>0.0</td>\n",
       "      <td>14538.0</td>\n",
       "      <td>7479.0</td>\n",
       "      <td>200.0</td>\n",
       "      <td>2076.857143</td>\n",
       "      <td>1279.0</td>\n",
       "      <td>4.0</td>\n",
       "      <td>7.0</td>\n",
       "      <td>7.0</td>\n",
       "      <td>0.0</td>\n",
       "      <td>0.0</td>\n",
       "      <td>1</td>\n",
       "      <td>2686</td>\n",
       "      <td>40393</td>\n",
       "      <td>1301</td>\n",
       "    </tr>\n",
       "    <tr>\n",
       "      <th>2</th>\n",
       "      <td>152</td>\n",
       "      <td>8472223</td>\n",
       "      <td>7.0</td>\n",
       "      <td>7.0</td>\n",
       "      <td>0.0</td>\n",
       "      <td>14538.0</td>\n",
       "      <td>7479.0</td>\n",
       "      <td>200.0</td>\n",
       "      <td>2076.857143</td>\n",
       "      <td>1279.0</td>\n",
       "      <td>4.0</td>\n",
       "      <td>7.0</td>\n",
       "      <td>7.0</td>\n",
       "      <td>0.0</td>\n",
       "      <td>0.0</td>\n",
       "      <td>1</td>\n",
       "      <td>2686</td>\n",
       "      <td>79168</td>\n",
       "      <td>1234</td>\n",
       "    </tr>\n",
       "  </tbody>\n",
       "</table>\n",
       "</div>"
      ],
      "text/plain": [
       "   buyer_admin_id  item_id  num_shop  num_item  pop_unpop_rate  \\\n",
       "0             152  8410857       7.0       7.0             0.0   \n",
       "1             152  7937154       7.0       7.0             0.0   \n",
       "2             152  8472223       7.0       7.0             0.0   \n",
       "\n",
       "   item_price_sum  item_price_max  item_price_min  item_price_mean  \\\n",
       "0         14538.0          7479.0           200.0      2076.857143   \n",
       "1         14538.0          7479.0           200.0      2076.857143   \n",
       "2         14538.0          7479.0           200.0      2076.857143   \n",
       "\n",
       "   item_price_median  num_item_cate  num_store_cate  shoptime_1  shoptime_2  \\\n",
       "0             1279.0            4.0             7.0         7.0         0.0   \n",
       "1             1279.0            4.0             7.0         7.0         0.0   \n",
       "2             1279.0            4.0             7.0         7.0         0.0   \n",
       "\n",
       "   shoptime_3  num_sell  cate_id  store_id  item_price  \n",
       "0         0.0         1     2686      6213         800  \n",
       "1         0.0         1     2686     40393        1301  \n",
       "2         0.0         1     2686     79168        1234  "
      ]
     },
     "execution_count": 398,
     "metadata": {},
     "output_type": "execute_result"
    }
   ],
   "source": [
    "yulao_sub_feature_testitem_drop[:3]"
   ]
  },
  {
   "cell_type": "code",
   "execution_count": 399,
   "metadata": {},
   "outputs": [
    {
     "data": {
      "text/plain": [
       "1359"
      ]
     },
     "execution_count": 399,
     "metadata": {},
     "output_type": "execute_result"
    }
   ],
   "source": [
    "yulao_sub_feature_testitem_drop['num_sell'].max()"
   ]
  },
  {
   "cell_type": "code",
   "execution_count": 403,
   "metadata": {},
   "outputs": [
    {
     "name": "stderr",
     "output_type": "stream",
     "text": [
      "/home/ai/anaconda3/lib/python3.7/site-packages/ipykernel_launcher.py:1: SettingWithCopyWarning: \n",
      "A value is trying to be set on a copy of a slice from a DataFrame.\n",
      "Try using .loc[row_indexer,col_indexer] = value instead\n",
      "\n",
      "See the caveats in the documentation: http://pandas.pydata.org/pandas-docs/stable/indexing.html#indexing-view-versus-copy\n",
      "  \"\"\"Entry point for launching an IPython kernel.\n"
     ]
    }
   ],
   "source": [
    "yulao_sub_feature_testitem_drop['label'] = -1"
   ]
  },
  {
   "cell_type": "code",
   "execution_count": 404,
   "metadata": {},
   "outputs": [
    {
     "data": {
      "text/plain": [
       "buyer_admin_id       0\n",
       "item_id              0\n",
       "num_shop             0\n",
       "num_item             0\n",
       "pop_unpop_rate       0\n",
       "item_price_sum       0\n",
       "item_price_max       0\n",
       "item_price_min       0\n",
       "item_price_mean      0\n",
       "item_price_median    0\n",
       "num_item_cate        0\n",
       "num_store_cate       0\n",
       "shoptime_1           0\n",
       "shoptime_2           0\n",
       "shoptime_3           0\n",
       "num_sell             0\n",
       "cate_id              0\n",
       "store_id             0\n",
       "item_price           0\n",
       "label                0\n",
       "dtype: int64"
      ]
     },
     "execution_count": 404,
     "metadata": {},
     "output_type": "execute_result"
    }
   ],
   "source": [
    "yulao_sub_feature_testitem_drop.isna().sum()"
   ]
  },
  {
   "cell_type": "code",
   "execution_count": 406,
   "metadata": {},
   "outputs": [],
   "source": [
    "with open('model_data/yulao_sub_data1.pkl', 'wb') as output_file: # 保存pickle文件\n",
    "        pickle.dump(yulao_sub_feature_testitem_drop, output_file)"
   ]
  },
  {
   "cell_type": "code",
   "execution_count": null,
   "metadata": {},
   "outputs": [],
   "source": []
  },
  {
   "cell_type": "markdown",
   "metadata": {},
   "source": [
    "## 使用训练集数据中购买记录生成item特征，主要体现在num_sell上"
   ]
  },
  {
   "cell_type": "code",
   "execution_count": 4,
   "metadata": {},
   "outputs": [
    {
     "data": {
      "text/plain": [
       "(11398, 31)"
      ]
     },
     "execution_count": 4,
     "metadata": {},
     "output_type": "execute_result"
    }
   ],
   "source": [
    "yulao_sub = pd.read_csv('../submission.csv',header=None)\n",
    "yulao_sub.shape"
   ]
  },
  {
   "cell_type": "code",
   "execution_count": 17,
   "metadata": {},
   "outputs": [
    {
     "data": {
      "text/html": [
       "<div>\n",
       "<style scoped>\n",
       "    .dataframe tbody tr th:only-of-type {\n",
       "        vertical-align: middle;\n",
       "    }\n",
       "\n",
       "    .dataframe tbody tr th {\n",
       "        vertical-align: top;\n",
       "    }\n",
       "\n",
       "    .dataframe thead th {\n",
       "        text-align: right;\n",
       "    }\n",
       "</style>\n",
       "<table border=\"1\" class=\"dataframe\">\n",
       "  <thead>\n",
       "    <tr style=\"text-align: right;\">\n",
       "      <th></th>\n",
       "      <th>buyer_admin_id</th>\n",
       "      <th>item_id</th>\n",
       "    </tr>\n",
       "  </thead>\n",
       "  <tbody>\n",
       "    <tr>\n",
       "      <th>0</th>\n",
       "      <td>152</td>\n",
       "      <td>8410857</td>\n",
       "    </tr>\n",
       "    <tr>\n",
       "      <th>1</th>\n",
       "      <td>152</td>\n",
       "      <td>7937154</td>\n",
       "    </tr>\n",
       "    <tr>\n",
       "      <th>2</th>\n",
       "      <td>152</td>\n",
       "      <td>8472223</td>\n",
       "    </tr>\n",
       "  </tbody>\n",
       "</table>\n",
       "</div>"
      ],
      "text/plain": [
       "   buyer_admin_id  item_id\n",
       "0             152  8410857\n",
       "1             152  7937154\n",
       "2             152  8472223"
      ]
     },
     "execution_count": 17,
     "metadata": {},
     "output_type": "execute_result"
    }
   ],
   "source": [
    "# 将🐟佬的提交信息提取出来并构成dataframe格式，将用户信息扩充到30个维度\n",
    "item_id_name = yulao_sub.iloc[:,1:].values.flatten()\n",
    "admin_id_name = np.repeat(yulao_sub[0].values,30)\n",
    "yulao_sub_feature = pd.DataFrame(columns=['buyer_admin_id','item_id'])\n",
    "yulao_sub_feature['buyer_admin_id'] = admin_id_name \n",
    "yulao_sub_feature['item_id'] = item_id_name\n",
    "yulao_sub_feature[:3]"
   ]
  },
  {
   "cell_type": "markdown",
   "metadata": {},
   "source": [
    "+ Merge客户信息\n",
    "\n",
    "和前面的操作一样，用户信息肯定是从test集中提取得到"
   ]
  },
  {
   "cell_type": "code",
   "execution_count": 15,
   "metadata": {},
   "outputs": [],
   "source": [
    "# 之前生成的测试集上用户的特征信息，根据用户在测试集上的购买记录生成得到，已经去除了用户购买商品不在商品表中的数据\n",
    "with open('features/test_admin_features.pkl','rb') as f:\n",
    "    test_admin_features = pickle.load(f)  "
   ]
  },
  {
   "cell_type": "code",
   "execution_count": 18,
   "metadata": {},
   "outputs": [
    {
     "name": "stdout",
     "output_type": "stream",
     "text": [
      "缺失用户id为： [ 262400  495938  713555 1913825 2101357]\n"
     ]
    }
   ],
   "source": [
    "# 合并信息\n",
    "yulao_sub_feature = pd.merge(yulao_sub_feature, test_admin_features, on='buyer_admin_id',how='outer')\n",
    "# 缺失用户ID信息\n",
    "print('缺失用户id为： %s'%yulao_sub_feature[yulao_sub_feature.isna().values==True]['buyer_admin_id'].unique())"
   ]
  },
  {
   "cell_type": "code",
   "execution_count": 21,
   "metadata": {},
   "outputs": [],
   "source": [
    "yulao_sub_feature.dropna(axis=0, how='any', inplace=True)  # 删除缺失值所在的行"
   ]
  },
  {
   "cell_type": "markdown",
   "metadata": {},
   "source": [
    "+ merge商品信息\n",
    "\n",
    "商品信息中主要的特征为null_sell, 如果训练集中有num_sell就用训练集中的数据，没有的话就用测试集中的数据"
   ]
  },
  {
   "cell_type": "code",
   "execution_count": 23,
   "metadata": {},
   "outputs": [],
   "source": [
    "with open('features/test_item_features.pkl','rb') as f:\n",
    "    test_item_features = pickle.load(f)\n",
    "with open('features/train_item_features.pkl','rb') as f:\n",
    "    train_item_features = pickle.load(f)"
   ]
  },
  {
   "cell_type": "code",
   "execution_count": 87,
   "metadata": {},
   "outputs": [
    {
     "data": {
      "text/plain": [
       "buyer_admin_id           0\n",
       "item_id                  0\n",
       "num_shop                 0\n",
       "num_item                 0\n",
       "pop_unpop_rate           0\n",
       "item_price_sum           0\n",
       "item_price_max           0\n",
       "item_price_min           0\n",
       "item_price_mean          0\n",
       "item_price_median        0\n",
       "num_item_cate            0\n",
       "num_store_cate           0\n",
       "shoptime_1               0\n",
       "shoptime_2               0\n",
       "shoptime_3               0\n",
       "num_sell             27200\n",
       "cate_id              27200\n",
       "store_id             27200\n",
       "item_price           27200\n",
       "dtype: int64"
      ]
     },
     "execution_count": 87,
     "metadata": {},
     "output_type": "execute_result"
    }
   ],
   "source": [
    "yulao_sub_feature_trainitem = pd.merge(yulao_sub_feature,train_item_features,on='item_id',how='left') # merge训练集中商品信息\n",
    "yulao_sub_feature_trainitem.isna().sum() # 统计缺失值"
   ]
  },
  {
   "cell_type": "code",
   "execution_count": 88,
   "metadata": {},
   "outputs": [
    {
     "data": {
      "text/plain": [
       "buyer_admin_id         0\n",
       "item_id                0\n",
       "num_shop               0\n",
       "num_item               0\n",
       "pop_unpop_rate         0\n",
       "item_price_sum         0\n",
       "item_price_max         0\n",
       "item_price_min         0\n",
       "item_price_mean        0\n",
       "item_price_median      0\n",
       "num_item_cate          0\n",
       "num_store_cate         0\n",
       "shoptime_1             0\n",
       "shoptime_2             0\n",
       "shoptime_3             0\n",
       "num_sell             412\n",
       "cate_id              412\n",
       "store_id             412\n",
       "item_price           412\n",
       "dtype: int64"
      ]
     },
     "execution_count": 88,
     "metadata": {},
     "output_type": "execute_result"
    }
   ],
   "source": [
    "yulao_sub_feature_testitem = pd.merge(yulao_sub_feature,test_item_features,on='item_id',how='left') # merge训练集中商品信息\n",
    "yulao_sub_feature_testitem.isna().sum() # 统计缺失值"
   ]
  },
  {
   "cell_type": "code",
   "execution_count": 95,
   "metadata": {},
   "outputs": [],
   "source": [
    "yulao_sub_feature_item = yulao_sub_feature_trainitem.fillna(yulao_sub_feature_testitem)  # 用test_item中的数据填充缺失值"
   ]
  },
  {
   "cell_type": "code",
   "execution_count": 96,
   "metadata": {},
   "outputs": [
    {
     "data": {
      "text/html": [
       "<div>\n",
       "<style scoped>\n",
       "    .dataframe tbody tr th:only-of-type {\n",
       "        vertical-align: middle;\n",
       "    }\n",
       "\n",
       "    .dataframe tbody tr th {\n",
       "        vertical-align: top;\n",
       "    }\n",
       "\n",
       "    .dataframe thead th {\n",
       "        text-align: right;\n",
       "    }\n",
       "</style>\n",
       "<table border=\"1\" class=\"dataframe\">\n",
       "  <thead>\n",
       "    <tr style=\"text-align: right;\">\n",
       "      <th></th>\n",
       "      <th>buyer_admin_id</th>\n",
       "      <th>item_id</th>\n",
       "      <th>num_shop</th>\n",
       "      <th>num_item</th>\n",
       "      <th>pop_unpop_rate</th>\n",
       "      <th>item_price_sum</th>\n",
       "      <th>item_price_max</th>\n",
       "      <th>item_price_min</th>\n",
       "      <th>item_price_mean</th>\n",
       "      <th>item_price_median</th>\n",
       "      <th>num_item_cate</th>\n",
       "      <th>num_store_cate</th>\n",
       "      <th>shoptime_1</th>\n",
       "      <th>shoptime_2</th>\n",
       "      <th>shoptime_3</th>\n",
       "      <th>num_sell</th>\n",
       "      <th>cate_id</th>\n",
       "      <th>store_id</th>\n",
       "      <th>item_price</th>\n",
       "    </tr>\n",
       "  </thead>\n",
       "  <tbody>\n",
       "    <tr>\n",
       "      <th>0</th>\n",
       "      <td>152</td>\n",
       "      <td>8410857</td>\n",
       "      <td>7.0</td>\n",
       "      <td>7.0</td>\n",
       "      <td>0.0</td>\n",
       "      <td>14538.0</td>\n",
       "      <td>7479.0</td>\n",
       "      <td>200.0</td>\n",
       "      <td>2076.857143</td>\n",
       "      <td>1279.0</td>\n",
       "      <td>4.0</td>\n",
       "      <td>7.0</td>\n",
       "      <td>7.0</td>\n",
       "      <td>0.0</td>\n",
       "      <td>0.0</td>\n",
       "      <td>2.0</td>\n",
       "      <td>2686.0</td>\n",
       "      <td>6213.0</td>\n",
       "      <td>800.0</td>\n",
       "    </tr>\n",
       "    <tr>\n",
       "      <th>1</th>\n",
       "      <td>152</td>\n",
       "      <td>7937154</td>\n",
       "      <td>7.0</td>\n",
       "      <td>7.0</td>\n",
       "      <td>0.0</td>\n",
       "      <td>14538.0</td>\n",
       "      <td>7479.0</td>\n",
       "      <td>200.0</td>\n",
       "      <td>2076.857143</td>\n",
       "      <td>1279.0</td>\n",
       "      <td>4.0</td>\n",
       "      <td>7.0</td>\n",
       "      <td>7.0</td>\n",
       "      <td>0.0</td>\n",
       "      <td>0.0</td>\n",
       "      <td>61.0</td>\n",
       "      <td>2686.0</td>\n",
       "      <td>40393.0</td>\n",
       "      <td>1301.0</td>\n",
       "    </tr>\n",
       "    <tr>\n",
       "      <th>2</th>\n",
       "      <td>152</td>\n",
       "      <td>8472223</td>\n",
       "      <td>7.0</td>\n",
       "      <td>7.0</td>\n",
       "      <td>0.0</td>\n",
       "      <td>14538.0</td>\n",
       "      <td>7479.0</td>\n",
       "      <td>200.0</td>\n",
       "      <td>2076.857143</td>\n",
       "      <td>1279.0</td>\n",
       "      <td>4.0</td>\n",
       "      <td>7.0</td>\n",
       "      <td>7.0</td>\n",
       "      <td>0.0</td>\n",
       "      <td>0.0</td>\n",
       "      <td>6.0</td>\n",
       "      <td>2686.0</td>\n",
       "      <td>79168.0</td>\n",
       "      <td>1234.0</td>\n",
       "    </tr>\n",
       "  </tbody>\n",
       "</table>\n",
       "</div>"
      ],
      "text/plain": [
       "   buyer_admin_id  item_id  num_shop  num_item  pop_unpop_rate  \\\n",
       "0             152  8410857       7.0       7.0             0.0   \n",
       "1             152  7937154       7.0       7.0             0.0   \n",
       "2             152  8472223       7.0       7.0             0.0   \n",
       "\n",
       "   item_price_sum  item_price_max  item_price_min  item_price_mean  \\\n",
       "0         14538.0          7479.0           200.0      2076.857143   \n",
       "1         14538.0          7479.0           200.0      2076.857143   \n",
       "2         14538.0          7479.0           200.0      2076.857143   \n",
       "\n",
       "   item_price_median  num_item_cate  num_store_cate  shoptime_1  shoptime_2  \\\n",
       "0             1279.0            4.0             7.0         7.0         0.0   \n",
       "1             1279.0            4.0             7.0         7.0         0.0   \n",
       "2             1279.0            4.0             7.0         7.0         0.0   \n",
       "\n",
       "   shoptime_3  num_sell  cate_id  store_id  item_price  \n",
       "0         0.0       2.0   2686.0    6213.0       800.0  \n",
       "1         0.0      61.0   2686.0   40393.0      1301.0  \n",
       "2         0.0       6.0   2686.0   79168.0      1234.0  "
      ]
     },
     "execution_count": 96,
     "metadata": {},
     "output_type": "execute_result"
    }
   ],
   "source": [
    "yulao_sub_feature_item[:3]"
   ]
  },
  {
   "cell_type": "markdown",
   "metadata": {},
   "source": [
    "删除缺失值，准备输出特征"
   ]
  },
  {
   "cell_type": "code",
   "execution_count": 98,
   "metadata": {},
   "outputs": [],
   "source": [
    "yulao_sub_feature_item = yulao_sub_feature_item.dropna(axis=0,how='any')\n",
    "yulao_sub_feature_item['item_price'] = yulao_sub_feature_item['item_price'].astype(np.int32)\n",
    "yulao_sub_feature_item['num_sell'] = yulao_sub_feature_item['num_sell'].astype(np.int32)\n",
    "yulao_sub_feature_item['cate_id'] = yulao_sub_feature_item['cate_id'].astype(np.int32)\n",
    "yulao_sub_feature_item['store_id'] = yulao_sub_feature_item['store_id'].astype(np.int32)"
   ]
  },
  {
   "cell_type": "code",
   "execution_count": 99,
   "metadata": {},
   "outputs": [
    {
     "data": {
      "text/plain": [
       "buyer_admin_id       0\n",
       "item_id              0\n",
       "num_shop             0\n",
       "num_item             0\n",
       "pop_unpop_rate       0\n",
       "item_price_sum       0\n",
       "item_price_max       0\n",
       "item_price_min       0\n",
       "item_price_mean      0\n",
       "item_price_median    0\n",
       "num_item_cate        0\n",
       "num_store_cate       0\n",
       "shoptime_1           0\n",
       "shoptime_2           0\n",
       "shoptime_3           0\n",
       "num_sell             0\n",
       "cate_id              0\n",
       "store_id             0\n",
       "item_price           0\n",
       "dtype: int64"
      ]
     },
     "execution_count": 99,
     "metadata": {},
     "output_type": "execute_result"
    }
   ],
   "source": [
    "yulao_sub_feature_item.isna().sum()"
   ]
  },
  {
   "cell_type": "code",
   "execution_count": 101,
   "metadata": {},
   "outputs": [],
   "source": [
    "yulao_sub_feature_item['label'] = -1"
   ]
  },
  {
   "cell_type": "code",
   "execution_count": 102,
   "metadata": {},
   "outputs": [],
   "source": [
    "with open('model_data/yulao_sub_data2.pkl', 'wb') as output_file: # 保存pickle文件\n",
    "        pickle.dump(yulao_sub_feature_item, output_file)"
   ]
  },
  {
   "cell_type": "code",
   "execution_count": null,
   "metadata": {},
   "outputs": [],
   "source": []
  },
  {
   "cell_type": "code",
   "execution_count": null,
   "metadata": {},
   "outputs": [],
   "source": []
  }
 ],
 "metadata": {
  "kernelspec": {
   "display_name": "Python 3",
   "language": "python",
   "name": "python3"
  },
  "language_info": {
   "codemirror_mode": {
    "name": "ipython",
    "version": 3
   },
   "file_extension": ".py",
   "mimetype": "text/x-python",
   "name": "python",
   "nbconvert_exporter": "python",
   "pygments_lexer": "ipython3",
   "version": "3.7.3"
  }
 },
 "nbformat": 4,
 "nbformat_minor": 2
}
