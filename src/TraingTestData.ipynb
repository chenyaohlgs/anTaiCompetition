{
 "cells": [
  {
   "cell_type": "markdown",
   "metadata": {},
   "source": [
    "# 读取用户商品特征，生成可以训练的正负样本数据\n",
    "\n"
   ]
  },
  {
   "cell_type": "code",
   "execution_count": 2,
   "metadata": {},
   "outputs": [],
   "source": [
    "import pickle\n",
    "import numpy as np\n",
    "import pandas as pd"
   ]
  },
  {
   "cell_type": "code",
   "execution_count": 12,
   "metadata": {},
   "outputs": [],
   "source": [
    "TRAING_ADMIN_PATH = 'features/train_admin_features.pkl'\n",
    "TRAING_ITEM_PATH = 'features/train_item_features.pkl'\n",
    "TEST_ADMIN_PATH = 'features/test_admin_features.pkl'\n",
    "TEST_ITEM_PATH = 'features/test_item_features.pkl'\n",
    "TRAING_DATA_PATH = '../data/train.pkl'  # 读取原始训练集\n",
    "TEST_DATA_PATH = '../data/test.pkl'"
   ]
  },
  {
   "cell_type": "code",
   "execution_count": 9,
   "metadata": {},
   "outputs": [],
   "source": [
    "with open(TRAING_ADMIN_PATH,'rb') as f:\n",
    "    train_admin_features = pickle.load(f)\n",
    "with open(TRAING_ITEM_PATH,'rb') as f:\n",
    "    train_item_features = pickle.load(f)\n",
    "with open(TEST_ADMIN_PATH,'rb') as f:\n",
    "    test_admin_features = pickle.load(f)\n",
    "with open(TEST_ITEM_PATH,'rb') as f:\n",
    "    test_item_features = pickle.load(f)"
   ]
  },
  {
   "cell_type": "code",
   "execution_count": null,
   "metadata": {},
   "outputs": [],
   "source": [
    "with open(TRAING_DATA_PATH,'rb') as f:\n",
    "    test_item_features = pickle.load(f)"
   ]
  }
 ],
 "metadata": {
  "kernelspec": {
   "display_name": "Python 3",
   "language": "python",
   "name": "python3"
  },
  "language_info": {
   "codemirror_mode": {
    "name": "ipython",
    "version": 3
   },
   "file_extension": ".py",
   "mimetype": "text/x-python",
   "name": "python",
   "nbconvert_exporter": "python",
   "pygments_lexer": "ipython3",
   "version": "3.7.3"
  }
 },
 "nbformat": 4,
 "nbformat_minor": 2
}
