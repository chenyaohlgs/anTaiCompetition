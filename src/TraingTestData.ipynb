{
 "cells": [
  {
   "cell_type": "markdown",
   "metadata": {},
   "source": [
    "# 一. 读取用户商品特征，生成可以训练的正负样本数据"
   ]
  },
  {
   "cell_type": "code",
   "execution_count": 1,
   "metadata": {},
   "outputs": [],
   "source": [
    "import pickle\n",
    "import numpy as np\n",
    "import pandas as pd"
   ]
  },
  {
   "cell_type": "code",
   "execution_count": 19,
   "metadata": {},
   "outputs": [],
   "source": [
    "TRAING_ADMIN_PATH = 'features/train_admin_features.pkl'\n",
    "TRAING_ITEM_PATH = 'features/train_item_features.pkl'\n",
    "TEST_ADMIN_PATH = 'features/test_admin_features.pkl'\n",
    "TEST_ITEM_PATH = 'features/test_item_features.pkl'\n",
    "TRAING_DATA_PATH = '../data/train.pkl'  # 读取原始训练集\n",
    "TEST_DATA_PATH = '../data/test.pkl'"
   ]
  },
  {
   "cell_type": "code",
   "execution_count": 20,
   "metadata": {},
   "outputs": [],
   "source": [
    "with open(TRAING_ADMIN_PATH,'rb') as f:\n",
    "    train_admin_features = pickle.load(f)\n",
    "with open(TRAING_ITEM_PATH,'rb') as f:\n",
    "    train_item_features = pickle.load(f)\n",
    "with open(TEST_ADMIN_PATH,'rb') as f:\n",
    "    test_admin_features = pickle.load(f)\n",
    "with open(TEST_ITEM_PATH,'rb') as f:\n",
    "    test_item_features = pickle.load(f)"
   ]
  },
  {
   "cell_type": "code",
   "execution_count": 7,
   "metadata": {},
   "outputs": [],
   "source": [
    "with open(TRAING_DATA_PATH,'rb') as f:\n",
    "    train_data = pickle.load(f)"
   ]
  },
  {
   "cell_type": "code",
   "execution_count": 75,
   "metadata": {},
   "outputs": [
    {
     "data": {
      "text/html": [
       "<div>\n",
       "<style scoped>\n",
       "    .dataframe tbody tr th:only-of-type {\n",
       "        vertical-align: middle;\n",
       "    }\n",
       "\n",
       "    .dataframe tbody tr th {\n",
       "        vertical-align: top;\n",
       "    }\n",
       "\n",
       "    .dataframe thead th {\n",
       "        text-align: right;\n",
       "    }\n",
       "</style>\n",
       "<table border=\"1\" class=\"dataframe\">\n",
       "  <thead>\n",
       "    <tr style=\"text-align: right;\">\n",
       "      <th></th>\n",
       "      <th>item_id</th>\n",
       "      <th>num_sell</th>\n",
       "      <th>cate_id</th>\n",
       "      <th>store_id</th>\n",
       "      <th>item_price</th>\n",
       "    </tr>\n",
       "  </thead>\n",
       "  <tbody>\n",
       "    <tr>\n",
       "      <th>0</th>\n",
       "      <td>1</td>\n",
       "      <td>1</td>\n",
       "      <td>2324</td>\n",
       "      <td>10013</td>\n",
       "      <td>4501</td>\n",
       "    </tr>\n",
       "    <tr>\n",
       "      <th>1</th>\n",
       "      <td>2</td>\n",
       "      <td>1</td>\n",
       "      <td>3882</td>\n",
       "      <td>4485</td>\n",
       "      <td>2751</td>\n",
       "    </tr>\n",
       "    <tr>\n",
       "      <th>2</th>\n",
       "      <td>3</td>\n",
       "      <td>2</td>\n",
       "      <td>155</td>\n",
       "      <td>8341</td>\n",
       "      <td>656</td>\n",
       "    </tr>\n",
       "    <tr>\n",
       "      <th>3</th>\n",
       "      <td>5</td>\n",
       "      <td>1</td>\n",
       "      <td>1191</td>\n",
       "      <td>1949</td>\n",
       "      <td>1689</td>\n",
       "    </tr>\n",
       "  </tbody>\n",
       "</table>\n",
       "</div>"
      ],
      "text/plain": [
       "   item_id  num_sell  cate_id  store_id  item_price\n",
       "0        1         1     2324     10013        4501\n",
       "1        2         1     3882      4485        2751\n",
       "2        3         2      155      8341         656\n",
       "3        5         1     1191      1949        1689"
      ]
     },
     "execution_count": 75,
     "metadata": {},
     "output_type": "execute_result"
    }
   ],
   "source": [
    "train_item_features[:4]"
   ]
  },
  {
   "cell_type": "code",
   "execution_count": 9,
   "metadata": {},
   "outputs": [
    {
     "data": {
      "text/html": [
       "<div>\n",
       "<style scoped>\n",
       "    .dataframe tbody tr th:only-of-type {\n",
       "        vertical-align: middle;\n",
       "    }\n",
       "\n",
       "    .dataframe tbody tr th {\n",
       "        vertical-align: top;\n",
       "    }\n",
       "\n",
       "    .dataframe thead th {\n",
       "        text-align: right;\n",
       "    }\n",
       "</style>\n",
       "<table border=\"1\" class=\"dataframe\">\n",
       "  <thead>\n",
       "    <tr style=\"text-align: right;\">\n",
       "      <th></th>\n",
       "      <th>buyer_country_id</th>\n",
       "      <th>buyer_admin_id</th>\n",
       "      <th>item_id</th>\n",
       "      <th>create_order_time</th>\n",
       "      <th>irank</th>\n",
       "      <th>hour</th>\n",
       "      <th>date</th>\n",
       "      <th>month</th>\n",
       "      <th>year</th>\n",
       "      <th>month-date</th>\n",
       "      <th>count</th>\n",
       "      <th>dayofweek</th>\n",
       "      <th>isweekend</th>\n",
       "    </tr>\n",
       "  </thead>\n",
       "  <tbody>\n",
       "    <tr>\n",
       "      <th>0</th>\n",
       "      <td>xx</td>\n",
       "      <td>8362078</td>\n",
       "      <td>1</td>\n",
       "      <td>2018-08-10 23:49:44</td>\n",
       "      <td>12</td>\n",
       "      <td>23</td>\n",
       "      <td>10</td>\n",
       "      <td>8</td>\n",
       "      <td>2018</td>\n",
       "      <td>8-10</td>\n",
       "      <td>1</td>\n",
       "      <td>4</td>\n",
       "      <td>0</td>\n",
       "    </tr>\n",
       "    <tr>\n",
       "      <th>1</th>\n",
       "      <td>xx</td>\n",
       "      <td>9694304</td>\n",
       "      <td>2</td>\n",
       "      <td>2018-08-03 23:55:07</td>\n",
       "      <td>9</td>\n",
       "      <td>23</td>\n",
       "      <td>3</td>\n",
       "      <td>8</td>\n",
       "      <td>2018</td>\n",
       "      <td>8-3</td>\n",
       "      <td>1</td>\n",
       "      <td>4</td>\n",
       "      <td>0</td>\n",
       "    </tr>\n",
       "    <tr>\n",
       "      <th>2</th>\n",
       "      <td>yy</td>\n",
       "      <td>101887</td>\n",
       "      <td>3</td>\n",
       "      <td>2018-08-27 08:31:26</td>\n",
       "      <td>3</td>\n",
       "      <td>8</td>\n",
       "      <td>27</td>\n",
       "      <td>8</td>\n",
       "      <td>2018</td>\n",
       "      <td>8-27</td>\n",
       "      <td>1</td>\n",
       "      <td>0</td>\n",
       "      <td>0</td>\n",
       "    </tr>\n",
       "  </tbody>\n",
       "</table>\n",
       "</div>"
      ],
      "text/plain": [
       "  buyer_country_id  buyer_admin_id  item_id   create_order_time  irank  hour  \\\n",
       "0               xx         8362078        1 2018-08-10 23:49:44     12    23   \n",
       "1               xx         9694304        2 2018-08-03 23:55:07      9    23   \n",
       "2               yy          101887        3 2018-08-27 08:31:26      3     8   \n",
       "\n",
       "   date  month  year month-date  count  dayofweek  isweekend  \n",
       "0    10      8  2018       8-10      1          4          0  \n",
       "1     3      8  2018        8-3      1          4          0  \n",
       "2    27      8  2018       8-27      1          0          0  "
      ]
     },
     "execution_count": 9,
     "metadata": {},
     "output_type": "execute_result"
    }
   ],
   "source": [
    "train_data[:3]"
   ]
  },
  {
   "cell_type": "code",
   "execution_count": 53,
   "metadata": {},
   "outputs": [
    {
     "data": {
      "text/html": [
       "<div>\n",
       "<style scoped>\n",
       "    .dataframe tbody tr th:only-of-type {\n",
       "        vertical-align: middle;\n",
       "    }\n",
       "\n",
       "    .dataframe tbody tr th {\n",
       "        vertical-align: top;\n",
       "    }\n",
       "\n",
       "    .dataframe thead th {\n",
       "        text-align: right;\n",
       "    }\n",
       "</style>\n",
       "<table border=\"1\" class=\"dataframe\">\n",
       "  <thead>\n",
       "    <tr style=\"text-align: right;\">\n",
       "      <th></th>\n",
       "      <th>buyer_admin_id</th>\n",
       "      <th>num_shop</th>\n",
       "      <th>num_item</th>\n",
       "      <th>pop_unpop_rate</th>\n",
       "      <th>item_price_sum</th>\n",
       "      <th>item_price_max</th>\n",
       "      <th>item_price_min</th>\n",
       "      <th>item_price_mean</th>\n",
       "      <th>item_price_median</th>\n",
       "      <th>num_item_cate</th>\n",
       "      <th>num_store_cate</th>\n",
       "      <th>shoptime_1</th>\n",
       "      <th>shoptime_2</th>\n",
       "      <th>shoptime_3</th>\n",
       "    </tr>\n",
       "  </thead>\n",
       "  <tbody>\n",
       "    <tr>\n",
       "      <th>0</th>\n",
       "      <td>1</td>\n",
       "      <td>28</td>\n",
       "      <td>27</td>\n",
       "      <td>0.000000</td>\n",
       "      <td>13387</td>\n",
       "      <td>1652</td>\n",
       "      <td>60</td>\n",
       "      <td>478.107143</td>\n",
       "      <td>232.5</td>\n",
       "      <td>18</td>\n",
       "      <td>23</td>\n",
       "      <td>16.0</td>\n",
       "      <td>0.0</td>\n",
       "      <td>12.0</td>\n",
       "    </tr>\n",
       "    <tr>\n",
       "      <th>1</th>\n",
       "      <td>29</td>\n",
       "      <td>42</td>\n",
       "      <td>34</td>\n",
       "      <td>0.261905</td>\n",
       "      <td>13924</td>\n",
       "      <td>4710</td>\n",
       "      <td>12</td>\n",
       "      <td>331.523810</td>\n",
       "      <td>146.5</td>\n",
       "      <td>22</td>\n",
       "      <td>32</td>\n",
       "      <td>14.0</td>\n",
       "      <td>20.0</td>\n",
       "      <td>8.0</td>\n",
       "    </tr>\n",
       "    <tr>\n",
       "      <th>2</th>\n",
       "      <td>71</td>\n",
       "      <td>10</td>\n",
       "      <td>8</td>\n",
       "      <td>0.300000</td>\n",
       "      <td>18547</td>\n",
       "      <td>6306</td>\n",
       "      <td>637</td>\n",
       "      <td>1854.700000</td>\n",
       "      <td>1175.0</td>\n",
       "      <td>7</td>\n",
       "      <td>7</td>\n",
       "      <td>0.0</td>\n",
       "      <td>2.0</td>\n",
       "      <td>8.0</td>\n",
       "    </tr>\n",
       "  </tbody>\n",
       "</table>\n",
       "</div>"
      ],
      "text/plain": [
       "   buyer_admin_id  num_shop  num_item  pop_unpop_rate  item_price_sum  \\\n",
       "0               1        28        27        0.000000           13387   \n",
       "1              29        42        34        0.261905           13924   \n",
       "2              71        10         8        0.300000           18547   \n",
       "\n",
       "   item_price_max  item_price_min  item_price_mean  item_price_median  \\\n",
       "0            1652              60       478.107143              232.5   \n",
       "1            4710              12       331.523810              146.5   \n",
       "2            6306             637      1854.700000             1175.0   \n",
       "\n",
       "   num_item_cate  num_store_cate  shoptime_1  shoptime_2  shoptime_3  \n",
       "0             18              23        16.0         0.0        12.0  \n",
       "1             22              32        14.0        20.0         8.0  \n",
       "2              7               7         0.0         2.0         8.0  "
      ]
     },
     "execution_count": 53,
     "metadata": {},
     "output_type": "execute_result"
    }
   ],
   "source": [
    "train_admin_features[:3]"
   ]
  },
  {
   "cell_type": "code",
   "execution_count": 68,
   "metadata": {},
   "outputs": [],
   "source": [
    "def drop_lose_item(data_df,item_df, lose_item):\n",
    "    length = len(list(lose_item))\n",
    "    all_drop_index= []\n",
    "    for i,item in enumerate(list(lose_item)):\n",
    "        drop_index = data_df[data_df['item_id'] == item].index[:]\n",
    "        all_drop_index.extend(list(drop_index.values))\n",
    "    data_df_filter = data_df.drop(all_drop_index).reset_index(drop=True)  # 去掉item不在商品表中的数据\n",
    "    data_df_filter = pd.merge(data_df_filter,item_df, how='left',on='item_id') # 将商品表中的数据添加到原始dataframe中   \n",
    "    return data_df_filter"
   ]
  },
  {
   "cell_type": "code",
   "execution_count": 70,
   "metadata": {},
   "outputs": [],
   "source": [
    "ITEMATTR_PKL_PATH = '../data/item_attr.pkl'\n",
    "item_df = pickle.load(open(ITEMATTR_PKL_PATH, 'rb'), encoding='iso-8859-1')"
   ]
  },
  {
   "cell_type": "code",
   "execution_count": 71,
   "metadata": {},
   "outputs": [],
   "source": [
    "# drop lose item\n",
    "train_lose_item = set(train_data['item_id'].unique()).difference(set(item_df['item_id'].unique()))\n",
    "train_filter = drop_lose_item(train_data, item_df, train_lose_item)"
   ]
  },
  {
   "cell_type": "markdown",
   "metadata": {},
   "source": [
    "## 二、读取前面生成的用于模型训练的特征数据\n",
    "\n",
    "检查是否有问题"
   ]
  },
  {
   "cell_type": "code",
   "execution_count": 92,
   "metadata": {},
   "outputs": [],
   "source": [
    "TRAIN_PATH = 'model_data/train_data_pos.pkl'\n",
    "with open(TRAIN_PATH,'rb') as f:\n",
    "    model_train_df = pickle.load(f)"
   ]
  },
  {
   "cell_type": "code",
   "execution_count": 93,
   "metadata": {},
   "outputs": [
    {
     "data": {
      "text/html": [
       "<div>\n",
       "<style scoped>\n",
       "    .dataframe tbody tr th:only-of-type {\n",
       "        vertical-align: middle;\n",
       "    }\n",
       "\n",
       "    .dataframe tbody tr th {\n",
       "        vertical-align: top;\n",
       "    }\n",
       "\n",
       "    .dataframe thead th {\n",
       "        text-align: right;\n",
       "    }\n",
       "</style>\n",
       "<table border=\"1\" class=\"dataframe\">\n",
       "  <thead>\n",
       "    <tr style=\"text-align: right;\">\n",
       "      <th></th>\n",
       "      <th>buyer_admin_id</th>\n",
       "      <th>item_id</th>\n",
       "      <th>num_shop</th>\n",
       "      <th>num_item</th>\n",
       "      <th>pop_unpop_rate</th>\n",
       "      <th>item_price_sum</th>\n",
       "      <th>item_price_max</th>\n",
       "      <th>item_price_min</th>\n",
       "      <th>item_price_mean</th>\n",
       "      <th>item_price_median</th>\n",
       "      <th>num_item_cate</th>\n",
       "      <th>num_store_cate</th>\n",
       "      <th>shoptime_1</th>\n",
       "      <th>shoptime_2</th>\n",
       "      <th>shoptime_3</th>\n",
       "      <th>num_sell</th>\n",
       "      <th>cate_id</th>\n",
       "      <th>store_id</th>\n",
       "      <th>item_price</th>\n",
       "      <th>label</th>\n",
       "    </tr>\n",
       "  </thead>\n",
       "  <tbody>\n",
       "    <tr>\n",
       "      <th>0</th>\n",
       "      <td>8362078</td>\n",
       "      <td>1</td>\n",
       "      <td>12</td>\n",
       "      <td>10</td>\n",
       "      <td>0.000000</td>\n",
       "      <td>16655</td>\n",
       "      <td>8742</td>\n",
       "      <td>38</td>\n",
       "      <td>1387.916667</td>\n",
       "      <td>147.5</td>\n",
       "      <td>7</td>\n",
       "      <td>10</td>\n",
       "      <td>4.0</td>\n",
       "      <td>6.0</td>\n",
       "      <td>2.0</td>\n",
       "      <td>1</td>\n",
       "      <td>2324</td>\n",
       "      <td>10013</td>\n",
       "      <td>4501</td>\n",
       "      <td>1</td>\n",
       "    </tr>\n",
       "    <tr>\n",
       "      <th>1</th>\n",
       "      <td>8362078</td>\n",
       "      <td>3346056</td>\n",
       "      <td>12</td>\n",
       "      <td>10</td>\n",
       "      <td>0.000000</td>\n",
       "      <td>16655</td>\n",
       "      <td>8742</td>\n",
       "      <td>38</td>\n",
       "      <td>1387.916667</td>\n",
       "      <td>147.5</td>\n",
       "      <td>7</td>\n",
       "      <td>10</td>\n",
       "      <td>4.0</td>\n",
       "      <td>6.0</td>\n",
       "      <td>2.0</td>\n",
       "      <td>28</td>\n",
       "      <td>1243</td>\n",
       "      <td>3185</td>\n",
       "      <td>168</td>\n",
       "      <td>1</td>\n",
       "    </tr>\n",
       "    <tr>\n",
       "      <th>2</th>\n",
       "      <td>2436524</td>\n",
       "      <td>3346056</td>\n",
       "      <td>21</td>\n",
       "      <td>21</td>\n",
       "      <td>0.238095</td>\n",
       "      <td>19744</td>\n",
       "      <td>9200</td>\n",
       "      <td>46</td>\n",
       "      <td>940.190476</td>\n",
       "      <td>497.0</td>\n",
       "      <td>9</td>\n",
       "      <td>17</td>\n",
       "      <td>0.0</td>\n",
       "      <td>20.0</td>\n",
       "      <td>1.0</td>\n",
       "      <td>28</td>\n",
       "      <td>1243</td>\n",
       "      <td>3185</td>\n",
       "      <td>168</td>\n",
       "      <td>1</td>\n",
       "    </tr>\n",
       "    <tr>\n",
       "      <th>3</th>\n",
       "      <td>2792675</td>\n",
       "      <td>3346056</td>\n",
       "      <td>25</td>\n",
       "      <td>25</td>\n",
       "      <td>0.120000</td>\n",
       "      <td>48236</td>\n",
       "      <td>19339</td>\n",
       "      <td>47</td>\n",
       "      <td>1929.440000</td>\n",
       "      <td>200.0</td>\n",
       "      <td>15</td>\n",
       "      <td>19</td>\n",
       "      <td>5.0</td>\n",
       "      <td>16.0</td>\n",
       "      <td>4.0</td>\n",
       "      <td>28</td>\n",
       "      <td>1243</td>\n",
       "      <td>3185</td>\n",
       "      <td>168</td>\n",
       "      <td>1</td>\n",
       "    </tr>\n",
       "  </tbody>\n",
       "</table>\n",
       "</div>"
      ],
      "text/plain": [
       "   buyer_admin_id  item_id  num_shop  num_item  pop_unpop_rate  \\\n",
       "0         8362078        1        12        10        0.000000   \n",
       "1         8362078  3346056        12        10        0.000000   \n",
       "2         2436524  3346056        21        21        0.238095   \n",
       "3         2792675  3346056        25        25        0.120000   \n",
       "\n",
       "   item_price_sum  item_price_max  item_price_min  item_price_mean  \\\n",
       "0           16655            8742              38      1387.916667   \n",
       "1           16655            8742              38      1387.916667   \n",
       "2           19744            9200              46       940.190476   \n",
       "3           48236           19339              47      1929.440000   \n",
       "\n",
       "   item_price_median  num_item_cate  num_store_cate  shoptime_1  shoptime_2  \\\n",
       "0              147.5              7              10         4.0         6.0   \n",
       "1              147.5              7              10         4.0         6.0   \n",
       "2              497.0              9              17         0.0        20.0   \n",
       "3              200.0             15              19         5.0        16.0   \n",
       "\n",
       "   shoptime_3  num_sell  cate_id  store_id  item_price  label  \n",
       "0         2.0         1     2324     10013        4501      1  \n",
       "1         2.0        28     1243      3185         168      1  \n",
       "2         1.0        28     1243      3185         168      1  \n",
       "3         4.0        28     1243      3185         168      1  "
      ]
     },
     "execution_count": 93,
     "metadata": {},
     "output_type": "execute_result"
    }
   ],
   "source": [
    "model_train_df[:4]"
   ]
  },
  {
   "cell_type": "code",
   "execution_count": 199,
   "metadata": {},
   "outputs": [],
   "source": [
    "TEST_PATH = 'model_data/test_data.pkl'\n",
    "with open(TEST_PATH,'rb') as f:\n",
    "    model_test_df = pickle.load(f)"
   ]
  },
  {
   "cell_type": "code",
   "execution_count": 200,
   "metadata": {},
   "outputs": [
    {
     "data": {
      "text/html": [
       "<div>\n",
       "<style scoped>\n",
       "    .dataframe tbody tr th:only-of-type {\n",
       "        vertical-align: middle;\n",
       "    }\n",
       "\n",
       "    .dataframe tbody tr th {\n",
       "        vertical-align: top;\n",
       "    }\n",
       "\n",
       "    .dataframe thead th {\n",
       "        text-align: right;\n",
       "    }\n",
       "</style>\n",
       "<table border=\"1\" class=\"dataframe\">\n",
       "  <thead>\n",
       "    <tr style=\"text-align: right;\">\n",
       "      <th></th>\n",
       "      <th>buyer_admin_id</th>\n",
       "      <th>item_id</th>\n",
       "      <th>num_shop</th>\n",
       "      <th>num_item</th>\n",
       "      <th>pop_unpop_rate</th>\n",
       "      <th>item_price_sum</th>\n",
       "      <th>item_price_max</th>\n",
       "      <th>item_price_min</th>\n",
       "      <th>item_price_mean</th>\n",
       "      <th>item_price_median</th>\n",
       "      <th>num_item_cate</th>\n",
       "      <th>num_store_cate</th>\n",
       "      <th>shoptime_1</th>\n",
       "      <th>shoptime_2</th>\n",
       "      <th>shoptime_3</th>\n",
       "      <th>num_sell</th>\n",
       "      <th>cate_id</th>\n",
       "      <th>store_id</th>\n",
       "      <th>item_price</th>\n",
       "      <th>label</th>\n",
       "    </tr>\n",
       "  </thead>\n",
       "  <tbody>\n",
       "    <tr>\n",
       "      <th>0</th>\n",
       "      <td>1061132</td>\n",
       "      <td>189045</td>\n",
       "      <td>17</td>\n",
       "      <td>16</td>\n",
       "      <td>0.058824</td>\n",
       "      <td>6922</td>\n",
       "      <td>1033</td>\n",
       "      <td>27</td>\n",
       "      <td>407.176471</td>\n",
       "      <td>326.0</td>\n",
       "      <td>7</td>\n",
       "      <td>14</td>\n",
       "      <td>3.0</td>\n",
       "      <td>9.0</td>\n",
       "      <td>5</td>\n",
       "      <td>1</td>\n",
       "      <td>1506</td>\n",
       "      <td>11599</td>\n",
       "      <td>237</td>\n",
       "      <td>1</td>\n",
       "    </tr>\n",
       "    <tr>\n",
       "      <th>1</th>\n",
       "      <td>2129504</td>\n",
       "      <td>189045</td>\n",
       "      <td>7</td>\n",
       "      <td>3</td>\n",
       "      <td>0.000000</td>\n",
       "      <td>1755</td>\n",
       "      <td>269</td>\n",
       "      <td>237</td>\n",
       "      <td>250.714286</td>\n",
       "      <td>237.0</td>\n",
       "      <td>1</td>\n",
       "      <td>2</td>\n",
       "      <td>7.0</td>\n",
       "      <td>0.0</td>\n",
       "      <td>0</td>\n",
       "      <td>1</td>\n",
       "      <td>1506</td>\n",
       "      <td>11599</td>\n",
       "      <td>237</td>\n",
       "      <td>1</td>\n",
       "    </tr>\n",
       "    <tr>\n",
       "      <th>2</th>\n",
       "      <td>2129504</td>\n",
       "      <td>189045</td>\n",
       "      <td>7</td>\n",
       "      <td>3</td>\n",
       "      <td>0.000000</td>\n",
       "      <td>1755</td>\n",
       "      <td>269</td>\n",
       "      <td>237</td>\n",
       "      <td>250.714286</td>\n",
       "      <td>237.0</td>\n",
       "      <td>1</td>\n",
       "      <td>2</td>\n",
       "      <td>7.0</td>\n",
       "      <td>0.0</td>\n",
       "      <td>0</td>\n",
       "      <td>1</td>\n",
       "      <td>1506</td>\n",
       "      <td>11599</td>\n",
       "      <td>237</td>\n",
       "      <td>1</td>\n",
       "    </tr>\n",
       "    <tr>\n",
       "      <th>3</th>\n",
       "      <td>1061132</td>\n",
       "      <td>5655251</td>\n",
       "      <td>17</td>\n",
       "      <td>16</td>\n",
       "      <td>0.058824</td>\n",
       "      <td>6922</td>\n",
       "      <td>1033</td>\n",
       "      <td>27</td>\n",
       "      <td>407.176471</td>\n",
       "      <td>326.0</td>\n",
       "      <td>7</td>\n",
       "      <td>14</td>\n",
       "      <td>3.0</td>\n",
       "      <td>9.0</td>\n",
       "      <td>5</td>\n",
       "      <td>1</td>\n",
       "      <td>4016</td>\n",
       "      <td>65152</td>\n",
       "      <td>642</td>\n",
       "      <td>1</td>\n",
       "    </tr>\n",
       "  </tbody>\n",
       "</table>\n",
       "</div>"
      ],
      "text/plain": [
       "   buyer_admin_id  item_id  num_shop  num_item  pop_unpop_rate  \\\n",
       "0         1061132   189045        17        16        0.058824   \n",
       "1         2129504   189045         7         3        0.000000   \n",
       "2         2129504   189045         7         3        0.000000   \n",
       "3         1061132  5655251        17        16        0.058824   \n",
       "\n",
       "   item_price_sum  item_price_max  item_price_min  item_price_mean  \\\n",
       "0            6922            1033              27       407.176471   \n",
       "1            1755             269             237       250.714286   \n",
       "2            1755             269             237       250.714286   \n",
       "3            6922            1033              27       407.176471   \n",
       "\n",
       "   item_price_median  num_item_cate  num_store_cate  shoptime_1  shoptime_2  \\\n",
       "0              326.0              7              14         3.0         9.0   \n",
       "1              237.0              1               2         7.0         0.0   \n",
       "2              237.0              1               2         7.0         0.0   \n",
       "3              326.0              7              14         3.0         9.0   \n",
       "\n",
       "   shoptime_3  num_sell  cate_id  store_id  item_price  label  \n",
       "0           5         1     1506     11599         237      1  \n",
       "1           0         1     1506     11599         237      1  \n",
       "2           0         1     1506     11599         237      1  \n",
       "3           5         1     4016     65152         642      1  "
      ]
     },
     "execution_count": 200,
     "metadata": {},
     "output_type": "execute_result"
    }
   ],
   "source": [
    "model_test_df[:4]"
   ]
  },
  {
   "cell_type": "markdown",
   "metadata": {},
   "source": [
    "# 三、读取负样本"
   ]
  },
  {
   "cell_type": "code",
   "execution_count": 2,
   "metadata": {},
   "outputs": [],
   "source": [
    "negative_sample = pd.read_csv('negative_sample.csv') # id信息"
   ]
  },
  {
   "cell_type": "code",
   "execution_count": 3,
   "metadata": {},
   "outputs": [],
   "source": [
    "negative_sample = negative_sample.rename(columns={'itemid':'item_id'})"
   ]
  },
  {
   "cell_type": "code",
   "execution_count": 4,
   "metadata": {},
   "outputs": [
    {
     "data": {
      "text/html": [
       "<div>\n",
       "<style scoped>\n",
       "    .dataframe tbody tr th:only-of-type {\n",
       "        vertical-align: middle;\n",
       "    }\n",
       "\n",
       "    .dataframe tbody tr th {\n",
       "        vertical-align: top;\n",
       "    }\n",
       "\n",
       "    .dataframe thead th {\n",
       "        text-align: right;\n",
       "    }\n",
       "</style>\n",
       "<table border=\"1\" class=\"dataframe\">\n",
       "  <thead>\n",
       "    <tr style=\"text-align: right;\">\n",
       "      <th></th>\n",
       "      <th>item_id</th>\n",
       "      <th>buyer_admin_id</th>\n",
       "      <th>label</th>\n",
       "    </tr>\n",
       "  </thead>\n",
       "  <tbody>\n",
       "    <tr>\n",
       "      <th>0</th>\n",
       "      <td>6997896</td>\n",
       "      <td>29.0</td>\n",
       "      <td>0</td>\n",
       "    </tr>\n",
       "    <tr>\n",
       "      <th>1</th>\n",
       "      <td>13042493</td>\n",
       "      <td>29.0</td>\n",
       "      <td>0</td>\n",
       "    </tr>\n",
       "    <tr>\n",
       "      <th>2</th>\n",
       "      <td>12019651</td>\n",
       "      <td>700.0</td>\n",
       "      <td>0</td>\n",
       "    </tr>\n",
       "  </tbody>\n",
       "</table>\n",
       "</div>"
      ],
      "text/plain": [
       "    item_id  buyer_admin_id  label\n",
       "0   6997896            29.0      0\n",
       "1  13042493            29.0      0\n",
       "2  12019651           700.0      0"
      ]
     },
     "execution_count": 4,
     "metadata": {},
     "output_type": "execute_result"
    }
   ],
   "source": [
    "negative_sample[:3]"
   ]
  },
  {
   "cell_type": "markdown",
   "metadata": {},
   "source": [
    "## 需要添加一列，该商品在训练集中被购买的次数"
   ]
  },
  {
   "cell_type": "code",
   "execution_count": 5,
   "metadata": {},
   "outputs": [],
   "source": [
    "train_df =  pickle.load(open('../data/train.pkl', 'rb'), encoding='iso-8859-1')  # 读取训练集数据\n",
    "item_df =  pickle.load(open('../data/item_attr.pkl', 'rb'), encoding='iso-8859-1')"
   ]
  },
  {
   "cell_type": "code",
   "execution_count": 6,
   "metadata": {},
   "outputs": [],
   "source": [
    "item_shop_count = train_df.groupby(['item_id'])['count'].agg('sum').reset_index()  # 通过count计数"
   ]
  },
  {
   "cell_type": "code",
   "execution_count": 8,
   "metadata": {},
   "outputs": [],
   "source": [
    "negative_sample_new = pd.merge(negative_sample,item_shop_count,on='item_id',how='left')  # 将购买次数添加到负样本中"
   ]
  },
  {
   "cell_type": "code",
   "execution_count": 27,
   "metadata": {},
   "outputs": [
    {
     "data": {
      "text/html": [
       "<div>\n",
       "<style scoped>\n",
       "    .dataframe tbody tr th:only-of-type {\n",
       "        vertical-align: middle;\n",
       "    }\n",
       "\n",
       "    .dataframe tbody tr th {\n",
       "        vertical-align: top;\n",
       "    }\n",
       "\n",
       "    .dataframe thead th {\n",
       "        text-align: right;\n",
       "    }\n",
       "</style>\n",
       "<table border=\"1\" class=\"dataframe\">\n",
       "  <thead>\n",
       "    <tr style=\"text-align: right;\">\n",
       "      <th></th>\n",
       "      <th>item_id</th>\n",
       "      <th>buyer_admin_id</th>\n",
       "      <th>label</th>\n",
       "      <th>count</th>\n",
       "    </tr>\n",
       "  </thead>\n",
       "  <tbody>\n",
       "    <tr>\n",
       "      <th>0</th>\n",
       "      <td>6997896</td>\n",
       "      <td>29.0</td>\n",
       "      <td>0</td>\n",
       "      <td>1.0</td>\n",
       "    </tr>\n",
       "    <tr>\n",
       "      <th>1</th>\n",
       "      <td>13042493</td>\n",
       "      <td>29.0</td>\n",
       "      <td>0</td>\n",
       "      <td>2.0</td>\n",
       "    </tr>\n",
       "    <tr>\n",
       "      <th>2</th>\n",
       "      <td>12019651</td>\n",
       "      <td>700.0</td>\n",
       "      <td>0</td>\n",
       "      <td>1.0</td>\n",
       "    </tr>\n",
       "  </tbody>\n",
       "</table>\n",
       "</div>"
      ],
      "text/plain": [
       "    item_id  buyer_admin_id  label  count\n",
       "0   6997896            29.0      0    1.0\n",
       "1  13042493            29.0      0    2.0\n",
       "2  12019651           700.0      0    1.0"
      ]
     },
     "execution_count": 27,
     "metadata": {},
     "output_type": "execute_result"
    }
   ],
   "source": [
    "negative_sample_new[:3]"
   ]
  },
  {
   "cell_type": "code",
   "execution_count": 40,
   "metadata": {},
   "outputs": [],
   "source": [
    "def generate_item_features(data_df,item_df):\n",
    "    buyed_item_df = pd.DataFrame(columns=['item_id','num_sell'])\n",
    "    buyed_item_df['item_id'] = data_df['item_id'].unique()\n",
    "#     buyed_item_df['num_sell'] = data_df.groupby(['item_id'])['count'].sum().to_list()\n",
    "    buyed_item_df = pd.merge(buyed_item_df, item_df, on='item_id',how='left')\n",
    "    return buyed_item_df"
   ]
  },
  {
   "cell_type": "code",
   "execution_count": 79,
   "metadata": {},
   "outputs": [],
   "source": [
    "negative_item_features = pd.DataFrame(columns=['item_id'])\n",
    "negative_item_features['item_id'] = negative_sample_new['item_id'].unique()\n",
    "negative_item_features = pd.merge(negative_item_features,item_df, on='item_id',how='left' )\n",
    "negative_item_features = pd.merge(negative_item_features,negative_sample_new[['item_id','count']], on='item_id',how='left' )\n",
    "negative_item_features.drop_duplicates(inplace=True)\n",
    "negative_item_features = negative_item_features.rename(columns={'count':'num_sell'})"
   ]
  },
  {
   "cell_type": "code",
   "execution_count": 80,
   "metadata": {},
   "outputs": [
    {
     "data": {
      "text/html": [
       "<div>\n",
       "<style scoped>\n",
       "    .dataframe tbody tr th:only-of-type {\n",
       "        vertical-align: middle;\n",
       "    }\n",
       "\n",
       "    .dataframe tbody tr th {\n",
       "        vertical-align: top;\n",
       "    }\n",
       "\n",
       "    .dataframe thead th {\n",
       "        text-align: right;\n",
       "    }\n",
       "</style>\n",
       "<table border=\"1\" class=\"dataframe\">\n",
       "  <thead>\n",
       "    <tr style=\"text-align: right;\">\n",
       "      <th></th>\n",
       "      <th>item_id</th>\n",
       "      <th>cate_id</th>\n",
       "      <th>store_id</th>\n",
       "      <th>item_price</th>\n",
       "      <th>num_sell</th>\n",
       "    </tr>\n",
       "  </thead>\n",
       "  <tbody>\n",
       "    <tr>\n",
       "      <th>0</th>\n",
       "      <td>6997896</td>\n",
       "      <td>2043</td>\n",
       "      <td>1</td>\n",
       "      <td>119</td>\n",
       "      <td>1.0</td>\n",
       "    </tr>\n",
       "    <tr>\n",
       "      <th>4</th>\n",
       "      <td>13042493</td>\n",
       "      <td>1969</td>\n",
       "      <td>1</td>\n",
       "      <td>25</td>\n",
       "      <td>2.0</td>\n",
       "    </tr>\n",
       "    <tr>\n",
       "      <th>7</th>\n",
       "      <td>12019651</td>\n",
       "      <td>1912</td>\n",
       "      <td>1</td>\n",
       "      <td>24</td>\n",
       "      <td>1.0</td>\n",
       "    </tr>\n",
       "  </tbody>\n",
       "</table>\n",
       "</div>"
      ],
      "text/plain": [
       "    item_id  cate_id  store_id  item_price  num_sell\n",
       "0   6997896     2043         1         119       1.0\n",
       "4  13042493     1969         1          25       2.0\n",
       "7  12019651     1912         1          24       1.0"
      ]
     },
     "execution_count": 80,
     "metadata": {},
     "output_type": "execute_result"
    }
   ],
   "source": [
    "negative_item_features[:3]"
   ]
  },
  {
   "cell_type": "code",
   "execution_count": 72,
   "metadata": {},
   "outputs": [
    {
     "name": "stdout",
     "output_type": "stream",
     "text": [
      "负样本商品特征大小: 2519038 x 5\n"
     ]
    }
   ],
   "source": [
    "print('负样本商品特征大小: %s x %s'%(negative_item_features.shape[0], negative_item_features.shape[1]))"
   ]
  },
  {
   "cell_type": "code",
   "execution_count": 81,
   "metadata": {},
   "outputs": [
    {
     "data": {
      "text/html": [
       "<div>\n",
       "<style scoped>\n",
       "    .dataframe tbody tr th:only-of-type {\n",
       "        vertical-align: middle;\n",
       "    }\n",
       "\n",
       "    .dataframe tbody tr th {\n",
       "        vertical-align: top;\n",
       "    }\n",
       "\n",
       "    .dataframe thead th {\n",
       "        text-align: right;\n",
       "    }\n",
       "</style>\n",
       "<table border=\"1\" class=\"dataframe\">\n",
       "  <thead>\n",
       "    <tr style=\"text-align: right;\">\n",
       "      <th></th>\n",
       "      <th>item_id</th>\n",
       "      <th>buyer_admin_id</th>\n",
       "      <th>label</th>\n",
       "      <th>count</th>\n",
       "    </tr>\n",
       "  </thead>\n",
       "  <tbody>\n",
       "    <tr>\n",
       "      <th>0</th>\n",
       "      <td>6997896</td>\n",
       "      <td>29.0</td>\n",
       "      <td>0</td>\n",
       "      <td>1.0</td>\n",
       "    </tr>\n",
       "    <tr>\n",
       "      <th>1</th>\n",
       "      <td>13042493</td>\n",
       "      <td>29.0</td>\n",
       "      <td>0</td>\n",
       "      <td>2.0</td>\n",
       "    </tr>\n",
       "    <tr>\n",
       "      <th>2</th>\n",
       "      <td>12019651</td>\n",
       "      <td>700.0</td>\n",
       "      <td>0</td>\n",
       "      <td>1.0</td>\n",
       "    </tr>\n",
       "  </tbody>\n",
       "</table>\n",
       "</div>"
      ],
      "text/plain": [
       "    item_id  buyer_admin_id  label  count\n",
       "0   6997896            29.0      0    1.0\n",
       "1  13042493            29.0      0    2.0\n",
       "2  12019651           700.0      0    1.0"
      ]
     },
     "execution_count": 81,
     "metadata": {},
     "output_type": "execute_result"
    }
   ],
   "source": [
    "negative_sample_new[:3]"
   ]
  },
  {
   "cell_type": "code",
   "execution_count": 82,
   "metadata": {},
   "outputs": [],
   "source": [
    "negative_sample_merge = pd.merge(negative_sample_new, negative_item_features,on='item_id',how='outer') # 将admin和item对应上"
   ]
  },
  {
   "cell_type": "code",
   "execution_count": 83,
   "metadata": {},
   "outputs": [
    {
     "data": {
      "text/html": [
       "<div>\n",
       "<style scoped>\n",
       "    .dataframe tbody tr th:only-of-type {\n",
       "        vertical-align: middle;\n",
       "    }\n",
       "\n",
       "    .dataframe tbody tr th {\n",
       "        vertical-align: top;\n",
       "    }\n",
       "\n",
       "    .dataframe thead th {\n",
       "        text-align: right;\n",
       "    }\n",
       "</style>\n",
       "<table border=\"1\" class=\"dataframe\">\n",
       "  <thead>\n",
       "    <tr style=\"text-align: right;\">\n",
       "      <th></th>\n",
       "      <th>item_id</th>\n",
       "      <th>buyer_admin_id</th>\n",
       "      <th>label</th>\n",
       "      <th>count</th>\n",
       "      <th>cate_id</th>\n",
       "      <th>store_id</th>\n",
       "      <th>item_price</th>\n",
       "      <th>num_sell</th>\n",
       "    </tr>\n",
       "  </thead>\n",
       "  <tbody>\n",
       "    <tr>\n",
       "      <th>0</th>\n",
       "      <td>6997896</td>\n",
       "      <td>29.0</td>\n",
       "      <td>0</td>\n",
       "      <td>1.0</td>\n",
       "      <td>2043</td>\n",
       "      <td>1</td>\n",
       "      <td>119</td>\n",
       "      <td>1.0</td>\n",
       "    </tr>\n",
       "    <tr>\n",
       "      <th>1</th>\n",
       "      <td>6997896</td>\n",
       "      <td>4623210.0</td>\n",
       "      <td>0</td>\n",
       "      <td>1.0</td>\n",
       "      <td>2043</td>\n",
       "      <td>1</td>\n",
       "      <td>119</td>\n",
       "      <td>1.0</td>\n",
       "    </tr>\n",
       "    <tr>\n",
       "      <th>2</th>\n",
       "      <td>6997896</td>\n",
       "      <td>8320958.0</td>\n",
       "      <td>0</td>\n",
       "      <td>1.0</td>\n",
       "      <td>2043</td>\n",
       "      <td>1</td>\n",
       "      <td>119</td>\n",
       "      <td>1.0</td>\n",
       "    </tr>\n",
       "  </tbody>\n",
       "</table>\n",
       "</div>"
      ],
      "text/plain": [
       "   item_id  buyer_admin_id  label  count  cate_id  store_id  item_price  \\\n",
       "0  6997896            29.0      0    1.0     2043         1         119   \n",
       "1  6997896       4623210.0      0    1.0     2043         1         119   \n",
       "2  6997896       8320958.0      0    1.0     2043         1         119   \n",
       "\n",
       "   num_sell  \n",
       "0       1.0  \n",
       "1       1.0  \n",
       "2       1.0  "
      ]
     },
     "execution_count": 83,
     "metadata": {},
     "output_type": "execute_result"
    }
   ],
   "source": [
    "negative_sample_merge[:3]"
   ]
  },
  {
   "cell_type": "markdown",
   "metadata": {},
   "source": [
    "# 四、合并正负样本"
   ]
  },
  {
   "cell_type": "code",
   "execution_count": 85,
   "metadata": {},
   "outputs": [],
   "source": [
    "del negative_sample_merge['count']"
   ]
  },
  {
   "cell_type": "code",
   "execution_count": 86,
   "metadata": {},
   "outputs": [
    {
     "data": {
      "text/html": [
       "<div>\n",
       "<style scoped>\n",
       "    .dataframe tbody tr th:only-of-type {\n",
       "        vertical-align: middle;\n",
       "    }\n",
       "\n",
       "    .dataframe tbody tr th {\n",
       "        vertical-align: top;\n",
       "    }\n",
       "\n",
       "    .dataframe thead th {\n",
       "        text-align: right;\n",
       "    }\n",
       "</style>\n",
       "<table border=\"1\" class=\"dataframe\">\n",
       "  <thead>\n",
       "    <tr style=\"text-align: right;\">\n",
       "      <th></th>\n",
       "      <th>buyer_admin_id</th>\n",
       "      <th>num_shop</th>\n",
       "      <th>num_item</th>\n",
       "      <th>pop_unpop_rate</th>\n",
       "      <th>item_price_sum</th>\n",
       "      <th>item_price_max</th>\n",
       "      <th>item_price_min</th>\n",
       "      <th>item_price_mean</th>\n",
       "      <th>item_price_median</th>\n",
       "      <th>num_item_cate</th>\n",
       "      <th>num_store_cate</th>\n",
       "      <th>shoptime_1</th>\n",
       "      <th>shoptime_2</th>\n",
       "      <th>shoptime_3</th>\n",
       "    </tr>\n",
       "  </thead>\n",
       "  <tbody>\n",
       "    <tr>\n",
       "      <th>0</th>\n",
       "      <td>1</td>\n",
       "      <td>28</td>\n",
       "      <td>27</td>\n",
       "      <td>0.000000</td>\n",
       "      <td>13387</td>\n",
       "      <td>1652</td>\n",
       "      <td>60</td>\n",
       "      <td>478.107143</td>\n",
       "      <td>232.5</td>\n",
       "      <td>18</td>\n",
       "      <td>23</td>\n",
       "      <td>16.0</td>\n",
       "      <td>0.0</td>\n",
       "      <td>12.0</td>\n",
       "    </tr>\n",
       "    <tr>\n",
       "      <th>1</th>\n",
       "      <td>29</td>\n",
       "      <td>42</td>\n",
       "      <td>34</td>\n",
       "      <td>0.261905</td>\n",
       "      <td>13924</td>\n",
       "      <td>4710</td>\n",
       "      <td>12</td>\n",
       "      <td>331.523810</td>\n",
       "      <td>146.5</td>\n",
       "      <td>22</td>\n",
       "      <td>32</td>\n",
       "      <td>14.0</td>\n",
       "      <td>20.0</td>\n",
       "      <td>8.0</td>\n",
       "    </tr>\n",
       "    <tr>\n",
       "      <th>2</th>\n",
       "      <td>71</td>\n",
       "      <td>10</td>\n",
       "      <td>8</td>\n",
       "      <td>0.300000</td>\n",
       "      <td>18547</td>\n",
       "      <td>6306</td>\n",
       "      <td>637</td>\n",
       "      <td>1854.700000</td>\n",
       "      <td>1175.0</td>\n",
       "      <td>7</td>\n",
       "      <td>7</td>\n",
       "      <td>0.0</td>\n",
       "      <td>2.0</td>\n",
       "      <td>8.0</td>\n",
       "    </tr>\n",
       "  </tbody>\n",
       "</table>\n",
       "</div>"
      ],
      "text/plain": [
       "   buyer_admin_id  num_shop  num_item  pop_unpop_rate  item_price_sum  \\\n",
       "0               1        28        27        0.000000           13387   \n",
       "1              29        42        34        0.261905           13924   \n",
       "2              71        10         8        0.300000           18547   \n",
       "\n",
       "   item_price_max  item_price_min  item_price_mean  item_price_median  \\\n",
       "0            1652              60       478.107143              232.5   \n",
       "1            4710              12       331.523810              146.5   \n",
       "2            6306             637      1854.700000             1175.0   \n",
       "\n",
       "   num_item_cate  num_store_cate  shoptime_1  shoptime_2  shoptime_3  \n",
       "0             18              23        16.0         0.0        12.0  \n",
       "1             22              32        14.0        20.0         8.0  \n",
       "2              7               7         0.0         2.0         8.0  "
      ]
     },
     "execution_count": 86,
     "metadata": {},
     "output_type": "execute_result"
    }
   ],
   "source": [
    "train_admin_features[:3]"
   ]
  },
  {
   "cell_type": "code",
   "execution_count": 87,
   "metadata": {},
   "outputs": [],
   "source": [
    "model_train_negative_sample =pd.merge(train_admin_features,negative_sample_merge,how='outer',on=['buyer_admin_id'])"
   ]
  },
  {
   "cell_type": "code",
   "execution_count": 88,
   "metadata": {},
   "outputs": [
    {
     "data": {
      "text/html": [
       "<div>\n",
       "<style scoped>\n",
       "    .dataframe tbody tr th:only-of-type {\n",
       "        vertical-align: middle;\n",
       "    }\n",
       "\n",
       "    .dataframe tbody tr th {\n",
       "        vertical-align: top;\n",
       "    }\n",
       "\n",
       "    .dataframe thead th {\n",
       "        text-align: right;\n",
       "    }\n",
       "</style>\n",
       "<table border=\"1\" class=\"dataframe\">\n",
       "  <thead>\n",
       "    <tr style=\"text-align: right;\">\n",
       "      <th></th>\n",
       "      <th>buyer_admin_id</th>\n",
       "      <th>num_shop</th>\n",
       "      <th>num_item</th>\n",
       "      <th>pop_unpop_rate</th>\n",
       "      <th>item_price_sum</th>\n",
       "      <th>item_price_max</th>\n",
       "      <th>item_price_min</th>\n",
       "      <th>item_price_mean</th>\n",
       "      <th>item_price_median</th>\n",
       "      <th>num_item_cate</th>\n",
       "      <th>num_store_cate</th>\n",
       "      <th>shoptime_1</th>\n",
       "      <th>shoptime_2</th>\n",
       "      <th>shoptime_3</th>\n",
       "      <th>item_id</th>\n",
       "      <th>label</th>\n",
       "      <th>cate_id</th>\n",
       "      <th>store_id</th>\n",
       "      <th>item_price</th>\n",
       "      <th>num_sell</th>\n",
       "    </tr>\n",
       "  </thead>\n",
       "  <tbody>\n",
       "    <tr>\n",
       "      <th>0</th>\n",
       "      <td>1</td>\n",
       "      <td>28</td>\n",
       "      <td>27</td>\n",
       "      <td>0.0</td>\n",
       "      <td>13387</td>\n",
       "      <td>1652</td>\n",
       "      <td>60</td>\n",
       "      <td>478.107143</td>\n",
       "      <td>232.5</td>\n",
       "      <td>18</td>\n",
       "      <td>23</td>\n",
       "      <td>16.0</td>\n",
       "      <td>0.0</td>\n",
       "      <td>12.0</td>\n",
       "      <td>5565451</td>\n",
       "      <td>0</td>\n",
       "      <td>716</td>\n",
       "      <td>2711</td>\n",
       "      <td>501</td>\n",
       "      <td>1.0</td>\n",
       "    </tr>\n",
       "    <tr>\n",
       "      <th>1</th>\n",
       "      <td>1</td>\n",
       "      <td>28</td>\n",
       "      <td>27</td>\n",
       "      <td>0.0</td>\n",
       "      <td>13387</td>\n",
       "      <td>1652</td>\n",
       "      <td>60</td>\n",
       "      <td>478.107143</td>\n",
       "      <td>232.5</td>\n",
       "      <td>18</td>\n",
       "      <td>23</td>\n",
       "      <td>16.0</td>\n",
       "      <td>0.0</td>\n",
       "      <td>12.0</td>\n",
       "      <td>311727</td>\n",
       "      <td>0</td>\n",
       "      <td>2160</td>\n",
       "      <td>9435</td>\n",
       "      <td>1080</td>\n",
       "      <td>1.0</td>\n",
       "    </tr>\n",
       "    <tr>\n",
       "      <th>2</th>\n",
       "      <td>1</td>\n",
       "      <td>28</td>\n",
       "      <td>27</td>\n",
       "      <td>0.0</td>\n",
       "      <td>13387</td>\n",
       "      <td>1652</td>\n",
       "      <td>60</td>\n",
       "      <td>478.107143</td>\n",
       "      <td>232.5</td>\n",
       "      <td>18</td>\n",
       "      <td>23</td>\n",
       "      <td>16.0</td>\n",
       "      <td>0.0</td>\n",
       "      <td>12.0</td>\n",
       "      <td>2694440</td>\n",
       "      <td>0</td>\n",
       "      <td>600</td>\n",
       "      <td>11215</td>\n",
       "      <td>167</td>\n",
       "      <td>2.0</td>\n",
       "    </tr>\n",
       "  </tbody>\n",
       "</table>\n",
       "</div>"
      ],
      "text/plain": [
       "   buyer_admin_id  num_shop  num_item  pop_unpop_rate  item_price_sum  \\\n",
       "0               1        28        27             0.0           13387   \n",
       "1               1        28        27             0.0           13387   \n",
       "2               1        28        27             0.0           13387   \n",
       "\n",
       "   item_price_max  item_price_min  item_price_mean  item_price_median  \\\n",
       "0            1652              60       478.107143              232.5   \n",
       "1            1652              60       478.107143              232.5   \n",
       "2            1652              60       478.107143              232.5   \n",
       "\n",
       "   num_item_cate  num_store_cate  shoptime_1  shoptime_2  shoptime_3  item_id  \\\n",
       "0             18              23        16.0         0.0        12.0  5565451   \n",
       "1             18              23        16.0         0.0        12.0   311727   \n",
       "2             18              23        16.0         0.0        12.0  2694440   \n",
       "\n",
       "   label  cate_id  store_id  item_price  num_sell  \n",
       "0      0      716      2711         501       1.0  \n",
       "1      0     2160      9435        1080       1.0  \n",
       "2      0      600     11215         167       2.0  "
      ]
     },
     "execution_count": 88,
     "metadata": {},
     "output_type": "execute_result"
    }
   ],
   "source": [
    "model_train_negative_sample[:3]"
   ]
  },
  {
   "cell_type": "code",
   "execution_count": 90,
   "metadata": {},
   "outputs": [],
   "source": [
    "# 保存负样本文件\n",
    "with open('model_data/train_data_neg.pkl', 'wb') as output_file:\n",
    "        pickle.dump(model_train_negative_sample, output_file)"
   ]
  },
  {
   "cell_type": "markdown",
   "metadata": {},
   "source": [
    "## 将负样本与前面生成的正样本进行合并"
   ]
  },
  {
   "cell_type": "code",
   "execution_count": 98,
   "metadata": {},
   "outputs": [
    {
     "name": "stderr",
     "output_type": "stream",
     "text": [
      "/home/ai/anaconda3/lib/python3.7/site-packages/ipykernel_launcher.py:1: FutureWarning: Sorting because non-concatenation axis is not aligned. A future version\n",
      "of pandas will change to not sort by default.\n",
      "\n",
      "To accept the future behavior, pass 'sort=False'.\n",
      "\n",
      "To retain the current behavior and silence the warning, pass 'sort=True'.\n",
      "\n",
      "  \"\"\"Entry point for launching an IPython kernel.\n"
     ]
    }
   ],
   "source": [
    "all_model_train =pd.concat([model_train_df,model_train_negative_sample])"
   ]
  },
  {
   "cell_type": "code",
   "execution_count": 99,
   "metadata": {},
   "outputs": [
    {
     "data": {
      "text/html": [
       "<div>\n",
       "<style scoped>\n",
       "    .dataframe tbody tr th:only-of-type {\n",
       "        vertical-align: middle;\n",
       "    }\n",
       "\n",
       "    .dataframe tbody tr th {\n",
       "        vertical-align: top;\n",
       "    }\n",
       "\n",
       "    .dataframe thead th {\n",
       "        text-align: right;\n",
       "    }\n",
       "</style>\n",
       "<table border=\"1\" class=\"dataframe\">\n",
       "  <thead>\n",
       "    <tr style=\"text-align: right;\">\n",
       "      <th></th>\n",
       "      <th>buyer_admin_id</th>\n",
       "      <th>cate_id</th>\n",
       "      <th>item_id</th>\n",
       "      <th>item_price</th>\n",
       "      <th>item_price_max</th>\n",
       "      <th>item_price_mean</th>\n",
       "      <th>item_price_median</th>\n",
       "      <th>item_price_min</th>\n",
       "      <th>item_price_sum</th>\n",
       "      <th>label</th>\n",
       "      <th>num_item</th>\n",
       "      <th>num_item_cate</th>\n",
       "      <th>num_sell</th>\n",
       "      <th>num_shop</th>\n",
       "      <th>num_store_cate</th>\n",
       "      <th>pop_unpop_rate</th>\n",
       "      <th>shoptime_1</th>\n",
       "      <th>shoptime_2</th>\n",
       "      <th>shoptime_3</th>\n",
       "      <th>store_id</th>\n",
       "    </tr>\n",
       "  </thead>\n",
       "  <tbody>\n",
       "    <tr>\n",
       "      <th>0</th>\n",
       "      <td>8362078</td>\n",
       "      <td>2324</td>\n",
       "      <td>1</td>\n",
       "      <td>4501</td>\n",
       "      <td>8742</td>\n",
       "      <td>1387.916667</td>\n",
       "      <td>147.5</td>\n",
       "      <td>38</td>\n",
       "      <td>16655</td>\n",
       "      <td>1</td>\n",
       "      <td>10</td>\n",
       "      <td>7</td>\n",
       "      <td>1.0</td>\n",
       "      <td>12</td>\n",
       "      <td>10</td>\n",
       "      <td>0.000000</td>\n",
       "      <td>4.0</td>\n",
       "      <td>6.0</td>\n",
       "      <td>2.0</td>\n",
       "      <td>10013</td>\n",
       "    </tr>\n",
       "    <tr>\n",
       "      <th>1</th>\n",
       "      <td>8362078</td>\n",
       "      <td>1243</td>\n",
       "      <td>3346056</td>\n",
       "      <td>168</td>\n",
       "      <td>8742</td>\n",
       "      <td>1387.916667</td>\n",
       "      <td>147.5</td>\n",
       "      <td>38</td>\n",
       "      <td>16655</td>\n",
       "      <td>1</td>\n",
       "      <td>10</td>\n",
       "      <td>7</td>\n",
       "      <td>28.0</td>\n",
       "      <td>12</td>\n",
       "      <td>10</td>\n",
       "      <td>0.000000</td>\n",
       "      <td>4.0</td>\n",
       "      <td>6.0</td>\n",
       "      <td>2.0</td>\n",
       "      <td>3185</td>\n",
       "    </tr>\n",
       "    <tr>\n",
       "      <th>2</th>\n",
       "      <td>2436524</td>\n",
       "      <td>1243</td>\n",
       "      <td>3346056</td>\n",
       "      <td>168</td>\n",
       "      <td>9200</td>\n",
       "      <td>940.190476</td>\n",
       "      <td>497.0</td>\n",
       "      <td>46</td>\n",
       "      <td>19744</td>\n",
       "      <td>1</td>\n",
       "      <td>21</td>\n",
       "      <td>9</td>\n",
       "      <td>28.0</td>\n",
       "      <td>21</td>\n",
       "      <td>17</td>\n",
       "      <td>0.238095</td>\n",
       "      <td>0.0</td>\n",
       "      <td>20.0</td>\n",
       "      <td>1.0</td>\n",
       "      <td>3185</td>\n",
       "    </tr>\n",
       "  </tbody>\n",
       "</table>\n",
       "</div>"
      ],
      "text/plain": [
       "   buyer_admin_id  cate_id  item_id  item_price  item_price_max  \\\n",
       "0         8362078     2324        1        4501            8742   \n",
       "1         8362078     1243  3346056         168            8742   \n",
       "2         2436524     1243  3346056         168            9200   \n",
       "\n",
       "   item_price_mean  item_price_median  item_price_min  item_price_sum  label  \\\n",
       "0      1387.916667              147.5              38           16655      1   \n",
       "1      1387.916667              147.5              38           16655      1   \n",
       "2       940.190476              497.0              46           19744      1   \n",
       "\n",
       "   num_item  num_item_cate  num_sell  num_shop  num_store_cate  \\\n",
       "0        10              7       1.0        12              10   \n",
       "1        10              7      28.0        12              10   \n",
       "2        21              9      28.0        21              17   \n",
       "\n",
       "   pop_unpop_rate  shoptime_1  shoptime_2  shoptime_3  store_id  \n",
       "0        0.000000         4.0         6.0         2.0     10013  \n",
       "1        0.000000         4.0         6.0         2.0      3185  \n",
       "2        0.238095         0.0        20.0         1.0      3185  "
      ]
     },
     "execution_count": 99,
     "metadata": {},
     "output_type": "execute_result"
    }
   ],
   "source": [
    "all_model_train[:3]"
   ]
  },
  {
   "cell_type": "code",
   "execution_count": 126,
   "metadata": {},
   "outputs": [],
   "source": [
    "all_model_train = all_model_train.fillna(0)"
   ]
  },
  {
   "cell_type": "code",
   "execution_count": 129,
   "metadata": {},
   "outputs": [],
   "source": [
    "all_model_train['num_sell_1'] = all_model_train['num_sell'].apply(lambda x:int(x))\n",
    "del all_model_train['num_sell']\n",
    "all_model_train = all_model_train.rename(columns={'num_sell_1':'num_sell'})"
   ]
  },
  {
   "cell_type": "code",
   "execution_count": 136,
   "metadata": {},
   "outputs": [],
   "source": [
    "with open('model_data/all_train_data.pkl', 'wb') as output_file: # 保存pickle文件\n",
    "        pickle.dump(all_model_train, output_file)"
   ]
  },
  {
   "cell_type": "code",
   "execution_count": 144,
   "metadata": {},
   "outputs": [],
   "source": [
    "with open('model_data/all_train_data.pkl','rb') as f:  # 读取pickle文件\n",
    "        model_train_df_new = pickle.load(f)"
   ]
  },
  {
   "cell_type": "code",
   "execution_count": 145,
   "metadata": {},
   "outputs": [
    {
     "data": {
      "text/html": [
       "<div>\n",
       "<style scoped>\n",
       "    .dataframe tbody tr th:only-of-type {\n",
       "        vertical-align: middle;\n",
       "    }\n",
       "\n",
       "    .dataframe tbody tr th {\n",
       "        vertical-align: top;\n",
       "    }\n",
       "\n",
       "    .dataframe thead th {\n",
       "        text-align: right;\n",
       "    }\n",
       "</style>\n",
       "<table border=\"1\" class=\"dataframe\">\n",
       "  <thead>\n",
       "    <tr style=\"text-align: right;\">\n",
       "      <th></th>\n",
       "      <th>buyer_admin_id</th>\n",
       "      <th>cate_id</th>\n",
       "      <th>item_id</th>\n",
       "      <th>item_price</th>\n",
       "      <th>item_price_max</th>\n",
       "      <th>item_price_mean</th>\n",
       "      <th>item_price_median</th>\n",
       "      <th>item_price_min</th>\n",
       "      <th>item_price_sum</th>\n",
       "      <th>label</th>\n",
       "      <th>num_item</th>\n",
       "      <th>num_item_cate</th>\n",
       "      <th>num_shop</th>\n",
       "      <th>num_store_cate</th>\n",
       "      <th>pop_unpop_rate</th>\n",
       "      <th>shoptime_1</th>\n",
       "      <th>shoptime_2</th>\n",
       "      <th>shoptime_3</th>\n",
       "      <th>store_id</th>\n",
       "      <th>num_sell</th>\n",
       "    </tr>\n",
       "  </thead>\n",
       "  <tbody>\n",
       "    <tr>\n",
       "      <th>0</th>\n",
       "      <td>8362078</td>\n",
       "      <td>2324</td>\n",
       "      <td>1</td>\n",
       "      <td>4501</td>\n",
       "      <td>8742</td>\n",
       "      <td>1387.916667</td>\n",
       "      <td>147.5</td>\n",
       "      <td>38</td>\n",
       "      <td>16655</td>\n",
       "      <td>1</td>\n",
       "      <td>10</td>\n",
       "      <td>7</td>\n",
       "      <td>12</td>\n",
       "      <td>10</td>\n",
       "      <td>0.000000</td>\n",
       "      <td>4.0</td>\n",
       "      <td>6.0</td>\n",
       "      <td>2.0</td>\n",
       "      <td>10013</td>\n",
       "      <td>1</td>\n",
       "    </tr>\n",
       "    <tr>\n",
       "      <th>1</th>\n",
       "      <td>8362078</td>\n",
       "      <td>1243</td>\n",
       "      <td>3346056</td>\n",
       "      <td>168</td>\n",
       "      <td>8742</td>\n",
       "      <td>1387.916667</td>\n",
       "      <td>147.5</td>\n",
       "      <td>38</td>\n",
       "      <td>16655</td>\n",
       "      <td>1</td>\n",
       "      <td>10</td>\n",
       "      <td>7</td>\n",
       "      <td>12</td>\n",
       "      <td>10</td>\n",
       "      <td>0.000000</td>\n",
       "      <td>4.0</td>\n",
       "      <td>6.0</td>\n",
       "      <td>2.0</td>\n",
       "      <td>3185</td>\n",
       "      <td>28</td>\n",
       "    </tr>\n",
       "    <tr>\n",
       "      <th>2</th>\n",
       "      <td>2436524</td>\n",
       "      <td>1243</td>\n",
       "      <td>3346056</td>\n",
       "      <td>168</td>\n",
       "      <td>9200</td>\n",
       "      <td>940.190476</td>\n",
       "      <td>497.0</td>\n",
       "      <td>46</td>\n",
       "      <td>19744</td>\n",
       "      <td>1</td>\n",
       "      <td>21</td>\n",
       "      <td>9</td>\n",
       "      <td>21</td>\n",
       "      <td>17</td>\n",
       "      <td>0.238095</td>\n",
       "      <td>0.0</td>\n",
       "      <td>20.0</td>\n",
       "      <td>1.0</td>\n",
       "      <td>3185</td>\n",
       "      <td>28</td>\n",
       "    </tr>\n",
       "  </tbody>\n",
       "</table>\n",
       "</div>"
      ],
      "text/plain": [
       "   buyer_admin_id  cate_id  item_id  item_price  item_price_max  \\\n",
       "0         8362078     2324        1        4501            8742   \n",
       "1         8362078     1243  3346056         168            8742   \n",
       "2         2436524     1243  3346056         168            9200   \n",
       "\n",
       "   item_price_mean  item_price_median  item_price_min  item_price_sum  label  \\\n",
       "0      1387.916667              147.5              38           16655      1   \n",
       "1      1387.916667              147.5              38           16655      1   \n",
       "2       940.190476              497.0              46           19744      1   \n",
       "\n",
       "   num_item  num_item_cate  num_shop  num_store_cate  pop_unpop_rate  \\\n",
       "0        10              7        12              10        0.000000   \n",
       "1        10              7        12              10        0.000000   \n",
       "2        21              9        21              17        0.238095   \n",
       "\n",
       "   shoptime_1  shoptime_2  shoptime_3  store_id  num_sell  \n",
       "0         4.0         6.0         2.0     10013         1  \n",
       "1         4.0         6.0         2.0      3185        28  \n",
       "2         0.0        20.0         1.0      3185        28  "
      ]
     },
     "execution_count": 145,
     "metadata": {},
     "output_type": "execute_result"
    }
   ],
   "source": [
    "model_train_df_new[:3]"
   ]
  },
  {
   "cell_type": "code",
   "execution_count": null,
   "metadata": {},
   "outputs": [],
   "source": []
  },
  {
   "cell_type": "markdown",
   "metadata": {},
   "source": [
    "# 五、对得到的候选数据集Admin_id和Item_id进行清洗并提取特征信息以放入模型中进行推理"
   ]
  },
  {
   "cell_type": "markdown",
   "metadata": {},
   "source": [
    "## 1. 读取🐟佬提交数据生成特征，之后使用网络进行重新排序"
   ]
  },
  {
   "cell_type": "code",
   "execution_count": 156,
   "metadata": {},
   "outputs": [],
   "source": [
    "yulao_sub = pd.read_csv('../submission.csv',header=None)"
   ]
  },
  {
   "cell_type": "code",
   "execution_count": 158,
   "metadata": {},
   "outputs": [
    {
     "data": {
      "text/plain": [
       "(11398, 31)"
      ]
     },
     "execution_count": 158,
     "metadata": {},
     "output_type": "execute_result"
    }
   ],
   "source": [
    "yulao_sub.shape"
   ]
  },
  {
   "cell_type": "code",
   "execution_count": 340,
   "metadata": {},
   "outputs": [],
   "source": [
    "# 将🐟佬的提交信息提取出来并构成dataframe格式，将用户信息扩充到30个维度\n",
    "item_id_name = yulao_sub.iloc[:,1:].values.flatten()\n",
    "admin_id_name = np.repeat(yulao_sub[0].values,30)\n",
    "yulao_sub_feature = pd.DataFrame(columns=['buyer_admin_id','item_id'])\n",
    "yulao_sub_feature['buyer_admin_id'] = admin_id_name \n",
    "yulao_sub_feature['item_id'] = item_id_name"
   ]
  },
  {
   "cell_type": "code",
   "execution_count": 341,
   "metadata": {},
   "outputs": [
    {
     "data": {
      "text/html": [
       "<div>\n",
       "<style scoped>\n",
       "    .dataframe tbody tr th:only-of-type {\n",
       "        vertical-align: middle;\n",
       "    }\n",
       "\n",
       "    .dataframe tbody tr th {\n",
       "        vertical-align: top;\n",
       "    }\n",
       "\n",
       "    .dataframe thead th {\n",
       "        text-align: right;\n",
       "    }\n",
       "</style>\n",
       "<table border=\"1\" class=\"dataframe\">\n",
       "  <thead>\n",
       "    <tr style=\"text-align: right;\">\n",
       "      <th></th>\n",
       "      <th>buyer_admin_id</th>\n",
       "      <th>item_id</th>\n",
       "    </tr>\n",
       "  </thead>\n",
       "  <tbody>\n",
       "    <tr>\n",
       "      <th>0</th>\n",
       "      <td>152</td>\n",
       "      <td>8410857</td>\n",
       "    </tr>\n",
       "    <tr>\n",
       "      <th>1</th>\n",
       "      <td>152</td>\n",
       "      <td>7937154</td>\n",
       "    </tr>\n",
       "  </tbody>\n",
       "</table>\n",
       "</div>"
      ],
      "text/plain": [
       "   buyer_admin_id  item_id\n",
       "0             152  8410857\n",
       "1             152  7937154"
      ]
     },
     "execution_count": 341,
     "metadata": {},
     "output_type": "execute_result"
    }
   ],
   "source": [
    "yulao_sub_feature[:2]"
   ]
  },
  {
   "cell_type": "markdown",
   "metadata": {},
   "source": [
    "### Merge客户信息\n",
    "\n",
    "处理鱼佬admin_id 和item_id数据"
   ]
  },
  {
   "cell_type": "markdown",
   "metadata": {},
   "source": [
    "+ 首先查看客户信息，客户信息可能存在缺失情况"
   ]
  },
  {
   "cell_type": "code",
   "execution_count": 342,
   "metadata": {},
   "outputs": [],
   "source": [
    "# 之前生成的测试集上用户的特征信息，根据用户在测试集上的购买记录生成得到，已经去除了用户购买商品不在商品表中的数据\n",
    "with open('features/test_admin_features.pkl','rb') as f:\n",
    "    test_admin_features = pickle.load(f)  "
   ]
  },
  {
   "cell_type": "code",
   "execution_count": 343,
   "metadata": {},
   "outputs": [
    {
     "name": "stdout",
     "output_type": "stream",
     "text": [
      "缺失用户id为： [ 262400  495938  713555 1913825 2101357]\n"
     ]
    }
   ],
   "source": [
    "# 合并信息\n",
    "yulao_sub_feature = pd.merge(yulao_sub_feature, test_admin_features, on='buyer_admin_id',how='outer')\n",
    "# 缺失用户ID信息\n",
    "print('缺失用户id为： %s'%yulao_sub_feature[yulao_sub_feature.isna().values==True]['buyer_admin_id'].unique())"
   ]
  },
  {
   "cell_type": "code",
   "execution_count": 354,
   "metadata": {},
   "outputs": [
    {
     "data": {
      "text/plain": [
       "(341940, 15)"
      ]
     },
     "execution_count": 354,
     "metadata": {},
     "output_type": "execute_result"
    }
   ],
   "source": [
    "yulao_sub_feature.shape"
   ]
  },
  {
   "cell_type": "code",
   "execution_count": 347,
   "metadata": {},
   "outputs": [
    {
     "data": {
      "text/html": [
       "<div>\n",
       "<style scoped>\n",
       "    .dataframe tbody tr th:only-of-type {\n",
       "        vertical-align: middle;\n",
       "    }\n",
       "\n",
       "    .dataframe tbody tr th {\n",
       "        vertical-align: top;\n",
       "    }\n",
       "\n",
       "    .dataframe thead th {\n",
       "        text-align: right;\n",
       "    }\n",
       "</style>\n",
       "<table border=\"1\" class=\"dataframe\">\n",
       "  <thead>\n",
       "    <tr style=\"text-align: right;\">\n",
       "      <th></th>\n",
       "      <th>buyer_admin_id</th>\n",
       "      <th>item_id</th>\n",
       "      <th>num_shop</th>\n",
       "      <th>num_item</th>\n",
       "      <th>pop_unpop_rate</th>\n",
       "      <th>item_price_sum</th>\n",
       "      <th>item_price_max</th>\n",
       "      <th>item_price_min</th>\n",
       "      <th>item_price_mean</th>\n",
       "      <th>item_price_median</th>\n",
       "      <th>num_item_cate</th>\n",
       "      <th>num_store_cate</th>\n",
       "      <th>shoptime_1</th>\n",
       "      <th>shoptime_2</th>\n",
       "      <th>shoptime_3</th>\n",
       "    </tr>\n",
       "  </thead>\n",
       "  <tbody>\n",
       "    <tr>\n",
       "      <th>0</th>\n",
       "      <td>152</td>\n",
       "      <td>8410857</td>\n",
       "      <td>7.0</td>\n",
       "      <td>7.0</td>\n",
       "      <td>0.0</td>\n",
       "      <td>14538.0</td>\n",
       "      <td>7479.0</td>\n",
       "      <td>200.0</td>\n",
       "      <td>2076.857143</td>\n",
       "      <td>1279.0</td>\n",
       "      <td>4.0</td>\n",
       "      <td>7.0</td>\n",
       "      <td>7.0</td>\n",
       "      <td>0.0</td>\n",
       "      <td>0.0</td>\n",
       "    </tr>\n",
       "    <tr>\n",
       "      <th>1</th>\n",
       "      <td>152</td>\n",
       "      <td>7937154</td>\n",
       "      <td>7.0</td>\n",
       "      <td>7.0</td>\n",
       "      <td>0.0</td>\n",
       "      <td>14538.0</td>\n",
       "      <td>7479.0</td>\n",
       "      <td>200.0</td>\n",
       "      <td>2076.857143</td>\n",
       "      <td>1279.0</td>\n",
       "      <td>4.0</td>\n",
       "      <td>7.0</td>\n",
       "      <td>7.0</td>\n",
       "      <td>0.0</td>\n",
       "      <td>0.0</td>\n",
       "    </tr>\n",
       "    <tr>\n",
       "      <th>2</th>\n",
       "      <td>152</td>\n",
       "      <td>8472223</td>\n",
       "      <td>7.0</td>\n",
       "      <td>7.0</td>\n",
       "      <td>0.0</td>\n",
       "      <td>14538.0</td>\n",
       "      <td>7479.0</td>\n",
       "      <td>200.0</td>\n",
       "      <td>2076.857143</td>\n",
       "      <td>1279.0</td>\n",
       "      <td>4.0</td>\n",
       "      <td>7.0</td>\n",
       "      <td>7.0</td>\n",
       "      <td>0.0</td>\n",
       "      <td>0.0</td>\n",
       "    </tr>\n",
       "    <tr>\n",
       "      <th>3</th>\n",
       "      <td>152</td>\n",
       "      <td>4016066</td>\n",
       "      <td>7.0</td>\n",
       "      <td>7.0</td>\n",
       "      <td>0.0</td>\n",
       "      <td>14538.0</td>\n",
       "      <td>7479.0</td>\n",
       "      <td>200.0</td>\n",
       "      <td>2076.857143</td>\n",
       "      <td>1279.0</td>\n",
       "      <td>4.0</td>\n",
       "      <td>7.0</td>\n",
       "      <td>7.0</td>\n",
       "      <td>0.0</td>\n",
       "      <td>0.0</td>\n",
       "    </tr>\n",
       "  </tbody>\n",
       "</table>\n",
       "</div>"
      ],
      "text/plain": [
       "   buyer_admin_id  item_id  num_shop  num_item  pop_unpop_rate  \\\n",
       "0             152  8410857       7.0       7.0             0.0   \n",
       "1             152  7937154       7.0       7.0             0.0   \n",
       "2             152  8472223       7.0       7.0             0.0   \n",
       "3             152  4016066       7.0       7.0             0.0   \n",
       "\n",
       "   item_price_sum  item_price_max  item_price_min  item_price_mean  \\\n",
       "0         14538.0          7479.0           200.0      2076.857143   \n",
       "1         14538.0          7479.0           200.0      2076.857143   \n",
       "2         14538.0          7479.0           200.0      2076.857143   \n",
       "3         14538.0          7479.0           200.0      2076.857143   \n",
       "\n",
       "   item_price_median  num_item_cate  num_store_cate  shoptime_1  shoptime_2  \\\n",
       "0             1279.0            4.0             7.0         7.0         0.0   \n",
       "1             1279.0            4.0             7.0         7.0         0.0   \n",
       "2             1279.0            4.0             7.0         7.0         0.0   \n",
       "3             1279.0            4.0             7.0         7.0         0.0   \n",
       "\n",
       "   shoptime_3  \n",
       "0         0.0  \n",
       "1         0.0  \n",
       "2         0.0  \n",
       "3         0.0  "
      ]
     },
     "execution_count": 347,
     "metadata": {},
     "output_type": "execute_result"
    }
   ],
   "source": [
    "yulao_sub_feature[:4]  # 合并用户信息之后的数据"
   ]
  },
  {
   "cell_type": "code",
   "execution_count": 349,
   "metadata": {},
   "outputs": [
    {
     "data": {
      "text/plain": [
       "buyer_admin_id         0\n",
       "item_id                0\n",
       "num_shop             150\n",
       "num_item             150\n",
       "pop_unpop_rate       150\n",
       "item_price_sum       150\n",
       "item_price_max       150\n",
       "item_price_min       150\n",
       "item_price_mean      150\n",
       "item_price_median    150\n",
       "num_item_cate        150\n",
       "num_store_cate       150\n",
       "shoptime_1           150\n",
       "shoptime_2           150\n",
       "shoptime_3           150\n",
       "dtype: int64"
      ]
     },
     "execution_count": 349,
     "metadata": {},
     "output_type": "execute_result"
    }
   ],
   "source": [
    "# 统计缺失值情况\n",
    "yulao_sub_feature.isna().sum()"
   ]
  },
  {
   "cell_type": "markdown",
   "metadata": {},
   "source": [
    " 读取原始test的csv文件，查看缺失用户的购买记录"
   ]
  },
  {
   "cell_type": "code",
   "execution_count": 344,
   "metadata": {},
   "outputs": [],
   "source": [
    "test_df_src = pd.read_csv('../csv/Antai_AE_round1_test_20190626.csv') "
   ]
  },
  {
   "cell_type": "code",
   "execution_count": 345,
   "metadata": {},
   "outputs": [
    {
     "data": {
      "text/html": [
       "<div>\n",
       "<style scoped>\n",
       "    .dataframe tbody tr th:only-of-type {\n",
       "        vertical-align: middle;\n",
       "    }\n",
       "\n",
       "    .dataframe tbody tr th {\n",
       "        vertical-align: top;\n",
       "    }\n",
       "\n",
       "    .dataframe thead th {\n",
       "        text-align: right;\n",
       "    }\n",
       "</style>\n",
       "<table border=\"1\" class=\"dataframe\">\n",
       "  <thead>\n",
       "    <tr style=\"text-align: right;\">\n",
       "      <th></th>\n",
       "      <th>buyer_country_id</th>\n",
       "      <th>buyer_admin_id</th>\n",
       "      <th>item_id</th>\n",
       "      <th>create_order_time</th>\n",
       "      <th>irank</th>\n",
       "    </tr>\n",
       "  </thead>\n",
       "  <tbody>\n",
       "    <tr>\n",
       "      <th>88847</th>\n",
       "      <td>yy</td>\n",
       "      <td>262400</td>\n",
       "      <td>10045561</td>\n",
       "      <td>2018-08-21 12:36:04</td>\n",
       "      <td>5</td>\n",
       "    </tr>\n",
       "    <tr>\n",
       "      <th>88848</th>\n",
       "      <td>yy</td>\n",
       "      <td>262400</td>\n",
       "      <td>10045561</td>\n",
       "      <td>2018-08-21 12:36:04</td>\n",
       "      <td>3</td>\n",
       "    </tr>\n",
       "    <tr>\n",
       "      <th>88849</th>\n",
       "      <td>yy</td>\n",
       "      <td>262400</td>\n",
       "      <td>10045561</td>\n",
       "      <td>2018-08-21 12:36:04</td>\n",
       "      <td>6</td>\n",
       "    </tr>\n",
       "    <tr>\n",
       "      <th>88850</th>\n",
       "      <td>yy</td>\n",
       "      <td>262400</td>\n",
       "      <td>10045561</td>\n",
       "      <td>2018-08-21 12:36:04</td>\n",
       "      <td>8</td>\n",
       "    </tr>\n",
       "    <tr>\n",
       "      <th>88851</th>\n",
       "      <td>yy</td>\n",
       "      <td>262400</td>\n",
       "      <td>10045561</td>\n",
       "      <td>2018-08-21 12:36:04</td>\n",
       "      <td>13</td>\n",
       "    </tr>\n",
       "    <tr>\n",
       "      <th>88852</th>\n",
       "      <td>yy</td>\n",
       "      <td>262400</td>\n",
       "      <td>10045561</td>\n",
       "      <td>2018-08-21 12:36:04</td>\n",
       "      <td>9</td>\n",
       "    </tr>\n",
       "    <tr>\n",
       "      <th>88853</th>\n",
       "      <td>yy</td>\n",
       "      <td>262400</td>\n",
       "      <td>10045561</td>\n",
       "      <td>2018-08-21 12:36:04</td>\n",
       "      <td>4</td>\n",
       "    </tr>\n",
       "    <tr>\n",
       "      <th>88854</th>\n",
       "      <td>yy</td>\n",
       "      <td>262400</td>\n",
       "      <td>10045561</td>\n",
       "      <td>2018-08-21 12:36:04</td>\n",
       "      <td>2</td>\n",
       "    </tr>\n",
       "    <tr>\n",
       "      <th>88855</th>\n",
       "      <td>yy</td>\n",
       "      <td>262400</td>\n",
       "      <td>10045561</td>\n",
       "      <td>2018-08-21 12:36:04</td>\n",
       "      <td>11</td>\n",
       "    </tr>\n",
       "    <tr>\n",
       "      <th>88856</th>\n",
       "      <td>yy</td>\n",
       "      <td>262400</td>\n",
       "      <td>10045561</td>\n",
       "      <td>2018-08-21 12:36:04</td>\n",
       "      <td>12</td>\n",
       "    </tr>\n",
       "    <tr>\n",
       "      <th>88857</th>\n",
       "      <td>yy</td>\n",
       "      <td>262400</td>\n",
       "      <td>10045561</td>\n",
       "      <td>2018-08-21 12:36:04</td>\n",
       "      <td>7</td>\n",
       "    </tr>\n",
       "    <tr>\n",
       "      <th>88858</th>\n",
       "      <td>yy</td>\n",
       "      <td>262400</td>\n",
       "      <td>10045561</td>\n",
       "      <td>2018-08-21 12:36:04</td>\n",
       "      <td>10</td>\n",
       "    </tr>\n",
       "  </tbody>\n",
       "</table>\n",
       "</div>"
      ],
      "text/plain": [
       "      buyer_country_id  buyer_admin_id   item_id    create_order_time  irank\n",
       "88847               yy          262400  10045561  2018-08-21 12:36:04      5\n",
       "88848               yy          262400  10045561  2018-08-21 12:36:04      3\n",
       "88849               yy          262400  10045561  2018-08-21 12:36:04      6\n",
       "88850               yy          262400  10045561  2018-08-21 12:36:04      8\n",
       "88851               yy          262400  10045561  2018-08-21 12:36:04     13\n",
       "88852               yy          262400  10045561  2018-08-21 12:36:04      9\n",
       "88853               yy          262400  10045561  2018-08-21 12:36:04      4\n",
       "88854               yy          262400  10045561  2018-08-21 12:36:04      2\n",
       "88855               yy          262400  10045561  2018-08-21 12:36:04     11\n",
       "88856               yy          262400  10045561  2018-08-21 12:36:04     12\n",
       "88857               yy          262400  10045561  2018-08-21 12:36:04      7\n",
       "88858               yy          262400  10045561  2018-08-21 12:36:04     10"
      ]
     },
     "execution_count": 345,
     "metadata": {},
     "output_type": "execute_result"
    }
   ],
   "source": [
    "test_df_src[test_df_src['buyer_admin_id'] == 262400]"
   ]
  },
  {
   "cell_type": "code",
   "execution_count": 346,
   "metadata": {},
   "outputs": [
    {
     "data": {
      "text/html": [
       "<div>\n",
       "<style scoped>\n",
       "    .dataframe tbody tr th:only-of-type {\n",
       "        vertical-align: middle;\n",
       "    }\n",
       "\n",
       "    .dataframe tbody tr th {\n",
       "        vertical-align: top;\n",
       "    }\n",
       "\n",
       "    .dataframe thead th {\n",
       "        text-align: right;\n",
       "    }\n",
       "</style>\n",
       "<table border=\"1\" class=\"dataframe\">\n",
       "  <thead>\n",
       "    <tr style=\"text-align: right;\">\n",
       "      <th></th>\n",
       "      <th>item_id</th>\n",
       "      <th>cate_id</th>\n",
       "      <th>store_id</th>\n",
       "      <th>item_price</th>\n",
       "    </tr>\n",
       "  </thead>\n",
       "  <tbody>\n",
       "  </tbody>\n",
       "</table>\n",
       "</div>"
      ],
      "text/plain": [
       "Empty DataFrame\n",
       "Columns: [item_id, cate_id, store_id, item_price]\n",
       "Index: []"
      ]
     },
     "execution_count": 346,
     "metadata": {},
     "output_type": "execute_result"
    }
   ],
   "source": [
    "item_df[item_df['item_id'] ==10045561]"
   ]
  },
  {
   "cell_type": "markdown",
   "metadata": {},
   "source": [
    "+ 小结：\n",
    "\n",
    "有五个顾客id为[262400,  495938,  713555, 1913825, 2101357]他们从头至尾只买了一件商品，且该商品没有出现在商品表中，所以可以直接推断这5个客户之后还是只买该商品"
   ]
  },
  {
   "cell_type": "markdown",
   "metadata": {},
   "source": [
    "这5个用户不用放入模型进行训练，所以直接删除缺失的admin_id信息"
   ]
  },
  {
   "cell_type": "code",
   "execution_count": 355,
   "metadata": {},
   "outputs": [],
   "source": [
    "yulao_sub_feature.dropna(axis=0, how='any', inplace=True)  # 删除缺失值所在的行"
   ]
  },
  {
   "cell_type": "code",
   "execution_count": 358,
   "metadata": {},
   "outputs": [
    {
     "data": {
      "text/plain": [
       "buyer_admin_id       0\n",
       "item_id              0\n",
       "num_shop             0\n",
       "num_item             0\n",
       "pop_unpop_rate       0\n",
       "item_price_sum       0\n",
       "item_price_max       0\n",
       "item_price_min       0\n",
       "item_price_mean      0\n",
       "item_price_median    0\n",
       "num_item_cate        0\n",
       "num_store_cate       0\n",
       "shoptime_1           0\n",
       "shoptime_2           0\n",
       "shoptime_3           0\n",
       "dtype: int64"
      ]
     },
     "execution_count": 358,
     "metadata": {},
     "output_type": "execute_result"
    }
   ],
   "source": [
    "yulao_sub_feature.isna().sum()"
   ]
  },
  {
   "cell_type": "markdown",
   "metadata": {},
   "source": [
    "### Merge商品信息"
   ]
  },
  {
   "cell_type": "code",
   "execution_count": 351,
   "metadata": {},
   "outputs": [],
   "source": [
    "# item 可能同时存在训练集和测试集中，所以同时读取两个数据集中item特征信息进行统计\n",
    "with open('features/test_item_features.pkl','rb') as f:\n",
    "    test_item_features = pickle.load(f)\n",
    "with open('features/train_item_features.pkl','rb') as f:\n",
    "    train_item_features = pickle.load(f)"
   ]
  },
  {
   "cell_type": "code",
   "execution_count": 265,
   "metadata": {},
   "outputs": [
    {
     "data": {
      "text/html": [
       "<div>\n",
       "<style scoped>\n",
       "    .dataframe tbody tr th:only-of-type {\n",
       "        vertical-align: middle;\n",
       "    }\n",
       "\n",
       "    .dataframe tbody tr th {\n",
       "        vertical-align: top;\n",
       "    }\n",
       "\n",
       "    .dataframe thead th {\n",
       "        text-align: right;\n",
       "    }\n",
       "</style>\n",
       "<table border=\"1\" class=\"dataframe\">\n",
       "  <thead>\n",
       "    <tr style=\"text-align: right;\">\n",
       "      <th></th>\n",
       "      <th>item_id</th>\n",
       "      <th>num_sell</th>\n",
       "      <th>cate_id</th>\n",
       "      <th>store_id</th>\n",
       "      <th>item_price</th>\n",
       "    </tr>\n",
       "  </thead>\n",
       "  <tbody>\n",
       "    <tr>\n",
       "      <th>0</th>\n",
       "      <td>189045</td>\n",
       "      <td>1</td>\n",
       "      <td>1506</td>\n",
       "      <td>11599</td>\n",
       "      <td>237</td>\n",
       "    </tr>\n",
       "    <tr>\n",
       "      <th>1</th>\n",
       "      <td>10713670</td>\n",
       "      <td>1</td>\n",
       "      <td>1911</td>\n",
       "      <td>39939</td>\n",
       "      <td>101</td>\n",
       "    </tr>\n",
       "    <tr>\n",
       "      <th>2</th>\n",
       "      <td>10546322</td>\n",
       "      <td>1</td>\n",
       "      <td>1553</td>\n",
       "      <td>65849</td>\n",
       "      <td>40</td>\n",
       "    </tr>\n",
       "  </tbody>\n",
       "</table>\n",
       "</div>"
      ],
      "text/plain": [
       "    item_id  num_sell  cate_id  store_id  item_price\n",
       "0    189045         1     1506     11599         237\n",
       "1  10713670         1     1911     39939         101\n",
       "2  10546322         1     1553     65849          40"
      ]
     },
     "execution_count": 265,
     "metadata": {},
     "output_type": "execute_result"
    }
   ],
   "source": [
    "test_item_features[:3]"
   ]
  },
  {
   "cell_type": "code",
   "execution_count": 359,
   "metadata": {},
   "outputs": [
    {
     "data": {
      "text/plain": [
       "buyer_admin_id         0\n",
       "item_id                0\n",
       "num_shop               0\n",
       "num_item               0\n",
       "pop_unpop_rate         0\n",
       "item_price_sum         0\n",
       "item_price_max         0\n",
       "item_price_min         0\n",
       "item_price_mean        0\n",
       "item_price_median      0\n",
       "num_item_cate          0\n",
       "num_store_cate         0\n",
       "shoptime_1             0\n",
       "shoptime_2             0\n",
       "shoptime_3             0\n",
       "num_sell             412\n",
       "cate_id              412\n",
       "store_id             412\n",
       "item_price           412\n",
       "dtype: int64"
      ]
     },
     "execution_count": 359,
     "metadata": {},
     "output_type": "execute_result"
    }
   ],
   "source": [
    "yulao_sub_feature_testitem = pd.merge(yulao_sub_feature,test_item_features,on='item_id',how='left') # merge训练集中商品信息\n",
    "yulao_sub_feature_testitem.isna().sum() # 统计缺失值"
   ]
  },
  {
   "cell_type": "code",
   "execution_count": 362,
   "metadata": {},
   "outputs": [],
   "source": [
    "missing_item  = yulao_sub_feature_testitem[yulao_sub_feature_testitem.isna().values==True]['item_id'].unique()"
   ]
  },
  {
   "cell_type": "code",
   "execution_count": 369,
   "metadata": {},
   "outputs": [
    {
     "name": "stdout",
     "output_type": "stream",
     "text": [
      "缺失商品的个数有： 298\n"
     ]
    }
   ],
   "source": [
    "print('缺失商品的个数有： %s'%missing_item.shape[0])"
   ]
  },
  {
   "cell_type": "code",
   "execution_count": 367,
   "metadata": {},
   "outputs": [
    {
     "data": {
      "text/plain": [
       "set()"
      ]
     },
     "execution_count": 367,
     "metadata": {},
     "output_type": "execute_result"
    }
   ],
   "source": [
    "set(item_df['item_id'].to_list()).intersection(set(missing_item))  # 所以缺失的这些商品信息就是在商品属性表中缺失的商品信息"
   ]
  },
  {
   "cell_type": "markdown",
   "metadata": {},
   "source": [
    "如果直接将这些缺失删除是否会影响admin的个数？"
   ]
  },
  {
   "cell_type": "code",
   "execution_count": 394,
   "metadata": {},
   "outputs": [],
   "source": [
    "yulao_sub_feature_testitem_drop = yulao_sub_feature_testitem.dropna(axis=0,how='any')"
   ]
  },
  {
   "cell_type": "markdown",
   "metadata": {},
   "source": [
    "查看缺失用户情况"
   ]
  },
  {
   "cell_type": "code",
   "execution_count": 377,
   "metadata": {},
   "outputs": [
    {
     "data": {
      "text/plain": [
       "set()"
      ]
     },
     "execution_count": 377,
     "metadata": {},
     "output_type": "execute_result"
    }
   ],
   "source": [
    "set(yulao_sub_feature_testitem_drop['buyer_admin_id'].unique()).difference(set(yulao_sub_feature_testitem['buyer_admin_id'].unique()))"
   ]
  },
  {
   "cell_type": "markdown",
   "metadata": {},
   "source": [
    "所以用户没有减少，只是减少了一些item，所以这里就将其进行删除，该商品不放入模型进行训练，在进行提交的时候这些商品就保持原来所在的位置"
   ]
  },
  {
   "cell_type": "code",
   "execution_count": 395,
   "metadata": {},
   "outputs": [
    {
     "data": {
      "text/html": [
       "<div>\n",
       "<style scoped>\n",
       "    .dataframe tbody tr th:only-of-type {\n",
       "        vertical-align: middle;\n",
       "    }\n",
       "\n",
       "    .dataframe tbody tr th {\n",
       "        vertical-align: top;\n",
       "    }\n",
       "\n",
       "    .dataframe thead th {\n",
       "        text-align: right;\n",
       "    }\n",
       "</style>\n",
       "<table border=\"1\" class=\"dataframe\">\n",
       "  <thead>\n",
       "    <tr style=\"text-align: right;\">\n",
       "      <th></th>\n",
       "      <th>buyer_admin_id</th>\n",
       "      <th>item_id</th>\n",
       "      <th>num_shop</th>\n",
       "      <th>num_item</th>\n",
       "      <th>pop_unpop_rate</th>\n",
       "      <th>item_price_sum</th>\n",
       "      <th>item_price_max</th>\n",
       "      <th>item_price_min</th>\n",
       "      <th>item_price_mean</th>\n",
       "      <th>item_price_median</th>\n",
       "      <th>num_item_cate</th>\n",
       "      <th>num_store_cate</th>\n",
       "      <th>shoptime_1</th>\n",
       "      <th>shoptime_2</th>\n",
       "      <th>shoptime_3</th>\n",
       "      <th>num_sell</th>\n",
       "      <th>cate_id</th>\n",
       "      <th>store_id</th>\n",
       "      <th>item_price</th>\n",
       "    </tr>\n",
       "  </thead>\n",
       "  <tbody>\n",
       "    <tr>\n",
       "      <th>0</th>\n",
       "      <td>152</td>\n",
       "      <td>8410857</td>\n",
       "      <td>7.0</td>\n",
       "      <td>7.0</td>\n",
       "      <td>0.0</td>\n",
       "      <td>14538.0</td>\n",
       "      <td>7479.0</td>\n",
       "      <td>200.0</td>\n",
       "      <td>2076.857143</td>\n",
       "      <td>1279.0</td>\n",
       "      <td>4.0</td>\n",
       "      <td>7.0</td>\n",
       "      <td>7.0</td>\n",
       "      <td>0.0</td>\n",
       "      <td>0.0</td>\n",
       "      <td>1.0</td>\n",
       "      <td>2686.0</td>\n",
       "      <td>6213.0</td>\n",
       "      <td>800.0</td>\n",
       "    </tr>\n",
       "    <tr>\n",
       "      <th>1</th>\n",
       "      <td>152</td>\n",
       "      <td>7937154</td>\n",
       "      <td>7.0</td>\n",
       "      <td>7.0</td>\n",
       "      <td>0.0</td>\n",
       "      <td>14538.0</td>\n",
       "      <td>7479.0</td>\n",
       "      <td>200.0</td>\n",
       "      <td>2076.857143</td>\n",
       "      <td>1279.0</td>\n",
       "      <td>4.0</td>\n",
       "      <td>7.0</td>\n",
       "      <td>7.0</td>\n",
       "      <td>0.0</td>\n",
       "      <td>0.0</td>\n",
       "      <td>1.0</td>\n",
       "      <td>2686.0</td>\n",
       "      <td>40393.0</td>\n",
       "      <td>1301.0</td>\n",
       "    </tr>\n",
       "    <tr>\n",
       "      <th>2</th>\n",
       "      <td>152</td>\n",
       "      <td>8472223</td>\n",
       "      <td>7.0</td>\n",
       "      <td>7.0</td>\n",
       "      <td>0.0</td>\n",
       "      <td>14538.0</td>\n",
       "      <td>7479.0</td>\n",
       "      <td>200.0</td>\n",
       "      <td>2076.857143</td>\n",
       "      <td>1279.0</td>\n",
       "      <td>4.0</td>\n",
       "      <td>7.0</td>\n",
       "      <td>7.0</td>\n",
       "      <td>0.0</td>\n",
       "      <td>0.0</td>\n",
       "      <td>1.0</td>\n",
       "      <td>2686.0</td>\n",
       "      <td>79168.0</td>\n",
       "      <td>1234.0</td>\n",
       "    </tr>\n",
       "    <tr>\n",
       "      <th>3</th>\n",
       "      <td>152</td>\n",
       "      <td>4016066</td>\n",
       "      <td>7.0</td>\n",
       "      <td>7.0</td>\n",
       "      <td>0.0</td>\n",
       "      <td>14538.0</td>\n",
       "      <td>7479.0</td>\n",
       "      <td>200.0</td>\n",
       "      <td>2076.857143</td>\n",
       "      <td>1279.0</td>\n",
       "      <td>4.0</td>\n",
       "      <td>7.0</td>\n",
       "      <td>7.0</td>\n",
       "      <td>0.0</td>\n",
       "      <td>0.0</td>\n",
       "      <td>1.0</td>\n",
       "      <td>3834.0</td>\n",
       "      <td>54345.0</td>\n",
       "      <td>2245.0</td>\n",
       "    </tr>\n",
       "  </tbody>\n",
       "</table>\n",
       "</div>"
      ],
      "text/plain": [
       "   buyer_admin_id  item_id  num_shop  num_item  pop_unpop_rate  \\\n",
       "0             152  8410857       7.0       7.0             0.0   \n",
       "1             152  7937154       7.0       7.0             0.0   \n",
       "2             152  8472223       7.0       7.0             0.0   \n",
       "3             152  4016066       7.0       7.0             0.0   \n",
       "\n",
       "   item_price_sum  item_price_max  item_price_min  item_price_mean  \\\n",
       "0         14538.0          7479.0           200.0      2076.857143   \n",
       "1         14538.0          7479.0           200.0      2076.857143   \n",
       "2         14538.0          7479.0           200.0      2076.857143   \n",
       "3         14538.0          7479.0           200.0      2076.857143   \n",
       "\n",
       "   item_price_median  num_item_cate  num_store_cate  shoptime_1  shoptime_2  \\\n",
       "0             1279.0            4.0             7.0         7.0         0.0   \n",
       "1             1279.0            4.0             7.0         7.0         0.0   \n",
       "2             1279.0            4.0             7.0         7.0         0.0   \n",
       "3             1279.0            4.0             7.0         7.0         0.0   \n",
       "\n",
       "   shoptime_3  num_sell  cate_id  store_id  item_price  \n",
       "0         0.0       1.0   2686.0    6213.0       800.0  \n",
       "1         0.0       1.0   2686.0   40393.0      1301.0  \n",
       "2         0.0       1.0   2686.0   79168.0      1234.0  \n",
       "3         0.0       1.0   3834.0   54345.0      2245.0  "
      ]
     },
     "execution_count": 395,
     "metadata": {},
     "output_type": "execute_result"
    }
   ],
   "source": [
    "yulao_sub_feature_testitem_drop[:4]"
   ]
  },
  {
   "cell_type": "code",
   "execution_count": 396,
   "metadata": {},
   "outputs": [
    {
     "data": {
      "text/plain": [
       "(11393,)"
      ]
     },
     "execution_count": 396,
     "metadata": {},
     "output_type": "execute_result"
    }
   ],
   "source": [
    "yulao_sub_feature_testitem_drop['buyer_admin_id'].unique().shape"
   ]
  },
  {
   "cell_type": "markdown",
   "metadata": {},
   "source": [
    "修改item数据类型并生成sub pickle文件"
   ]
  },
  {
   "cell_type": "code",
   "execution_count": 397,
   "metadata": {},
   "outputs": [
    {
     "name": "stderr",
     "output_type": "stream",
     "text": [
      "/home/ai/anaconda3/lib/python3.7/site-packages/ipykernel_launcher.py:1: SettingWithCopyWarning: \n",
      "A value is trying to be set on a copy of a slice from a DataFrame.\n",
      "Try using .loc[row_indexer,col_indexer] = value instead\n",
      "\n",
      "See the caveats in the documentation: http://pandas.pydata.org/pandas-docs/stable/indexing.html#indexing-view-versus-copy\n",
      "  \"\"\"Entry point for launching an IPython kernel.\n",
      "/home/ai/anaconda3/lib/python3.7/site-packages/ipykernel_launcher.py:2: SettingWithCopyWarning: \n",
      "A value is trying to be set on a copy of a slice from a DataFrame.\n",
      "Try using .loc[row_indexer,col_indexer] = value instead\n",
      "\n",
      "See the caveats in the documentation: http://pandas.pydata.org/pandas-docs/stable/indexing.html#indexing-view-versus-copy\n",
      "  \n",
      "/home/ai/anaconda3/lib/python3.7/site-packages/ipykernel_launcher.py:3: SettingWithCopyWarning: \n",
      "A value is trying to be set on a copy of a slice from a DataFrame.\n",
      "Try using .loc[row_indexer,col_indexer] = value instead\n",
      "\n",
      "See the caveats in the documentation: http://pandas.pydata.org/pandas-docs/stable/indexing.html#indexing-view-versus-copy\n",
      "  This is separate from the ipykernel package so we can avoid doing imports until\n",
      "/home/ai/anaconda3/lib/python3.7/site-packages/ipykernel_launcher.py:4: SettingWithCopyWarning: \n",
      "A value is trying to be set on a copy of a slice from a DataFrame.\n",
      "Try using .loc[row_indexer,col_indexer] = value instead\n",
      "\n",
      "See the caveats in the documentation: http://pandas.pydata.org/pandas-docs/stable/indexing.html#indexing-view-versus-copy\n",
      "  after removing the cwd from sys.path.\n"
     ]
    }
   ],
   "source": [
    "yulao_sub_feature_testitem_drop['item_price'] = yulao_sub_feature_testitem_drop['item_price'].astype(np.int32)\n",
    "yulao_sub_feature_testitem_drop['num_sell'] = yulao_sub_feature_testitem_drop['num_sell'].astype(np.int32)\n",
    "yulao_sub_feature_testitem_drop['cate_id'] = yulao_sub_feature_testitem_drop['cate_id'].astype(np.int32)\n",
    "yulao_sub_feature_testitem_drop['store_id'] = yulao_sub_feature_testitem_drop['store_id'].astype(np.int32)"
   ]
  },
  {
   "cell_type": "code",
   "execution_count": 398,
   "metadata": {},
   "outputs": [
    {
     "data": {
      "text/html": [
       "<div>\n",
       "<style scoped>\n",
       "    .dataframe tbody tr th:only-of-type {\n",
       "        vertical-align: middle;\n",
       "    }\n",
       "\n",
       "    .dataframe tbody tr th {\n",
       "        vertical-align: top;\n",
       "    }\n",
       "\n",
       "    .dataframe thead th {\n",
       "        text-align: right;\n",
       "    }\n",
       "</style>\n",
       "<table border=\"1\" class=\"dataframe\">\n",
       "  <thead>\n",
       "    <tr style=\"text-align: right;\">\n",
       "      <th></th>\n",
       "      <th>buyer_admin_id</th>\n",
       "      <th>item_id</th>\n",
       "      <th>num_shop</th>\n",
       "      <th>num_item</th>\n",
       "      <th>pop_unpop_rate</th>\n",
       "      <th>item_price_sum</th>\n",
       "      <th>item_price_max</th>\n",
       "      <th>item_price_min</th>\n",
       "      <th>item_price_mean</th>\n",
       "      <th>item_price_median</th>\n",
       "      <th>num_item_cate</th>\n",
       "      <th>num_store_cate</th>\n",
       "      <th>shoptime_1</th>\n",
       "      <th>shoptime_2</th>\n",
       "      <th>shoptime_3</th>\n",
       "      <th>num_sell</th>\n",
       "      <th>cate_id</th>\n",
       "      <th>store_id</th>\n",
       "      <th>item_price</th>\n",
       "    </tr>\n",
       "  </thead>\n",
       "  <tbody>\n",
       "    <tr>\n",
       "      <th>0</th>\n",
       "      <td>152</td>\n",
       "      <td>8410857</td>\n",
       "      <td>7.0</td>\n",
       "      <td>7.0</td>\n",
       "      <td>0.0</td>\n",
       "      <td>14538.0</td>\n",
       "      <td>7479.0</td>\n",
       "      <td>200.0</td>\n",
       "      <td>2076.857143</td>\n",
       "      <td>1279.0</td>\n",
       "      <td>4.0</td>\n",
       "      <td>7.0</td>\n",
       "      <td>7.0</td>\n",
       "      <td>0.0</td>\n",
       "      <td>0.0</td>\n",
       "      <td>1</td>\n",
       "      <td>2686</td>\n",
       "      <td>6213</td>\n",
       "      <td>800</td>\n",
       "    </tr>\n",
       "    <tr>\n",
       "      <th>1</th>\n",
       "      <td>152</td>\n",
       "      <td>7937154</td>\n",
       "      <td>7.0</td>\n",
       "      <td>7.0</td>\n",
       "      <td>0.0</td>\n",
       "      <td>14538.0</td>\n",
       "      <td>7479.0</td>\n",
       "      <td>200.0</td>\n",
       "      <td>2076.857143</td>\n",
       "      <td>1279.0</td>\n",
       "      <td>4.0</td>\n",
       "      <td>7.0</td>\n",
       "      <td>7.0</td>\n",
       "      <td>0.0</td>\n",
       "      <td>0.0</td>\n",
       "      <td>1</td>\n",
       "      <td>2686</td>\n",
       "      <td>40393</td>\n",
       "      <td>1301</td>\n",
       "    </tr>\n",
       "    <tr>\n",
       "      <th>2</th>\n",
       "      <td>152</td>\n",
       "      <td>8472223</td>\n",
       "      <td>7.0</td>\n",
       "      <td>7.0</td>\n",
       "      <td>0.0</td>\n",
       "      <td>14538.0</td>\n",
       "      <td>7479.0</td>\n",
       "      <td>200.0</td>\n",
       "      <td>2076.857143</td>\n",
       "      <td>1279.0</td>\n",
       "      <td>4.0</td>\n",
       "      <td>7.0</td>\n",
       "      <td>7.0</td>\n",
       "      <td>0.0</td>\n",
       "      <td>0.0</td>\n",
       "      <td>1</td>\n",
       "      <td>2686</td>\n",
       "      <td>79168</td>\n",
       "      <td>1234</td>\n",
       "    </tr>\n",
       "  </tbody>\n",
       "</table>\n",
       "</div>"
      ],
      "text/plain": [
       "   buyer_admin_id  item_id  num_shop  num_item  pop_unpop_rate  \\\n",
       "0             152  8410857       7.0       7.0             0.0   \n",
       "1             152  7937154       7.0       7.0             0.0   \n",
       "2             152  8472223       7.0       7.0             0.0   \n",
       "\n",
       "   item_price_sum  item_price_max  item_price_min  item_price_mean  \\\n",
       "0         14538.0          7479.0           200.0      2076.857143   \n",
       "1         14538.0          7479.0           200.0      2076.857143   \n",
       "2         14538.0          7479.0           200.0      2076.857143   \n",
       "\n",
       "   item_price_median  num_item_cate  num_store_cate  shoptime_1  shoptime_2  \\\n",
       "0             1279.0            4.0             7.0         7.0         0.0   \n",
       "1             1279.0            4.0             7.0         7.0         0.0   \n",
       "2             1279.0            4.0             7.0         7.0         0.0   \n",
       "\n",
       "   shoptime_3  num_sell  cate_id  store_id  item_price  \n",
       "0         0.0         1     2686      6213         800  \n",
       "1         0.0         1     2686     40393        1301  \n",
       "2         0.0         1     2686     79168        1234  "
      ]
     },
     "execution_count": 398,
     "metadata": {},
     "output_type": "execute_result"
    }
   ],
   "source": [
    "yulao_sub_feature_testitem_drop[:3]"
   ]
  },
  {
   "cell_type": "code",
   "execution_count": 399,
   "metadata": {},
   "outputs": [
    {
     "data": {
      "text/plain": [
       "1359"
      ]
     },
     "execution_count": 399,
     "metadata": {},
     "output_type": "execute_result"
    }
   ],
   "source": [
    "yulao_sub_feature_testitem_drop['num_sell'].max()"
   ]
  },
  {
   "cell_type": "code",
   "execution_count": 403,
   "metadata": {},
   "outputs": [
    {
     "name": "stderr",
     "output_type": "stream",
     "text": [
      "/home/ai/anaconda3/lib/python3.7/site-packages/ipykernel_launcher.py:1: SettingWithCopyWarning: \n",
      "A value is trying to be set on a copy of a slice from a DataFrame.\n",
      "Try using .loc[row_indexer,col_indexer] = value instead\n",
      "\n",
      "See the caveats in the documentation: http://pandas.pydata.org/pandas-docs/stable/indexing.html#indexing-view-versus-copy\n",
      "  \"\"\"Entry point for launching an IPython kernel.\n"
     ]
    }
   ],
   "source": [
    "yulao_sub_feature_testitem_drop['label'] = -1"
   ]
  },
  {
   "cell_type": "code",
   "execution_count": 404,
   "metadata": {},
   "outputs": [
    {
     "data": {
      "text/plain": [
       "buyer_admin_id       0\n",
       "item_id              0\n",
       "num_shop             0\n",
       "num_item             0\n",
       "pop_unpop_rate       0\n",
       "item_price_sum       0\n",
       "item_price_max       0\n",
       "item_price_min       0\n",
       "item_price_mean      0\n",
       "item_price_median    0\n",
       "num_item_cate        0\n",
       "num_store_cate       0\n",
       "shoptime_1           0\n",
       "shoptime_2           0\n",
       "shoptime_3           0\n",
       "num_sell             0\n",
       "cate_id              0\n",
       "store_id             0\n",
       "item_price           0\n",
       "label                0\n",
       "dtype: int64"
      ]
     },
     "execution_count": 404,
     "metadata": {},
     "output_type": "execute_result"
    }
   ],
   "source": [
    "yulao_sub_feature_testitem_drop.isna().sum()"
   ]
  },
  {
   "cell_type": "code",
   "execution_count": 406,
   "metadata": {},
   "outputs": [],
   "source": [
    "with open('model_data/yulao_sub_data1.pkl', 'wb') as output_file: # 保存pickle文件\n",
    "        pickle.dump(yulao_sub_feature_testitem_drop, output_file)"
   ]
  }
 ],
 "metadata": {
  "kernelspec": {
   "display_name": "Python 3",
   "language": "python",
   "name": "python3"
  },
  "language_info": {
   "codemirror_mode": {
    "name": "ipython",
    "version": 3
   },
   "file_extension": ".py",
   "mimetype": "text/x-python",
   "name": "python",
   "nbconvert_exporter": "python",
   "pygments_lexer": "ipython3",
   "version": "3.7.3"
  }
 },
 "nbformat": 4,
 "nbformat_minor": 2
}
