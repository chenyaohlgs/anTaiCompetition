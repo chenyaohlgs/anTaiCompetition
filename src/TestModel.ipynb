{
 "cells": [
  {
   "cell_type": "markdown",
   "metadata": {},
   "source": [
    "# 尝试建立模型提取特征"
   ]
  },
  {
   "cell_type": "markdown",
   "metadata": {},
   "source": [
    "## 读取数据"
   ]
  },
  {
   "cell_type": "code",
   "execution_count": 3,
   "metadata": {},
   "outputs": [],
   "source": [
    "import numpy as np\n",
    "import pandas as pd\n",
    "import pickle\n",
    "import os"
   ]
  },
  {
   "cell_type": "code",
   "execution_count": 276,
   "metadata": {},
   "outputs": [],
   "source": [
    "TRAIN_PATH = 'model_data/all_train_data.pkl'\n",
    "TEST_PATH = 'model_data/test_data.pkl'\n",
    "# SUB_DATA_PATH = 'model_data/yulao_sub_data1.pkl'\n",
    "SUB_DATA_PATH = 'model_data/yulao_sub_data2.pkl'"
   ]
  },
  {
   "cell_type": "code",
   "execution_count": 277,
   "metadata": {},
   "outputs": [],
   "source": [
    "with open(TRAIN_PATH,'rb') as f:\n",
    "    model_train_df = pickle.load(f)\n",
    "with open(TEST_PATH,'rb') as f:\n",
    "    model_test_df = pickle.load(f)\n",
    "with open(SUB_DATA_PATH,'rb') as f:\n",
    "    model_sub_df = pickle.load(f)"
   ]
  },
  {
   "cell_type": "code",
   "execution_count": 48,
   "metadata": {},
   "outputs": [
    {
     "data": {
      "text/html": [
       "<div>\n",
       "<style scoped>\n",
       "    .dataframe tbody tr th:only-of-type {\n",
       "        vertical-align: middle;\n",
       "    }\n",
       "\n",
       "    .dataframe tbody tr th {\n",
       "        vertical-align: top;\n",
       "    }\n",
       "\n",
       "    .dataframe thead th {\n",
       "        text-align: right;\n",
       "    }\n",
       "</style>\n",
       "<table border=\"1\" class=\"dataframe\">\n",
       "  <thead>\n",
       "    <tr style=\"text-align: right;\">\n",
       "      <th></th>\n",
       "      <th>buyer_admin_id</th>\n",
       "      <th>cate_id</th>\n",
       "      <th>item_id</th>\n",
       "      <th>item_price</th>\n",
       "      <th>item_price_max</th>\n",
       "      <th>item_price_mean</th>\n",
       "      <th>item_price_median</th>\n",
       "      <th>item_price_min</th>\n",
       "      <th>item_price_sum</th>\n",
       "      <th>label</th>\n",
       "      <th>num_item</th>\n",
       "      <th>num_item_cate</th>\n",
       "      <th>num_sell</th>\n",
       "      <th>num_shop</th>\n",
       "      <th>num_store_cate</th>\n",
       "      <th>pop_unpop_rate</th>\n",
       "      <th>shoptime_1</th>\n",
       "      <th>shoptime_2</th>\n",
       "      <th>shoptime_3</th>\n",
       "      <th>store_id</th>\n",
       "    </tr>\n",
       "  </thead>\n",
       "  <tbody>\n",
       "    <tr>\n",
       "      <th>0</th>\n",
       "      <td>8362078</td>\n",
       "      <td>2324</td>\n",
       "      <td>1</td>\n",
       "      <td>4501</td>\n",
       "      <td>8742</td>\n",
       "      <td>1387.916667</td>\n",
       "      <td>147.5</td>\n",
       "      <td>38</td>\n",
       "      <td>16655</td>\n",
       "      <td>1</td>\n",
       "      <td>10</td>\n",
       "      <td>7</td>\n",
       "      <td>1.0</td>\n",
       "      <td>12</td>\n",
       "      <td>10</td>\n",
       "      <td>0.000000</td>\n",
       "      <td>4.0</td>\n",
       "      <td>6.0</td>\n",
       "      <td>2.0</td>\n",
       "      <td>10013</td>\n",
       "    </tr>\n",
       "    <tr>\n",
       "      <th>1</th>\n",
       "      <td>8362078</td>\n",
       "      <td>1243</td>\n",
       "      <td>3346056</td>\n",
       "      <td>168</td>\n",
       "      <td>8742</td>\n",
       "      <td>1387.916667</td>\n",
       "      <td>147.5</td>\n",
       "      <td>38</td>\n",
       "      <td>16655</td>\n",
       "      <td>1</td>\n",
       "      <td>10</td>\n",
       "      <td>7</td>\n",
       "      <td>28.0</td>\n",
       "      <td>12</td>\n",
       "      <td>10</td>\n",
       "      <td>0.000000</td>\n",
       "      <td>4.0</td>\n",
       "      <td>6.0</td>\n",
       "      <td>2.0</td>\n",
       "      <td>3185</td>\n",
       "    </tr>\n",
       "    <tr>\n",
       "      <th>2</th>\n",
       "      <td>2436524</td>\n",
       "      <td>1243</td>\n",
       "      <td>3346056</td>\n",
       "      <td>168</td>\n",
       "      <td>9200</td>\n",
       "      <td>940.190476</td>\n",
       "      <td>497.0</td>\n",
       "      <td>46</td>\n",
       "      <td>19744</td>\n",
       "      <td>1</td>\n",
       "      <td>21</td>\n",
       "      <td>9</td>\n",
       "      <td>28.0</td>\n",
       "      <td>21</td>\n",
       "      <td>17</td>\n",
       "      <td>0.238095</td>\n",
       "      <td>0.0</td>\n",
       "      <td>20.0</td>\n",
       "      <td>1.0</td>\n",
       "      <td>3185</td>\n",
       "    </tr>\n",
       "    <tr>\n",
       "      <th>3</th>\n",
       "      <td>2792675</td>\n",
       "      <td>1243</td>\n",
       "      <td>3346056</td>\n",
       "      <td>168</td>\n",
       "      <td>19339</td>\n",
       "      <td>1929.440000</td>\n",
       "      <td>200.0</td>\n",
       "      <td>47</td>\n",
       "      <td>48236</td>\n",
       "      <td>1</td>\n",
       "      <td>25</td>\n",
       "      <td>15</td>\n",
       "      <td>28.0</td>\n",
       "      <td>25</td>\n",
       "      <td>19</td>\n",
       "      <td>0.120000</td>\n",
       "      <td>5.0</td>\n",
       "      <td>16.0</td>\n",
       "      <td>4.0</td>\n",
       "      <td>3185</td>\n",
       "    </tr>\n",
       "  </tbody>\n",
       "</table>\n",
       "</div>"
      ],
      "text/plain": [
       "   buyer_admin_id  cate_id  item_id  item_price  item_price_max  \\\n",
       "0         8362078     2324        1        4501            8742   \n",
       "1         8362078     1243  3346056         168            8742   \n",
       "2         2436524     1243  3346056         168            9200   \n",
       "3         2792675     1243  3346056         168           19339   \n",
       "\n",
       "   item_price_mean  item_price_median  item_price_min  item_price_sum  label  \\\n",
       "0      1387.916667              147.5              38           16655      1   \n",
       "1      1387.916667              147.5              38           16655      1   \n",
       "2       940.190476              497.0              46           19744      1   \n",
       "3      1929.440000              200.0              47           48236      1   \n",
       "\n",
       "   num_item  num_item_cate  num_sell  num_shop  num_store_cate  \\\n",
       "0        10              7       1.0        12              10   \n",
       "1        10              7      28.0        12              10   \n",
       "2        21              9      28.0        21              17   \n",
       "3        25             15      28.0        25              19   \n",
       "\n",
       "   pop_unpop_rate  shoptime_1  shoptime_2  shoptime_3  store_id  \n",
       "0        0.000000         4.0         6.0         2.0     10013  \n",
       "1        0.000000         4.0         6.0         2.0      3185  \n",
       "2        0.238095         0.0        20.0         1.0      3185  \n",
       "3        0.120000         5.0        16.0         4.0      3185  "
      ]
     },
     "execution_count": 48,
     "metadata": {},
     "output_type": "execute_result"
    }
   ],
   "source": [
    "model_train_df[:4]"
   ]
  },
  {
   "cell_type": "code",
   "execution_count": 278,
   "metadata": {},
   "outputs": [
    {
     "data": {
      "text/html": [
       "<div>\n",
       "<style scoped>\n",
       "    .dataframe tbody tr th:only-of-type {\n",
       "        vertical-align: middle;\n",
       "    }\n",
       "\n",
       "    .dataframe tbody tr th {\n",
       "        vertical-align: top;\n",
       "    }\n",
       "\n",
       "    .dataframe thead th {\n",
       "        text-align: right;\n",
       "    }\n",
       "</style>\n",
       "<table border=\"1\" class=\"dataframe\">\n",
       "  <thead>\n",
       "    <tr style=\"text-align: right;\">\n",
       "      <th></th>\n",
       "      <th>buyer_admin_id</th>\n",
       "      <th>item_id</th>\n",
       "      <th>num_shop</th>\n",
       "      <th>num_item</th>\n",
       "      <th>pop_unpop_rate</th>\n",
       "      <th>item_price_sum</th>\n",
       "      <th>item_price_max</th>\n",
       "      <th>item_price_min</th>\n",
       "      <th>item_price_mean</th>\n",
       "      <th>item_price_median</th>\n",
       "      <th>num_item_cate</th>\n",
       "      <th>num_store_cate</th>\n",
       "      <th>shoptime_1</th>\n",
       "      <th>shoptime_2</th>\n",
       "      <th>shoptime_3</th>\n",
       "      <th>num_sell</th>\n",
       "      <th>cate_id</th>\n",
       "      <th>store_id</th>\n",
       "      <th>item_price</th>\n",
       "      <th>label</th>\n",
       "    </tr>\n",
       "  </thead>\n",
       "  <tbody>\n",
       "    <tr>\n",
       "      <th>0</th>\n",
       "      <td>152</td>\n",
       "      <td>8410857</td>\n",
       "      <td>7.0</td>\n",
       "      <td>7.0</td>\n",
       "      <td>0.0</td>\n",
       "      <td>14538.0</td>\n",
       "      <td>7479.0</td>\n",
       "      <td>200.0</td>\n",
       "      <td>2076.857143</td>\n",
       "      <td>1279.0</td>\n",
       "      <td>4.0</td>\n",
       "      <td>7.0</td>\n",
       "      <td>7.0</td>\n",
       "      <td>0.0</td>\n",
       "      <td>0.0</td>\n",
       "      <td>2</td>\n",
       "      <td>2686</td>\n",
       "      <td>6213</td>\n",
       "      <td>800</td>\n",
       "      <td>-1</td>\n",
       "    </tr>\n",
       "    <tr>\n",
       "      <th>1</th>\n",
       "      <td>152</td>\n",
       "      <td>7937154</td>\n",
       "      <td>7.0</td>\n",
       "      <td>7.0</td>\n",
       "      <td>0.0</td>\n",
       "      <td>14538.0</td>\n",
       "      <td>7479.0</td>\n",
       "      <td>200.0</td>\n",
       "      <td>2076.857143</td>\n",
       "      <td>1279.0</td>\n",
       "      <td>4.0</td>\n",
       "      <td>7.0</td>\n",
       "      <td>7.0</td>\n",
       "      <td>0.0</td>\n",
       "      <td>0.0</td>\n",
       "      <td>61</td>\n",
       "      <td>2686</td>\n",
       "      <td>40393</td>\n",
       "      <td>1301</td>\n",
       "      <td>-1</td>\n",
       "    </tr>\n",
       "    <tr>\n",
       "      <th>2</th>\n",
       "      <td>152</td>\n",
       "      <td>8472223</td>\n",
       "      <td>7.0</td>\n",
       "      <td>7.0</td>\n",
       "      <td>0.0</td>\n",
       "      <td>14538.0</td>\n",
       "      <td>7479.0</td>\n",
       "      <td>200.0</td>\n",
       "      <td>2076.857143</td>\n",
       "      <td>1279.0</td>\n",
       "      <td>4.0</td>\n",
       "      <td>7.0</td>\n",
       "      <td>7.0</td>\n",
       "      <td>0.0</td>\n",
       "      <td>0.0</td>\n",
       "      <td>6</td>\n",
       "      <td>2686</td>\n",
       "      <td>79168</td>\n",
       "      <td>1234</td>\n",
       "      <td>-1</td>\n",
       "    </tr>\n",
       "  </tbody>\n",
       "</table>\n",
       "</div>"
      ],
      "text/plain": [
       "   buyer_admin_id  item_id  num_shop  num_item  pop_unpop_rate  \\\n",
       "0             152  8410857       7.0       7.0             0.0   \n",
       "1             152  7937154       7.0       7.0             0.0   \n",
       "2             152  8472223       7.0       7.0             0.0   \n",
       "\n",
       "   item_price_sum  item_price_max  item_price_min  item_price_mean  \\\n",
       "0         14538.0          7479.0           200.0      2076.857143   \n",
       "1         14538.0          7479.0           200.0      2076.857143   \n",
       "2         14538.0          7479.0           200.0      2076.857143   \n",
       "\n",
       "   item_price_median  num_item_cate  num_store_cate  shoptime_1  shoptime_2  \\\n",
       "0             1279.0            4.0             7.0         7.0         0.0   \n",
       "1             1279.0            4.0             7.0         7.0         0.0   \n",
       "2             1279.0            4.0             7.0         7.0         0.0   \n",
       "\n",
       "   shoptime_3  num_sell  cate_id  store_id  item_price  label  \n",
       "0         0.0         2     2686      6213         800     -1  \n",
       "1         0.0        61     2686     40393        1301     -1  \n",
       "2         0.0         6     2686     79168        1234     -1  "
      ]
     },
     "execution_count": 278,
     "metadata": {},
     "output_type": "execute_result"
    }
   ],
   "source": [
    "model_sub_df[:3]"
   ]
  },
  {
   "cell_type": "code",
   "execution_count": 8,
   "metadata": {},
   "outputs": [
    {
     "data": {
      "text/plain": [
       "(23064775, 20)"
      ]
     },
     "execution_count": 8,
     "metadata": {},
     "output_type": "execute_result"
    }
   ],
   "source": [
    "model_train_df.shape"
   ]
  },
  {
   "cell_type": "code",
   "execution_count": 66,
   "metadata": {},
   "outputs": [
    {
     "data": {
      "text/plain": [
       "(341378, 20)"
      ]
     },
     "execution_count": 66,
     "metadata": {},
     "output_type": "execute_result"
    }
   ],
   "source": [
    "model_sub_df.shape"
   ]
  },
  {
   "cell_type": "markdown",
   "metadata": {},
   "source": [
    "## 创建Dataset"
   ]
  },
  {
   "cell_type": "code",
   "execution_count": 9,
   "metadata": {},
   "outputs": [],
   "source": [
    "import torch\n",
    "from torch.utils.data import Dataset, DataLoader\n",
    "import torch.nn as nn\n",
    "from torch.autograd import Variable\n",
    "import torch.nn.functional as F"
   ]
  },
  {
   "cell_type": "code",
   "execution_count": 10,
   "metadata": {},
   "outputs": [],
   "source": [
    "def data_norm(data_df):\n",
    "    # 先整理列名方便后面检索，然后进行数据的归一化\n",
    "    data_df = data_df[['buyer_admin_id',\n",
    "                       'num_shop',  #购买次数，\n",
    "                       'num_item',  #购买商品件数，\n",
    "                       'pop_unpop_rate',  #热销商品与非热销商品件数的比重，\n",
    "                       'item_price_sum',  # 商品总价格\n",
    "                       'item_price_max',  #商品最大价格\n",
    "                       'item_price_min',  #商品最小价格\n",
    "                       'item_price_mean',  #商品价格均值\n",
    "                       'item_price_median', #商品价格中值\n",
    "                       'num_item_cate',  #商品类别数\n",
    "                       'num_store_cate', #商店类别数\n",
    "                       'shoptime_1',  #在0-8时间段购买商品数所占比重\n",
    "                       'shoptime_2', #在8-16时间段...\n",
    "                       'shoptime_3',  #在16-24时间段..\n",
    "                       'item_id',\n",
    "                       'num_sell',\n",
    "                       'cate_id',\n",
    "                       'store_id',\n",
    "                       'item_price',\n",
    "                       'label'\n",
    "                        ]]\n",
    "    data_df.iloc[:,1:14] = data_df.iloc[:,1:14].apply(lambda x : (x-np.min(x))/(np.max(x)-np.min(x))) # 数据相关归一化\n",
    "    return data_df"
   ]
  },
  {
   "cell_type": "code",
   "execution_count": 11,
   "metadata": {},
   "outputs": [],
   "source": [
    "class AntaiDataset(Dataset):\n",
    "    def __init__(self,data_df):\n",
    "        self.data_df = data_df\n",
    "        \n",
    "    def __len__(self):\n",
    "        return self.data_df.shape[0]\n",
    "    \n",
    "    def __getitem__(self, index):\n",
    "        data_series = self.data_df.iloc[index]\n",
    "        label = data_series['label']\n",
    "        admin_features = data_series.iloc[:14].values\n",
    "        item_features = data_series.iloc[14:-1].values\n",
    "        return admin_features.astype(np.float32), item_features.astype(np.float32), np.array(label)"
   ]
  },
  {
   "cell_type": "markdown",
   "metadata": {},
   "source": [
    "## 构建模型"
   ]
  },
  {
   "cell_type": "markdown",
   "metadata": {},
   "source": [
    "模型参数"
   ]
  },
  {
   "cell_type": "code",
   "execution_count": 67,
   "metadata": {},
   "outputs": [
    {
     "name": "stdout",
     "output_type": "stream",
     "text": [
      "用户ID数: 13046722\n",
      "商品ID数: 13046735\n",
      "商品卖出数: 112660\n",
      "商品种类数目: 4244\n",
      "商店种类数: 95106\n",
      "商品价格: 20231\n"
     ]
    }
   ],
   "source": [
    "# 用户ID数\n",
    "admin_id_max = model_train_df['buyer_admin_id'].max()+1\n",
    "print('用户ID数: %s'%admin_id_max)\n",
    "item_id_max =  model_train_df['item_id'].max()+1\n",
    "print('商品ID数: %s'%item_id_max)\n",
    "# 商品卖出数\n",
    "item_sellnum_max =  model_train_df['num_sell'].max()+1\n",
    "print('商品卖出数: %s'%item_sellnum_max)\n",
    "# 商品种类数目\n",
    "cate_id_max  = model_train_df['cate_id'].max()+1\n",
    "print('商品种类数目: %s'%cate_id_max)\n",
    "# 商店种类数\n",
    "store_id_max = model_train_df['store_id'].max()+1\n",
    "print('商店种类数: %s'%store_id_max)\n",
    "#商品价格\n",
    "item_price_max = model_train_df['item_price'].max()+1\n",
    "print('商品价格: %s'%item_price_max)\n",
    "# embedding 维度\n",
    "embed_dim = 64\n",
    "# fc 大小\n",
    "fc1_dim = 128\n",
    "fc2_dim = 256\n",
    "\n",
    "#admin features\n",
    "admin_feature_dim = 13"
   ]
  },
  {
   "cell_type": "markdown",
   "metadata": {},
   "source": [
    "模型初始化"
   ]
  },
  {
   "cell_type": "code",
   "execution_count": 74,
   "metadata": {},
   "outputs": [],
   "source": [
    "import config as cfg\n",
    "import ipdb"
   ]
  },
  {
   "cell_type": "code",
   "execution_count": 75,
   "metadata": {},
   "outputs": [],
   "source": [
    "class AntaiRSModel(nn.Module):\n",
    "    def __init__(self):\n",
    "        super(AntaiRSModel,self).__init__()\n",
    "        torch.manual_seed(1) # 随机初始化embedding举证\n",
    "#         print('init admin id embedding layer...')\n",
    "#         self.admin_id_embeds = nn.Embedding(admin_id_max, cfg.EMBED_DIM) # 64\n",
    "#         print('init item id embedding layer...')\n",
    "#         self.item_id_embeds = nn.Embedding(item_id_max, cfg.EMBED_DIM)\n",
    "        print('init item sellnum embedding layer...')\n",
    "        self.item_sellnum_embeds = nn.Embedding(item_sellnum_max, cfg.EMBED_DIM)\n",
    "        print('init cate id embedding layer...')\n",
    "        self.cate_id_embeds = nn.Embedding(cate_id_max, cfg.EMBED_DIM)\n",
    "        print('init store id embedding layer...')\n",
    "        self.store_id_embeds = nn.Embedding(store_id_max, cfg.EMBED_DIM)\n",
    "        print('init item price embedding layer...')\n",
    "        self.item_price_embeds = nn.Embedding(item_price_max, cfg.EMBED_DIM)\n",
    "        print('init dense layer...')\n",
    "        # 用户dense 初始化\n",
    "        self.uid_fc = nn.Linear(cfg.EMBED_DIM, cfg.FC1_DIM)\n",
    "        self.admin_fc1 = nn.Linear(cfg.ADMIN_FEATURE_DIM,cfg.FC1_DIM)\n",
    "        self.admin_fc2 = nn.Linear(cfg.FC1_DIM,cfg.FC2_DIM)\n",
    "        # 商品dense 初始化\n",
    "#         self.itemid_fc = nn.Linear(cfg.EMBED_DIM, cfg.FC1_DIM)\n",
    "        self.sellnum_fc = nn.Linear(cfg.EMBED_DIM, cfg.FC1_DIM)\n",
    "        self.cateid_fc = nn.Linear(cfg.EMBED_DIM, cfg.FC1_DIM)\n",
    "        self.storeid_fc = nn.Linear(cfg.EMBED_DIM, cfg.FC1_DIM)\n",
    "        self.itemprice = nn.Linear(cfg.EMBED_DIM, cfg.FC1_DIM)\n",
    "        self.item_fc = nn.Linear(cfg.FC1_DIM*4, cfg.FC2_DIM)\n",
    "        \n",
    "    def forward(self,admin, item): # bs x 14, bs x5\n",
    "        # 用户信息embedding\n",
    "#         uid_embed_layer = self.admin_id_embeds(admin[:,0].long()) # bs x 1x embed_dim => bs x 64\n",
    "#         # 用户dense\n",
    "#         uid_dense = self.uid_fc(uid_embed_layer) # bs  x128\n",
    "        admin_dense = self.admin_fc1(admin[:,1:])  # bs x 128\n",
    "        # 用户concat + dense\n",
    "#         admin_concat = torch.cat((uid_dense, admin_dense),dim=1) # bsx 256\n",
    "        admin_concat_out = self.admin_fc2(admin_dense)  # bsx 256\n",
    "        # 商品信息embedding\n",
    "#         itemid_embed_layer = self.item_id_embeds(item[:,0].long())  # bsx64\n",
    "        sellnum_embed_layer = self.item_sellnum_embeds(item[:,1].long()) # bs x64\n",
    "        cateid_embed_layer = self.cate_id_embeds(item[:,2].long()) # bs x64\n",
    "        storeid_embed_layer = self.store_id_embeds(item[:,3].long()) # bs x64\n",
    "        itemprice_embed_layer = self.item_price_embeds(item[:,4].long())  # 64\n",
    "        # 商品dense\n",
    "        sellnum_dense = self.sellnum_fc(sellnum_embed_layer) # bsx  128\n",
    "        cateid_dense = self.cateid_fc(cateid_embed_layer) # bs x128\n",
    "        storeid_dense = self.storeid_fc(storeid_embed_layer)  # bs x 128\n",
    "        itemprice_dense = self.itemprice(itemprice_embed_layer)  # bs  x128\n",
    "        # 商品concat + dense\n",
    "        item_concat = torch.cat([sellnum_dense,cateid_dense,storeid_dense, itemprice_dense],dim=1)  # bs x 128*4\n",
    "        item_concat_out = self.item_fc(item_concat)  # bs x 256\n",
    "        out = torch.sigmoid(torch.sum(admin_concat_out*item_concat_out,1))    # bs x 1    \n",
    "        return out"
   ]
  },
  {
   "cell_type": "markdown",
   "metadata": {},
   "source": [
    "## 预测最后结果"
   ]
  },
  {
   "cell_type": "code",
   "execution_count": 88,
   "metadata": {},
   "outputs": [],
   "source": [
    "os.environ['CUDA_VISIBLE_DEVICES'] = '0'\n",
    "device = torch.device('cuda')"
   ]
  },
  {
   "cell_type": "code",
   "execution_count": 71,
   "metadata": {},
   "outputs": [],
   "source": [
    "MODEL_PATH = '/users/qipccc/competitions/antai/src/stored_data/antaiv1_bs2048_lr0.001_20190730_07_28_32_21.9136/model/model_best'"
   ]
  },
  {
   "cell_type": "code",
   "execution_count": 81,
   "metadata": {},
   "outputs": [
    {
     "name": "stdout",
     "output_type": "stream",
     "text": [
      "init item sellnum embedding layer...\n",
      "init cate id embedding layer...\n",
      "init store id embedding layer...\n",
      "init item price embedding layer...\n",
      "init dense layer...\n"
     ]
    }
   ],
   "source": [
    "model = AntaiRSModel()\n",
    "model = nn.DataParallel(model) # 因为训练的时候进行了封装，所以读取模型的时候也需要进行封装后读取模型参数"
   ]
  },
  {
   "cell_type": "code",
   "execution_count": 84,
   "metadata": {},
   "outputs": [
    {
     "data": {
      "text/plain": [
       "IncompatibleKeys(missing_keys=[], unexpected_keys=[])"
      ]
     },
     "execution_count": 84,
     "metadata": {},
     "output_type": "execute_result"
    }
   ],
   "source": [
    "state = torch.load(MODEL_PATH)\n",
    "model.load_state_dict(state)"
   ]
  },
  {
   "cell_type": "code",
   "execution_count": 279,
   "metadata": {},
   "outputs": [],
   "source": [
    "model_sub_df = data_norm(model_sub_df)\n",
    "anti_sub_dataset = AntaiDataset(model_sub_df)\n",
    "data_loader = DataLoader(anti_sub_dataset,batch_size=32, num_workers=32)"
   ]
  },
  {
   "cell_type": "code",
   "execution_count": 280,
   "metadata": {},
   "outputs": [
    {
     "name": "stdout",
     "output_type": "stream",
     "text": [
      "step : 10668\r"
     ]
    }
   ],
   "source": [
    "model.to(device)\n",
    "model.eval()\n",
    "all_pred = []\n",
    "for i, batch_input in enumerate(data_loader):\n",
    "#     ipdb.set_trace()\n",
    "    admin = batch_input[0].to(device)\n",
    "    item = batch_input[1].to(device)\n",
    "    pred = model(admin, item)\n",
    "    all_pred.extend(pred.cpu().detach().numpy())\n",
    "    print('step : %d'%i, end='\\r')"
   ]
  },
  {
   "cell_type": "code",
   "execution_count": 281,
   "metadata": {},
   "outputs": [],
   "source": [
    "with open('sub_data/yulao_sub_pred_2.pkl', 'wb') as output_file: # 保存概率预测值\n",
    "        pickle.dump(np.array(all_pred), output_file)"
   ]
  },
  {
   "cell_type": "markdown",
   "metadata": {},
   "source": [
    "# 生成最后的submission文件"
   ]
  },
  {
   "cell_type": "code",
   "execution_count": 205,
   "metadata": {},
   "outputs": [],
   "source": [
    "from tqdm import trange"
   ]
  },
  {
   "cell_type": "code",
   "execution_count": 282,
   "metadata": {},
   "outputs": [],
   "source": [
    "yulao_sub = pd.read_csv('../submission.csv',header=None)"
   ]
  },
  {
   "cell_type": "code",
   "execution_count": 283,
   "metadata": {},
   "outputs": [
    {
     "data": {
      "text/plain": [
       "(11398, 31)"
      ]
     },
     "execution_count": 283,
     "metadata": {},
     "output_type": "execute_result"
    }
   ],
   "source": [
    "yulao_sub.shape"
   ]
  },
  {
   "cell_type": "code",
   "execution_count": 284,
   "metadata": {},
   "outputs": [
    {
     "data": {
      "text/html": [
       "<div>\n",
       "<style scoped>\n",
       "    .dataframe tbody tr th:only-of-type {\n",
       "        vertical-align: middle;\n",
       "    }\n",
       "\n",
       "    .dataframe tbody tr th {\n",
       "        vertical-align: top;\n",
       "    }\n",
       "\n",
       "    .dataframe thead th {\n",
       "        text-align: right;\n",
       "    }\n",
       "</style>\n",
       "<table border=\"1\" class=\"dataframe\">\n",
       "  <thead>\n",
       "    <tr style=\"text-align: right;\">\n",
       "      <th></th>\n",
       "      <th>buyer_admin_id</th>\n",
       "      <th>num_shop</th>\n",
       "      <th>num_item</th>\n",
       "      <th>pop_unpop_rate</th>\n",
       "      <th>item_price_sum</th>\n",
       "      <th>item_price_max</th>\n",
       "      <th>item_price_min</th>\n",
       "      <th>item_price_mean</th>\n",
       "      <th>item_price_median</th>\n",
       "      <th>num_item_cate</th>\n",
       "      <th>num_store_cate</th>\n",
       "      <th>shoptime_1</th>\n",
       "      <th>shoptime_2</th>\n",
       "      <th>shoptime_3</th>\n",
       "      <th>item_id</th>\n",
       "      <th>num_sell</th>\n",
       "      <th>cate_id</th>\n",
       "      <th>store_id</th>\n",
       "      <th>item_price</th>\n",
       "      <th>label</th>\n",
       "    </tr>\n",
       "  </thead>\n",
       "  <tbody>\n",
       "    <tr>\n",
       "      <th>0</th>\n",
       "      <td>152</td>\n",
       "      <td>0.004332</td>\n",
       "      <td>0.027397</td>\n",
       "      <td>0.0</td>\n",
       "      <td>0.002501</td>\n",
       "      <td>0.375258</td>\n",
       "      <td>0.023637</td>\n",
       "      <td>0.155643</td>\n",
       "      <td>0.08642</td>\n",
       "      <td>0.0375</td>\n",
       "      <td>0.047619</td>\n",
       "      <td>0.010417</td>\n",
       "      <td>0.0</td>\n",
       "      <td>0.0</td>\n",
       "      <td>8410857</td>\n",
       "      <td>2</td>\n",
       "      <td>2686</td>\n",
       "      <td>6213</td>\n",
       "      <td>800</td>\n",
       "      <td>-1</td>\n",
       "    </tr>\n",
       "    <tr>\n",
       "      <th>1</th>\n",
       "      <td>152</td>\n",
       "      <td>0.004332</td>\n",
       "      <td>0.027397</td>\n",
       "      <td>0.0</td>\n",
       "      <td>0.002501</td>\n",
       "      <td>0.375258</td>\n",
       "      <td>0.023637</td>\n",
       "      <td>0.155643</td>\n",
       "      <td>0.08642</td>\n",
       "      <td>0.0375</td>\n",
       "      <td>0.047619</td>\n",
       "      <td>0.010417</td>\n",
       "      <td>0.0</td>\n",
       "      <td>0.0</td>\n",
       "      <td>7937154</td>\n",
       "      <td>61</td>\n",
       "      <td>2686</td>\n",
       "      <td>40393</td>\n",
       "      <td>1301</td>\n",
       "      <td>-1</td>\n",
       "    </tr>\n",
       "    <tr>\n",
       "      <th>2</th>\n",
       "      <td>152</td>\n",
       "      <td>0.004332</td>\n",
       "      <td>0.027397</td>\n",
       "      <td>0.0</td>\n",
       "      <td>0.002501</td>\n",
       "      <td>0.375258</td>\n",
       "      <td>0.023637</td>\n",
       "      <td>0.155643</td>\n",
       "      <td>0.08642</td>\n",
       "      <td>0.0375</td>\n",
       "      <td>0.047619</td>\n",
       "      <td>0.010417</td>\n",
       "      <td>0.0</td>\n",
       "      <td>0.0</td>\n",
       "      <td>8472223</td>\n",
       "      <td>6</td>\n",
       "      <td>2686</td>\n",
       "      <td>79168</td>\n",
       "      <td>1234</td>\n",
       "      <td>-1</td>\n",
       "    </tr>\n",
       "  </tbody>\n",
       "</table>\n",
       "</div>"
      ],
      "text/plain": [
       "   buyer_admin_id  num_shop  num_item  pop_unpop_rate  item_price_sum  \\\n",
       "0             152  0.004332  0.027397             0.0        0.002501   \n",
       "1             152  0.004332  0.027397             0.0        0.002501   \n",
       "2             152  0.004332  0.027397             0.0        0.002501   \n",
       "\n",
       "   item_price_max  item_price_min  item_price_mean  item_price_median  \\\n",
       "0        0.375258        0.023637         0.155643            0.08642   \n",
       "1        0.375258        0.023637         0.155643            0.08642   \n",
       "2        0.375258        0.023637         0.155643            0.08642   \n",
       "\n",
       "   num_item_cate  num_store_cate  shoptime_1  shoptime_2  shoptime_3  item_id  \\\n",
       "0         0.0375        0.047619    0.010417         0.0         0.0  8410857   \n",
       "1         0.0375        0.047619    0.010417         0.0         0.0  7937154   \n",
       "2         0.0375        0.047619    0.010417         0.0         0.0  8472223   \n",
       "\n",
       "   num_sell  cate_id  store_id  item_price  label  \n",
       "0         2     2686      6213         800     -1  \n",
       "1        61     2686     40393        1301     -1  \n",
       "2         6     2686     79168        1234     -1  "
      ]
     },
     "execution_count": 284,
     "metadata": {},
     "output_type": "execute_result"
    }
   ],
   "source": [
    "model_sub_df[:3]"
   ]
  },
  {
   "cell_type": "code",
   "execution_count": 285,
   "metadata": {},
   "outputs": [],
   "source": [
    "sub_df = pd.DataFrame(columns=['buyer_admin_id','item_id','pred'])\n",
    "sub_df['buyer_admin_id'] = model_sub_df['buyer_admin_id']\n",
    "sub_df['item_id'] = model_sub_df['item_id']\n",
    "sub_df['pred'] = all_pred"
   ]
  },
  {
   "cell_type": "code",
   "execution_count": 286,
   "metadata": {},
   "outputs": [
    {
     "name": "stderr",
     "output_type": "stream",
     "text": [
      "100%|██████████| 11398/11398 [00:19<00:00, 589.60it/s]\n"
     ]
    }
   ],
   "source": [
    "yulao_sub = pd.read_csv('../submission.csv',header=None)\n",
    "new_sub = yulao_sub.values\n",
    "for i in trange(new_sub.shape[0]):\n",
    "    admin_id = new_sub[i,0]\n",
    "    single_admin = sub_df[sub_df['buyer_admin_id'] == admin_id]\n",
    "    if len(single_admin) != 0:\n",
    "        single_admin_item_pred = single_admin.sort_values('pred',ascending=False)['item_id'].to_list()  # 针对每一个admin得到其对应的可能购买的商品的排序\n",
    "        if len(single_admin_item_pred) == 30:\n",
    "            new_sub[i,1:] = single_admin_item_pred\n",
    "        else:\n",
    "            tmp_items = []\n",
    "            k = 0\n",
    "            for j in range(1,31):\n",
    "                if new_sub[i,j] in single_admin_item_pred:\n",
    "                    tmp_items.append(single_admin_item_pred[k])\n",
    "                    k +=1 \n",
    "                else:\n",
    "                    tmp_items.append(new_sub[i,j])\n",
    "            new_sub[i,1:] = tmp_items"
   ]
  },
  {
   "cell_type": "code",
   "execution_count": 287,
   "metadata": {},
   "outputs": [
    {
     "data": {
      "text/plain": [
       "array([    8464,  2093281,  5111816,  2686621, 11246931,  4569637,\n",
       "         115517,  8632863,  4157502,   476783,  2076583,  8084213,\n",
       "        8941084,  8673091, 11055796,  8994530,  4781216,  8673145,\n",
       "        1160884,  2094230,    70466,  8797012,   992917,  4589918,\n",
       "       10322913,  2914396,  9024875,   463417,  8241688,   747330,\n",
       "         662430])"
      ]
     },
     "execution_count": 287,
     "metadata": {},
     "output_type": "execute_result"
    }
   ],
   "source": [
    "new_sub[12]"
   ]
  },
  {
   "cell_type": "code",
   "execution_count": 288,
   "metadata": {},
   "outputs": [
    {
     "data": {
      "text/plain": [
       "array([  7,  12,  21,  53,  60, 149, 153, 219, 227, 234])"
      ]
     },
     "execution_count": 288,
     "metadata": {},
     "output_type": "execute_result"
    }
   ],
   "source": [
    "# admin商品信息不足30条id\n",
    "admin_item_count = sub_df.groupby(['buyer_admin_id']).size().to_list()\n",
    "no30admin_idx = np.where(np.array(admin_item_count) != 30)[0]\n",
    "no30admin_id = sub_df['buyer_admin_id'].unique()[no30admin_idx]\n",
    "no30admin_id[:10]\n",
    "no30admin_idx[:10]"
   ]
  },
  {
   "cell_type": "code",
   "execution_count": 252,
   "metadata": {
    "collapsed": true
   },
   "outputs": [
    {
     "data": {
      "text/plain": [
       "[2093281,\n",
       " 5111816,\n",
       " 11246931,\n",
       " 4569637,\n",
       " 115517,\n",
       " 8632863,\n",
       " 4157502,\n",
       " 476783,\n",
       " 2076583,\n",
       " 8084213,\n",
       " 8941084,\n",
       " 11055796,\n",
       " 8673091,\n",
       " 4781216,\n",
       " 8673145,\n",
       " 2094230,\n",
       " 70466,\n",
       " 8797012,\n",
       " 4589918,\n",
       " 10322913,\n",
       " 9024875,\n",
       " 2686621,\n",
       " 463417,\n",
       " 8241688,\n",
       " 2914396,\n",
       " 747330,\n",
       " 992917,\n",
       " 1160884,\n",
       " 662430]"
      ]
     },
     "execution_count": 252,
     "metadata": {},
     "output_type": "execute_result"
    }
   ],
   "source": [
    "single_admin = sub_df[sub_df['buyer_admin_id'] == 8464]\n",
    "single_admin_item_pred = single_admin.sort_values('pred',ascending=False)['item_id'].to_list()  # 针对每一个admin得到其对应的可能购买的商品的排序\n",
    "single_admin_item_pred"
   ]
  },
  {
   "cell_type": "markdown",
   "metadata": {},
   "source": [
    "经过检查应该没有问题"
   ]
  },
  {
   "cell_type": "markdown",
   "metadata": {},
   "source": [
    "输出最后文件"
   ]
  },
  {
   "cell_type": "code",
   "execution_count": 289,
   "metadata": {},
   "outputs": [],
   "source": [
    "new_submission = pd.DataFrame(new_sub)\n",
    "new_submission.to_csv('net_submission2.csv',header=False, index=False)"
   ]
  },
  {
   "cell_type": "code",
   "execution_count": 264,
   "metadata": {},
   "outputs": [
    {
     "data": {
      "text/plain": [
       "array([     152,      282,      321, ..., 13044048, 13046354, 13046601])"
      ]
     },
     "execution_count": 264,
     "metadata": {},
     "output_type": "execute_result"
    }
   ],
   "source": [
    "new_submission.values[:,0]"
   ]
  },
  {
   "cell_type": "code",
   "execution_count": 267,
   "metadata": {},
   "outputs": [],
   "source": [
    "# 对比原始文件查看是否能对应上\n",
    "sub_src = pd.read_csv('../submission.csv',header=None)\n",
    "sub_src.values[:,0]"
   ]
  },
  {
   "cell_type": "code",
   "execution_count": 269,
   "metadata": {},
   "outputs": [],
   "source": [
    "for a,b in zip(new_submission.values[:,0],sub_src.values[:,0]):\n",
    "    if a != b:\n",
    "        print(1)"
   ]
  },
  {
   "cell_type": "code",
   "execution_count": null,
   "metadata": {},
   "outputs": [],
   "source": []
  }
 ],
 "metadata": {
  "kernelspec": {
   "display_name": "Python 3",
   "language": "python",
   "name": "python3"
  },
  "language_info": {
   "codemirror_mode": {
    "name": "ipython",
    "version": 3
   },
   "file_extension": ".py",
   "mimetype": "text/x-python",
   "name": "python",
   "nbconvert_exporter": "python",
   "pygments_lexer": "ipython3",
   "version": "3.7.3"
  }
 },
 "nbformat": 4,
 "nbformat_minor": 2
}
