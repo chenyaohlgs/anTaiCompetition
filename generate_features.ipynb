{
 "cells": [
  {
   "cell_type": "markdown",
   "metadata": {},
   "source": [
    "# 生成数据"
   ]
  },
  {
   "cell_type": "code",
   "execution_count": 59,
   "metadata": {},
   "outputs": [],
   "source": [
    "import numpy as np\n",
    "import pickle\n",
    "import pandas as pd\n",
    "import warnings\n",
    "from tqdm import tqdm\n",
    "warnings.simplefilter(action='ignore', category=FutureWarning)\n",
    "warnings.filterwarnings('ignore')\n",
    "import os"
   ]
  },
  {
   "cell_type": "code",
   "execution_count": 305,
   "metadata": {},
   "outputs": [],
   "source": [
    "submit = pd.read_csv('data/Antai_AE_round1_submit_20190715.csv', header=None)\n",
    "item =  pickle.load(open('item_attr.pkl', 'rb'), encoding='iso-8859-1')\n",
    "test =  pickle.load(open('test.pkl', 'rb'), encoding='iso-8859-1')\n",
    "train =  pickle.load(open('train.pkl', 'rb'), encoding='iso-8859-1')"
   ]
  },
  {
   "cell_type": "code",
   "execution_count": 306,
   "metadata": {},
   "outputs": [
    {
     "data": {
      "text/html": [
       "<div>\n",
       "<style scoped>\n",
       "    .dataframe tbody tr th:only-of-type {\n",
       "        vertical-align: middle;\n",
       "    }\n",
       "\n",
       "    .dataframe tbody tr th {\n",
       "        vertical-align: top;\n",
       "    }\n",
       "\n",
       "    .dataframe thead th {\n",
       "        text-align: right;\n",
       "    }\n",
       "</style>\n",
       "<table border=\"1\" class=\"dataframe\">\n",
       "  <thead>\n",
       "    <tr style=\"text-align: right;\">\n",
       "      <th></th>\n",
       "      <th>item_id</th>\n",
       "      <th>cate_id</th>\n",
       "      <th>store_id</th>\n",
       "      <th>item_price</th>\n",
       "    </tr>\n",
       "  </thead>\n",
       "  <tbody>\n",
       "    <tr>\n",
       "      <th>0</th>\n",
       "      <td>240607</td>\n",
       "      <td>1495</td>\n",
       "      <td>12239</td>\n",
       "      <td>1</td>\n",
       "    </tr>\n",
       "    <tr>\n",
       "      <th>1</th>\n",
       "      <td>285232</td>\n",
       "      <td>1498</td>\n",
       "      <td>12239</td>\n",
       "      <td>1</td>\n",
       "    </tr>\n",
       "    <tr>\n",
       "      <th>2</th>\n",
       "      <td>113669</td>\n",
       "      <td>1503</td>\n",
       "      <td>12239</td>\n",
       "      <td>1</td>\n",
       "    </tr>\n",
       "  </tbody>\n",
       "</table>\n",
       "</div>"
      ],
      "text/plain": [
       "   item_id  cate_id  store_id  item_price\n",
       "0   240607     1495     12239           1\n",
       "1   285232     1498     12239           1\n",
       "2   113669     1503     12239           1"
      ]
     },
     "execution_count": 306,
     "metadata": {},
     "output_type": "execute_result"
    }
   ],
   "source": [
    "item[:3]"
   ]
  },
  {
   "cell_type": "code",
   "execution_count": 4,
   "metadata": {
    "scrolled": true
   },
   "outputs": [
    {
     "data": {
      "text/html": [
       "<div>\n",
       "<style scoped>\n",
       "    .dataframe tbody tr th:only-of-type {\n",
       "        vertical-align: middle;\n",
       "    }\n",
       "\n",
       "    .dataframe tbody tr th {\n",
       "        vertical-align: top;\n",
       "    }\n",
       "\n",
       "    .dataframe thead th {\n",
       "        text-align: right;\n",
       "    }\n",
       "</style>\n",
       "<table border=\"1\" class=\"dataframe\">\n",
       "  <thead>\n",
       "    <tr style=\"text-align: right;\">\n",
       "      <th></th>\n",
       "      <th>buyer_country_id</th>\n",
       "      <th>buyer_admin_id</th>\n",
       "      <th>item_id</th>\n",
       "      <th>create_order_time</th>\n",
       "      <th>irank</th>\n",
       "      <th>hour</th>\n",
       "      <th>date</th>\n",
       "      <th>month</th>\n",
       "      <th>year</th>\n",
       "      <th>month-date</th>\n",
       "      <th>count</th>\n",
       "      <th>dayofweek</th>\n",
       "      <th>isweekend</th>\n",
       "    </tr>\n",
       "  </thead>\n",
       "  <tbody>\n",
       "    <tr>\n",
       "      <th>0</th>\n",
       "      <td>xx</td>\n",
       "      <td>8362078</td>\n",
       "      <td>1</td>\n",
       "      <td>2018-08-10 23:49:44</td>\n",
       "      <td>12</td>\n",
       "      <td>23</td>\n",
       "      <td>10</td>\n",
       "      <td>8</td>\n",
       "      <td>2018</td>\n",
       "      <td>8-10</td>\n",
       "      <td>1</td>\n",
       "      <td>4</td>\n",
       "      <td>0</td>\n",
       "    </tr>\n",
       "    <tr>\n",
       "      <th>1</th>\n",
       "      <td>xx</td>\n",
       "      <td>9694304</td>\n",
       "      <td>2</td>\n",
       "      <td>2018-08-03 23:55:07</td>\n",
       "      <td>9</td>\n",
       "      <td>23</td>\n",
       "      <td>3</td>\n",
       "      <td>8</td>\n",
       "      <td>2018</td>\n",
       "      <td>8-3</td>\n",
       "      <td>1</td>\n",
       "      <td>4</td>\n",
       "      <td>0</td>\n",
       "    </tr>\n",
       "    <tr>\n",
       "      <th>2</th>\n",
       "      <td>yy</td>\n",
       "      <td>101887</td>\n",
       "      <td>3</td>\n",
       "      <td>2018-08-27 08:31:26</td>\n",
       "      <td>3</td>\n",
       "      <td>8</td>\n",
       "      <td>27</td>\n",
       "      <td>8</td>\n",
       "      <td>2018</td>\n",
       "      <td>8-27</td>\n",
       "      <td>1</td>\n",
       "      <td>0</td>\n",
       "      <td>0</td>\n",
       "    </tr>\n",
       "    <tr>\n",
       "      <th>3</th>\n",
       "      <td>xx</td>\n",
       "      <td>8131786</td>\n",
       "      <td>3</td>\n",
       "      <td>2018-08-31 06:00:19</td>\n",
       "      <td>9</td>\n",
       "      <td>6</td>\n",
       "      <td>31</td>\n",
       "      <td>8</td>\n",
       "      <td>2018</td>\n",
       "      <td>8-31</td>\n",
       "      <td>1</td>\n",
       "      <td>4</td>\n",
       "      <td>0</td>\n",
       "    </tr>\n",
       "  </tbody>\n",
       "</table>\n",
       "</div>"
      ],
      "text/plain": [
       "  buyer_country_id  buyer_admin_id  item_id   create_order_time  irank  hour  \\\n",
       "0               xx         8362078        1 2018-08-10 23:49:44     12    23   \n",
       "1               xx         9694304        2 2018-08-03 23:55:07      9    23   \n",
       "2               yy          101887        3 2018-08-27 08:31:26      3     8   \n",
       "3               xx         8131786        3 2018-08-31 06:00:19      9     6   \n",
       "\n",
       "   date  month  year month-date  count  dayofweek  isweekend  \n",
       "0    10      8  2018       8-10      1          4          0  \n",
       "1     3      8  2018        8-3      1          4          0  \n",
       "2    27      8  2018       8-27      1          0          0  \n",
       "3    31      8  2018       8-31      1          4          0  "
      ]
     },
     "execution_count": 4,
     "metadata": {},
     "output_type": "execute_result"
    }
   ],
   "source": [
    "train[:4]"
   ]
  },
  {
   "cell_type": "code",
   "execution_count": 92,
   "metadata": {},
   "outputs": [
    {
     "data": {
      "text/html": [
       "<div>\n",
       "<style scoped>\n",
       "    .dataframe tbody tr th:only-of-type {\n",
       "        vertical-align: middle;\n",
       "    }\n",
       "\n",
       "    .dataframe tbody tr th {\n",
       "        vertical-align: top;\n",
       "    }\n",
       "\n",
       "    .dataframe thead th {\n",
       "        text-align: right;\n",
       "    }\n",
       "</style>\n",
       "<table border=\"1\" class=\"dataframe\">\n",
       "  <thead>\n",
       "    <tr style=\"text-align: right;\">\n",
       "      <th></th>\n",
       "      <th>buyer_country_id</th>\n",
       "      <th>buyer_admin_id</th>\n",
       "      <th>item_id</th>\n",
       "      <th>create_order_time</th>\n",
       "      <th>irank</th>\n",
       "      <th>hour</th>\n",
       "      <th>date</th>\n",
       "      <th>month</th>\n",
       "      <th>year</th>\n",
       "      <th>month-date</th>\n",
       "      <th>count</th>\n",
       "      <th>dayofweek</th>\n",
       "      <th>isweekend</th>\n",
       "    </tr>\n",
       "  </thead>\n",
       "  <tbody>\n",
       "    <tr>\n",
       "      <th>0</th>\n",
       "      <td>yy</td>\n",
       "      <td>1061132</td>\n",
       "      <td>189045</td>\n",
       "      <td>2018-07-17 07:43:40</td>\n",
       "      <td>18</td>\n",
       "      <td>7</td>\n",
       "      <td>17</td>\n",
       "      <td>7</td>\n",
       "      <td>2018</td>\n",
       "      <td>7-17</td>\n",
       "      <td>1</td>\n",
       "      <td>1</td>\n",
       "      <td>0</td>\n",
       "    </tr>\n",
       "    <tr>\n",
       "      <th>1</th>\n",
       "      <td>yy</td>\n",
       "      <td>1081430</td>\n",
       "      <td>10713670</td>\n",
       "      <td>2018-07-17 09:43:15</td>\n",
       "      <td>8</td>\n",
       "      <td>9</td>\n",
       "      <td>17</td>\n",
       "      <td>7</td>\n",
       "      <td>2018</td>\n",
       "      <td>7-17</td>\n",
       "      <td>1</td>\n",
       "      <td>1</td>\n",
       "      <td>0</td>\n",
       "    </tr>\n",
       "    <tr>\n",
       "      <th>2</th>\n",
       "      <td>yy</td>\n",
       "      <td>1918135</td>\n",
       "      <td>10546322</td>\n",
       "      <td>2018-07-17 11:11:34</td>\n",
       "      <td>9</td>\n",
       "      <td>11</td>\n",
       "      <td>17</td>\n",
       "      <td>7</td>\n",
       "      <td>2018</td>\n",
       "      <td>7-17</td>\n",
       "      <td>1</td>\n",
       "      <td>1</td>\n",
       "      <td>0</td>\n",
       "    </tr>\n",
       "  </tbody>\n",
       "</table>\n",
       "</div>"
      ],
      "text/plain": [
       "  buyer_country_id  buyer_admin_id   item_id   create_order_time  irank  hour  \\\n",
       "0               yy         1061132    189045 2018-07-17 07:43:40     18     7   \n",
       "1               yy         1081430  10713670 2018-07-17 09:43:15      8     9   \n",
       "2               yy         1918135  10546322 2018-07-17 11:11:34      9    11   \n",
       "\n",
       "   date  month  year month-date  count  dayofweek  isweekend  \n",
       "0    17      7  2018       7-17      1          1          0  \n",
       "1    17      7  2018       7-17      1          1          0  \n",
       "2    17      7  2018       7-17      1          1          0  "
      ]
     },
     "execution_count": 92,
     "metadata": {},
     "output_type": "execute_result"
    }
   ],
   "source": [
    "test[:3]"
   ]
  },
  {
   "cell_type": "markdown",
   "metadata": {},
   "source": [
    "对于训练集，有多少商品没有出现在商品列表中"
   ]
  },
  {
   "cell_type": "code",
   "execution_count": 21,
   "metadata": {},
   "outputs": [
    {
     "name": "stdout",
     "output_type": "stream",
     "text": [
      "训练集中商品数 2812048, 商品表中商品数 2832669\n",
      "训练集中不在商品表中的商品数：7733\n",
      "测试集中不在商品表中的商品数：313\n"
     ]
    }
   ],
   "source": [
    "train_lose_item = set(train['item_id'].unique()).difference(set(item['item_id'].unique()))\n",
    "test_lose_item = set(test['item_id'].unique()).difference(set(item['item_id'].unique()))\n",
    "print('训练集中商品数 %s, 商品表中商品数 %s'%(train['item_id'].unique().shape[0], item['item_id'].unique().shape[0]))\n",
    "print('训练集中不在商品表中的商品数：%s'%(len(train_lose_item)))\n",
    "print('测试集中不在商品表中的商品数：%s'%(len(test_lose_item)))"
   ]
  },
  {
   "cell_type": "markdown",
   "metadata": {},
   "source": [
    "如何处理这样的缺失值？可能直接删除\n",
    "\n",
    "测试集影响不大，因为本身就是预测测试集中用户下一个可能购买的商品，但是对于训练集，可能意味着就缺少了该条信息，所以最好查看一下这样的商品数量有多少，其所占比重又是多少"
   ]
  },
  {
   "cell_type": "code",
   "execution_count": 26,
   "metadata": {},
   "outputs": [
    {
     "data": {
      "text/plain": [
       "[5799939, 6914056, 1474573]"
      ]
     },
     "execution_count": 26,
     "metadata": {},
     "output_type": "execute_result"
    }
   ],
   "source": [
    "list(train_lose_item)[:3]"
   ]
  },
  {
   "cell_type": "code",
   "execution_count": 34,
   "metadata": {},
   "outputs": [],
   "source": [
    "# 高频item_id\n",
    "temp = train.drop_duplicates(subset=['buyer_admin_id','item_id'], keep='first')\n",
    "item_cnts = temp.groupby(['item_id']).size().reset_index()\n",
    "item_cnts.columns = ['item_id','cnts']\n",
    "item_cnts = item_cnts.sort_values('cnts', ascending=False)\n",
    "items = item_cnts['item_id'].values.tolist()"
   ]
  },
  {
   "cell_type": "markdown",
   "metadata": {},
   "source": [
    "缺失商品在训练集中的情况"
   ]
  },
  {
   "cell_type": "code",
   "execution_count": 60,
   "metadata": {},
   "outputs": [
    {
     "name": "stderr",
     "output_type": "stream",
     "text": [
      "100%|██████████| 7733/7733 [00:14<00:00, 551.91it/s]\n"
     ]
    }
   ],
   "source": [
    "idx = []\n",
    "for item in tqdm(list(train_lose_item)):\n",
    "    idx.append(np.where(item_cnts['item_id'].values == item)[0][0])"
   ]
  },
  {
   "cell_type": "code",
   "execution_count": null,
   "metadata": {},
   "outputs": [],
   "source": []
  },
  {
   "cell_type": "code",
   "execution_count": 71,
   "metadata": {},
   "outputs": [],
   "source": [
    "cnts = item_cnts.iloc[idx,:].sort_values('cnts',ascending=False)"
   ]
  },
  {
   "cell_type": "code",
   "execution_count": 91,
   "metadata": {},
   "outputs": [
    {
     "name": "stdout",
     "output_type": "stream",
     "text": [
      "缺失商品数量在训练集中的均值为:2.4245441613862666\n",
      "缺失商品数量在训练集中的中值为:1.0\n",
      "缺失商品数量在训练集中的最大值为:642\n",
      "缺失商品数量在训练集中是三位数有:17\n",
      "缺失商品数量在训练集中是二位数有:159\n",
      "缺失商品数量总共有:18749\n"
     ]
    }
   ],
   "source": [
    "print('缺失商品数量在训练集中的均值为:%s'%cnts.iloc[:,1].mean())\n",
    "print('缺失商品数量在训练集中的中值为:%s'%cnts.iloc[:,1].median())\n",
    "print('缺失商品数量在训练集中的最大值为:%s'%cnts.iloc[:,1].max())\n",
    "print('缺失商品数量在训练集中是三位数有:%s'%(sum(cnts.iloc[:,1]>99)) )\n",
    "print('缺失商品数量在训练集中是二位数有:%s'%(sum(cnts.iloc[:,1]>9)) )\n",
    "print('缺失商品数量总共有:%s'%(sum(cnts.iloc[:,1])) )"
   ]
  },
  {
   "cell_type": "code",
   "execution_count": 90,
   "metadata": {},
   "outputs": [
    {
     "data": {
      "text/html": [
       "<div>\n",
       "<style scoped>\n",
       "    .dataframe tbody tr th:only-of-type {\n",
       "        vertical-align: middle;\n",
       "    }\n",
       "\n",
       "    .dataframe tbody tr th {\n",
       "        vertical-align: top;\n",
       "    }\n",
       "\n",
       "    .dataframe thead th {\n",
       "        text-align: right;\n",
       "    }\n",
       "</style>\n",
       "<table border=\"1\" class=\"dataframe\">\n",
       "  <thead>\n",
       "    <tr style=\"text-align: right;\">\n",
       "      <th></th>\n",
       "      <th>item_id</th>\n",
       "      <th>cnts</th>\n",
       "    </tr>\n",
       "  </thead>\n",
       "  <tbody>\n",
       "    <tr>\n",
       "      <th>2318262</th>\n",
       "      <td>10651268</td>\n",
       "      <td>642</td>\n",
       "    </tr>\n",
       "    <tr>\n",
       "      <th>2194144</th>\n",
       "      <td>10045561</td>\n",
       "      <td>498</td>\n",
       "    </tr>\n",
       "    <tr>\n",
       "      <th>2676935</th>\n",
       "      <td>12227154</td>\n",
       "      <td>353</td>\n",
       "    </tr>\n",
       "    <tr>\n",
       "      <th>2728607</th>\n",
       "      <td>12426042</td>\n",
       "      <td>341</td>\n",
       "    </tr>\n",
       "    <tr>\n",
       "      <th>2705406</th>\n",
       "      <td>12330663</td>\n",
       "      <td>298</td>\n",
       "    </tr>\n",
       "    <tr>\n",
       "      <th>2509168</th>\n",
       "      <td>11533456</td>\n",
       "      <td>285</td>\n",
       "    </tr>\n",
       "    <tr>\n",
       "      <th>2712338</th>\n",
       "      <td>12357479</td>\n",
       "      <td>284</td>\n",
       "    </tr>\n",
       "    <tr>\n",
       "      <th>1337825</th>\n",
       "      <td>6087123</td>\n",
       "      <td>266</td>\n",
       "    </tr>\n",
       "    <tr>\n",
       "      <th>2747008</th>\n",
       "      <td>12497613</td>\n",
       "      <td>228</td>\n",
       "    </tr>\n",
       "    <tr>\n",
       "      <th>2641719</th>\n",
       "      <td>12093782</td>\n",
       "      <td>181</td>\n",
       "    </tr>\n",
       "    <tr>\n",
       "      <th>2711232</th>\n",
       "      <td>12353374</td>\n",
       "      <td>180</td>\n",
       "    </tr>\n",
       "    <tr>\n",
       "      <th>2515288</th>\n",
       "      <td>11559746</td>\n",
       "      <td>169</td>\n",
       "    </tr>\n",
       "    <tr>\n",
       "      <th>2660614</th>\n",
       "      <td>12166598</td>\n",
       "      <td>157</td>\n",
       "    </tr>\n",
       "    <tr>\n",
       "      <th>2448998</th>\n",
       "      <td>11271996</td>\n",
       "      <td>145</td>\n",
       "    </tr>\n",
       "    <tr>\n",
       "      <th>2776120</th>\n",
       "      <td>12605627</td>\n",
       "      <td>120</td>\n",
       "    </tr>\n",
       "    <tr>\n",
       "      <th>2727026</th>\n",
       "      <td>12421628</td>\n",
       "      <td>102</td>\n",
       "    </tr>\n",
       "    <tr>\n",
       "      <th>2684215</th>\n",
       "      <td>12252448</td>\n",
       "      <td>100</td>\n",
       "    </tr>\n",
       "  </tbody>\n",
       "</table>\n",
       "</div>"
      ],
      "text/plain": [
       "          item_id  cnts\n",
       "2318262  10651268   642\n",
       "2194144  10045561   498\n",
       "2676935  12227154   353\n",
       "2728607  12426042   341\n",
       "2705406  12330663   298\n",
       "2509168  11533456   285\n",
       "2712338  12357479   284\n",
       "1337825   6087123   266\n",
       "2747008  12497613   228\n",
       "2641719  12093782   181\n",
       "2711232  12353374   180\n",
       "2515288  11559746   169\n",
       "2660614  12166598   157\n",
       "2448998  11271996   145\n",
       "2776120  12605627   120\n",
       "2727026  12421628   102\n",
       "2684215  12252448   100"
      ]
     },
     "execution_count": 90,
     "metadata": {},
     "output_type": "execute_result"
    }
   ],
   "source": [
    "cnts.iloc[:17]"
   ]
  },
  {
   "cell_type": "markdown",
   "metadata": {},
   "source": [
    "+ 小结：\n",
    "\n",
    "在训练集中，大约有18749条数据中的 item没有出现在商品表中，也就是这在使用这些数据进行训练时，缺少item 的特征"
   ]
  },
  {
   "cell_type": "markdown",
   "metadata": {},
   "source": [
    "不用看测试集，因为不是使用用户对应item 进行预测的，预测的方式，是使用测试集中item及其之前消费信息，作为用户特征，然后结合候选item 进行预测"
   ]
  },
  {
   "cell_type": "markdown",
   "metadata": {},
   "source": [
    "测试集中的用户和训练集中的用户有多少是重合的呢?"
   ]
  },
  {
   "cell_type": "code",
   "execution_count": 22,
   "metadata": {},
   "outputs": [
    {
     "name": "stdout",
     "output_type": "stream",
     "text": [
      "训练集中用户数 809213, 测试集中用户数 11398\n",
      "同时在训练集和测试集中出现的用户数 6\n"
     ]
    }
   ],
   "source": [
    "print('训练集中用户数 %s, 测试集中用户数 %s'%(train['buyer_admin_id'].unique().shape[0], test['buyer_admin_id'].unique().shape[0]))\n",
    "coincide_buyer = set(train['buyer_admin_id'].unique()).intersection(set(test['buyer_admin_id'].unique()))\n",
    "print('同时在训练集和测试集中出现的用户数 %s'%(len(coincide_buyer)))"
   ]
  },
  {
   "cell_type": "markdown",
   "metadata": {},
   "source": [
    "所以，利用训练集中的用户数据训练得到模型之后，输入测试集用户数据，结合前n个candidate商品，得到最后评分并进行排名，取前30个"
   ]
  },
  {
   "cell_type": "markdown",
   "metadata": {},
   "source": [
    "# 热销商品"
   ]
  },
  {
   "cell_type": "markdown",
   "metadata": {},
   "source": [
    "需要定义一下流行和非流行商品，针对训练集和测试集应该各自计算，这个流行与非流行是相对的"
   ]
  },
  {
   "cell_type": "code",
   "execution_count": 119,
   "metadata": {},
   "outputs": [],
   "source": [
    "popular_item_intrain = train.groupby(['item_id'])['count'].sum().reset_index().sort_values('count',ascending=False)"
   ]
  },
  {
   "cell_type": "code",
   "execution_count": 176,
   "metadata": {},
   "outputs": [
    {
     "name": "stdout",
     "output_type": "stream",
     "text": [
      "热销商品的数量为：3220\n"
     ]
    }
   ],
   "source": [
    "popular_item_idx_train = popular_item_intrain.iloc[:,0][popular_item_intrain.iloc[:,1].cumsum() <= int(train.shape[0] * 0.15)].values\n",
    "print('热销商品的数量为：%s'%(popular_item_idx_train.shape[0]))"
   ]
  },
  {
   "cell_type": "code",
   "execution_count": 177,
   "metadata": {},
   "outputs": [
    {
     "data": {
      "text/plain": [
       "array([12691565, 12824199, 12673275])"
      ]
     },
     "execution_count": 177,
     "metadata": {},
     "output_type": "execute_result"
    }
   ],
   "source": [
    "popular_item_idx_train[:3]"
   ]
  },
  {
   "cell_type": "markdown",
   "metadata": {},
   "source": [
    "# 用户特征提取"
   ]
  },
  {
   "cell_type": "markdown",
   "metadata": {},
   "source": [
    "首先要根据buyer_id进行聚类，得到其购买的item_id，然后由这些item_id提取得到相关信息，作为该buyer的特征，训练集是如此，测试集也是要先进行相应的操作。现在可以知道的是每个buyer都至少有7条商品信息"
   ]
  },
  {
   "cell_type": "markdown",
   "metadata": {},
   "source": [
    "三个方面：\n",
    "\n",
    "    1. 商品\n",
    "    \n",
    "    2. 种类类别\n",
    "    \n",
    "    3. 商店类别"
   ]
  },
  {
   "cell_type": "markdown",
   "metadata": {},
   "source": [
    "+ 首先对于训练集"
   ]
  },
  {
   "cell_type": "code",
   "execution_count": null,
   "metadata": {},
   "outputs": [],
   "source": []
  },
  {
   "cell_type": "code",
   "execution_count": 250,
   "metadata": {},
   "outputs": [
    {
     "name": "stdout",
     "output_type": "stream",
     "text": [
      "99.9871\r"
     ]
    }
   ],
   "source": [
    "length = len(list(train_lose_item))\n",
    "all_drop_index= []\n",
    "for i,item in enumerate(list(train_lose_item)):\n",
    "    drop_index = train_copy[train_copy['item_id'] == item].index[:]\n",
    "    all_drop_index.extend(list(drop_index.values))\n",
    "    print('%.4f'%(i*100/length),end='\\r')\n",
    "#     train_copy.drop(drop_index)"
   ]
  },
  {
   "cell_type": "code",
   "execution_count": 481,
   "metadata": {},
   "outputs": [],
   "source": [
    "train_filter = train.drop(all_drop_index).reset_index(drop=True)  # 去掉item不在商品表中的数据\n",
    "train_filter = pd.merge(train_filter,item, how='left',on='item_id') # 将商品表中的数据添加到原始dataframe中"
   ]
  },
  {
   "cell_type": "code",
   "execution_count": 482,
   "metadata": {
    "scrolled": true
   },
   "outputs": [],
   "source": [
    "#将下单时间作分类，分成三个时间段：0-8:1, 8-16:2, 16-24；3 \n",
    "a = train_filter['hour'].to_list()\n",
    "b = []\n",
    "for i in range(len(a)):\n",
    "    if a[i]>=0 and a[i]<8:\n",
    "        b.append(1)\n",
    "    elif a[i]>=8 and a[i]<16:\n",
    "        b.append(2)\n",
    "    elif a[i]>=16 and a[i]<24:\n",
    "        b.append(3)\n",
    "#     print('%.2f'%(100*i/len(a)),end='\\r')"
   ]
  },
  {
   "cell_type": "code",
   "execution_count": 483,
   "metadata": {},
   "outputs": [],
   "source": [
    "train_filter['time_cluster'] = b"
   ]
  },
  {
   "cell_type": "code",
   "execution_count": 696,
   "metadata": {},
   "outputs": [],
   "source": [
    "time_cluster = pd.get_dummies(train_filter['time_cluster'])\n",
    "train_filter = pd.concat([train_filter,time_cluster],axis=1)\n",
    "train_filter = train_filter.rename(columns={1:'shoptime_1',2:'shoptime_2',3:'shoptime_3'})"
   ]
  },
  {
   "cell_type": "code",
   "execution_count": 720,
   "metadata": {},
   "outputs": [
    {
     "data": {
      "text/plain": [
       "1    5926782\n",
       "2    4806884\n",
       "3    2109398\n",
       "dtype: int64"
      ]
     },
     "execution_count": 720,
     "metadata": {},
     "output_type": "execute_result"
    }
   ],
   "source": [
    "time_cluster.sum()"
   ]
  },
  {
   "cell_type": "code",
   "execution_count": 697,
   "metadata": {},
   "outputs": [
    {
     "data": {
      "text/html": [
       "<div>\n",
       "<style scoped>\n",
       "    .dataframe tbody tr th:only-of-type {\n",
       "        vertical-align: middle;\n",
       "    }\n",
       "\n",
       "    .dataframe tbody tr th {\n",
       "        vertical-align: top;\n",
       "    }\n",
       "\n",
       "    .dataframe thead th {\n",
       "        text-align: right;\n",
       "    }\n",
       "</style>\n",
       "<table border=\"1\" class=\"dataframe\">\n",
       "  <thead>\n",
       "    <tr style=\"text-align: right;\">\n",
       "      <th></th>\n",
       "      <th>buyer_country_id</th>\n",
       "      <th>buyer_admin_id</th>\n",
       "      <th>item_id</th>\n",
       "      <th>create_order_time</th>\n",
       "      <th>irank</th>\n",
       "      <th>hour</th>\n",
       "      <th>date</th>\n",
       "      <th>month</th>\n",
       "      <th>year</th>\n",
       "      <th>month-date</th>\n",
       "      <th>...</th>\n",
       "      <th>dayofweek</th>\n",
       "      <th>isweekend</th>\n",
       "      <th>cate_id</th>\n",
       "      <th>store_id</th>\n",
       "      <th>item_price</th>\n",
       "      <th>time_cluster</th>\n",
       "      <th>if_popular</th>\n",
       "      <th>shoptime_1</th>\n",
       "      <th>shoptime_2</th>\n",
       "      <th>shoptime_3</th>\n",
       "    </tr>\n",
       "  </thead>\n",
       "  <tbody>\n",
       "    <tr>\n",
       "      <th>0</th>\n",
       "      <td>1</td>\n",
       "      <td>8362078</td>\n",
       "      <td>1</td>\n",
       "      <td>2018-08-10 23:49:44</td>\n",
       "      <td>12</td>\n",
       "      <td>23</td>\n",
       "      <td>10</td>\n",
       "      <td>8</td>\n",
       "      <td>2018</td>\n",
       "      <td>8-10</td>\n",
       "      <td>...</td>\n",
       "      <td>4</td>\n",
       "      <td>0</td>\n",
       "      <td>2324</td>\n",
       "      <td>10013</td>\n",
       "      <td>4501</td>\n",
       "      <td>3</td>\n",
       "      <td>0.0</td>\n",
       "      <td>0</td>\n",
       "      <td>0</td>\n",
       "      <td>1</td>\n",
       "    </tr>\n",
       "    <tr>\n",
       "      <th>1</th>\n",
       "      <td>1</td>\n",
       "      <td>9694304</td>\n",
       "      <td>2</td>\n",
       "      <td>2018-08-03 23:55:07</td>\n",
       "      <td>9</td>\n",
       "      <td>23</td>\n",
       "      <td>3</td>\n",
       "      <td>8</td>\n",
       "      <td>2018</td>\n",
       "      <td>8-3</td>\n",
       "      <td>...</td>\n",
       "      <td>4</td>\n",
       "      <td>0</td>\n",
       "      <td>3882</td>\n",
       "      <td>4485</td>\n",
       "      <td>2751</td>\n",
       "      <td>3</td>\n",
       "      <td>0.0</td>\n",
       "      <td>0</td>\n",
       "      <td>0</td>\n",
       "      <td>1</td>\n",
       "    </tr>\n",
       "    <tr>\n",
       "      <th>2</th>\n",
       "      <td>2</td>\n",
       "      <td>101887</td>\n",
       "      <td>3</td>\n",
       "      <td>2018-08-27 08:31:26</td>\n",
       "      <td>3</td>\n",
       "      <td>8</td>\n",
       "      <td>27</td>\n",
       "      <td>8</td>\n",
       "      <td>2018</td>\n",
       "      <td>8-27</td>\n",
       "      <td>...</td>\n",
       "      <td>0</td>\n",
       "      <td>0</td>\n",
       "      <td>155</td>\n",
       "      <td>8341</td>\n",
       "      <td>656</td>\n",
       "      <td>2</td>\n",
       "      <td>0.0</td>\n",
       "      <td>0</td>\n",
       "      <td>1</td>\n",
       "      <td>0</td>\n",
       "    </tr>\n",
       "    <tr>\n",
       "      <th>3</th>\n",
       "      <td>1</td>\n",
       "      <td>8131786</td>\n",
       "      <td>3</td>\n",
       "      <td>2018-08-31 06:00:19</td>\n",
       "      <td>9</td>\n",
       "      <td>6</td>\n",
       "      <td>31</td>\n",
       "      <td>8</td>\n",
       "      <td>2018</td>\n",
       "      <td>8-31</td>\n",
       "      <td>...</td>\n",
       "      <td>4</td>\n",
       "      <td>0</td>\n",
       "      <td>155</td>\n",
       "      <td>8341</td>\n",
       "      <td>656</td>\n",
       "      <td>1</td>\n",
       "      <td>0.0</td>\n",
       "      <td>1</td>\n",
       "      <td>0</td>\n",
       "      <td>0</td>\n",
       "    </tr>\n",
       "  </tbody>\n",
       "</table>\n",
       "<p>4 rows × 21 columns</p>\n",
       "</div>"
      ],
      "text/plain": [
       "  buyer_country_id  buyer_admin_id  item_id   create_order_time  irank  hour  \\\n",
       "0                1         8362078        1 2018-08-10 23:49:44     12    23   \n",
       "1                1         9694304        2 2018-08-03 23:55:07      9    23   \n",
       "2                2          101887        3 2018-08-27 08:31:26      3     8   \n",
       "3                1         8131786        3 2018-08-31 06:00:19      9     6   \n",
       "\n",
       "   date  month  year month-date  ...  dayofweek  isweekend  cate_id  store_id  \\\n",
       "0    10      8  2018       8-10  ...          4          0     2324     10013   \n",
       "1     3      8  2018        8-3  ...          4          0     3882      4485   \n",
       "2    27      8  2018       8-27  ...          0          0      155      8341   \n",
       "3    31      8  2018       8-31  ...          4          0      155      8341   \n",
       "\n",
       "   item_price  time_cluster  if_popular  shoptime_1  shoptime_2  shoptime_3  \n",
       "0        4501             3         0.0           0           0           1  \n",
       "1        2751             3         0.0           0           0           1  \n",
       "2         656             2         0.0           0           1           0  \n",
       "3         656             1         0.0           1           0           0  \n",
       "\n",
       "[4 rows x 21 columns]"
      ]
     },
     "execution_count": 697,
     "metadata": {},
     "output_type": "execute_result"
    }
   ],
   "source": [
    "train_filter[:4]"
   ]
  },
  {
   "cell_type": "markdown",
   "metadata": {},
   "source": [
    "xx：1， yy：2，zz：3"
   ]
  },
  {
   "cell_type": "code",
   "execution_count": 487,
   "metadata": {},
   "outputs": [],
   "source": [
    "train_filter['buyer_country_id'][train_filter['buyer_country_id'] == 'xx'] =1\n",
    "train_filter['buyer_country_id'][train_filter['buyer_country_id'] == 'yy'] =2\n",
    "train_filter['buyer_country_id'][train_filter['buyer_country_id'] == 'zz'] =3"
   ]
  },
  {
   "cell_type": "code",
   "execution_count": 492,
   "metadata": {},
   "outputs": [
    {
     "data": {
      "text/html": [
       "<div>\n",
       "<style scoped>\n",
       "    .dataframe tbody tr th:only-of-type {\n",
       "        vertical-align: middle;\n",
       "    }\n",
       "\n",
       "    .dataframe tbody tr th {\n",
       "        vertical-align: top;\n",
       "    }\n",
       "\n",
       "    .dataframe thead th {\n",
       "        text-align: right;\n",
       "    }\n",
       "</style>\n",
       "<table border=\"1\" class=\"dataframe\">\n",
       "  <thead>\n",
       "    <tr style=\"text-align: right;\">\n",
       "      <th></th>\n",
       "      <th>buyer_country_id</th>\n",
       "      <th>buyer_admin_id</th>\n",
       "      <th>item_id</th>\n",
       "      <th>create_order_time</th>\n",
       "      <th>irank</th>\n",
       "      <th>hour</th>\n",
       "      <th>date</th>\n",
       "      <th>month</th>\n",
       "      <th>year</th>\n",
       "      <th>month-date</th>\n",
       "      <th>count</th>\n",
       "      <th>dayofweek</th>\n",
       "      <th>isweekend</th>\n",
       "      <th>cate_id</th>\n",
       "      <th>store_id</th>\n",
       "      <th>item_price</th>\n",
       "      <th>time_cluster</th>\n",
       "    </tr>\n",
       "  </thead>\n",
       "  <tbody>\n",
       "    <tr>\n",
       "      <th>0</th>\n",
       "      <td>1</td>\n",
       "      <td>8362078</td>\n",
       "      <td>1</td>\n",
       "      <td>2018-08-10 23:49:44</td>\n",
       "      <td>12</td>\n",
       "      <td>23</td>\n",
       "      <td>10</td>\n",
       "      <td>8</td>\n",
       "      <td>2018</td>\n",
       "      <td>8-10</td>\n",
       "      <td>1</td>\n",
       "      <td>4</td>\n",
       "      <td>0</td>\n",
       "      <td>2324</td>\n",
       "      <td>10013</td>\n",
       "      <td>4501</td>\n",
       "      <td>3</td>\n",
       "    </tr>\n",
       "    <tr>\n",
       "      <th>1</th>\n",
       "      <td>1</td>\n",
       "      <td>9694304</td>\n",
       "      <td>2</td>\n",
       "      <td>2018-08-03 23:55:07</td>\n",
       "      <td>9</td>\n",
       "      <td>23</td>\n",
       "      <td>3</td>\n",
       "      <td>8</td>\n",
       "      <td>2018</td>\n",
       "      <td>8-3</td>\n",
       "      <td>1</td>\n",
       "      <td>4</td>\n",
       "      <td>0</td>\n",
       "      <td>3882</td>\n",
       "      <td>4485</td>\n",
       "      <td>2751</td>\n",
       "      <td>3</td>\n",
       "    </tr>\n",
       "    <tr>\n",
       "      <th>2</th>\n",
       "      <td>2</td>\n",
       "      <td>101887</td>\n",
       "      <td>3</td>\n",
       "      <td>2018-08-27 08:31:26</td>\n",
       "      <td>3</td>\n",
       "      <td>8</td>\n",
       "      <td>27</td>\n",
       "      <td>8</td>\n",
       "      <td>2018</td>\n",
       "      <td>8-27</td>\n",
       "      <td>1</td>\n",
       "      <td>0</td>\n",
       "      <td>0</td>\n",
       "      <td>155</td>\n",
       "      <td>8341</td>\n",
       "      <td>656</td>\n",
       "      <td>2</td>\n",
       "    </tr>\n",
       "    <tr>\n",
       "      <th>3</th>\n",
       "      <td>1</td>\n",
       "      <td>8131786</td>\n",
       "      <td>3</td>\n",
       "      <td>2018-08-31 06:00:19</td>\n",
       "      <td>9</td>\n",
       "      <td>6</td>\n",
       "      <td>31</td>\n",
       "      <td>8</td>\n",
       "      <td>2018</td>\n",
       "      <td>8-31</td>\n",
       "      <td>1</td>\n",
       "      <td>4</td>\n",
       "      <td>0</td>\n",
       "      <td>155</td>\n",
       "      <td>8341</td>\n",
       "      <td>656</td>\n",
       "      <td>1</td>\n",
       "    </tr>\n",
       "  </tbody>\n",
       "</table>\n",
       "</div>"
      ],
      "text/plain": [
       "  buyer_country_id  buyer_admin_id  item_id   create_order_time  irank  hour  \\\n",
       "0                1         8362078        1 2018-08-10 23:49:44     12    23   \n",
       "1                1         9694304        2 2018-08-03 23:55:07      9    23   \n",
       "2                2          101887        3 2018-08-27 08:31:26      3     8   \n",
       "3                1         8131786        3 2018-08-31 06:00:19      9     6   \n",
       "\n",
       "   date  month  year month-date  count  dayofweek  isweekend  cate_id  \\\n",
       "0    10      8  2018       8-10      1          4          0     2324   \n",
       "1     3      8  2018        8-3      1          4          0     3882   \n",
       "2    27      8  2018       8-27      1          0          0      155   \n",
       "3    31      8  2018       8-31      1          4          0      155   \n",
       "\n",
       "   store_id  item_price  time_cluster  \n",
       "0     10013        4501             3  \n",
       "1      4485        2751             3  \n",
       "2      8341         656             2  \n",
       "3      8341         656             1  "
      ]
     },
     "execution_count": 492,
     "metadata": {},
     "output_type": "execute_result"
    }
   ],
   "source": [
    "train_filter[:4]"
   ]
  },
  {
   "cell_type": "markdown",
   "metadata": {},
   "source": [
    "+ 构造用户画像dataframe，方便后续操作"
   ]
  },
  {
   "cell_type": "code",
   "execution_count": 626,
   "metadata": {},
   "outputs": [],
   "source": [
    "# 合并热销商品id到训练集中\n",
    "popular_item_df = pd.DataFrame(columns=['item_id','if_popular'])\n",
    "popular_item_df['item_id'] = popular_item_idx_train\n",
    "popular_item_df['if_popular'] = 1\n",
    "train_filter = pd.merge(train_filter,popular_item_df,how='left',on='item_id')\n",
    "train_filter['if_popular'].fillna(0, inplace=True)"
   ]
  },
  {
   "cell_type": "code",
   "execution_count": 628,
   "metadata": {},
   "outputs": [
    {
     "data": {
      "text/html": [
       "<div>\n",
       "<style scoped>\n",
       "    .dataframe tbody tr th:only-of-type {\n",
       "        vertical-align: middle;\n",
       "    }\n",
       "\n",
       "    .dataframe tbody tr th {\n",
       "        vertical-align: top;\n",
       "    }\n",
       "\n",
       "    .dataframe thead th {\n",
       "        text-align: right;\n",
       "    }\n",
       "</style>\n",
       "<table border=\"1\" class=\"dataframe\">\n",
       "  <thead>\n",
       "    <tr style=\"text-align: right;\">\n",
       "      <th></th>\n",
       "      <th>buyer_country_id</th>\n",
       "      <th>buyer_admin_id</th>\n",
       "      <th>item_id</th>\n",
       "      <th>create_order_time</th>\n",
       "      <th>irank</th>\n",
       "      <th>hour</th>\n",
       "      <th>date</th>\n",
       "      <th>month</th>\n",
       "      <th>year</th>\n",
       "      <th>month-date</th>\n",
       "      <th>count</th>\n",
       "      <th>dayofweek</th>\n",
       "      <th>isweekend</th>\n",
       "      <th>cate_id</th>\n",
       "      <th>store_id</th>\n",
       "      <th>item_price</th>\n",
       "      <th>time_cluster</th>\n",
       "      <th>if_popular</th>\n",
       "    </tr>\n",
       "  </thead>\n",
       "  <tbody>\n",
       "    <tr>\n",
       "      <th>0</th>\n",
       "      <td>1</td>\n",
       "      <td>8362078</td>\n",
       "      <td>1</td>\n",
       "      <td>2018-08-10 23:49:44</td>\n",
       "      <td>12</td>\n",
       "      <td>23</td>\n",
       "      <td>10</td>\n",
       "      <td>8</td>\n",
       "      <td>2018</td>\n",
       "      <td>8-10</td>\n",
       "      <td>1</td>\n",
       "      <td>4</td>\n",
       "      <td>0</td>\n",
       "      <td>2324</td>\n",
       "      <td>10013</td>\n",
       "      <td>4501</td>\n",
       "      <td>3</td>\n",
       "      <td>0.0</td>\n",
       "    </tr>\n",
       "    <tr>\n",
       "      <th>1</th>\n",
       "      <td>1</td>\n",
       "      <td>9694304</td>\n",
       "      <td>2</td>\n",
       "      <td>2018-08-03 23:55:07</td>\n",
       "      <td>9</td>\n",
       "      <td>23</td>\n",
       "      <td>3</td>\n",
       "      <td>8</td>\n",
       "      <td>2018</td>\n",
       "      <td>8-3</td>\n",
       "      <td>1</td>\n",
       "      <td>4</td>\n",
       "      <td>0</td>\n",
       "      <td>3882</td>\n",
       "      <td>4485</td>\n",
       "      <td>2751</td>\n",
       "      <td>3</td>\n",
       "      <td>0.0</td>\n",
       "    </tr>\n",
       "    <tr>\n",
       "      <th>2</th>\n",
       "      <td>2</td>\n",
       "      <td>101887</td>\n",
       "      <td>3</td>\n",
       "      <td>2018-08-27 08:31:26</td>\n",
       "      <td>3</td>\n",
       "      <td>8</td>\n",
       "      <td>27</td>\n",
       "      <td>8</td>\n",
       "      <td>2018</td>\n",
       "      <td>8-27</td>\n",
       "      <td>1</td>\n",
       "      <td>0</td>\n",
       "      <td>0</td>\n",
       "      <td>155</td>\n",
       "      <td>8341</td>\n",
       "      <td>656</td>\n",
       "      <td>2</td>\n",
       "      <td>0.0</td>\n",
       "    </tr>\n",
       "    <tr>\n",
       "      <th>3</th>\n",
       "      <td>1</td>\n",
       "      <td>8131786</td>\n",
       "      <td>3</td>\n",
       "      <td>2018-08-31 06:00:19</td>\n",
       "      <td>9</td>\n",
       "      <td>6</td>\n",
       "      <td>31</td>\n",
       "      <td>8</td>\n",
       "      <td>2018</td>\n",
       "      <td>8-31</td>\n",
       "      <td>1</td>\n",
       "      <td>4</td>\n",
       "      <td>0</td>\n",
       "      <td>155</td>\n",
       "      <td>8341</td>\n",
       "      <td>656</td>\n",
       "      <td>1</td>\n",
       "      <td>0.0</td>\n",
       "    </tr>\n",
       "  </tbody>\n",
       "</table>\n",
       "</div>"
      ],
      "text/plain": [
       "  buyer_country_id  buyer_admin_id  item_id   create_order_time  irank  hour  \\\n",
       "0                1         8362078        1 2018-08-10 23:49:44     12    23   \n",
       "1                1         9694304        2 2018-08-03 23:55:07      9    23   \n",
       "2                2          101887        3 2018-08-27 08:31:26      3     8   \n",
       "3                1         8131786        3 2018-08-31 06:00:19      9     6   \n",
       "\n",
       "   date  month  year month-date  count  dayofweek  isweekend  cate_id  \\\n",
       "0    10      8  2018       8-10      1          4          0     2324   \n",
       "1     3      8  2018        8-3      1          4          0     3882   \n",
       "2    27      8  2018       8-27      1          0          0      155   \n",
       "3    31      8  2018       8-31      1          4          0      155   \n",
       "\n",
       "   store_id  item_price  time_cluster  if_popular  \n",
       "0     10013        4501             3         0.0  \n",
       "1      4485        2751             3         0.0  \n",
       "2      8341         656             2         0.0  \n",
       "3      8341         656             1         0.0  "
      ]
     },
     "execution_count": 628,
     "metadata": {},
     "output_type": "execute_result"
    }
   ],
   "source": [
    "train_filter[:4]"
   ]
  },
  {
   "cell_type": "code",
   "execution_count": 580,
   "metadata": {},
   "outputs": [],
   "source": [
    "train_admin_df = pd.DataFrame(columns=['buyer_admin_id',  #用户id,\n",
    "#                                        'buyer_country_id',  # 国家\n",
    "                                       'num_shop',  #购买次数，\n",
    "                                       'num_item',  #购买商品件数，\n",
    "                                       'pop_unpop_rate',  #热销商品与非热销商品件数的比重，\n",
    "                                       'item_price_max',  #商品最大价格\n",
    "                                       'item_price_min',  #商品最小价格\n",
    "                                       'item_price_mean',  #商品价格均值\n",
    "                                       'item_price_median', #商品价格中值\n",
    "                                       'num_item_cate',  #商品类别数\n",
    "                                       'num_store_cate', #商店类别数\n",
    "                                       'shoptime_1',  #在0-8时间段购买商品数所占比重\n",
    "                                       'shoptime_2', #在8-16时间段...\n",
    "                                       'shoptime_3',  #在16-24时间段...\n",
    "                                      ])"
   ]
  },
  {
   "cell_type": "code",
   "execution_count": 629,
   "metadata": {},
   "outputs": [],
   "source": [
    "train_buyer_id = np.sort(train_filter['buyer_admin_id'].unique())"
   ]
  },
  {
   "cell_type": "code",
   "execution_count": 630,
   "metadata": {},
   "outputs": [],
   "source": [
    "train_admin_df['buyer_admin_id'] = train_buyer_id  # id填充"
   ]
  },
  {
   "cell_type": "code",
   "execution_count": 631,
   "metadata": {},
   "outputs": [],
   "source": [
    "train_admin_df['num_shop'] = train_filter.groupby(['buyer_admin_id'])['count'].sum().to_list()  #，每个admin购买次数"
   ]
  },
  {
   "cell_type": "code",
   "execution_count": 565,
   "metadata": {},
   "outputs": [],
   "source": [
    "# 因为有些客户可能不知在一个国家购买东西，所以数据长度上暂时还无法对应\n",
    "# tmp= pd.merge(train_admin_df,train_filter[['buyer_admin_id','buyer_country_id']].drop_duplicates(),how='right',on=['buyer_admin_id','buyer_country_id'])"
   ]
  },
  {
   "cell_type": "markdown",
   "metadata": {},
   "source": [
    "购买商品件数"
   ]
  },
  {
   "cell_type": "code",
   "execution_count": 632,
   "metadata": {},
   "outputs": [],
   "source": [
    "num_item = train_filter[['buyer_admin_id','item_id','count']].drop_duplicates().groupby(['buyer_admin_id'])['count'].sum()\n",
    "train_admin_df['num_item'] =num_item.to_list()"
   ]
  },
  {
   "cell_type": "markdown",
   "metadata": {},
   "source": [
    "流行商品的占比"
   ]
  },
  {
   "cell_type": "code",
   "execution_count": 652,
   "metadata": {},
   "outputs": [],
   "source": [
    "tmp = train_filter.groupby(['buyer_admin_id'])['if_popular'].sum()/train_filter.groupby(['buyer_admin_id'])['count'].sum()\n",
    "train_admin_df['pop_unpop_rate'] = tmp.to_list()"
   ]
  },
  {
   "cell_type": "code",
   "execution_count": 654,
   "metadata": {},
   "outputs": [],
   "source": [
    "train_admin_df = train_admin_df.drop(['populat_item_rate'], axis=1)"
   ]
  },
  {
   "cell_type": "markdown",
   "metadata": {},
   "source": [
    "商品价格"
   ]
  },
  {
   "cell_type": "code",
   "execution_count": 657,
   "metadata": {},
   "outputs": [],
   "source": [
    "# 总价\n",
    "train_admin_df['item_price_sum'] = train_filter.groupby(['buyer_admin_id'])['item_price'].sum().to_list()"
   ]
  },
  {
   "cell_type": "code",
   "execution_count": 659,
   "metadata": {},
   "outputs": [],
   "source": [
    "#最大值\n",
    "train_admin_df['item_price_max'] = train_filter.groupby(['buyer_admin_id'])['item_price'].max().to_list()\n",
    "#最小值\n",
    "train_admin_df['item_price_min'] = train_filter.groupby(['buyer_admin_id'])['item_price'].min().to_list()\n",
    "#均值\n",
    "train_admin_df['item_price_mean'] = train_filter.groupby(['buyer_admin_id'])['item_price'].mean().to_list()\n",
    "#中值\n",
    "train_admin_df['item_price_median'] = train_filter.groupby(['buyer_admin_id'])['item_price'].median().to_list()"
   ]
  },
  {
   "cell_type": "code",
   "execution_count": 737,
   "metadata": {},
   "outputs": [],
   "source": [
    "#商品类别数\n",
    "train_admin_df['num_item_cate'] = train_filter[['buyer_admin_id','cate_id','count']].drop_duplicates().groupby(['buyer_admin_id'])['count'].sum().to_list()"
   ]
  },
  {
   "cell_type": "code",
   "execution_count": 738,
   "metadata": {},
   "outputs": [],
   "source": [
    "# 商店类别数\n",
    "train_admin_df['num_store_cate'] = train_filter[['buyer_admin_id','store_id','count']].drop_duplicates().groupby(['buyer_admin_id'])['count'].sum().to_list()"
   ]
  },
  {
   "cell_type": "code",
   "execution_count": 724,
   "metadata": {},
   "outputs": [],
   "source": [
    "# 各时间段购买商品数量\n",
    "train_admin_df['shoptime_1'] = train_filter.groupby(['buyer_admin_id'])['shoptime_1'].sum().to_list()\n",
    "train_admin_df['shoptime_2'] = train_filter.groupby(['buyer_admin_id'])['shoptime_2'].sum().to_list()\n",
    "train_admin_df['shoptime_3'] = train_filter.groupby(['buyer_admin_id'])['shoptime_3'].sum().to_list()"
   ]
  },
  {
   "cell_type": "code",
   "execution_count": 743,
   "metadata": {},
   "outputs": [
    {
     "data": {
      "text/html": [
       "<div>\n",
       "<style scoped>\n",
       "    .dataframe tbody tr th:only-of-type {\n",
       "        vertical-align: middle;\n",
       "    }\n",
       "\n",
       "    .dataframe tbody tr th {\n",
       "        vertical-align: top;\n",
       "    }\n",
       "\n",
       "    .dataframe thead th {\n",
       "        text-align: right;\n",
       "    }\n",
       "</style>\n",
       "<table border=\"1\" class=\"dataframe\">\n",
       "  <thead>\n",
       "    <tr style=\"text-align: right;\">\n",
       "      <th></th>\n",
       "      <th>buyer_admin_id</th>\n",
       "      <th>num_shop</th>\n",
       "      <th>num_item</th>\n",
       "      <th>pop_unpop_rate</th>\n",
       "      <th>item_price_max</th>\n",
       "      <th>item_price_min</th>\n",
       "      <th>item_price_mean</th>\n",
       "      <th>item_price_median</th>\n",
       "      <th>num_item_cate</th>\n",
       "      <th>num_store_cate</th>\n",
       "      <th>shoptime_1</th>\n",
       "      <th>shoptime_2</th>\n",
       "      <th>shoptime_3</th>\n",
       "      <th>item_price_sum</th>\n",
       "    </tr>\n",
       "  </thead>\n",
       "  <tbody>\n",
       "    <tr>\n",
       "      <th>0</th>\n",
       "      <td>1</td>\n",
       "      <td>28</td>\n",
       "      <td>27</td>\n",
       "      <td>0.000000</td>\n",
       "      <td>1652</td>\n",
       "      <td>60</td>\n",
       "      <td>478.107143</td>\n",
       "      <td>232.5</td>\n",
       "      <td>18</td>\n",
       "      <td>23</td>\n",
       "      <td>16.0</td>\n",
       "      <td>0.0</td>\n",
       "      <td>12.0</td>\n",
       "      <td>13387</td>\n",
       "    </tr>\n",
       "    <tr>\n",
       "      <th>1</th>\n",
       "      <td>29</td>\n",
       "      <td>42</td>\n",
       "      <td>34</td>\n",
       "      <td>0.261905</td>\n",
       "      <td>4710</td>\n",
       "      <td>12</td>\n",
       "      <td>331.523810</td>\n",
       "      <td>146.5</td>\n",
       "      <td>22</td>\n",
       "      <td>32</td>\n",
       "      <td>14.0</td>\n",
       "      <td>20.0</td>\n",
       "      <td>8.0</td>\n",
       "      <td>13924</td>\n",
       "    </tr>\n",
       "    <tr>\n",
       "      <th>2</th>\n",
       "      <td>71</td>\n",
       "      <td>10</td>\n",
       "      <td>8</td>\n",
       "      <td>0.300000</td>\n",
       "      <td>6306</td>\n",
       "      <td>637</td>\n",
       "      <td>1854.700000</td>\n",
       "      <td>1175.0</td>\n",
       "      <td>7</td>\n",
       "      <td>7</td>\n",
       "      <td>0.0</td>\n",
       "      <td>2.0</td>\n",
       "      <td>8.0</td>\n",
       "      <td>18547</td>\n",
       "    </tr>\n",
       "    <tr>\n",
       "      <th>3</th>\n",
       "      <td>81</td>\n",
       "      <td>7</td>\n",
       "      <td>7</td>\n",
       "      <td>0.000000</td>\n",
       "      <td>3599</td>\n",
       "      <td>307</td>\n",
       "      <td>1300.000000</td>\n",
       "      <td>462.0</td>\n",
       "      <td>7</td>\n",
       "      <td>7</td>\n",
       "      <td>1.0</td>\n",
       "      <td>6.0</td>\n",
       "      <td>0.0</td>\n",
       "      <td>9100</td>\n",
       "    </tr>\n",
       "  </tbody>\n",
       "</table>\n",
       "</div>"
      ],
      "text/plain": [
       "   buyer_admin_id  num_shop  num_item  pop_unpop_rate  item_price_max  \\\n",
       "0               1        28        27        0.000000            1652   \n",
       "1              29        42        34        0.261905            4710   \n",
       "2              71        10         8        0.300000            6306   \n",
       "3              81         7         7        0.000000            3599   \n",
       "\n",
       "   item_price_min  item_price_mean  item_price_median  num_item_cate  \\\n",
       "0              60       478.107143              232.5             18   \n",
       "1              12       331.523810              146.5             22   \n",
       "2             637      1854.700000             1175.0              7   \n",
       "3             307      1300.000000              462.0              7   \n",
       "\n",
       "   num_store_cate  shoptime_1  shoptime_2  shoptime_3  item_price_sum  \n",
       "0              23        16.0         0.0        12.0           13387  \n",
       "1              32        14.0        20.0         8.0           13924  \n",
       "2               7         0.0         2.0         8.0           18547  \n",
       "3               7         1.0         6.0         0.0            9100  "
      ]
     },
     "execution_count": 743,
     "metadata": {},
     "output_type": "execute_result"
    }
   ],
   "source": [
    "train_admin_df[:4]"
   ]
  },
  {
   "cell_type": "code",
   "execution_count": null,
   "metadata": {},
   "outputs": [],
   "source": []
  },
  {
   "cell_type": "markdown",
   "metadata": {},
   "source": [
    "商品特征"
   ]
  },
  {
   "cell_type": "code",
   "execution_count": 753,
   "metadata": {},
   "outputs": [],
   "source": [
    "train_item_df = pd.DataFrame(columns=['item_id','num_sell'])"
   ]
  },
  {
   "cell_type": "code",
   "execution_count": 754,
   "metadata": {},
   "outputs": [],
   "source": [
    "train_item_df['item_id'] = train_filter['item_id'].unique()\n",
    "train_item_df['num_sell'] = train_filter.groupby(['item_id'])['count'].sum().to_list()"
   ]
  },
  {
   "cell_type": "code",
   "execution_count": 756,
   "metadata": {},
   "outputs": [],
   "source": [
    "train_item_df = pd.merge(train_item_df, item, on='item_id',how='left')"
   ]
  },
  {
   "cell_type": "code",
   "execution_count": 759,
   "metadata": {},
   "outputs": [
    {
     "data": {
      "text/html": [
       "<div>\n",
       "<style scoped>\n",
       "    .dataframe tbody tr th:only-of-type {\n",
       "        vertical-align: middle;\n",
       "    }\n",
       "\n",
       "    .dataframe tbody tr th {\n",
       "        vertical-align: top;\n",
       "    }\n",
       "\n",
       "    .dataframe thead th {\n",
       "        text-align: right;\n",
       "    }\n",
       "</style>\n",
       "<table border=\"1\" class=\"dataframe\">\n",
       "  <thead>\n",
       "    <tr style=\"text-align: right;\">\n",
       "      <th></th>\n",
       "      <th>item_id</th>\n",
       "      <th>num_sell</th>\n",
       "      <th>cate_id</th>\n",
       "      <th>store_id</th>\n",
       "      <th>item_price</th>\n",
       "    </tr>\n",
       "  </thead>\n",
       "  <tbody>\n",
       "    <tr>\n",
       "      <th>0</th>\n",
       "      <td>1</td>\n",
       "      <td>1</td>\n",
       "      <td>2324</td>\n",
       "      <td>10013</td>\n",
       "      <td>4501</td>\n",
       "    </tr>\n",
       "    <tr>\n",
       "      <th>1</th>\n",
       "      <td>2</td>\n",
       "      <td>1</td>\n",
       "      <td>3882</td>\n",
       "      <td>4485</td>\n",
       "      <td>2751</td>\n",
       "    </tr>\n",
       "    <tr>\n",
       "      <th>2</th>\n",
       "      <td>3</td>\n",
       "      <td>2</td>\n",
       "      <td>155</td>\n",
       "      <td>8341</td>\n",
       "      <td>656</td>\n",
       "    </tr>\n",
       "    <tr>\n",
       "      <th>3</th>\n",
       "      <td>5</td>\n",
       "      <td>1</td>\n",
       "      <td>1191</td>\n",
       "      <td>1949</td>\n",
       "      <td>1689</td>\n",
       "    </tr>\n",
       "    <tr>\n",
       "      <th>4</th>\n",
       "      <td>6</td>\n",
       "      <td>65</td>\n",
       "      <td>3738</td>\n",
       "      <td>6646</td>\n",
       "      <td>549</td>\n",
       "    </tr>\n",
       "    <tr>\n",
       "      <th>5</th>\n",
       "      <td>72</td>\n",
       "      <td>1</td>\n",
       "      <td>537</td>\n",
       "      <td>71</td>\n",
       "      <td>1000</td>\n",
       "    </tr>\n",
       "    <tr>\n",
       "      <th>6</th>\n",
       "      <td>73</td>\n",
       "      <td>1</td>\n",
       "      <td>1270</td>\n",
       "      <td>3395</td>\n",
       "      <td>3800</td>\n",
       "    </tr>\n",
       "    <tr>\n",
       "      <th>7</th>\n",
       "      <td>74</td>\n",
       "      <td>1</td>\n",
       "      <td>652</td>\n",
       "      <td>18</td>\n",
       "      <td>8685</td>\n",
       "    </tr>\n",
       "    <tr>\n",
       "      <th>8</th>\n",
       "      <td>75</td>\n",
       "      <td>6</td>\n",
       "      <td>2319</td>\n",
       "      <td>6677</td>\n",
       "      <td>79</td>\n",
       "    </tr>\n",
       "    <tr>\n",
       "      <th>9</th>\n",
       "      <td>81</td>\n",
       "      <td>1</td>\n",
       "      <td>2060</td>\n",
       "      <td>60</td>\n",
       "      <td>208</td>\n",
       "    </tr>\n",
       "  </tbody>\n",
       "</table>\n",
       "</div>"
      ],
      "text/plain": [
       "   item_id  num_sell  cate_id  store_id  item_price\n",
       "0        1         1     2324     10013        4501\n",
       "1        2         1     3882      4485        2751\n",
       "2        3         2      155      8341         656\n",
       "3        5         1     1191      1949        1689\n",
       "4        6        65     3738      6646         549\n",
       "5       72         1      537        71        1000\n",
       "6       73         1     1270      3395        3800\n",
       "7       74         1      652        18        8685\n",
       "8       75         6     2319      6677          79\n",
       "9       81         1     2060        60         208"
      ]
     },
     "execution_count": 759,
     "metadata": {},
     "output_type": "execute_result"
    }
   ],
   "source": [
    "train_item_df[:10]"
   ]
  },
  {
   "cell_type": "code",
   "execution_count": 765,
   "metadata": {},
   "outputs": [
    {
     "data": {
      "text/plain": [
       "(2804315, 5)"
      ]
     },
     "execution_count": 765,
     "metadata": {},
     "output_type": "execute_result"
    }
   ],
   "source": [
    "train_item_df.shape"
   ]
  },
  {
   "cell_type": "code",
   "execution_count": null,
   "metadata": {},
   "outputs": [],
   "source": []
  },
  {
   "cell_type": "code",
   "execution_count": 764,
   "metadata": {},
   "outputs": [
    {
     "data": {
      "text/plain": [
       "False"
      ]
     },
     "execution_count": 764,
     "metadata": {},
     "output_type": "execute_result"
    }
   ],
   "source": [
    "train_item_df.values[:,0] == [1,2,3,4,5]"
   ]
  },
  {
   "cell_type": "code",
   "execution_count": null,
   "metadata": {},
   "outputs": [],
   "source": []
  },
  {
   "cell_type": "code",
   "execution_count": null,
   "metadata": {},
   "outputs": [],
   "source": []
  },
  {
   "cell_type": "markdown",
   "metadata": {},
   "source": [
    "# Archive"
   ]
  },
  {
   "cell_type": "markdown",
   "metadata": {},
   "source": [
    "商品，主要看item_id"
   ]
  },
  {
   "cell_type": "code",
   "execution_count": 332,
   "metadata": {},
   "outputs": [
    {
     "name": "stdout",
     "output_type": "stream",
     "text": [
      "该用户购买商品的次数为： 17次, 商品件数： 16件\n"
     ]
    }
   ],
   "source": [
    "# 购买次数\n",
    "onebuyer_features.append(train_onebuyer.shape[0])\n",
    "print('该用户购买商品的次数为： %s次, 商品件数： %s件'%(train_onebuyer.shape[0],len(train_onebuyer['item_id'].unique()) ))"
   ]
  },
  {
   "cell_type": "code",
   "execution_count": 319,
   "metadata": {},
   "outputs": [
    {
     "data": {
      "text/plain": [
       "(3220,)"
      ]
     },
     "execution_count": 319,
     "metadata": {},
     "output_type": "execute_result"
    }
   ],
   "source": [
    "popular_item_idx_train.shape"
   ]
  },
  {
   "cell_type": "code",
   "execution_count": 330,
   "metadata": {},
   "outputs": [
    {
     "name": "stdout",
     "output_type": "stream",
     "text": [
      "其中热销商品：0, 非热销商品 :16\n"
     ]
    }
   ],
   "source": [
    "# 统计热销商品个数与非热销商品个数\n",
    "popular_item_num = len(set(popular_item_idx_train).intersection(train_onebuyer['item_id'].unique()))  # 没有一件商品是热销商品\n",
    "print('其中热销商品：%s, 非热销商品 :%s'%(popular_item_num,len(train_onebuyer['item_id'].unique())-popular_item_num))"
   ]
  },
  {
   "cell_type": "code",
   "execution_count": 328,
   "metadata": {},
   "outputs": [
    {
     "name": "stdout",
     "output_type": "stream",
     "text": [
      "该用户购买过的商品中的价格最大值为：19657，最小值：101, 平均值: 3362.7647,中值：2200.0\n"
     ]
    }
   ],
   "source": [
    "#商品价格最大值\n",
    "item_prices_max = train_onebuyer['item_price'].max()\n",
    "#商品价格最小值\n",
    "item_prices_min = train_onebuyer['item_price'].min()\n",
    "#商品平均值\n",
    "item_prices_mean = train_onebuyer['item_price'].mean()\n",
    "#商品中指\n",
    "item_prices_median = train_onebuyer['item_price'].median()\n",
    "print('该用户购买过的商品中的价格最大值为：%s，最小值：%s, 平均值: %.4f,中值：%s'%(item_prices_max,item_prices_min,item_prices_mean,item_prices_median))"
   ]
  },
  {
   "cell_type": "code",
   "execution_count": 335,
   "metadata": {},
   "outputs": [
    {
     "name": "stdout",
     "output_type": "stream",
     "text": [
      "商品类别数：12\n",
      "商店类别数：14\n"
     ]
    }
   ],
   "source": [
    "print('商品类别数：%s'%len(set(train_onebuyer['cate_id'].unique())))\n",
    "print('商店类别数：%s'%len(set(train_onebuyer['store_id'].unique())))"
   ]
  },
  {
   "cell_type": "markdown",
   "metadata": {},
   "source": [
    "应该计算购买时间段占所有时间段的比重，这样构建出三个特征"
   ]
  },
  {
   "cell_type": "code",
   "execution_count": 364,
   "metadata": {},
   "outputs": [],
   "source": [
    "tmp = train_onebuyer['time_cluster'].value_counts()/train_onebuyer['time_cluster'].value_counts().sum()"
   ]
  },
  {
   "cell_type": "code",
   "execution_count": 368,
   "metadata": {},
   "outputs": [
    {
     "data": {
      "text/plain": [
       "1"
      ]
     },
     "execution_count": 368,
     "metadata": {},
     "output_type": "execute_result"
    }
   ],
   "source": [
    "tmp.keys()[0]"
   ]
  },
  {
   "cell_type": "code",
   "execution_count": 362,
   "metadata": {},
   "outputs": [
    {
     "data": {
      "text/plain": [
       "17"
      ]
     },
     "execution_count": 362,
     "metadata": {},
     "output_type": "execute_result"
    }
   ],
   "source": [
    "train_onebuyer['time_cluster'].value_counts().sum()"
   ]
  },
  {
   "cell_type": "code",
   "execution_count": 359,
   "metadata": {
    "scrolled": true
   },
   "outputs": [
    {
     "data": {
      "text/html": [
       "<div>\n",
       "<style scoped>\n",
       "    .dataframe tbody tr th:only-of-type {\n",
       "        vertical-align: middle;\n",
       "    }\n",
       "\n",
       "    .dataframe tbody tr th {\n",
       "        vertical-align: top;\n",
       "    }\n",
       "\n",
       "    .dataframe thead th {\n",
       "        text-align: right;\n",
       "    }\n",
       "</style>\n",
       "<table border=\"1\" class=\"dataframe\">\n",
       "  <thead>\n",
       "    <tr style=\"text-align: right;\">\n",
       "      <th></th>\n",
       "      <th>buyer_country_id</th>\n",
       "      <th>buyer_admin_id</th>\n",
       "      <th>item_id</th>\n",
       "      <th>create_order_time</th>\n",
       "      <th>irank</th>\n",
       "      <th>hour</th>\n",
       "      <th>date</th>\n",
       "      <th>month</th>\n",
       "      <th>year</th>\n",
       "      <th>month-date</th>\n",
       "      <th>count</th>\n",
       "      <th>dayofweek</th>\n",
       "      <th>isweekend</th>\n",
       "      <th>cate_id</th>\n",
       "      <th>store_id</th>\n",
       "      <th>item_price</th>\n",
       "      <th>time_cluster</th>\n",
       "    </tr>\n",
       "  </thead>\n",
       "  <tbody>\n",
       "    <tr>\n",
       "      <th>4</th>\n",
       "      <td>xx</td>\n",
       "      <td>9778613</td>\n",
       "      <td>5</td>\n",
       "      <td>2018-08-21 06:01:56</td>\n",
       "      <td>14</td>\n",
       "      <td>6</td>\n",
       "      <td>21</td>\n",
       "      <td>8</td>\n",
       "      <td>2018</td>\n",
       "      <td>8-21</td>\n",
       "      <td>1</td>\n",
       "      <td>1</td>\n",
       "      <td>0</td>\n",
       "      <td>1191</td>\n",
       "      <td>1949</td>\n",
       "      <td>1689</td>\n",
       "      <td>1</td>\n",
       "    </tr>\n",
       "    <tr>\n",
       "      <th>193625</th>\n",
       "      <td>xx</td>\n",
       "      <td>9778613</td>\n",
       "      <td>196096</td>\n",
       "      <td>2018-08-29 01:21:11</td>\n",
       "      <td>7</td>\n",
       "      <td>1</td>\n",
       "      <td>29</td>\n",
       "      <td>8</td>\n",
       "      <td>2018</td>\n",
       "      <td>8-29</td>\n",
       "      <td>1</td>\n",
       "      <td>2</td>\n",
       "      <td>0</td>\n",
       "      <td>2015</td>\n",
       "      <td>2950</td>\n",
       "      <td>3951</td>\n",
       "      <td>1</td>\n",
       "    </tr>\n",
       "    <tr>\n",
       "      <th>373555</th>\n",
       "      <td>xx</td>\n",
       "      <td>9778613</td>\n",
       "      <td>378267</td>\n",
       "      <td>2018-08-29 09:55:44</td>\n",
       "      <td>5</td>\n",
       "      <td>9</td>\n",
       "      <td>29</td>\n",
       "      <td>8</td>\n",
       "      <td>2018</td>\n",
       "      <td>8-29</td>\n",
       "      <td>1</td>\n",
       "      <td>2</td>\n",
       "      <td>0</td>\n",
       "      <td>1422</td>\n",
       "      <td>24692</td>\n",
       "      <td>600</td>\n",
       "      <td>2</td>\n",
       "    </tr>\n",
       "    <tr>\n",
       "      <th>2414390</th>\n",
       "      <td>xx</td>\n",
       "      <td>9778613</td>\n",
       "      <td>2444194</td>\n",
       "      <td>2018-08-05 01:27:33</td>\n",
       "      <td>15</td>\n",
       "      <td>1</td>\n",
       "      <td>5</td>\n",
       "      <td>8</td>\n",
       "      <td>2018</td>\n",
       "      <td>8-5</td>\n",
       "      <td>1</td>\n",
       "      <td>6</td>\n",
       "      <td>1</td>\n",
       "      <td>443</td>\n",
       "      <td>18771</td>\n",
       "      <td>2200</td>\n",
       "      <td>1</td>\n",
       "    </tr>\n",
       "    <tr>\n",
       "      <th>2414391</th>\n",
       "      <td>xx</td>\n",
       "      <td>9778613</td>\n",
       "      <td>2444194</td>\n",
       "      <td>2018-08-05 01:27:33</td>\n",
       "      <td>16</td>\n",
       "      <td>1</td>\n",
       "      <td>5</td>\n",
       "      <td>8</td>\n",
       "      <td>2018</td>\n",
       "      <td>8-5</td>\n",
       "      <td>1</td>\n",
       "      <td>6</td>\n",
       "      <td>1</td>\n",
       "      <td>443</td>\n",
       "      <td>18771</td>\n",
       "      <td>2200</td>\n",
       "      <td>1</td>\n",
       "    </tr>\n",
       "    <tr>\n",
       "      <th>2688037</th>\n",
       "      <td>xx</td>\n",
       "      <td>9778613</td>\n",
       "      <td>2721428</td>\n",
       "      <td>2018-08-30 10:17:21</td>\n",
       "      <td>1</td>\n",
       "      <td>10</td>\n",
       "      <td>30</td>\n",
       "      <td>8</td>\n",
       "      <td>2018</td>\n",
       "      <td>8-30</td>\n",
       "      <td>1</td>\n",
       "      <td>3</td>\n",
       "      <td>0</td>\n",
       "      <td>7</td>\n",
       "      <td>3000</td>\n",
       "      <td>1091</td>\n",
       "      <td>2</td>\n",
       "    </tr>\n",
       "    <tr>\n",
       "      <th>3325144</th>\n",
       "      <td>xx</td>\n",
       "      <td>9778613</td>\n",
       "      <td>3367023</td>\n",
       "      <td>2018-08-29 01:30:44</td>\n",
       "      <td>6</td>\n",
       "      <td>1</td>\n",
       "      <td>29</td>\n",
       "      <td>8</td>\n",
       "      <td>2018</td>\n",
       "      <td>8-29</td>\n",
       "      <td>1</td>\n",
       "      <td>2</td>\n",
       "      <td>0</td>\n",
       "      <td>554</td>\n",
       "      <td>2950</td>\n",
       "      <td>340</td>\n",
       "      <td>1</td>\n",
       "    </tr>\n",
       "    <tr>\n",
       "      <th>3352723</th>\n",
       "      <td>xx</td>\n",
       "      <td>9778613</td>\n",
       "      <td>3394931</td>\n",
       "      <td>2018-08-05 01:08:48</td>\n",
       "      <td>17</td>\n",
       "      <td>1</td>\n",
       "      <td>5</td>\n",
       "      <td>8</td>\n",
       "      <td>2018</td>\n",
       "      <td>8-5</td>\n",
       "      <td>1</td>\n",
       "      <td>6</td>\n",
       "      <td>1</td>\n",
       "      <td>3073</td>\n",
       "      <td>5524</td>\n",
       "      <td>2338</td>\n",
       "      <td>1</td>\n",
       "    </tr>\n",
       "    <tr>\n",
       "      <th>4499380</th>\n",
       "      <td>xx</td>\n",
       "      <td>9778613</td>\n",
       "      <td>4556768</td>\n",
       "      <td>2018-08-29 10:17:43</td>\n",
       "      <td>4</td>\n",
       "      <td>10</td>\n",
       "      <td>29</td>\n",
       "      <td>8</td>\n",
       "      <td>2018</td>\n",
       "      <td>8-29</td>\n",
       "      <td>1</td>\n",
       "      <td>2</td>\n",
       "      <td>0</td>\n",
       "      <td>2142</td>\n",
       "      <td>44211</td>\n",
       "      <td>2101</td>\n",
       "      <td>2</td>\n",
       "    </tr>\n",
       "    <tr>\n",
       "      <th>6195076</th>\n",
       "      <td>xx</td>\n",
       "      <td>9778613</td>\n",
       "      <td>6277387</td>\n",
       "      <td>2018-08-27 03:09:48</td>\n",
       "      <td>11</td>\n",
       "      <td>3</td>\n",
       "      <td>27</td>\n",
       "      <td>8</td>\n",
       "      <td>2018</td>\n",
       "      <td>8-27</td>\n",
       "      <td>1</td>\n",
       "      <td>0</td>\n",
       "      <td>0</td>\n",
       "      <td>2142</td>\n",
       "      <td>53396</td>\n",
       "      <td>2499</td>\n",
       "      <td>1</td>\n",
       "    </tr>\n",
       "    <tr>\n",
       "      <th>7173973</th>\n",
       "      <td>xx</td>\n",
       "      <td>9778613</td>\n",
       "      <td>7270934</td>\n",
       "      <td>2018-08-28 08:02:30</td>\n",
       "      <td>9</td>\n",
       "      <td>8</td>\n",
       "      <td>28</td>\n",
       "      <td>8</td>\n",
       "      <td>2018</td>\n",
       "      <td>8-28</td>\n",
       "      <td>1</td>\n",
       "      <td>1</td>\n",
       "      <td>0</td>\n",
       "      <td>2146</td>\n",
       "      <td>10162</td>\n",
       "      <td>3500</td>\n",
       "      <td>2</td>\n",
       "    </tr>\n",
       "    <tr>\n",
       "      <th>7405148</th>\n",
       "      <td>xx</td>\n",
       "      <td>9778613</td>\n",
       "      <td>7505732</td>\n",
       "      <td>2018-08-29 00:50:10</td>\n",
       "      <td>8</td>\n",
       "      <td>0</td>\n",
       "      <td>29</td>\n",
       "      <td>8</td>\n",
       "      <td>2018</td>\n",
       "      <td>8-29</td>\n",
       "      <td>1</td>\n",
       "      <td>2</td>\n",
       "      <td>0</td>\n",
       "      <td>2762</td>\n",
       "      <td>12390</td>\n",
       "      <td>4871</td>\n",
       "      <td>1</td>\n",
       "    </tr>\n",
       "    <tr>\n",
       "      <th>7481618</th>\n",
       "      <td>xx</td>\n",
       "      <td>9778613</td>\n",
       "      <td>7583430</td>\n",
       "      <td>2018-08-27 03:09:48</td>\n",
       "      <td>10</td>\n",
       "      <td>3</td>\n",
       "      <td>27</td>\n",
       "      <td>8</td>\n",
       "      <td>2018</td>\n",
       "      <td>8-27</td>\n",
       "      <td>1</td>\n",
       "      <td>0</td>\n",
       "      <td>0</td>\n",
       "      <td>2146</td>\n",
       "      <td>53396</td>\n",
       "      <td>5332</td>\n",
       "      <td>1</td>\n",
       "    </tr>\n",
       "    <tr>\n",
       "      <th>7528053</th>\n",
       "      <td>xx</td>\n",
       "      <td>9778613</td>\n",
       "      <td>7630674</td>\n",
       "      <td>2018-08-29 10:50:05</td>\n",
       "      <td>3</td>\n",
       "      <td>10</td>\n",
       "      <td>29</td>\n",
       "      <td>8</td>\n",
       "      <td>2018</td>\n",
       "      <td>8-29</td>\n",
       "      <td>1</td>\n",
       "      <td>2</td>\n",
       "      <td>0</td>\n",
       "      <td>1422</td>\n",
       "      <td>61709</td>\n",
       "      <td>101</td>\n",
       "      <td>2</td>\n",
       "    </tr>\n",
       "    <tr>\n",
       "      <th>8366807</th>\n",
       "      <td>xx</td>\n",
       "      <td>9778613</td>\n",
       "      <td>8482399</td>\n",
       "      <td>2018-08-23 08:06:50</td>\n",
       "      <td>12</td>\n",
       "      <td>8</td>\n",
       "      <td>23</td>\n",
       "      <td>8</td>\n",
       "      <td>2018</td>\n",
       "      <td>8-23</td>\n",
       "      <td>1</td>\n",
       "      <td>3</td>\n",
       "      <td>0</td>\n",
       "      <td>1047</td>\n",
       "      <td>46275</td>\n",
       "      <td>19657</td>\n",
       "      <td>2</td>\n",
       "    </tr>\n",
       "    <tr>\n",
       "      <th>8799906</th>\n",
       "      <td>xx</td>\n",
       "      <td>9778613</td>\n",
       "      <td>8922991</td>\n",
       "      <td>2018-08-30 10:17:21</td>\n",
       "      <td>2</td>\n",
       "      <td>10</td>\n",
       "      <td>30</td>\n",
       "      <td>8</td>\n",
       "      <td>2018</td>\n",
       "      <td>8-30</td>\n",
       "      <td>1</td>\n",
       "      <td>3</td>\n",
       "      <td>0</td>\n",
       "      <td>7</td>\n",
       "      <td>22065</td>\n",
       "      <td>1417</td>\n",
       "      <td>2</td>\n",
       "    </tr>\n",
       "    <tr>\n",
       "      <th>12268173</th>\n",
       "      <td>xx</td>\n",
       "      <td>9778613</td>\n",
       "      <td>12464247</td>\n",
       "      <td>2018-08-21 11:58:17</td>\n",
       "      <td>13</td>\n",
       "      <td>11</td>\n",
       "      <td>21</td>\n",
       "      <td>8</td>\n",
       "      <td>2018</td>\n",
       "      <td>8-21</td>\n",
       "      <td>1</td>\n",
       "      <td>1</td>\n",
       "      <td>0</td>\n",
       "      <td>2144</td>\n",
       "      <td>58539</td>\n",
       "      <td>3280</td>\n",
       "      <td>2</td>\n",
       "    </tr>\n",
       "  </tbody>\n",
       "</table>\n",
       "</div>"
      ],
      "text/plain": [
       "         buyer_country_id  buyer_admin_id   item_id   create_order_time  \\\n",
       "4                      xx         9778613         5 2018-08-21 06:01:56   \n",
       "193625                 xx         9778613    196096 2018-08-29 01:21:11   \n",
       "373555                 xx         9778613    378267 2018-08-29 09:55:44   \n",
       "2414390                xx         9778613   2444194 2018-08-05 01:27:33   \n",
       "2414391                xx         9778613   2444194 2018-08-05 01:27:33   \n",
       "2688037                xx         9778613   2721428 2018-08-30 10:17:21   \n",
       "3325144                xx         9778613   3367023 2018-08-29 01:30:44   \n",
       "3352723                xx         9778613   3394931 2018-08-05 01:08:48   \n",
       "4499380                xx         9778613   4556768 2018-08-29 10:17:43   \n",
       "6195076                xx         9778613   6277387 2018-08-27 03:09:48   \n",
       "7173973                xx         9778613   7270934 2018-08-28 08:02:30   \n",
       "7405148                xx         9778613   7505732 2018-08-29 00:50:10   \n",
       "7481618                xx         9778613   7583430 2018-08-27 03:09:48   \n",
       "7528053                xx         9778613   7630674 2018-08-29 10:50:05   \n",
       "8366807                xx         9778613   8482399 2018-08-23 08:06:50   \n",
       "8799906                xx         9778613   8922991 2018-08-30 10:17:21   \n",
       "12268173               xx         9778613  12464247 2018-08-21 11:58:17   \n",
       "\n",
       "          irank  hour  date  month  year month-date  count  dayofweek  \\\n",
       "4            14     6    21      8  2018       8-21      1          1   \n",
       "193625        7     1    29      8  2018       8-29      1          2   \n",
       "373555        5     9    29      8  2018       8-29      1          2   \n",
       "2414390      15     1     5      8  2018        8-5      1          6   \n",
       "2414391      16     1     5      8  2018        8-5      1          6   \n",
       "2688037       1    10    30      8  2018       8-30      1          3   \n",
       "3325144       6     1    29      8  2018       8-29      1          2   \n",
       "3352723      17     1     5      8  2018        8-5      1          6   \n",
       "4499380       4    10    29      8  2018       8-29      1          2   \n",
       "6195076      11     3    27      8  2018       8-27      1          0   \n",
       "7173973       9     8    28      8  2018       8-28      1          1   \n",
       "7405148       8     0    29      8  2018       8-29      1          2   \n",
       "7481618      10     3    27      8  2018       8-27      1          0   \n",
       "7528053       3    10    29      8  2018       8-29      1          2   \n",
       "8366807      12     8    23      8  2018       8-23      1          3   \n",
       "8799906       2    10    30      8  2018       8-30      1          3   \n",
       "12268173     13    11    21      8  2018       8-21      1          1   \n",
       "\n",
       "          isweekend  cate_id  store_id  item_price  time_cluster  \n",
       "4                 0     1191      1949        1689             1  \n",
       "193625            0     2015      2950        3951             1  \n",
       "373555            0     1422     24692         600             2  \n",
       "2414390           1      443     18771        2200             1  \n",
       "2414391           1      443     18771        2200             1  \n",
       "2688037           0        7      3000        1091             2  \n",
       "3325144           0      554      2950         340             1  \n",
       "3352723           1     3073      5524        2338             1  \n",
       "4499380           0     2142     44211        2101             2  \n",
       "6195076           0     2142     53396        2499             1  \n",
       "7173973           0     2146     10162        3500             2  \n",
       "7405148           0     2762     12390        4871             1  \n",
       "7481618           0     2146     53396        5332             1  \n",
       "7528053           0     1422     61709         101             2  \n",
       "8366807           0     1047     46275       19657             2  \n",
       "8799906           0        7     22065        1417             2  \n",
       "12268173          0     2144     58539        3280             2  "
      ]
     },
     "execution_count": 359,
     "metadata": {},
     "output_type": "execute_result"
    }
   ],
   "source": [
    "train_onebuyer"
   ]
  },
  {
   "cell_type": "code",
   "execution_count": null,
   "metadata": {},
   "outputs": [],
   "source": [
    "np.array()"
   ]
  },
  {
   "cell_type": "code",
   "execution_count": null,
   "metadata": {},
   "outputs": [],
   "source": []
  },
  {
   "cell_type": "code",
   "execution_count": null,
   "metadata": {},
   "outputs": [],
   "source": []
  },
  {
   "cell_type": "code",
   "execution_count": null,
   "metadata": {},
   "outputs": [],
   "source": []
  }
 ],
 "metadata": {
  "kernelspec": {
   "display_name": "Python 3",
   "language": "python",
   "name": "python3"
  },
  "language_info": {
   "codemirror_mode": {
    "name": "ipython",
    "version": 3
   },
   "file_extension": ".py",
   "mimetype": "text/x-python",
   "name": "python",
   "nbconvert_exporter": "python",
   "pygments_lexer": "ipython3",
   "version": "3.7.3"
  }
 },
 "nbformat": 4,
 "nbformat_minor": 2
}
