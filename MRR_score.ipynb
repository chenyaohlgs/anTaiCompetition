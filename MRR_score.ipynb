{
 "cells": [
  {
   "cell_type": "code",
   "execution_count": 1,
   "metadata": {},
   "outputs": [],
   "source": [
    "import numpy as np\n",
    "import pandas as pd\n",
    "import os \n",
    "import copy\n",
    "from tqdm import tqdm_notebook\n",
    "#import xgboost as xgb\n",
    "import warnings\n",
    "warnings.simplefilter(action='ignore', category=FutureWarning)\n",
    "warnings.filterwarnings('ignore')"
   ]
  },
  {
   "cell_type": "code",
   "execution_count": 2,
   "metadata": {},
   "outputs": [],
   "source": [
    "path = './antai/'\n",
    "test   = pd.read_csv(path+'Antai_AE_round1_test_20190626.csv')\n",
    "submission  = pd.read_csv('submission.csv',header = None)"
   ]
  },
  {
   "cell_type": "code",
   "execution_count": 3,
   "metadata": {},
   "outputs": [
    {
     "name": "stdout",
     "output_type": "stream",
     "text": [
      "(11398,)\n",
      "(11398, 31)\n"
     ]
    }
   ],
   "source": [
    "print(test.buyer_admin_id.unique().shape)\n",
    "print(submission.shape)"
   ]
  },
  {
   "cell_type": "code",
   "execution_count": 4,
   "metadata": {},
   "outputs": [
    {
     "data": {
      "text/html": [
       "<div>\n",
       "<style scoped>\n",
       "    .dataframe tbody tr th:only-of-type {\n",
       "        vertical-align: middle;\n",
       "    }\n",
       "\n",
       "    .dataframe tbody tr th {\n",
       "        vertical-align: top;\n",
       "    }\n",
       "\n",
       "    .dataframe thead th {\n",
       "        text-align: right;\n",
       "    }\n",
       "</style>\n",
       "<table border=\"1\" class=\"dataframe\">\n",
       "  <thead>\n",
       "    <tr style=\"text-align: right;\">\n",
       "      <th></th>\n",
       "      <th>buyer_country_id</th>\n",
       "      <th>buyer_admin_id</th>\n",
       "      <th>item_id</th>\n",
       "      <th>create_order_time</th>\n",
       "      <th>irank</th>\n",
       "    </tr>\n",
       "  </thead>\n",
       "  <tbody>\n",
       "    <tr>\n",
       "      <th>0</th>\n",
       "      <td>yy</td>\n",
       "      <td>1061132</td>\n",
       "      <td>189045</td>\n",
       "      <td>2018-07-17 07:43:40</td>\n",
       "      <td>18</td>\n",
       "    </tr>\n",
       "    <tr>\n",
       "      <th>1</th>\n",
       "      <td>yy</td>\n",
       "      <td>1081430</td>\n",
       "      <td>10713670</td>\n",
       "      <td>2018-07-17 09:43:15</td>\n",
       "      <td>8</td>\n",
       "    </tr>\n",
       "    <tr>\n",
       "      <th>2</th>\n",
       "      <td>yy</td>\n",
       "      <td>1918135</td>\n",
       "      <td>10546322</td>\n",
       "      <td>2018-07-17 11:11:34</td>\n",
       "      <td>9</td>\n",
       "    </tr>\n",
       "    <tr>\n",
       "      <th>3</th>\n",
       "      <td>yy</td>\n",
       "      <td>103277</td>\n",
       "      <td>5199603</td>\n",
       "      <td>2018-07-17 13:27:44</td>\n",
       "      <td>24</td>\n",
       "    </tr>\n",
       "    <tr>\n",
       "      <th>4</th>\n",
       "      <td>yy</td>\n",
       "      <td>103277</td>\n",
       "      <td>2477273</td>\n",
       "      <td>2018-07-17 13:27:44</td>\n",
       "      <td>22</td>\n",
       "    </tr>\n",
       "  </tbody>\n",
       "</table>\n",
       "</div>"
      ],
      "text/plain": [
       "  buyer_country_id  buyer_admin_id   item_id    create_order_time  irank\n",
       "0               yy         1061132    189045  2018-07-17 07:43:40     18\n",
       "1               yy         1081430  10713670  2018-07-17 09:43:15      8\n",
       "2               yy         1918135  10546322  2018-07-17 11:11:34      9\n",
       "3               yy          103277   5199603  2018-07-17 13:27:44     24\n",
       "4               yy          103277   2477273  2018-07-17 13:27:44     22"
      ]
     },
     "execution_count": 4,
     "metadata": {},
     "output_type": "execute_result"
    }
   ],
   "source": [
    "test.head()"
   ]
  },
  {
   "cell_type": "code",
   "execution_count": 5,
   "metadata": {},
   "outputs": [
    {
     "data": {
      "text/html": [
       "<div>\n",
       "<style scoped>\n",
       "    .dataframe tbody tr th:only-of-type {\n",
       "        vertical-align: middle;\n",
       "    }\n",
       "\n",
       "    .dataframe tbody tr th {\n",
       "        vertical-align: top;\n",
       "    }\n",
       "\n",
       "    .dataframe thead th {\n",
       "        text-align: right;\n",
       "    }\n",
       "</style>\n",
       "<table border=\"1\" class=\"dataframe\">\n",
       "  <thead>\n",
       "    <tr style=\"text-align: right;\">\n",
       "      <th></th>\n",
       "      <th>buyer_country_id</th>\n",
       "      <th>buyer_admin_id</th>\n",
       "      <th>item_id</th>\n",
       "      <th>create_order_time</th>\n",
       "      <th>irank</th>\n",
       "    </tr>\n",
       "  </thead>\n",
       "  <tbody>\n",
       "    <tr>\n",
       "      <th>0</th>\n",
       "      <td>yy</td>\n",
       "      <td>152</td>\n",
       "      <td>8410857</td>\n",
       "      <td>2018-08-22 06:14:24</td>\n",
       "      <td>2</td>\n",
       "    </tr>\n",
       "    <tr>\n",
       "      <th>1</th>\n",
       "      <td>yy</td>\n",
       "      <td>282</td>\n",
       "      <td>11721802</td>\n",
       "      <td>2018-08-31 08:06:03</td>\n",
       "      <td>2</td>\n",
       "    </tr>\n",
       "    <tr>\n",
       "      <th>2</th>\n",
       "      <td>yy</td>\n",
       "      <td>321</td>\n",
       "      <td>1461800</td>\n",
       "      <td>2018-08-29 03:35:55</td>\n",
       "      <td>2</td>\n",
       "    </tr>\n",
       "    <tr>\n",
       "      <th>3</th>\n",
       "      <td>yy</td>\n",
       "      <td>809</td>\n",
       "      <td>2347616</td>\n",
       "      <td>2018-08-06 14:13:29</td>\n",
       "      <td>2</td>\n",
       "    </tr>\n",
       "    <tr>\n",
       "      <th>4</th>\n",
       "      <td>yy</td>\n",
       "      <td>870</td>\n",
       "      <td>11382694</td>\n",
       "      <td>2018-08-14 02:12:40</td>\n",
       "      <td>2</td>\n",
       "    </tr>\n",
       "  </tbody>\n",
       "</table>\n",
       "</div>"
      ],
      "text/plain": [
       "  buyer_country_id  buyer_admin_id   item_id    create_order_time  irank\n",
       "0               yy             152   8410857  2018-08-22 06:14:24      2\n",
       "1               yy             282  11721802  2018-08-31 08:06:03      2\n",
       "2               yy             321   1461800  2018-08-29 03:35:55      2\n",
       "3               yy             809   2347616  2018-08-06 14:13:29      2\n",
       "4               yy             870  11382694  2018-08-14 02:12:40      2"
      ]
     },
     "execution_count": 5,
     "metadata": {},
     "output_type": "execute_result"
    }
   ],
   "source": [
    "test = test.sort_values(['buyer_admin_id','irank'])\n",
    "temp = test.drop_duplicates(subset='buyer_admin_id',keep='first')\n",
    "temp = temp.reset_index()\n",
    "temp = temp.drop(columns='index')\n",
    "temp.head()"
   ]
  },
  {
   "cell_type": "code",
   "execution_count": 6,
   "metadata": {},
   "outputs": [
    {
     "data": {
      "text/html": [
       "<div>\n",
       "<style scoped>\n",
       "    .dataframe tbody tr th:only-of-type {\n",
       "        vertical-align: middle;\n",
       "    }\n",
       "\n",
       "    .dataframe tbody tr th {\n",
       "        vertical-align: top;\n",
       "    }\n",
       "\n",
       "    .dataframe thead th {\n",
       "        text-align: right;\n",
       "    }\n",
       "</style>\n",
       "<table border=\"1\" class=\"dataframe\">\n",
       "  <thead>\n",
       "    <tr style=\"text-align: right;\">\n",
       "      <th></th>\n",
       "      <th>buyer_admin_id</th>\n",
       "      <th>item_id</th>\n",
       "    </tr>\n",
       "  </thead>\n",
       "  <tbody>\n",
       "    <tr>\n",
       "      <th>0</th>\n",
       "      <td>152</td>\n",
       "      <td>8410857</td>\n",
       "    </tr>\n",
       "    <tr>\n",
       "      <th>1</th>\n",
       "      <td>282</td>\n",
       "      <td>11721802</td>\n",
       "    </tr>\n",
       "    <tr>\n",
       "      <th>2</th>\n",
       "      <td>321</td>\n",
       "      <td>1461800</td>\n",
       "    </tr>\n",
       "    <tr>\n",
       "      <th>3</th>\n",
       "      <td>809</td>\n",
       "      <td>2347616</td>\n",
       "    </tr>\n",
       "    <tr>\n",
       "      <th>4</th>\n",
       "      <td>870</td>\n",
       "      <td>11382694</td>\n",
       "    </tr>\n",
       "    <tr>\n",
       "      <th>5</th>\n",
       "      <td>2410</td>\n",
       "      <td>1991652</td>\n",
       "    </tr>\n",
       "    <tr>\n",
       "      <th>6</th>\n",
       "      <td>2956</td>\n",
       "      <td>7116759</td>\n",
       "    </tr>\n",
       "    <tr>\n",
       "      <th>7</th>\n",
       "      <td>3866</td>\n",
       "      <td>3738221</td>\n",
       "    </tr>\n",
       "    <tr>\n",
       "      <th>8</th>\n",
       "      <td>7277</td>\n",
       "      <td>11977450</td>\n",
       "    </tr>\n",
       "    <tr>\n",
       "      <th>9</th>\n",
       "      <td>7944</td>\n",
       "      <td>10039927</td>\n",
       "    </tr>\n",
       "  </tbody>\n",
       "</table>\n",
       "</div>"
      ],
      "text/plain": [
       "   buyer_admin_id   item_id\n",
       "0             152   8410857\n",
       "1             282  11721802\n",
       "2             321   1461800\n",
       "3             809   2347616\n",
       "4             870  11382694\n",
       "5            2410   1991652\n",
       "6            2956   7116759\n",
       "7            3866   3738221\n",
       "8            7277  11977450\n",
       "9            7944  10039927"
      ]
     },
     "execution_count": 6,
     "metadata": {},
     "output_type": "execute_result"
    }
   ],
   "source": [
    "temp = temp[['buyer_admin_id','item_id']]\n",
    "temp.head(10)"
   ]
  },
  {
   "cell_type": "markdown",
   "metadata": {},
   "source": [
    "# MRR计算"
   ]
  },
  {
   "cell_type": "code",
   "execution_count": 7,
   "metadata": {},
   "outputs": [],
   "source": [
    "def MRR(test_,submission_):\n",
    "    if test_.shape[0] != submission_.shape[0]:\n",
    "        print(\"size error\")\n",
    "        return 0\n",
    "    dic = {}\n",
    "    buyers_score = []\n",
    "    for item in submission_.values:\n",
    "        dic[item[0]] = item[1:]\n",
    "#         for i in range(2,31):\n",
    "#             dic[item[0]].append(item[i])\n",
    "    for item in test_.values:\n",
    "        if item[1] in dic[item[0]]:\n",
    "            index = np.int(np.argwhere(dic[item[0]] == item[1])[0])+1\n",
    "#             print(index) \n",
    "            buyers_score.append(float(1/index))    \n",
    "        else:\n",
    "            buyers_score.append(0)\n",
    "    score = (np.array(buyers_score).sum() /float(test_.shape[0]))\n",
    "    return score"
   ]
  },
  {
   "cell_type": "code",
   "execution_count": 8,
   "metadata": {},
   "outputs": [
    {
     "name": "stdout",
     "output_type": "stream",
     "text": [
      "1.0\n"
     ]
    }
   ],
   "source": [
    "score = MRR(temp,submission)\n",
    "print(score)"
   ]
  }
 ],
 "metadata": {
  "kernelspec": {
   "display_name": "Python 3",
   "language": "python",
   "name": "python3"
  },
  "language_info": {
   "codemirror_mode": {
    "name": "ipython",
    "version": 3
   },
   "file_extension": ".py",
   "mimetype": "text/x-python",
   "name": "python",
   "nbconvert_exporter": "python",
   "pygments_lexer": "ipython3",
   "version": "3.6.8"
  }
 },
 "nbformat": 4,
 "nbformat_minor": 2
}
